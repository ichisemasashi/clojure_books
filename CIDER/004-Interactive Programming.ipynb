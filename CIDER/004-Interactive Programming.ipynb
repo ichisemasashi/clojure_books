{
 "cells": [
  {
   "cell_type": "markdown",
   "metadata": {},
   "source": [
    "# 概要\n",
    "\n",
    "伝統的なプログラミング言語と開発環境はしばしば編集-コンパイル-実行のサイクルを使います。\n",
    "この環境では、プログラマーはコードを編集し、それをコンパイルしてから、それを実行して自分が望むことをしているかどうかを確認します。\n",
    "そしてプログラムは終了し、プログラマーはさらにプログラムの編集に戻る。\n",
    "プログラムの振る舞いがプログラマの望むものと一致するまで、このサイクルが何度も繰り返されます。\n",
    "現代のIDEはこのプロセスを素早くかつ比較的無痛になるように最適化していますが、それでもまだ動作が遅い方法です。\n",
    "<!--\n",
    "Traditional programming languages and development environments often use a Edit, Compile, Run Cycle. In this environment, the programmer modifies the code, compiles it, and then runs it to see if it does what she wants. The program is then terminated, and the programmer goes back to editing the program further. This cycle is repeated over and over until the program behavior conforms to what the programmer desires. While modern IDEs have optimized this process to be quick and relatively painless, it's still a slow way to work.\n",
    "-->\n"
   ]
  },
  {
   "cell_type": "markdown",
   "metadata": {},
   "source": [
    "ClojureとCIDERは、対話型プログラミングと呼ばれる、より優れた作業方法を提供します。\n",
    "確かに、このアイデアはCIDERの中心です。\n",
    "<!--\n",
    "Clojure and CIDER offer a better way to work called interactive programming. Indeed, this idea is at the very heart of CIDER.\n",
    "-->\n",
    "\n",
    "CIDERの対話型プログラミング環境を使って、プログラマーは非常に動的かつ段階的な方法で作業します。\n",
    "アプリケーションを繰り返し編集、コンパイル、再起動する代りに、プログラマはアプリケーションを一度起動し、プログラムの実行を継続しながら個々のClojure定義を追加や更新をします。\n",
    "CIDERのREPLを使って、プログラマーはさまざまな定義の値にアクセスし、テストデータを使ってプログラムの関数を呼び出すことができ、その結果がすぐにわかります。\n",
    "この方法は通常の編集-コンパイル-実行サイクルよりはるかに効率的です。なぜならば、プログラマーが対話している間もプログラムは実行し続け、その状態を維持するからです。\n",
    "確かに、何人かのClojureプログラマーは、コードを書き続けている間、CIDERセッションを数週間あるいは数ヶ月間も実行し続けることが知られています。\n",
    "<!--\n",
    "Using CIDER's interactive programming environment, a programmer works in a very dynamic and incremental manner. Instead of repeatedly editing, compiling, and restarting an application, the programmer starts the application once and then adds and updates individual Clojure defintions as the program continues to run. Using the CIDER REPL, the programmer can access the value of different definitions and invoke program functions with test data, immediately seeing the result. This methodology is far more efficient than the typical Edit, Compile, and Run Cycle because the program continues to run and keeps its state intact while the programmer interacts with it. Indeed, some Clojure programmers have been known to keep a CIDER session running for weeks or even months as they continue to write code.\n",
    "-->"
   ]
  },
  {
   "cell_type": "markdown",
   "metadata": {},
   "source": [
    "CIDERの対話型プログラミング環境は、`cider-mode`と呼ばれるEmacsのマイナーモードを使用して部分的に実装されています。\n",
    "`cider-mode`は`clojure-mode`を補完し、ソースファイルのバッファからClojureコードを評価し、それをCIDERのREPLを経由して実行中のプログラムに直接送信することを可能にします。\n",
    "`cider-mode`が提供する機能を使用すると、生産性が向上し、より効率的なClojureプログラマーになります。\n",
    "<!--\n",
    "CIDER's interactive programming environment is partially implemented using an Emacs minor mode called cider-mode. cider-mode complements clojure-mode and allows you to evaluate Clojure code from your source file buffers and send it directly to your running program through the CIDER REPL. Using the functions offered by cider-mode will improve your productivity and make you a more efficient Clojure programmer.\n",
    "-->"
   ]
  },
  {
   "cell_type": "markdown",
   "metadata": {},
   "source": [
    "# `cider-mode`の使用\n",
    "\n",
    "`cider-mode`のキーバインドの一覧です。\n",
    "\n",
    " Command                                      | Keyboard shortcut                   | Description\n",
    "----------------------------------------------|-------------------------------------|-------------------------------\n",
    "`cider-eval-last-sexp`                        |<kbd>C-x C-e</kbd> <br/> <kbd>C-c C-e</kbd>| ポイント直前のフォームを評価し、その結果をエコー領域と/またはバッファオーバーレイに表示します( `cider-use-overlayys`に従って)。前置引数を指定して呼び出された場合は、結果を現在のバッファに挿入します。\n",
    "<!--Evaluate the form preceding point and display the result in the echo area and/or in an buffer overlay (according to `cider-use-overlays`).  If invoked with a prefix argument, insert the result into the current buffer.-->\n",
    "`cider-eval-last-sexp-and-replace`            |<kbd>C-c C-v w</kbd>                 | ポイント直前のフォームを評価し、それを結果に置き換えます。\n",
    "<!--Evaluate the form preceding point and replace it with its result.-->\n",
    "ポイント直前のフォームを評価し、その結果をREPLバッファに出力します。前置引数を指定して起動した場合は、起動後にREPLバッファに移動します。\n",
    "<!--`cider-eval-last-sexp-to-repl`                |<kbd>C-c M-e</kbd>                   | Evaluate the form preceding point and output it result to the REPL buffer.  If invoked with a prefix argument, takes you to the REPL buffer after being invoked.-->\n",
    "`cider-insert-last-sexp-in-repl`              |<kbd>C-c M-p</kbd>                   | ポイント直前のフォームをREPLバッファにロードします。<!--Load the form preceding point in the REPL buffer.-->\n",
    "`cider-pprint-eval-last-sexp`                 |<kbd>C-c C-v C-f e</kbd>                   | ポイント直前のフォームを評価し、結果をポップアップバッファにプリティ・プリントします。前置引数を指定して起動した場合は、結果を現在のバッファにコメントとして挿入します。<!--Evaluate the form preceding point and pretty-print the result in a popup buffer. If invoked with a prefix argument, insert the result into the current buffer as a comment.-->\n",
    "`cider-pprint-eval-defun-at-point`            |<kbd>C-c C-v C-f d</kbd>                   | ポイントの下でトップレベルのフォームを評価し、ポップアップバッファに結果をプリティ・プリントします。前置引数を指定して起動した場合は、結果を現在のバッファにコメントとして挿入します。<!--Evaluate the top level form under point and pretty-print the result in a popup buffer. If invoked with a prefix argument, insert the result into the current buffer as a comment.-->\n",
    "`cider-eval-defun-at-point`                   |<kbd>C-M-x</kbd> <br/> <kbd>C-c C-c</kbd>  | ポイントの下のトップレベルのフォームを評価し、その結果をエコー領域に表示します。<!--Evaluate the top level form under point and display the result in the echo area.-->\n",
    "`cider-eval-sexp-at-point`                    |<kbd>C-c C-v v</kbd>                 | ポイント周辺のフォームを評価します。<!--Evaluate the form around point.-->\n",
    "`cider-eval-defun-at-point`                   |<kbd>C-u C-M-x</kbd> <br/> <kbd>C-u C-c C-c</kbd>  | ポイントの下のトップレベルのフォームをデバッグし、その評価をウォークスルーする<!--Debug the top level form under point and walk through its evaluation-->\n",
    "`cider-eval-defun-up-to-point`                |<kbd>C-c C-v z</kbd>                 | その時点でのトップレベルのフォームを評価します。<!--Evaluate the preceding top-level form up to the point.-->\n",
    "`cider-eval-region`                           |<kbd>C-c C-v r</kbd>                 | リージョンを評価し、その結果をエコー領域に表示します。<!--Evaluate the region and display the result in the echo area.-->\n",
    "`cider-interrupt`                             |<kbd>C-c C-b</kbd>                   | 保留中の評価を中断します。<!--Interrupt any pending evaluations.-->\n",
    "`cider-macroexpand-1`                         |<kbd>C-c C-m</kbd>                   | ポイントのフォーム上で`macroexpand-1`を呼び出して、結果をマクロ展開バッファーに表示します。前置引数を付けて呼び出された場合、`macroexpand-1`の代わりに`macroexpand`が使われます。<!--Invoke `macroexpand-1` on the form at point and display the result in a macroexpansion buffer.  If invoked with a prefix argument, `macroexpand` is used instead of `macroexpand-1`.-->\n",
    "`cider-macroexpand-all`                       |<kbd>C-c M-m</kbd>                   | ポイントのフォーム上で`clojure.walk/macroexpand-all`を呼び出して、結果をマクロ展開バッファに表示します。<!--Invoke `clojure.walk/macroexpand-all` on the form at point and display the result in a macroexpansion buffer.-->\n",
    "`cider-eval-ns-form`                          |<kbd>C-c C-v n</kbd>                 | nsフォームを評価します。<!--Eval the ns form.-->\n",
    "`cider-repl-set-ns`                           |<kbd>C-c M-n (M-)n</kbd>                   | REPLバッファの名前空間を現在のバッファの名前空間に切り替えます。<!--Switch the namespace of the REPL buffer to the namespace of the current buffer.-->\n",
    "`cider-switch-to-repl-buffer`                 |<kbd>C-c C-z</kbd>                   | 関連するREPLバッファに切り替えます。現在訪問しているソースファイルと一致するようにREPLバッファの名前空間を変更するには、前置引数を使用します。<!--Switch to the relevant REPL buffer. Use a prefix argument to change the namespace of the REPL buffer to match the currently visited source file.-->\n",
    "`cider-switch-to-repl-buffer`                 |<kbd>C-u C-u C-c C-z</kbd>           | ディレクトリのユーザプロンプトに基づいてREPLバッファを切り替えます。<!--Switch to the REPL buffer based on a user prompt for a directory.-->\n",
    "`cider-load-buffer-and-switch-to-repl-buffer` |<kbd>C-c M-z</kbd>                   | 現在のバッファをロード(評価)して、関連するREPLバッファに切り替えます。現在訪問しているソースファイルと一致するようにREPLバッファの名前空間を変更するには、前置引数を使用します。<!--Load (eval) the current buffer and switch to the relevant REPL buffer. Use a prefix argument to change the namespace of the REPL buffer to match the currently visited source file.-->\n",
    "`cider-describe-connection`            |<kbd>C-c M-d</kbd>                   | プロジェクトディレクトリ名、バッファ名前空間、ホスト、ポートなど、デフォルトのREPL接続詳細を表示します。<!--Display default REPL connection details, including project directory name, buffer namespace, host and port.-->\n",
    "`cider-find-and-clear-repl-output`            |<kbd>C-c C-o</kbd>                   | REPLバッファの最後の出力を消去します。前置引数を指定すると、REPLバッファ全体をクリアし、プロンプトだけを残します。 REPLバッファをサイドバイサイドバッファで実行している場合に便利です。<!--Clear the last output in the REPL buffer. With a prefix argument it will clear the entire REPL buffer, leaving only a prompt. Useful if you're running the REPL buffer in a side by side buffer.-->\n",
    "`cider-load-buffer`                           |<kbd>C-c C-k</kbd>                   | 現在のバッファをロード(評価)します。<!--Load (eval) the current buffer.-->\n",
    "`cider-load-file`                             |<kbd>C-c C-l</kbd>                   | Clojureファイルをロード(評価)します。<!--Load (eval) a Clojure file.-->\n",
    "`cider-load-all-files`                        |<kbd>C-c C-M-l</kbd>                 | ディレクトリの下にあるすべてのClojureファイルをロード(評価)します。<!--Load (eval) all Clojure files below a directory.-->\n",
    "`cider-ns-refresh`                            |<kbd>C-c M-n (M-)r</kbd>                   | クラスパス上のすべての変更済みファイルを再ロードします。前置引数を指定して起動した場合は、クラスパス上のすべてのファイルをリロードします。二重接頭引数を付けて呼び出された場合は、再ロードする前に名前空間トラッカーの状態をクリアします。<!--Reload all modified files on the classpath. If invoked with a prefix argument, reload all files on the classpath. If invoked with a double prefix argument, clear the state of the namespace tracker before reloading.-->\n",
    "`cider-doc`                                   |<kbd>C-c C-d d</kbd> <br/> <kbd>C-c C-d C-d</kbd> | <!--Display doc string for the symbol at point.  If invoked with a prefix argument, or no symbol is found at point, prompt for a symbol.-->\n",
    "`cider-javadoc`                               |<kbd>C-c C-d j</kbd> <br/> <kbd>C-c C-d C-j</kbd> | <!--Display JavaDoc (in your default browser) for the symbol at point.  If invoked with a prefix argument, or no symbol is found at point, prompt for a symbol.-->\n",
    "`cider-grimoire`                              |<kbd>C-c C-d r</kbd> <br/> <kbd>C-c C-d C-r</kbd> | <!--Lookup symbol in Grimoire.-->\n",
    "`cider-grimoire-web`                          |<kbd>C-c C-d w</kbd> <br/> <kbd>C-c C-d C-w</kbd> | <!--Open the grimoire documentation for symbol in a web browser.-->\n",
    "`cider-apropos`                               |<kbd>C-c C-d a</kbd> <br/> <kbd>C-c C-d C-a</kbd> | <!--Apropos search for functions/vars.-->\n",
    "`cider-apropos-documentation`                 |<kbd>C-c C-d f</kbd> <br/> <kbd>C-c C-d C-f</kbd> | <!--Apropos search for documentation.-->\n",
    "`cider-apropos-documentation-select`          |<kbd>C-c C-d e</kbd> <br/> <kbd>C-c C-d C-e</kbd> | <!--Apropos search for documentation & select.-->\n",
    "`cider-inspect`                               |<kbd>C-c M-i</kbd>                   | <!--Inspect expression. Will act on expression at point if present.-->\n",
    "`cider-toggle-trace-var`                      |<kbd>C-c M-t v</kbd>                 | <!--Toggle var tracing.-->\n",
    "`cider-toggle-trace-ns`                       |<kbd>C-c M-t n</kbd>                 | <!--Toggle namespace tracing.-->\n",
    "`cider-undef`                                 |<kbd>C-c C-u</kbd>                   | <!--Undefine a symbol. If invoked with a prefix argument, or no symbol is found at point, prompt for a symbol.-->\n",
    "`cider-test-run-test`                         |<kbd>C-c C-t t</kbd> <br/> <kbd>C-c C-t C-t</kbd> | <!--Run test at point.-->\n",
    "`cider-test-rerun-test`                       |<kbd>C-c C-t g</kbd> <br/> <kbd>C-c C-t C-g</kbd> | <!--Re-run the last test you ran.-->\n",
    "`cider-test-run-ns-tests`                     |<kbd>C-c C-t n</kbd> <br/> <kbd>C-c C-t C-n</kbd> | <!--Run tests for current namespace.-->\n",
    "`cider-test-run-loaded-tests`                 |<kbd>C-c C-t l</kbd> <br/> <kbd>C-c C-t C-l</kbd> | <!--Run tests for all loaded namespaces.-->\n",
    "`cider-test-run-project-tests`                |<kbd>C-c C-t p</kbd> <br/> <kbd>C-c C-t C-p</kbd> | <!--Run tests for all project namespaces. This loads the additional namespaces.-->\n",
    "`cider-test-rerun-failed-tests`               |<kbd>C-c C-t r</kbd> <br/> <kbd>C-c C-t C-r</kbd> | <!--Re-run test failures/errors.-->\n",
    "`cider-test-show-report`                      |<kbd>C-c C-t b</kbd> <br/> <kbd>C-c C-t C-b</kbd> | <!--Show the test report buffer.-->\n",
    "`cider-find-var`                              |<kbd>M-.</kbd>                       | <!--Jump to the definition of a symbol.  If invoked with a prefix argument, or no symbol is found at point, prompt for a symbol.-->\n",
    "`cider-find-dwim-at-mouse`                    |<kbd>mouse-5</kbd> or <kbd>mouse-9</kbd>   | <!--Jump to the definition of a symbol using mouse.-->\n",
    "`xref-pop-marker-stack`                       |<kbd>mouse-4</kbd> or <kbd>mouse-8</kbd>   | <!--Jump back to where `cider-find-dwim-at-mouse` was invoked.-->\n",
    "`cider-find-resource`                         |<kbd>C-c M-.</kbd>                   | <!--Jump to the resource referenced by the string at point.-->\n",
    "`cider-find-ns`                               |<kbd>C-c C-.</kbd>                   | <!--Jump to some namespace on the classpath.-->\n",
    "`cider-pop-back`                              |<kbd>M-,</kbd>                       | <!--Return to your pre-jump location.-->\n",
    "`complete-symbol`                             |<kbd>M-TAB</kbd>                     | <!--Complete the symbol at point.-->\n",
    "`cider-quit`                                  |<kbd>C-c C-q</kbd>                   | <!--Quit the current nREPL connection.-->\n"
   ]
  }
 ],
 "metadata": {
  "kernelspec": {
   "display_name": "Clojure",
   "language": "clojure",
   "name": "clojure"
  },
  "language_info": {
   "file_extension": ".clj",
   "mimetype": "text/x-clojure",
   "name": "clojure",
   "version": "1.8.0"
  }
 },
 "nbformat": 4,
 "nbformat_minor": 2
}
