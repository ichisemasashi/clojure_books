{
 "cells": [
  {
   "cell_type": "markdown",
   "metadata": {},
   "source": [
    "# 動的なインデント付け\n",
    "\n",
    "マクロが特別な字下げメカニズムを必要とするのは一般的です。\n",
    "これは、`do`、`def`、`with-`で始まるマクロで最も一般的です。 \n",
    "CIDERには、これらのマクロを検出するためのヒューリスティックがいくつかありますが、マクロのインデント方法を明示的に指定することもできます。\n",
    "<!--\n",
    "It is common for macros to require special indentation mechanisms. This is most common in macros that start with do, def, or with-. CIDER has some heuristics to detect these macros, but it also lets you explicitly specify how a macro should be indented.\n",
    "-->\n",
    "\n",
    "これは誰かが書いたマクロのインデント仕様を指定する簡単な例です（coreの例を使って）：\n",
    "<!--\n",
    "Here's a simple example of how someone would specify the indent spec for a macro they've written (using an example in core):\n",
    "-->\n",
    "\n",
    "```clojure\n",
    "(defmacro with-in-str\n",
    "  \"[DOCSTRING]\"\n",
    "  {:style/indent 1}\n",
    "  [s & body]\n",
    "  ...cut for brevity...)\n",
    "```\n",
    "\n",
    "もうすこし複雑な例：\n",
    "<!--\n",
    "And here's a more complex one:\n",
    "-->\n",
    "\n",
    "```clojure\n",
    "(defmacro letfn\n",
    "  \"[DOCSTRING]\"\n",
    "  {:style/indent [1 [[:defn]] :form]}\n",
    "  [fnspecs & body]\n",
    "  ...cut for brevity...)\n",
    "```\n",
    "\n",
    "これが威圧的に見えても心配しないでください。\n",
    "ほとんどのマクロでは、インデントの指定は単なる数字か、またはキーワード`:defn`か`:form`のいずれかです。\n",
    "仕様の詳細な説明は、[マニュアルのインデント仕様セクション](https://docs.cider.mx/en/latest/configuration/indentation/indent_spec.md)にあります。\n",
    "<!--\n",
    "Don't worry if this looks intimidating. For most macros the indent spec should be either just a number, or one of the keywords :defn or :form. A full description of the spec is provided in the indent spec section of the manual.\n",
    "-->\n",
    "\n",
    "この機能を使いたくない場合は、Emacsのinitファイルで`cider-dynamic-indentation`を`nil`に設定することで無効にできます。\n",
    "<!--\n",
    "If you don't want to use this feature, you can disable it by setting cider-dynamic-indentation to nil in your Emacs init file.\n",
    "-->\n",
    "\n",
    "```lisp\n",
    "(setq cider-dynamic-indentation nil)\n",
    "```"
   ]
  }
 ],
 "metadata": {
  "kernelspec": {
   "display_name": "Clojure",
   "language": "clojure",
   "name": "clojure"
  },
  "language_info": {
   "file_extension": ".clj",
   "mimetype": "text/x-clojure",
   "name": "clojure",
   "version": "1.8.0"
  }
 },
 "nbformat": 4,
 "nbformat_minor": 2
}
