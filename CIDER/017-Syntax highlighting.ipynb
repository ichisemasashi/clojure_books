{
 "cells": [
  {
   "cell_type": "markdown",
   "metadata": {},
   "source": [
    "# 動的なシンタックス・ハイライト\n",
    "\n",
    "CIDERは、定義されていることがわかっているシンボルをシンタックス・ハイライトできます。\n",
    "デフォルトでは、これは`clojure.core`名前空間からのシンボル、および任意の名前空間からのマクロに対して行われます。\n",
    "CIDERで任意の名前空間の関数や変数の使用に色分けしたい場合は、次のようにします。\n",
    "<!--\n",
    "CIDER can syntax highlight symbols that are known to be defined. By default, this is done on symbols from the clojure.core namespace, as well as macros from any namespace. If you'd like CIDER to also colorize usages of functions and variables from any namespace, do:\n",
    "-->\n",
    "\n",
    "```lisp\n",
    "(setq cider-font-lock-dynamically '(macro core function var))\n",
    "```\n",
    "\n",
    "これは、動的なシンタックス・ハイライトなしでコードがどのように見えるかです。\n",
    "<!--\n",
    "Here's how code looks without dynamic syntax highlighting.\n",
    "-->\n",
    "\n",
    "そして、これが有効になったときのコードの見え方です。\n",
    "<!--\n",
    "And here's how to the code looks when it's turned on.\n",
    "-->"
   ]
  },
  {
   "cell_type": "markdown",
   "metadata": {},
   "source": [
    "# リーダー条件式のシンタックス・ハイライト\n",
    "\n",
    "デフォルトでは、CIDERはバッファCIDER接続型に応じて未使用のリーダー条件式にフォントロックを適用します。\n",
    "<!--\n",
    "By default CIDER will apply font-locking to unused reader conditional expressions depending on the buffer CIDER connection type.\n",
    "-->\n",
    "\n",
    "`cider-font-lock-reader-conditionals`を調整することでこの振る舞いを無効にすることができます。\n",
    "<!--\n",
    "You can disable this behavior by adjusting cider-font-lock-reader-conditionals:\n",
    "-->\n",
    "\n",
    "```lisp\n",
    "(setq cider-font-lock-reader-conditionals nil)\n",
    "```\n",
    "\n"
   ]
  },
  {
   "cell_type": "markdown",
   "metadata": {},
   "source": [
    "# CIDERの見た目のカスタマイズ\n",
    "\n",
    "CIDERはあなたが調整したいと思うかもしれないいくつかのカスタムフェイスを定義します(通常あなたのカラーテーマはそれらの面倒を見るべきです)：\n",
    "<!--\n",
    "CIDER defines a few custom faces that you might want to adjust (although normally your color theme should take care of them):\n",
    "-->\n",
    "\n",
    "- `cider-deprecated-face` - 廃止予定の変数のシンタックス・ハイライトに使用されます。\n",
    "- `cider-instrumented-face` - varsのデバッグ用にインスツルメントされたシンタックス・ハイライトに使用されます。\n",
    "- `cider-traced-face` - トレースされた変数のシンタックス・ハイライトに使用されます。\n",
    "- `cider-reader-conditional-face` - 非アクティブなリーダー条件ブランチのシンタックス・ハイライトに使用されます。"
   ]
  }
 ],
 "metadata": {
  "kernelspec": {
   "display_name": "Clojure",
   "language": "clojure",
   "name": "clojure"
  },
  "language_info": {
   "file_extension": ".clj",
   "mimetype": "text/x-clojure",
   "name": "clojure",
   "version": "1.8.0"
  }
 },
 "nbformat": 4,
 "nbformat_minor": 2
}
