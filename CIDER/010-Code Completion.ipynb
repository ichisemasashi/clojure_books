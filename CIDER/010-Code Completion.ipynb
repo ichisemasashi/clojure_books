{
 "cells": [
  {
   "cell_type": "markdown",
   "metadata": {},
   "source": [
    "CIDERは、ソースバッファ（cider-modeで動作）とREPLバッファの両方にインテリジェントなコード補完機能を提供します。\n",
    "<!--\n",
    "CIDER provides intelligent code completion for both source buffers (powered by cider-mode) and REPL buffers.\n",
    "-->\n",
    "\n",
    "### 注意\n",
    "\n",
    "内部的にCIDERはClojureに対する[compliment](https://github.com/alexander-yakushev/compliment)とClojureScriptに対する[cljs-tooling](https://github.com/clojure-emacs/cljs-tooling)を利用します。\n",
    "2つのライブラリーの改善は自動的にCIDERの改善につながります。\n",
    "<!--\n",
    "Note\n",
    "\n",
    "Internally CIDER leverages compliment for Clojure and cljs-tooling for ClojureScript. Improvements to the two libraries automatically translate to improvements in CIDER.\n",
    "-->"
   ]
  },
  {
   "cell_type": "markdown",
   "metadata": {},
   "source": [
    "# 標準的な補完\n",
    "\n",
    "すぐに使えるCIDERは、コード補完に標準のEmacsツールを使用します。\n",
    "<kbd>TAB</kbd>か<kbd>M-TAB</kbd>を押すと、専用のバッファに補完候補が表示されます。\n",
    "<!--\n",
    "Out-of-the box CIDER uses the standard Emacs tooling for code completion. When you press TAB or M-TAB you'll get completion candidates in a dedicated buffer.\n",
    "-->"
   ]
  },
  {
   "cell_type": "markdown",
   "metadata": {},
   "source": [
    "# 自動補完\n",
    "\n",
    "標準のEmacsツールはうまく機能しますが、CIDERユーザーは代わりに`company-mode`の使用を検討することをお勧めします。\n",
    "`company-mode`は、ソースコードとREPLバッファの両方の自動補完に使用できます。`company-mode`をインストールするには：\n",
    "<!--\n",
    "While the standard Emacs tooling works just fine, we suggest that CIDER users consider using company-mode instead. Company mode can be used for auto-completion for both source code and REPL buffers. To install company-mode:\n",
    "-->\n",
    "\n",
    "<kbd>M-x</kbd> `package-install` <kbd>RET</kbd> `company` <kbd>RET</kbd>\n",
    "\n",
    "インストール後、`company-mode`をグローバルに有効にすることができます。\n",
    "<!--\n",
    "After installation, you can turn on company-mode globally:\n",
    "-->\n",
    "\n",
    "```lisp\n",
    "(global-company-mode)\n",
    "```\n",
    "\n",
    "または、モード固有のフックを通して、\n",
    "<!--\n",
    "or through mode-specific hooks:\n",
    "-->\n",
    "\n",
    "```lisp\n",
    "(add-hook 'cider-repl-mode-hook #'company-mode)\n",
    "(add-hook 'cider-mode-hook #'company-mode)\n",
    "```\n",
    "\n",
    "`company-mode`が有効になっていると、それは`cider-complete-at-point`から補完情報を受け取り、追加のセットアップやプラグインは不要です。\n",
    "<!--\n",
    "When company-mode is enabled, it will receive completion information from cider-complete-at-point and requires no additional setup or plugins.\n",
    "-->\n",
    "\n",
    "手動で補完を起動したい場合は、これを設定に追加できます。\n",
    "<!--\n",
    "If you'd prefer to trigger completions manually you can add this to your config:\n",
    "-->\n",
    "\n",
    "```lisp\n",
    "(setq company-idle-delay nil) ; never start completions automatically\n",
    "(global-set-key (kbd \"M-TAB\") #'company-complete) ; use M-TAB, a.k.a. C-M-i, as manual trigger\n",
    "```\n",
    "\n",
    "手動でインデントする機能を失うことなく<kbd>TAB</kbd>補完をさせるには、これをあなたの設定に追加することができます。\n",
    "<!--\n",
    "To make TAB complete, without losing the ability to manually indent, you can add this to your config:\n",
    "-->\n",
    "\n",
    "```lisp\n",
    "(global-set-key (kbd \"TAB\") #'company-indent-or-complete-common)\n",
    "```"
   ]
  },
  {
   "cell_type": "markdown",
   "metadata": {},
   "source": [
    "# ファジィ候補マッチング\n",
    "\n"
   ]
  }
 ],
 "metadata": {
  "kernelspec": {
   "display_name": "Clojure",
   "language": "clojure",
   "name": "clojure"
  },
  "language_info": {
   "file_extension": ".clj",
   "mimetype": "text/x-clojure",
   "name": "clojure",
   "version": "1.8.0"
  }
 },
 "nbformat": 4,
 "nbformat_minor": 2
}
