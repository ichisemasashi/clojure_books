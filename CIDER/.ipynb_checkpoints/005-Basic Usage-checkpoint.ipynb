{
 "cells": [
  {
   "cell_type": "markdown",
   "metadata": {},
   "source": [
    "`CIDER`には、`cider-mode`の対話型開発機能を補完する強力なREPLが付属しています。\n",
    "`CIDER`のREPLを使用すると、実行中のプログラムを試したり、機能をテストしたり、使用してみたい新しいライブラリを探索したりできます。\n",
    "`CIDER`のREPLは多くの高度な機能を提供します。\n",
    "\n",
    "<!--\n",
    "CIDER comes with a powerful REPL that complements the interactive development functionality in cider-mode. Using the CIDER REPL you can experiment with your running program, test functions, or just explore a new library you're interested in using. The CIDER REPL offers a number of advanced features:\n",
    "-->\n",
    "\n",
    "- 自動補完\n",
    "- フォントロック(clojure-modeと同じ)\n",
    "- 多くのCIDERコマンドへの素早いアクセス\n",
    "- 評価結果のプリティ・プリント\n",
    "- エルドック支援\n",
    "- 高度にカスタマイズ可能なREPLプロンプト\n",
    "<!--\n",
    "auto-completion\n",
    "font-locking (the same as in clojure-mode)\n",
    "quick access to many CIDER commands (e.g. definition and documentation lookup, tracing, etc)\n",
    "pretty-printing of evaluation results\n",
    "eldoc support\n",
    "highly customizable REPL prompt\n",
    "-->"
   ]
  },
  {
   "cell_type": "markdown",
   "metadata": {},
   "source": [
    "# REPLとの対話\n",
    "\n",
    "`CIDER`のREPLと対話するのはとても簡単です -- ほとんどの場合、そこに式を書いて<kbd>RET</kbd>を押すだけでそれを評価できます。\n",
    "<!--\n",
    "Interacting with CIDER's REPL is pretty simple - most of the time you'd just write expressions there and press RET to evaluate them.\n",
    "-->\n",
    "\n",
    "\n",
    "しかし、REPLはそれよりも少し強力で、他のClojureのREPLでは利用できないかもしれないことをいくつか行うことができます。\n",
    "そのようなもののいくつかの例は次のようになります。\n",
    "<!--\n",
    "But the REPL is a bit more powerful than that and it allows you to do some things that might not be available in other Clojure REPLs. Some examples of such things would be:\n",
    "-->\n",
    "\n",
    "- 不完全な式は<kbd>C-Ret</kbd>で閉じることができます。\n",
    "- 各行の終わりで<kbd>C-j</kbd>を押すと複数行の式を入力できます。\n",
    "- シンボルの定義(<kbd>.</kbd>)またはそのドキュメント(<kbd>C-c C-d d</kbd>)に素早くジャンプできます。\n",
    "- <kbd>C-c C-o</kbd>で最後の式の出力を消去できます。\n",
    "- REPLバッファは<kbd>C-u C-c C-o</kbd>でクリアできます。\n",
    "- <kbd>C-c C-z</kbd>でソースバッファとREPLの間をジャンプできます。\n",
    "- <kbd>C-c M-o</kbd>でClojureのREPLとClojureScriptのREPLの間をジャンプできます。\n",
    "<!--\n",
    "You can close an incomplete expression with C-Ret\n",
    "You can enter a multi-line expression by pressing C-j at the end of each line\n",
    "You can quickly jump to the definition of a symbol (.) or to its documentation (C-c C-d d)\n",
    "You can clear the output of the last expression with C-c C-o\n",
    "You can clear the REPL buffer with C-u C-c C-o\n",
    "You can jump between your source buffers and the REPL with C-c C-z\n",
    "You can jump between your Clojure and ClojureScript REPLs with C-c M-o\n",
    "-->\n",
    "\n",
    "これに加えて、REPLは非常に設定可能であり、あなたはそれのほぼあらゆる側面を微調整することができます。\n",
    "<!--\n",
    "On top of this the REPL is extremely configurable and you can tweak almost every aspect of it.\n",
    "-->"
   ]
  },
  {
   "cell_type": "markdown",
   "metadata": {},
   "source": [
    "# 評価を中断する\n",
    "\n",
    "誤って長い時間がかかるものを評価しようとした場合（それが終わらない場合）、<kbd>C-c C-c</kbd>を押すことでその評価操作を中断することができます。\n",
    "<!--\n",
    "If you accidentally try to evaluate something that's going to take a lot of time (if it finishes at all), you can interrupt the rouge evaluation operation by pressing C-c C-c.\n",
    "-->\n",
    "\n",
    "### メモ\n",
    "\n",
    "これはソースバッファでの評価を中断するためのキーバインド、つまり<kbd>C-c C-b</kbd>とは異なることに注意してください。\n",
    "<!--\n",
    "Tip\n",
    "\n",
    "Note that this is different from the keybinding for interrupting evaluations in source buffers, namely C-c C-b.\n",
    "-->\n"
   ]
  },
  {
   "cell_type": "markdown",
   "metadata": {},
   "source": [
    "# REPLの終了\n",
    "\n",
    "REPLを使い終わったら、<kbd>C-c C-q</kbd>でそれを破棄できます。\n",
    "<!--\n",
    "When you're done with a REPL you can dispose of it with C-c C-q.\n",
    "-->\n",
    "\n",
    "REPLバッファを<kbd>C-c C-k</kbd>で殺さないようにしてください\n",
    "<!--\n",
    "Please, avoid killing REPL buffers with C-c C-k\n",
    "-->"
   ]
  },
  {
   "cell_type": "markdown",
   "metadata": {},
   "source": [
    "# 既知の限界\n",
    "\n",
    "REPLバッファが非常に大きくなると、パフォーマンスが低下する可能性があります。\n",
    "これは、`cider-repl-use-clojure-font-lock`または`nrepl-log-messages`が有効になっている場合に特に当てはまります。\n",
    "`cider-repl-clear-output`を使用して、前の評価の結果を消去するか、または前置引数を指定してREPLバッファ全体を消去することができます。\n",
    "<!--\n",
    "Performance can degrade when the REPL buffer grows very large. This is especially true if either cider-repl-use-clojure-font-lock or nrepl-log-messages are enabled. You can use cider-repl-clear-output to either clear the result of the previous evaluation, or with a prefix argument clear the entire REPL buffer.\n",
    "-->\n",
    "\n",
    "非常に長い行はEmacsをクロールすることが保証されているので、ある幅を超える行を折り返す`cider-print-fn`の値(すなわち、`pr`以外の組み込みオプションのいずれか)を使用することをお勧めします。\n",
    "<!--\n",
    "Very long lines are guaranteed to bring Emacs to a crawl, so using a value of cider-print-fn that wraps lines beyond a certain width (i.e. any of the built-in options except for pr) is advised.\n",
    "-->"
   ]
  }
 ],
 "metadata": {
  "kernelspec": {
   "display_name": "Clojure",
   "language": "clojure",
   "name": "clojure"
  },
  "language_info": {
   "file_extension": ".clj",
   "mimetype": "text/x-clojure",
   "name": "clojure",
   "version": "1.8.0"
  }
 },
 "nbformat": 4,
 "nbformat_minor": 2
}
