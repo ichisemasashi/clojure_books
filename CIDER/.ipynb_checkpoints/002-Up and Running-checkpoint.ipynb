{
 "cells": [
  {
   "cell_type": "markdown",
   "metadata": {},
   "source": [
    "`CIDER`を使用するには、プログラムに関連付けられている実行中の`nREPL`サーバーに接続する必要があります。\n",
    "ほとんどのClojure開発者は、`Leiningen`、`Boot`、または`Gradle`などの標準的なビルドツールを使用します。CIDERはこれらのツールと自動的に連携して、すばやく起動および実行ができるようにします。\n",
    "しかしこれらのツールは必須ではありません。\n",
    "CIDERは、すでに起動されていて別々に管理されているnREPLサーバーに接続できます。\n",
    "\n",
    "<!--\n",
    "\n",
    "To use CIDER, you'll need to connect it to a running nREPL server that is associated with your program. Most Clojure developers use standard build tooling such as Leiningen, Boot, or Gradle, and CIDER can automatically work with those tools to get you up and running quickly. But those tools are not required; CIDER can connect to an nREPL server that is already started and is managed separately.\n",
    "-->\n",
    "\n",
    "### ノート\n",
    "\n",
    "`CIDER`はLeiningen 2.9.0以降またはBoot 2.8.3以降で動作します。それ以前のバージョンはサポートされていません。\n",
    "\n",
    "\n",
    "<!--\n",
    "\n",
    "Note\n",
    "\n",
    "CIDER will automatically work with Leiningen 2.9.0+ or Boot 2.8.3+. Older versions are not supported.\n",
    "\n",
    "-->"
   ]
  },
  {
   "cell_type": "markdown",
   "metadata": {},
   "source": [
    "`CIDER`をnREPLサーバーに接続するには2つ方法があります。\n",
    "\n",
    "1. `CIDER`はあなたのプロジェクトのためにEmacsからnREPLサーバーを起動します。\n",
    "2. 分割して管理された、すでに実行中のnREPLサーバーへ`CIDER`を接続できます。\n",
    "\n",
    "次の節にてその方法を紹介します。\n",
    "\n",
    "<!--\n",
    "There are two ways to connect CIDER to an nREPL server:\n",
    "\n",
    "1. CIDER can launch an nREPL server for your project from Emacs.\n",
    "2. You can connect CIDER to an already-running nREPL server, managed separately.\n",
    "\n",
    "The following sections describe each of these methods.\n",
    "-->\n"
   ]
  },
  {
   "cell_type": "markdown",
   "metadata": {},
   "source": [
    "# EmacsからnREPLサーバーを起動する\n",
    "\n",
    "ファイル・システムにClojureのプロジェクトがあり、`CIDER`にそのプロジェクトのためのnREPLセッションを開始させたい場合は、プロジェクトに属するファイルにアクセスして、`M-x` `cider-jack-in` `RET`と入力してください。 `CIDER`はnREPLサーバを起動し、自動的にそれに接続します。\n",
    "\n",
    "<!--\n",
    "If you have a Clojure project in your file system and want CIDER to launch an nREPL session for it, simply visit a file that belongs to the project, and type M-x cider-jack-in RET. CIDER will start an nREPL server and automatically connect to it.\n",
    "-->\n",
    "\n",
    "### ノート\n",
    "\n",
    "プロジェクトがlein、boot、またはtools.deps（deps.edn）を使用している場合、`CIDER`はサーバーの起動時に必要なすべてのnREPL依存関係を自動的に挿入します。 `CIDER`は現在、Gradleプロジェクトの依存関係の自動注入をサポートしていません。\n",
    "\n",
    "<!--\n",
    "Note\n",
    "\n",
    "If your project uses lein, boot or tools.deps (deps.edn), CIDER will automatically inject all the necessary nREPL dependencies when it starts the server. CIDER does not currently support dependency auto-injection for Gradle projects.\n",
    "-->\n",
    "\n"
   ]
  },
  {
   "cell_type": "markdown",
   "metadata": {},
   "source": [
    "あるいは、`C-u` `M-x` `cider-jack-in` `RET`を使用して、lein、boot、またはtools.depsプロジェクトの名前を指定することもできます。その場合、その中のファイルにアクセスする必要はありません。このオプションは、プロジェクトにproject.clj、build.boot、deps.ednのいくつかの組み合わせが含まれていて、いずれかのREPLを起動したい場合にも便利です。\n",
    "\n",
    "\n",
    "<!--\n",
    "Alternatively, you can use C-u M-x cider-jack-in RET to specify the name of a lein, boot or tools.deps project, without having to visit any file in it. This option is also useful if your project contains some combination of project.clj, build.boot and deps.edn and you want to launch a REPL for one or the other.\n",
    "-->\n",
    "\n",
    "### メモ\n",
    "\n",
    "Clojure(Script)のバッファでは、コマンド`cider-jack-in`は`C-c C-x (C-)j (C-)j`にバインドされています。\n",
    "\n",
    "<!--\n",
    "Tip\n",
    "\n",
    "In Clojure(Script) buffers the command cider-jack-in is bound to C-c C-x (C-)j (C-)j.\n",
    "-->\n"
   ]
  }
 ],
 "metadata": {
  "kernelspec": {
   "display_name": "Clojure",
   "language": "clojure",
   "name": "clojure"
  },
  "language_info": {
   "file_extension": ".clj",
   "mimetype": "text/x-clojure",
   "name": "clojure",
   "version": "1.8.0"
  }
 },
 "nbformat": 4,
 "nbformat_minor": 2
}
