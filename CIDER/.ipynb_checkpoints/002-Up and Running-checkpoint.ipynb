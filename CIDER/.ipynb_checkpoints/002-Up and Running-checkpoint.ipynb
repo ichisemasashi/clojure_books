{
 "cells": [
  {
   "cell_type": "markdown",
   "metadata": {},
   "source": [
    "`CIDER`を使用するには、プログラムに関連付けられている実行中の`nREPL`サーバーに接続する必要があります。\n",
    "ほとんどのClojure開発者は、`Leiningen`、`Boot`、または`Gradle`などの標準的なビルドツールを使用します。CIDERはこれらのツールと自動的に連携して、すばやく起動および実行ができるようにします。\n",
    "しかしこれらのツールは必須ではありません。\n",
    "CIDERは、すでに起動されていて別々に管理されているnREPLサーバーに接続できます。\n",
    "\n",
    "<!--\n",
    "\n",
    "To use CIDER, you'll need to connect it to a running nREPL server that is associated with your program. Most Clojure developers use standard build tooling such as Leiningen, Boot, or Gradle, and CIDER can automatically work with those tools to get you up and running quickly. But those tools are not required; CIDER can connect to an nREPL server that is already started and is managed separately.\n",
    "-->\n",
    "\n",
    "### ノート\n",
    "\n",
    "`CIDER`はLeiningen 2.9.0以降またはBoot 2.8.3以降で動作します。それ以前のバージョンはサポートされていません。\n",
    "\n",
    "\n",
    "<!--\n",
    "\n",
    "Note\n",
    "\n",
    "CIDER will automatically work with Leiningen 2.9.0+ or Boot 2.8.3+. Older versions are not supported.\n",
    "\n",
    "-->"
   ]
  },
  {
   "cell_type": "markdown",
   "metadata": {},
   "source": [
    "`CIDER`をnREPLサーバーに接続するには2つ方法があります。\n",
    "\n",
    "1. `CIDER`はあなたのプロジェクトのためにEmacsからnREPLサーバーを起動します。\n",
    "2. 分割して管理された、すでに実行中のnREPLサーバーへ`CIDER`を接続できます。\n",
    "\n",
    "次の節にてその方法を紹介します。\n",
    "\n",
    "<!--\n",
    "There are two ways to connect CIDER to an nREPL server:\n",
    "\n",
    "1. CIDER can launch an nREPL server for your project from Emacs.\n",
    "2. You can connect CIDER to an already-running nREPL server, managed separately.\n",
    "\n",
    "The following sections describe each of these methods.\n",
    "-->\n"
   ]
  },
  {
   "cell_type": "markdown",
   "metadata": {},
   "source": [
    "# EmacsからnREPLサーバーを起動する\n",
    "\n",
    "ファイル・システムにClojureのプロジェクトがあり、`CIDER`にそのプロジェクトのためのnREPLセッションを開始させたい場合は、プロジェクトに属するファイルにアクセスして、`M-x` `cider-jack-in` `RET`と入力してください。 `CIDER`はnREPLサーバを起動し、自動的にそれに接続します。\n",
    "\n",
    "<!--\n",
    "If you have a Clojure project in your file system and want CIDER to launch an nREPL session for it, simply visit a file that belongs to the project, and type M-x cider-jack-in RET. CIDER will start an nREPL server and automatically connect to it.\n",
    "-->\n",
    "\n",
    "### ノート\n",
    "\n",
    "プロジェクトがlein、boot、またはtools.deps（deps.edn）を使用している場合、`CIDER`はサーバーの起動時に必要なすべてのnREPL依存関係を自動的に挿入します。 `CIDER`は現在、Gradleプロジェクトの依存関係の自動注入をサポートしていません。\n",
    "\n",
    "<!--\n",
    "Note\n",
    "\n",
    "If your project uses lein, boot or tools.deps (deps.edn), CIDER will automatically inject all the necessary nREPL dependencies when it starts the server. CIDER does not currently support dependency auto-injection for Gradle projects.\n",
    "-->\n",
    "\n"
   ]
  },
  {
   "cell_type": "markdown",
   "metadata": {},
   "source": [
    "あるいは、`C-u` `M-x` `cider-jack-in` `RET`を使用して、lein、boot、またはtools.depsプロジェクトの名前を指定することもできます。その場合、その中のファイルにアクセスする必要はありません。このオプションは、プロジェクトにproject.clj、build.boot、deps.ednのいくつかの組み合わせが含まれていて、いずれかのREPLを起動したい場合にも便利です。\n",
    "\n",
    "\n",
    "<!--\n",
    "Alternatively, you can use C-u M-x cider-jack-in RET to specify the name of a lein, boot or tools.deps project, without having to visit any file in it. This option is also useful if your project contains some combination of project.clj, build.boot and deps.edn and you want to launch a REPL for one or the other.\n",
    "-->\n",
    "\n",
    "### メモ\n",
    "\n",
    "Clojure(Script)のバッファでは、コマンド`cider-jack-in`は`C-c C-x (C-)j (C-)j`にバインドされています。\n",
    "\n",
    "<!--\n",
    "Tip\n",
    "\n",
    "In Clojure(Script) buffers the command cider-jack-in is bound to C-c C-x (C-)j (C-)j.\n",
    "-->\n"
   ]
  },
  {
   "cell_type": "markdown",
   "metadata": {},
   "source": [
    "以下の文字列オプションを変更することで、CIDERが`cider-jack-in`に使用するコマンドラインをさらにカスタマイズできます。\n",
    "\n",
    "- `cider-lein-global-options`、`cider-boot-global-options`、`cider-clojure-cli-global-options`、`cider-gradle-global-options`: これらは最初の位置で直接コマンドに渡されます（例えば、`lein`への`-o`はオフラインモードを有効にします）。\n",
    "\n",
    "- `cider-lein-parameters`、`cider-boot-parameters`、`cider-clojure-cli-parameters``cider-gradle-parameters`: これらは通常タスク名とそのパラメータです（例えば、標準の`repl -s wait`ではなく、ブートのdevタスクを起動するための`dev`）。\n",
    "\n",
    "<!--\n",
    "You can further customize the command line CIDER uses for cider-jack-in by modifying the following string options:\n",
    "\n",
    "- cider-lein-global-options, cider-boot-global-options,  cider-clojure-cli-global-options, cider-gradle-global-options: these are passed to the command directly, in first position (e.g., -o to lein enables offline mode).\n",
    "- cider-lein-parameters, cider-boot-parameters,  cider-clojure-cli-parameters, cider-gradle-parameters: these are usually task names and their parameters (e.g., dev for launching boot's dev task instead of the standard repl -s wait).\n",
    "\n",
    "-->\n",
    "\n",
    "プロジェクト・ディレクトリの外で`cider-jack-in`を実行しようとすると、`CIDER`によって警告が表示され、本当に実行するかどうかを確認するように求められます。多くの場合、これは事故です。\n",
    "先に進むことにした場合、`CIDER`は`cider-jack-in-default`に設定されたコマンドを呼び出します。\n",
    "CIDER 0.17より前では、これはleinにデフォルト設定されていましたが、その後、Clojureの基本的な起動コマンドであるcljに切り替えられました。\n",
    "\n",
    "<!--\n",
    "Note that if you try to run cider-jack-in outside a project directory, CIDER will warn you and ask you to confirm whether you really want to do this; more often than not, this is an accident. If you decide to proceed, CIDER will invoke the command configured in cider-jack-in-default. Prior to CIDER 0.17, this defaulted to lein but was subsequently switched to clj, Clojure's basic startup command.\n",
    "-->\n",
    "\n",
    "### メモ\n",
    "\n",
    "プロジェクト外でジャックインしたときに表示される警告を無効にしたい場合は、`cider-allow-jack-in-without-project`を`t`に設定できます。\n",
    "\n",
    "<!--\n",
    "Tip\n",
    "\n",
    "You can set cider-allow-jack-in-without-project to t if you'd like to disable the warning displayed when jacking-in outside a project.\n",
    "-->\n"
   ]
  },
  {
   "cell_type": "markdown",
   "metadata": {},
   "source": [
    "# 実行中のnREPLサーバーに接続する\n",
    "\n",
    "nREPLサーバーがすでに稼働している場合は、`CIDER`から接続できます。\n",
    "たとえば、Leiningenベースのプロジェクトがある場合は、ターミナルセッションでプロジェクトのディレクトリに移動して、次のように入力します。\n",
    "\n",
    "```\n",
    "$ lein repl :headless\n",
    "```\n",
    "\n",
    "これでそのプロジェクトのnREPLサーバーが起動します。\n",
    "\n",
    "<!--\n",
    "If you have an nREPL server already running, CIDER can connect to it. For instance, if you have a Leiningen-based project, go to your project's directory in a terminal session and type:\n",
    "-->\n",
    "\n",
    "<!--\n",
    "This will start the project's nREPL server.\n",
    "-->"
   ]
  },
  {
   "cell_type": "markdown",
   "metadata": {},
   "source": [
    "プロジェクトで`boot`を使っている場合は、代りに次のように入力します。\n",
    "\n",
    "```\n",
    "$ boot repl -s wait (or whatever task launches a repl)\n",
    "```\n",
    "\n",
    "<!--\n",
    "If your project uses boot, do this instead:\n",
    "-->\n",
    "\n",
    "また、プレーンな`clj`でも可能ですが、コマンドは少々長くなります。\n",
    "\n",
    "```\n",
    "$ clj -Sdeps '{:deps {cider/cider-nrepl {:mvn/version \"0.21.1\"}}}' -m nrepl.cmdline --middleware \"[cider.nrepl/cider-middleware]\"\n",
    "```\n",
    "\n",
    "<!--\n",
    "It is also possible for plain clj, although the command is somewhat longer:\n",
    "-->\n",
    "\n",
    "あるいは、手動で、またはプロジェクトのビルドツール(Gradle、Mavenなど)で提供されている機能を使用してnREPLを起動することもできます。\n",
    "\n",
    "<!--\n",
    "Alternatively, you can start nREPL either manually or using the facilities provided by your project's build tool (Gradle, Maven, etc).\n",
    "-->"
   ]
  },
  {
   "cell_type": "markdown",
   "metadata": {},
   "source": [
    "nREPLサーバを起動したら、Emacsに戻ってそれに接続します。`M-x` `cider-connect` `RET`。 `CIDER`はホストとポートの情報の入力を促します。これらの情報は、前のコマンドでプロジェクトのnREPLサーバーを起動したときに表示されていたはずです。\n",
    "\n",
    "### メモ\n",
    "Clojure(Script)バッファではコマンド`cider-connect`は`C-c C-x c s`にバインドされています。\n",
    "\n",
    "<!--\n",
    "After you get your nREPL server running, go back to Emacs and connect to it: M-x cider-connect RET. CIDER will prompt you for the host and port information, which should have been printed when the previous commands started the nREPL server in your project.\n",
    "\n",
    "Tip\n",
    "\n",
    "In Clojure(Script) buffers the command cider-connect is bound to C-c C-x c s.\n",
    "-->\n"
   ]
  },
  {
   "cell_type": "markdown",
   "metadata": {},
   "source": [
    "同じホスト、同じポートに頻繁に接続する場合、それらについて`CIDER`に伝えることができます。`cider-connect`を起動したときにホストとポートのプロンプトの読み取りを完了するためにその情報を使用します。\n",
    "各ホストはオプションのラベルで識別できます。\n",
    "\n",
    "<!--\n",
    "If you frequently connect to the same hosts and ports, you can tell CIDER about them and it will use the information to do completing reads for the host and port prompts when you invoke cider-connect. You can identify each host with an optional label.\n",
    "-->\n",
    "\n",
    "```\n",
    "(setq cider-known-endpoints\n",
    "  '((\"host-a\" \"10.10.10.1\" \"7888\")\n",
    "    (\"host-b\" \"7888\")))\n",
    "```"
   ]
  },
  {
   "cell_type": "markdown",
   "metadata": {},
   "source": [
    "# 遠隔のホストを操作する\n",
    "\n",
    "ほとんどの場合、手動または`cider-jack-in-*`によって起動された、ローカルで実行されているnREPLサーバに接続しますが、遠隔のnREPLホストに接続することもできます。\n",
    "セキュリティのために、`CIDER`にはそのような場合にSSH経由で接続をトンネリングする機能があります。\n",
    "この動作は`nrepl-use-ssh-fallback-for-remote-hosts`によって制御されます。trueの場合、CIDERは直接接続できない場合にssh経由でリモートホストに接続しようとします。デフォルトでは`nil`です。\n",
    "\n",
    "<!--\n",
    "While most of the time you'd be connecting to a locally running nREPL server, that was started manually or via cider-jack-in-*, there's also the option to connect to remote nREPL hosts. For the sake of security CIDER has the ability to tunnel a connection over SSH in such cases. This behavior is controlled by nrepl-use-ssh-fallback-for-remote-hosts: when true, CIDER will attempt to connect via ssh to remote hosts when unable to connect directly. It's nil by default.\n",
    "-->\n"
   ]
  },
  {
   "cell_type": "markdown",
   "metadata": {},
   "source": [
    "無条件にリモート接続にsshの使用を強制する`nrepl-force-ssh-for-remote-hosts`もあります。\n",
    "\n",
    "<!--\n",
    "There's also nrepl-force-ssh-for-remote-hosts which will force the use of ssh for remote connection unconditionally.\n",
    "-->\n",
    "\n",
    "### 警告\n",
    "\n",
    "nREPL接続はデフォルトでは安全ではないため、ネットワーク外で動作しているサーバに接続する場合はSSHトンネリングのみを使用することをお勧めします。\n",
    "\n",
    "<!--\n",
    "Warning\n",
    "\n",
    "As nREPL connections are insecure by default you're encouraged to use only SSH tunneling when connecting to servers running outside of your network.\n",
    "-->"
   ]
  },
  {
   "cell_type": "markdown",
   "metadata": {},
   "source": [
    "`cider-connect-*`を実行しているときに、潜在的なターゲットホストとポートを見つけ出そうとしているときに、`CIDER`がオプションで`ssh`コマンドを利用する場合があります。\n",
    "`cider-infer-remote-nrepl-ports`がtrueの場合、`CIDER`はsshを使用して（直接接続のために）リモートホスト上のnREPLポートを推論しようとします。\n",
    "このオプションもデフォルトでは`nil`に設定されています。\n",
    "\n",
    "<!--\n",
    "There's a another case in which CIDER may optionally leverage the ssh command - when trying to figure out potential target hosts and ports when you're doing cider-connect-*. If  cider-infer-remote-nrepl-ports is true, CIDER will use ssh to try to infer nREPL ports on remote hosts (for a direct connection). That option is also set to nil by default.\n",
    "-->"
   ]
  },
  {
   "cell_type": "markdown",
   "metadata": {},
   "source": [
    "## 注意\n",
    "\n",
    "これらのいずれかを有効にすると、`CIDER`はいくつかのSSH操作でTRAMPを使用します。これは〜/.ssh/configや〜/.ssh/known_hostsなどの設定ファイルを解析します。これは、複雑なまたは非標準のsshの設定で問題を引き起こすことが知られています。\n",
    "\n",
    "<!--\n",
    "Note\n",
    "\n",
    "Enabling either of these causes CIDER to use TRAMP for some SSH operations, which parses config files such as ~/.ssh/config and ~/.ssh/known_hosts. This is known to cause problems with complex or nonstandard ssh configs.\n",
    "-->"
   ]
  },
  {
   "cell_type": "markdown",
   "metadata": {},
   "source": [
    "TRAMPを使ってリモートファイルを操作しながら、`cider-jack-in-*`を安全に実行することができます。\n",
    "`CIDER`はこのユースケースを透過的に処理します。\n",
    "\n",
    "<!-- \n",
    "You can safely run cider-jack-in-* while working with remote files over TRAMP. CIDER will handle this use-case transparently for you.\n",
    "-->"
   ]
  }
 ],
 "metadata": {
  "kernelspec": {
   "display_name": "Clojure",
   "language": "clojure",
   "name": "clojure"
  },
  "language_info": {
   "file_extension": ".clj",
   "mimetype": "text/x-clojure",
   "name": "clojure",
   "version": "1.8.0"
  }
 },
 "nbformat": 4,
 "nbformat_minor": 2
}
