{
 "cells": [
  {
   "cell_type": "markdown",
   "metadata": {},
   "source": [
    "あなたのClojureプログラミング体験を強化することができる多くの追加のEmacsパッケージがあります。\n",
    "ここにリストされているマイナーモードの大部分は、最適な効果のために`cider-repl-mode`と`clojure-mode`の両方に対して有効にされるべきです。\n",
    "<!--\n",
    "There are many additional Emacs packages that can enhance your Clojure programming experience. The majority of the minor modes listed here should be enabled for both cider-repl-mode and clojure-mode for optimal effects.\n",
    "-->"
   ]
  },
  {
   "cell_type": "markdown",
   "metadata": {},
   "source": [
    "# clj-refactor\n",
    "\n",
    "[clr-refactor](https://github.com/clojure-emacs/clj-refactor.el)はclojure-modeとCIDERの上に構築され、たくさんの追加機能を追加します(例えば、式のスレッド/アンスレッド、使用法の検索と置換、letバインディングの導入、関数の抽出など)。\n",
    "<!--\n",
    "clr-refactor builds on top of clojure-mode and CIDER and adds a ton of extra functionality (e.g. the ability to thread/unthread expression, find and replace usages, introduce let bindings, extract function and so on).\n",
    "-->\n",
    "\n",
    "機能の完全なリストは[ここ](https://github.com/clojure-emacs/clj-refactor.el/wiki)にあります。\n",
    "<!--\n",
    "A full list of features is available here.\n",
    "-->\n",
    "\n",
    "その機能のいくつかをclojure-modeとCIDER自体に組み込んで、開発していきたいと考えています。\n",
    "<!--\n",
    "We hope to incorporate some of its features into clojure-mode and CIDER themselves down the road.\n",
    "-->\n",
    "\n",
    "インストールした`clj-refactor`のバージョンがCIDERのバージョンと互換性があることを確認してください。\n",
    "<!--\n",
    "Make sure that the version of clj-refactor you've installed is compatible with your CIDER version.\n",
    "-->"
   ]
  },
  {
   "cell_type": "markdown",
   "metadata": {},
   "source": [
    "# emidje\n",
    "\n",
    "[Emidje](https://github.com/nubank/emidje)は、Emacs内の[Midje](https://github.com/marick/Midje)用のテストランナー、レポートビューア、および書式設定ツールです。\n",
    "<!--\n",
    "Emidje is a test runner, report viewer and formatting tool for Midje within Emacs.\n",
    "-->\n",
    "\n",
    "Emidjeは、`cider-test.el`がclojure.testテストを行うのと同様の方法でMidjeテストをサポートするようにCIDERを拡張します。\n",
    "実際、Emidjeの機能の大部分は`cider-test.el`の機能に強く影響を受けています。\n",
    "<!--\n",
    "Emidje extends CIDER to provide support for Midje tests in a similar fashion as cider-test.el does for clojure.test tests. In fact, most of Emidje functionalities were strongly inspired on cider-test.el features.\n",
    "-->"
   ]
  },
  {
   "cell_type": "markdown",
   "metadata": {},
   "source": [
    "# helm-cider\n",
    "\n",
    "[helm-cider](https://github.com/clojure-emacs/helm-cider)は特定のCIDERコマンド(例えば`cider-apropos`)用のHelmインターフェースを提供します。\n",
    "<!--\n",
    "helm-cider provides Helm interface for certain CIDER commands (e.g. cider-apropos).\n",
    "-->"
   ]
  },
  {
   "cell_type": "markdown",
   "metadata": {},
   "source": [
    "# cider-hydra\n",
    "\n",
    "[cider-hydra](https://github.com/clojure-emacs/cider-hydra)は、関連するCIDERコマンドのグループ間を移動するための優れた方法を提供します。\n",
    "<!--\n",
    "cider-hydra provides a nice way to navigate groups of related CIDER commands.\n",
    "-->\n",
    "\n",
    "あなたはそれをファンシーな[which-key](https://github.com/justbur/emacs-which-key)のと考えることができます。\n",
    "<!--\n",
    "You can think of it as a fancier which-key.\n",
    "-->"
   ]
  },
  {
   "cell_type": "markdown",
   "metadata": {},
   "source": [
    "# squiggly-clojure\n",
    "\n",
    "[squiggly-clojure](https://github.com/clojure-emacs/squiggly-clojure)は、[eastwood](https://github.com/jonase/eastwood)、[core.typed](http://typedclojure.org/)、[kibit](https://github.com/jonase/kibit)などのツールのような、Clojure用のFlycheckチェッカーです。\n",
    "<!--\n",
    "squiggly-clojure is a Flycheck checker for Clojure, using tools like eastwood, core.typed and kibit.\n",
    "-->\n"
   ]
  },
  {
   "cell_type": "markdown",
   "metadata": {},
   "source": [
    "# sayid\n",
    "\n",
    "[sayid](http://bpiel.github.io/sayid/)は、CIDERに組み込まれている基本的なトレース機能の強力な代替手段です。\n",
    "<!--\n",
    "sayid is a powerful alternative of CIDER's built-in basic tracing functionality.\n",
    "-->"
   ]
  },
  {
   "cell_type": "markdown",
   "metadata": {},
   "source": [
    "# Inf-clojure\n",
    "\n",
    "このパッケージはClojureサブプロセス(REPL)との基本的なやりとりを提供します。\n",
    "これは、一般的なinferior-lispパッケージのアイデアに基づいています。\n",
    "<!--\n",
    "This package provides basic interaction with a Clojure subprocess (REPL). It's based on ideas from the popular inferior-lisp package.\n",
    "-->\n",
    "\n",
    "[inf-clojure](https://github.com/clojure-emacs/inf-clojure)には2つのコンポーネントがあります。自動補完を備えた素晴らしいClojure REPLと、マイナーモード(`inf-clojure-minor-mode`)です。それらはREPL内でフォームを直接評価するためのコマンドでclojure-modeを拡張します。\n",
    "<!--\n",
    "inf-clojure has two components - a nice Clojure REPL with auto-completion and a minor mode (inf-clojure-minor-mode), which extends clojure-mode with commands to evaluate forms directly in the REPL.\n",
    "-->\n",
    "\n",
    "それは基本的にCIDERの単純な代替手段で、CIDERの機能のサブセットを提供します。\n",
    "<!--\n",
    "It's basically a simple alternative of CIDER, which provides a subset of CIDER's functionality.\n",
    "-->"
   ]
  },
  {
   "cell_type": "markdown",
   "metadata": {},
   "source": [
    "# subword-mode\n",
    "\n",
    "REPLで編集コマンド(`forward-word`、`backward-word`など)の`CamelCase`サポートを有効にすると、Javaのクラス名とメソッド名を処理しなければならないため、非常に便利です。\n",
    "組み込みのEmacsのマイナーモードであるsubword-modeはそのような機能を提供します。\n",
    "<!--\n",
    "Enabling CamelCase support for editing commands(like forward-word, backward-word, etc) in the REPL is quite useful since we often have to deal with Java class and method names. The built-in Emacs minor mode subword-mode provides such functionality:\n",
    "-->\n",
    "\n",
    "\n",
    "```lisp\n",
    "(add-hook 'cider-repl-mode-hook #'subword-mode)\n",
    "```\n"
   ]
  },
  {
   "cell_type": "markdown",
   "metadata": {},
   "source": [
    "# Paredit\n",
    "\n",
    "Clojure（または他のLisp）コードを編集するときに[paredit](http://mumble.net/~campbell/emacs/paredit.html)を使用することを強くお勧めします。\n",
    "あなたはおそらくあなたの`clojure-mode`バッファですでにそれを使っているでしょう(そうでなければおそらくあなたはそうすべきです)。\n",
    "REPLバッファでも`paredit`を有効にすることができます。\n",
    "<!--\n",
    "The use of paredit when editing Clojure (or any other Lisp) code is highly recommended. You're probably using it already in your clojure-mode buffers (if you're not you probably should). You might also want to enable paredit in the REPL buffer as well:\n",
    "-->\n",
    "\n",
    "\n",
    "```lisp\n",
    "(add-hook 'cider-repl-mode-hook #'paredit-mode)\n",
    "```\n"
   ]
  },
  {
   "cell_type": "markdown",
   "metadata": {},
   "source": [
    "# Smartparens\n",
    "\n",
    "[smartparens](https://github.com/Fuco1/smartparens)はpareditに代わる優れた選択肢です。\n",
    "多くのClojureハッカーが最近それを採用しましたし、あなたもそれを試してみることをお勧めします。\n",
    "REPLバッファで`smartparens`を有効にするには、次のコードを使用します。\n",
    "<!--\n",
    "smartparens is an excellent alternative to paredit. Many Clojure hackers have adopted it recently and you might want to give it a try as well. To enable smartparens in the REPL buffer use the following code:\n",
    "-->\n",
    "\n",
    "\n",
    "```lisp\n",
    "(add-hook 'cider-repl-mode-hook #'smartparens-strict-mode)\n",
    "```\n"
   ]
  },
  {
   "cell_type": "markdown",
   "metadata": {},
   "source": [
    "# rainbow-delimiters\n",
    "\n",
    "[RainbowDelimiters](https://github.com/Fanael/rainbow-delimiters)は、括弧、大括弧、中括弧を深さに応じてハイライトするマイナーモードです。\n",
    "連続する各レベルは異なる色でハイライトされます。\n",
    "これにより、一致する区切り文字を見つけ出し、コード内で自分の位置を特定し、どのステートメントがどの深さにあるかを判断することが容易になります。\n",
    "既に`RainbowDelimiters`をインストールしていると仮定すると、REPLでこれを有効にすることができます。\n",
    "<!--\n",
    "RainbowDelimiters is a minor mode which highlights parentheses, brackets, and braces according to their depth. Each successive level is highlighted in a different color. This makes it easy to spot matching delimiters, orient yourself in the code, and tell which statements are at a given depth. Assuming you've already installed RainbowDelimiters you can enable it in the REPL like this:\n",
    "-->\n",
    "\n",
    "```lisp\n",
    "(add-hook 'cider-repl-mode-hook #'rainbow-delimiters-mode)\n",
    "```\n"
   ]
  },
  {
   "cell_type": "markdown",
   "metadata": {},
   "source": [
    "# eval-sexp-fu\n",
    "\n",
    "式を評価するとき、[eval-sexp-fu](https://github.com/hchbaw/eval-sexp-fu.el)は視覚的なフィードバックを提供します。\n",
    "[cider-eval-sexp-fu](https://github.com/clojure-emacs/cider-eval-sexp-fu)は`eval-sexp-fu`用のCIDER統合を提供します。\n",
    "<!--\n",
    "eval-sexp-fu provides some visual feedback when evaluating expressions. cider-eval-sexp-fu provides CIDER integration for eval-sexp-fu.\n",
    "-->"
   ]
  }
 ],
 "metadata": {
  "kernelspec": {
   "display_name": "Clojure",
   "language": "clojure",
   "name": "clojure"
  },
  "language_info": {
   "file_extension": ".clj",
   "mimetype": "text/x-clojure",
   "name": "clojure",
   "version": "1.8.0"
  }
 },
 "nbformat": 4,
 "nbformat_minor": 2
}
