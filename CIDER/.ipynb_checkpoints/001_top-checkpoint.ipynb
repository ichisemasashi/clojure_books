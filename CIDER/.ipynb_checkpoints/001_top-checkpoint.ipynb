{
 "cells": [
  {
   "attachments": {},
   "cell_type": "markdown",
   "metadata": {},
   "source": [
    "![image.png](cider-logo.png)"
   ]
  },
  {
   "cell_type": "markdown",
   "metadata": {},
   "source": [
    "`CIDER`とは、`Clojure(Script)`のインタラクディブ(対話的)な開発環境です。\n",
    "\n",
    "※ 私には「CIDER is the Clojure(Script) Interactive Development Environment that Rocks!」の最後の「that Rocks!」の意味が日本語にできません。\n",
    "\n",
    "CIDERはClojureにおける対話型プログラミングを支援するためにEmacsを拡張しています。\n",
    "その特徴は`clojure-mode`を補完する`cider-mode`というEmacsのマイナーモードを中心とします。\n",
    "`clojure-mode`がClojureのソース・ファイルの編集を支援する一方、`cider-mode`はコンパイルやデバッグや定義やドキュメントの検索やテストの実行などなど、走っているClojureのプロセスとの対話するための支援を加えます。\n",
    "<!--\n",
    "CIDER extends Emacs with support for interactive programming in Clojure. The features are centered around cider-mode, an Emacs minor-mode that complements clojure-mode. While clojure-mode supports editing Clojure source files, cider-mode adds support for interacting with a running Clojure process for compilation, debugging, definition and documentation lookup, running tests and so on.\n",
    "-->\n"
   ]
  },
  {
   "cell_type": "markdown",
   "metadata": {},
   "source": [
    "### ノート\n",
    "\n",
    "`CIDER`は強力なCommon Lispの対話型開発環境の`SLIME`もともとインスピレーションを受けていました。\n",
    "始めのうちは、`SLIME`のコア機能をClojureに取り入れることによって始めましたが、時間の経過とともに、`CIDER`は`SLIME`と多くの分野にてすこしずつ異なってきました。\n",
    "もし`CIDER`の初期のことについてもっと知りたければ、この[プレゼン](https://www.youtube.com/watch?v=4X-1fJm25Ww&list=PLZdCLR02grLoc322bYirANEso3mmzvCiI&index=6)を見てください。\n",
    "\n",
    "<!--\n",
    "Note\n",
    "\n",
    "CIDER was originally inspired by the powerful Common Lisp interactive development environment SLIME. In the beginning we started by adapting SLIME's core functionality to Clojure, but over the course of time CIDER became pretty different from SLIME in many areas. Check out this presentation if you'd like to know more about CIDER's early history.\n",
    "-->\n"
   ]
  },
  {
   "cell_type": "markdown",
   "metadata": {},
   "source": [
    "# 概要\n",
    "\n",
    "`CIDER`はEmacs LispやCommon Lisp(の`SLIME`か`Sly`)やScheme(の`Geiser`)やSmalltalkでプログラミングをするときに得られるものと同じような、対話型開発環境を提供することを目指している。\n",
    "\n",
    "プログラマは非常に動的かつ段階的な方法でプログラムすることや、既存のClojureの定義を絶えず再評価して、実行中のアプリケーションに新しい定義を追加することを期待されています。\n",
    "\n",
    "`CIDER`使用中は、Clojureアプリケーションを決して停止/開始しません。絶えず対話し変更します。\n",
    "\n",
    "「対話型プログラミング」節にて典型的な`CIDER`のワークフローについて詳細がハッキリするでしょう。\n",
    "動画のチュートリアルが少し不足していますが、[それ](https://www.youtube.com/watch?v=aYA4AAjLfT0)を見ながら`CIDER`を立ち上げて「対話型開発環境」とはどういうものかを理解してみてください。\n",
    "\n",
    "<!--\n",
    "Overview\n",
    "\n",
    "CIDER aims to provide an interactive development experience similar to the one you'd get when programming in Emacs Lisp, Common Lisp (with SLIME or Sly), Scheme (with Geiser) and Smalltalk.\n",
    "\n",
    "Programmers are expected to program in a very dynamic and incremental manner, constantly re-evaluating existing Clojure definitions and adding new ones to their running applications. You never stop/start a Clojure application while using CIDER - you're constantly interacting with it and changing it.\n",
    "\n",
    "You can find more details about the typical CIDER workflow in the Interactive Programming section. While we're a bit short on video tutorials, you can check out this into to CIDER to get a feel about what do we mean by an \"Interactive Development Environment\".\n",
    "-->\n",
    "\n",
    "`CIDER`は、ClojureネットワークREPLサーバーである`nREPL`の一番上に構築されています。\n",
    "\n",
    "`CIDER`の基本アーキテクチャは以下のように見えます。\n",
    "\n",
    "<!--\n",
    "\n",
    "CIDER's built on top of nREPL, the Clojure networked REPL server.\n",
    "\n",
    "CIDER's basic architecture looks something like this:\n",
    "-->\n"
   ]
  },
  {
   "cell_type": "markdown",
   "metadata": {},
   "source": [
    "![CIDERアーキテクチャ](cider_architecture.png)"
   ]
  },
  {
   "cell_type": "markdown",
   "metadata": {},
   "source": [
    "Clojureのコードは、nREPLサーバによって実行されます。\n",
    "CIDERはnREPLサーバーに要求を送信し、その応答を処理します。\n",
    "サーバーの機能は、CIDERのような対話型開発環境のニーズに対応するために特別に設計された、追加のnREPLミドルウェアによって強化されています。\n",
    "\n",
    "<!--\n",
    "\n",
    "Clojure code gets executed by an nREPL server. CIDER sends requests to the server and processes its responses. The server's functionality is augmented by additional nREPL middleware, designed specifically to address the needs of an interactive development environment like CIDER.\n",
    "-->"
   ]
  },
  {
   "cell_type": "markdown",
   "metadata": {},
   "source": [
    "### ノート\n",
    "\n",
    "CIDERのためにもともと開発されたnREPLミドルウェアの多くはエディタにとらわれず、他のClojure開発環境（例えばvim-fireplace＆calva）によっても使用されています。\n",
    "\n",
    "<!--\n",
    "\n",
    "Note\n",
    "\n",
    "Much of the nREPL middleware we originally developed for CIDER is editor-agnostic and is being used by other Clojure development environments as well (e.g. vim-fireplace & calva).\n",
    "-->"
   ]
  },
  {
   "cell_type": "markdown",
   "metadata": {},
   "source": [
    "CIDERはたくさんの機能を満載しています。それらのいくつかを以下に示します（順不同）。\n",
    "\n",
    "<!--\n",
    "\n",
    "CIDER packs plenty of features. Here are some of them (in no particular order):\n",
    "-->\n",
    "\n",
    "\n",
    "- // Powerful REPL\n",
    "- Interactive code evaluation\n",
    "- // Compilation notes (error and warning highlighting)\n",
    "- Human-friendly stacktraces\n",
    "- Smart code completion\n",
    "- // Definition lookup\n",
    "- // Documentation lookup\n",
    "- // Resource lookup\n",
    "- // Apropos\n",
    "- Debugger\n",
    "- Value inspector\n",
    "- Function tracing\n",
    "- Interactive macroexpansion\n",
    "- // Enhanced Clojure font-locking and indentation\n",
    "- Grimoire integration\n",
    "- clojure.test integration\n",
    "- Smart code reloading\n",
    "- Pretty-printing of results\n",
    "- Classpath browser\n",
    "- Namespace browser\n",
    "- REPL history browser\n",
    "- // nREPL session management\n",
    "- Scratchpad\n",
    "- Minibuffer code evaluation\n",
    "- // Integration with company-mode\n",
    "- Support for working with multiple REPLs\n"
   ]
  }
 ],
 "metadata": {
  "kernelspec": {
   "display_name": "Clojure",
   "language": "clojure",
   "name": "clojure"
  },
  "language_info": {
   "file_extension": ".clj",
   "mimetype": "text/x-clojure",
   "name": "clojure",
   "version": "1.8.0"
  }
 },
 "nbformat": 4,
 "nbformat_minor": 2
}
