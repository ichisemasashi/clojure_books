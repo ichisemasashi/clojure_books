{
 "cells": [
  {
   "cell_type": "markdown",
   "metadata": {},
   "source": [
    "Emacs自体と同様に、CIDERのほとんどすべての部分は設定可能です。\n",
    "CIDER開発者は、Clojureコミュニティの大部分でうまくいくはずの合理的なデフォルトを実装しようとしましたが、 \"フリーサイズ\"な開発環境に近づくものは何もないことを知っていて、さまざまな人々の好みを説明できるカスタマイズのポイントを作成するよう努めました。\n",
    "このようにして、あなたはCIDERをあなたにとってできるだけ快適にすることができるはずです。\n",
    "<!--\n",
    "Like Emacs itself, almost every part of CIDER is configurable. The CIDER developers have tried to implement some reasonable defaults that should work for a large portion of the Clojure community, but we know that there is nothing approaching a \"one size fits all\" development environment and we've tried to create points of customization that can account for many different peoples' preferences. In this way, you should be able to make CIDER as comfortable as possible for you.\n",
    "-->\n",
    "\n",
    "<kbd>M-x customize-group RET cider</kbd>を使用すると、カスタマイズ可能なすべての設定オプションを確認できます。\n",
    "<!--\n",
    "You can see every single customizable configuration option with the command M-x customize-group RET cider.\n",
    "-->\n",
    "\n",
    "このセクションでは、CIDERが提供する可能性のあるすべてのカスタマイズについて説明するわけではありませんが、最も一般的なものをいくつか紹介します。\n",
    "<!--\n",
    "This section doesn't describe every possible customization that CIDER offers, but here are some of the most popular.\n",
    "-->"
   ]
  },
  {
   "cell_type": "markdown",
   "metadata": {},
   "source": [
    "# `clojure-mode`バッファ内にて自動`cider-mode`を無効化\n",
    "\n",
    "デフォルトでは、CIDERは、最初のCIDER接続を確立した後に、すべてのクロージャモードのバッファでサイダーモードを有効にします。また、新しく作成されたclojure-modeバッファでcider-modeを有効にするためのclojure-modeフックも追加されます。ただし、この動作をオーバーライドすることができます。\n",
    "<!--\n",
    "By default, CIDER enables cider-mode in all clojure-mode buffers after it establishes the first CIDER connection. It will also add a clojure-mode hook to enable cider-mode on newly-created clojure-mode buffers. You can override this behavior, however:\n",
    "-->"
   ]
  }
 ],
 "metadata": {
  "kernelspec": {
   "display_name": "Clojure",
   "language": "clojure",
   "name": "clojure"
  },
  "language_info": {
   "file_extension": ".clj",
   "mimetype": "text/x-clojure",
   "name": "clojure",
   "version": "1.8.0"
  }
 },
 "nbformat": 4,
 "nbformat_minor": 2
}
