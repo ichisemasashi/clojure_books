{
 "cells": [
  {
   "cell_type": "markdown",
   "metadata": {},
   "source": [
    "CIDERは、Clojureのスタックトレースを処理するための強力なソリューションを提供しています。\n",
    "CIDERは特別なメジャーモード、`cider-stacktrace-mode`でスタックトレースを表示します。\n",
    "<!--\n",
    "CIDER comes with a powerful solution for dealing with Clojure stacktraces. CIDER presents stack traces in a special major mode, cider-stacktrace-mode, which gives you gives you some key features:\n",
    "-->\n",
    "\n",
    "- がらくたを減らすために特定のスタックフレームを除外する機能\n",
    "- 例外の原因に移動するための便利な方法\n",
    "- 1回のキーストロークでコードに直接ジャンプする機能\n",
    "<!--\n",
    "the ability to filter out certain stack frames to reduce clutter\n",
    "some handy ways to navigate to the cause of the exception\n",
    "the ability to jump straight to code with a single keystroke\n",
    "-->"
   ]
  },
  {
   "cell_type": "markdown",
   "metadata": {},
   "source": [
    "# キーバインド\n",
    "\n",
    "Command                                | Keyboard shortcut                   | Description\n",
    "---------------------------------------|-------------------------------------|--------------\n",
    "`cider-stacktrace-previous-cause`      |<kbd>M-p</kbd>                       | 前の原因へポイントを移動。<!--Move point to previous cause-->\n",
    "`cider-stacktrace-next-cause`          |<kbd>M-n</kbd>                       | 次の原因へポイントを移動。<!--Move point to next cause-->\n",
    "`cider-stacktrace-jump`                |<kbd>M-.</kbd> or <kbd>Return</kbd>  | スタックトレースのフレームのソースの場所（可能な場合）に移動します<!--Navigate to the source location (if available) for the stacktrace frame-->\n",
    "`cider-stacktrace-cycle-current-cause` |<kbd>Tab</kbd>                       | 現在の原因の詳細を循環する。<!--Cycle current cause detail-->\n",
    "`cider-stacktrace-cycle-all-causes`    |<kbd>0</kbd> or <kbd>S-Tab</kbd>     | すべての原因の詳細を循環する。<!--Cycle all cause detail-->\n",
    "`cider-stacktrace-cycle-cause-1`       |<kbd>1</kbd>                         | 原因 #1 の詳細を循環する。<!--Cycle cause #1 detail-->\n",
    "`cider-stacktrace-cycle-cause-2`       |<kbd>2</kbd>                         | 原因 #2 の詳細を循環する。<!--Cycle cause #2 detail-->\n",
    "`cider-stacktrace-cycle-cause-3`       |<kbd>3</kbd>                         | 原因 #3 の詳細を循環する。<!--Cycle cause #3 detail-->\n",
    "`cider-stacktrace-cycle-cause-4`       |<kbd>4</kbd>                         | 原因 #4 の詳細を循環する。<!--Cycle cause #4 detail-->\n",
    "`cider-stacktrace-cycle-cause-5`       |<kbd>5</kbd>                         | 原因 #5 の詳細を循環する。<!--Cycle cause #5 detail-->\n",
    "`cider-stacktrace-toggle-java`         |<kbd>j</kbd>                         | Javaフレームの表示を切り替える<!--Toggle display of Java frames-->\n",
    "`cider-stacktrace-toggle-clj`          |<kbd>c</kbd>                         | Clojureフレームの表示を切り替える<!--Toggle display of Clojure frames-->\n",
    "`cider-stacktrace-toggle-repl`         |<kbd>r</kbd>                         | REPLフレームの表示を切り替える<!--Toggle display of REPL frames-->\n",
    "`cider-stacktrace-toggle-tooling`      |<kbd>t</kbd>                         | ツール(例えばコンパイラ、nREPLミドルウェアなどの)フレームの表示を切り替える<!--Toggle display of tooling frames (e.g. compiler, nREPL middleware)-->\n",
    "`cider-stacktrace-toggle-duplicates`   |<kbd>d</kbd>                         | 重複フレームの表示を切り替える<!--Toggle display of duplicate frames-->\n",
    "`cider-stacktrace-show-only-project`   |<kbd>p</kbd>                         | プロジェクトフレームのみの表示切り替え<!--Toggle display only project frames-->\n",
    "`cider-stacktrace-toggle-all`          |<kbd>a</kbd>                         | 全フレームの表示を切り替える<!--Toggle display of all frames-->\n"
   ]
  },
  {
   "cell_type": "markdown",
   "metadata": {},
   "source": [
    "# スタックトレースを扱う\n",
    "\n",
    "デフォルトでは、例外が発生すると、CIDERは`cider-stacktrace-mode`を使用してエラーバッファに例外を表示します。\n",
    "ただし、この動作を抑制することができます。\n",
    "<!--\n",
    "By default, when an exception occurs, CIDER will display the exception in an error buffer using cider-stacktrace-mode. You can suppress this behavior, however:\n",
    "-->\n",
    "\n",
    "```lisp\n",
    "(setq cider-show-error-buffer nil)\n",
    "```\n",
    "\n",
    "時々、表示されているエラーはCIDER自体のバグから発生します。\n",
    "これらの内部エラーは頻繁に発生してワークフローを中断することがありますが、`cider-show-error-buffer`を使用してすべてのスタックトレースのバッファを抑制したくない場合があります。\n",
    "代わりに、この特定の種類の内部エラーのみを抑制することをお勧めします。\n",
    "スタックトレースのバッファは、内部エラーを表示するときにそのようなオプションを提供します。\n",
    "トグルボタンがエラータイプの名前で表示されます、そしてこの特定のタイプのエラーがスタックトレースのバッファにそれ自身を自動的に表示させるかどうかを切り替えることができます。トグルボタンは現在のEmacsセッションの間だけこの振る舞いを制御しますが、抑制をより恒久的にしたい場合は、cider-stacktrace-suppress-errors変数をカスタマイズすることによってそれを行うことができます。バッファはまた、診断と修復を容易にするためにバグ報告ページへの直接リンクも提供します。\n",
    "<!--\n",
    "At times, the error being displayed will originate from a bug in CIDER itself. These internal errors might frequently occur and interrupt your workflow, but you might not want to suppress all stacktrace buffers by using cider-show-error-buffer. Instead, you might only want to suppress this specific type of internal error. The stacktrace buffers provide such an option when displaying an internal error. A toggle button will be displayed with the error type's name, and you can toggle whether this particular type of error will cause the stacktrace buffer to automatically show itself. The toggle button controls this behavior only during the current Emacs session, but if you would like to make the suppression more permanent, you can do so by customizing the cider-stacktrace-suppressed-errors variable. The buffer will also provide a direct link to the bug reporting page to help facilitate its diagnosis and repair.\n",
    "-->"
   ]
  }
 ],
 "metadata": {
  "kernelspec": {
   "display_name": "Clojure",
   "language": "clojure",
   "name": "clojure"
  },
  "language_info": {
   "file_extension": ".clj",
   "mimetype": "text/x-clojure",
   "name": "clojure",
   "version": "1.8.0"
  }
 },
 "nbformat": 4,
 "nbformat_minor": 2
}
