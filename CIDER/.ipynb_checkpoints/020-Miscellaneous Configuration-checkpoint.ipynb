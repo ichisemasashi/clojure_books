{
 "cells": [
  {
   "cell_type": "markdown",
   "metadata": {},
   "source": [
    "# オーバーレイ\n",
    "\n",
    "Clojureファイル内のコードを評価すると、結果は評価されたコードの直後にオーバーレイとしてバッファー自体に表示されます。\n",
    "このオーバーレイをClojureコードのようにフォントロック(シンタックス・ハイライト)するには、次の変数を設定します。\n",
    "<!--\n",
    "When you evaluate code in Clojure files, the result is displayed in the buffer itself, in an overlay right after the evaluated code. If you want this overlay to be font-locked (syntax-highlighted) like Clojure code, set the following variable.\n",
    "-->\n",
    "\n",
    "```lisp\n",
    "(setq cider-overlays-use-font-lock t)\n",
    "```\n",
    "\n",
    "`cider-use-overlayys`変数を使用すると、オーバーレイを完全に無効にすることができます(そして下部のエコー領域に結果が表示されます)。\n",
    "<!--\n",
    "You can disable overlays entirely (and display results in the echo-area at the bottom) with the cider-use-overlays variable.\n",
    "-->\n",
    "\n",
    "```lisp\n",
    "(setq cider-use-overlays nil)\n",
    "```"
   ]
  },
  {
   "cell_type": "markdown",
   "metadata": {},
   "source": [
    "# ミニバッファの補完\n",
    "\n",
    "すぐに使えるCIDERは、標準の補完読み上げEmacsメカニズムを使用します。\n",
    "空想ではなく、確実に仕事を終わらせます(ただTABを押すだけ)。\n",
    "しかし、もし望むなら、標準的な補完を改善する方法があります。\n",
    "<!--\n",
    "Out-of-the box CIDER uses the standard completing-read Emacs mechanism. While it's not fancy it certainly gets the job done (just press TAB). There are, however, ways to improve upon the standard completion if you wish to.\n",
    "-->"
   ]
  },
  {
   "cell_type": "markdown",
   "metadata": {},
   "source": [
    "## icomplete\n",
    "\n",
    "icompleteはEmacsにバンドルされており、デフォルトのミニバッファ補完を強化します。\n",
    "<!--\n",
    "icomplete is bundled with Emacs and enhances the default minibuffer completion:\n",
    "-->\n",
    "\n",
    "```lisp\n",
    "(require 'icomplete)\n",
    "```\n",
    "\n",
    "[ここ](https://www.gnu.org/software/emacs/manual/html_node/emacs/Icomplete.html)でicompleteについてもっと学ぶことができます。\n",
    "<!--\n",
    "You can learn more about icomplete here.\n",
    "-->"
   ]
  },
  {
   "cell_type": "markdown",
   "metadata": {},
   "source": [
    "## ido\n",
    "\n",
    "`ido`もEmacsにバンドルされており、`icomplete`よりも多くの機能を提供します。\n",
    "`ido`を使用している場合は、必ず`ido-everywhere`と`ido-completion-read+`の両方を使用してください。\n",
    "`ido-flex`をインストールすることもできます。\n",
    "<!--\n",
    "ido is also bundled with Emacs and offers more features than icomplete. If you are using ido, be sure to use both ido-everywhere and ido-completing-read+. You might also want to install ido-flex.\n",
    "-->"
   ]
  },
  {
   "cell_type": "markdown",
   "metadata": {},
   "source": [
    "## ivy (お勧め)\n",
    "\n",
    "拡張ミニバッファの補完のためにサードパーティ製のパッケージをインストールすることに問題がなければ、現代的で多目的な[ivy](http://oremacs.com/2015/04/16/ivy-mode/)でうまくいかないことはできません。\n",
    "<!--\n",
    "If you're fine with installing a third-party package for enhanced minibuffer completion you can't go wrong with the modern and versatile ivy.\n",
    "-->"
   ]
  }
 ],
 "metadata": {
  "kernelspec": {
   "display_name": "Clojure",
   "language": "clojure",
   "name": "clojure"
  },
  "language_info": {
   "file_extension": ".clj",
   "mimetype": "text/x-clojure",
   "name": "clojure",
   "version": "1.8.0"
  }
 },
 "nbformat": 4,
 "nbformat_minor": 2
}
