{
 "cells": [
  {
   "cell_type": "markdown",
   "metadata": {},
   "source": [
    "CIDERは確かに完璧ではなく、誰もが知っておくべきいくつかの制限があります。\n",
    "<!--\n",
    "CIDER is certainly not perfect and has some limitations that everyone should be aware of.\n",
    "-->"
   ]
  },
  {
   "cell_type": "markdown",
   "metadata": {},
   "source": [
    "# ClojureScript limitations\n",
    "\n",
    "現在、以下の機能はClojureScript開発ではサポートされていません。\n",
    "<!--\n",
    "Currently, the following features are not supported for ClojureScript development:\n",
    "-->\n",
    "\n",
    "- グリモア・ルックアップ\n",
    "- リロード\n",
    "- テストの実行\n",
    "- トレース\n",
    "- デバッグ(デバッガをClojureScriptに移植するための[専用のチケット](https://github.com/clojure-emacs/cider/issues/1416)をチェックしてください。)\n",
    "- ハイライト\n",
    "<!--\n",
    "Grimoire lookup\n",
    "Reloading\n",
    "Running tests\n",
    "Tracing\n",
    "Debugging (check out this ticket dedicated to porting the debugger to ClojureScript)\n",
    "Enlighten\n",
    "-->\n",
    "\n",
    "現在、同じnREPLセッションでのClojureとClojureScriptの両方の評価はサポートされていません。\n",
    "Piggiebackが有効な場合、コード評価とすべての機能はClojureScriptを想定します。\n",
    "<!--\n",
    "There is currently no support for both Clojure and ClojureScript evaluation in the same nREPL session. If Piggieback is active, code evaluation and all features will assume ClojureScript.\n",
    "-->"
   ]
  },
  {
   "cell_type": "markdown",
   "metadata": {},
   "source": [
    "# Var Metadata\n",
    "\n",
    "現在、ClojureScriptソースコード内のvarの定義の場所（file、line＆column）に関するvarメタデータは、ソースバッファ全体を評価するときにのみ設定されます(<kbd>C-c C-k</kbd>)。\n",
    "他のすべての対話型のコード評価コマンド(例えば<kbd>C-C C-e</kbd>)はこのメタデータを設定しないので、そのようなvarではfind-varのようなコマンドを使用することはできません。\n",
    "これはnREPLとPiggiebackの制限です。\n",
    "それはCIDERを超えています。\n",
    "あなたは[ここ](http://dev.clojure.org/jira/browse/NREPL-59)と[ここ](https://github.com/clojure-emacs/cider/issues/830)でこのテーマに関するいくつかの議論を見つけることができます。\n",
    "<!--\n",
    "Currently var metadata about the location of the var's definition within the ClojureScript source code (file, line & column) is set only when evaluating the entire source buffer (C-c C-k). All other interactive code evaluation commands (e.g. C-c C-e) don't set this metadata and you won't be able to use commands like find-var on such vars. This is a limitation of nREPL and Piggieback, that's beyond CIDER. You can find some discussions on the subject here and here.\n",
    "-->"
   ]
  },
  {
   "cell_type": "markdown",
   "metadata": {},
   "source": [
    "# Microsoft Windows\n",
    "\n",
    "## Line separators\n",
    "\n",
    "Microsoft Windowsでは、JVMのデフォルトの行区切り文字列は`\\r\\n`です。これは、JVMによって表示された行の末尾に`^M`文字としてEmacsに現れることがあります。\n",
    "1つのオプションはここに詳述されているようにこれらの文字を表示しないように`buffer-display-table`を設定することです(`slime-repl-mode-hook`を`cider-repl-mode-hook`に変更)。\n",
    "あるいは、JVMの起動時にシステムプロパティl`ine.separator`を`\\n`に設定すると、キャリッジリターンが表示されなくなり、すべてのciderバッファの出力が修正されます。\n",
    "これを行うには、`\"-Dline.separator=\\\"\\n\\\"\"`を`~/.lein/profiles.clj`内の`:jvm-opts`に追加します。\n",
    "<!--\n",
    "On Microsoft Windows the JVM default line separator string is \\r\\n which can appear in Emacs as ^M characters at the end of lines printed out by the JVM. One option is to set the buffer-display-table to not show these characters as detailed here (changing slime-repl-mode-hook to cider-repl-mode-hook). Alternatively, setting the system property line.separator to \\n at JVM startup will stop the carriage return from being printed and will fix output in all cider buffers. To do so add \"-Dline.separator=\\\"\\n\\\"\" to :jvm-opts in ~/.lein/profiles.clj.\n",
    "-->"
   ]
  },
  {
   "cell_type": "markdown",
   "metadata": {},
   "source": [
    "## Definition lookup in jar files\n",
    "\n",
    "ソース検索コマンドが`.jar`ファイルで機能するためには、[7zip](http://www.7-zip.org/)または`pkunzip`をインストールし、そのインストールフォルダをEmacsの`exec-path`に追加する必要があります。\n",
    "これが例です：\n",
    "<!--\n",
    "In order for source lookup commands to work with .jar files you'll need to install either 7zip or pkunzip and add its installation folder to Emacs's exec-path. Here's an example:\n",
    "-->\n",
    "\n",
    "```lisp\n",
    "(add-to-list 'exec-path \"C:/Program Files/7-Zip\")\n",
    "```"
   ]
  },
  {
   "cell_type": "markdown",
   "metadata": {},
   "source": [
    "## powershell.el\n",
    "\n",
    "PowerShellのinferiorシェルモードでは、ロード時にCIDERのREPL出力が切り捨てられます。\n",
    "回避策として、\n",
    "<!--\n",
    "The powershell inferior shell mode truncates CIDER's REPL output when loaded. As a workaround remove\n",
    "-->\n",
    "\n",
    "```lisp\n",
    "(require 'powershell)\n",
    "```\n",
    "\n",
    "Emacsの設定から上を削除します。\n",
    "<!--\n",
    "from your Emacs config.\n",
    "-->"
   ]
  },
  {
   "cell_type": "markdown",
   "metadata": {},
   "source": [
    "## ClojureCLR Support\n",
    "\n",
    "CIDERは現在ClojureCLRをサポートしていません。\n",
    "その理由は次のとおりです。\n",
    "<!--\n",
    "CIDER currently doesn't support ClojureCLR. The reasons for this are the following:\n",
    "-->\n",
    "\n",
    "- nREPL自体はJVM上でのみ実行されます(内部的にJava APIを利用するため)。[ClojureCLR用のnREPLポート](https://github.com/clojure/clr.tools.nrepl)がありますが、積極的にメンテナンスされておらず、Clojure nREPLのようには動作しません。\n",
    "- `cider-nrepl`はそれ自身の内部でたくさんのJavaコードを使います。\n",
    "<!--\n",
    "nREPL itself runs only on the JVM (because it leverages Java APIs internally). There's an nREPL port for ClojureCLR, but it's not actively maintained and it doesn't behave like the Clojure nREPL.\n",
    "cider-nrepl uses a lot of Java code internally itself.\n",
    "-->\n",
    "\n",
    "これらの問題は克服できないものではありませんが、現在のロードマップの範囲を超えています。\n",
    "誰かがそれらに取り組みたいのであれば、私たちはよろこんで援助を提供します。\n",
    "<!--\n",
    "Those issues are not insurmountable, but are beyond the scope of our current roadmap. If someone would like to tackle them, we'd be happy to provide assistance.\n",
    "-->"
   ]
  },
  {
   "cell_type": "markdown",
   "metadata": {},
   "source": [
    "## Injecting dependencies and Leiningen pedantic: abort mode\n",
    "\n",
    "injectionは、現在のところLeingingenがREPLの起動を引き込むnREPL依存関係のオーバーライドを作成しているため、`:pedantic? :abort`が設定されていると失敗します。\n",
    "これに対処する方法はいくつかあります。\n",
    "<!--\n",
    "Because injection currently creates an override of the nREPL dependency that Leingingen also pulls in starting up the REPL will fail if :pedantic? :abort is set. There are several ways to address this:\n",
    "-->\n",
    "\n",
    "- `:pedantic? :abort`の設定を削除します\n",
    "- `cider-inject-dependencies-at-jack-in`を`nil`に設定して依存関係のinjectionをオフにし、[スタンドアロンのREPLセクション](https://docs.cider.mx/en/latest/installation/#setting-up-a-standalone-repl)で説明されているように`~/.lein/profiles.clj`を編集して依存関係を提供します。\n",
    "- `cider-jack-in-dependencies`の値を調整して、Leiningenにバンドルされているものと同じnREPLの値が含まれるようにします。\n",
    "<!--\n",
    "Remove the :pedantic? :abort setting.\n",
    "Switch off injecting the dependencies with setting cider-inject-dependencies-at-jack-in to nil and provide the dependencies by editing your ~/.lein/profiles.clj as described in the standalone REPL section.\n",
    "Adjust the value of cider-jack-in-dependencies, so it includes the same nREPL value as the one that's bundled with Leiningen.\n",
    "-->"
   ]
  }
 ],
 "metadata": {
  "kernelspec": {
   "display_name": "Clojure",
   "language": "clojure",
   "name": "clojure"
  },
  "language_info": {
   "file_extension": ".clj",
   "mimetype": "text/x-clojure",
   "name": "clojure",
   "version": "1.8.0"
  }
 },
 "nbformat": 4,
 "nbformat_minor": 2
}
