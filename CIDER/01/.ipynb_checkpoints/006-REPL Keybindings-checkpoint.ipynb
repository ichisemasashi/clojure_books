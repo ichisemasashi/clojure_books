{
 "cells": [
  {
   "cell_type": "markdown",
   "metadata": {},
   "source": [
    "これがCIDERのREPLで利用可能なキーバインディングのリストです："
   ]
  },
  {
   "cell_type": "markdown",
   "metadata": {},
   "source": [
    "Keyboard shortcut                    | Description\n",
    "-------------------------------------|-----------------------------\n",
    "<kbd>RET</kbd>        | Clojureの式の入力が完了している場合は、Clojureの現在の入力を評価します。不完全な場合は、新しい行を開いてインデントします。現在の入力が空白文字列（改行を含めて空白文字のみを含む）である場合は、評価せずに入力を消去して新しいプロンプトを表示します。前置引数を付けて呼び出された場合は、完全性をチェックせずに入力が評価されます。<!--Evaluate the current input in Clojure if it is complete. If incomplete, open a new line and indent. If the current input is a blank string (containing only whitespace including newlines) then clear the input without evaluating and print a fresh prompt. If invoked with a prefix argument is given then the input is evaluated without checking for completeness.-->\n",
    "<kbd>C-RET</kbd>      | 一致しない括弧を閉じてから、Clojureの現在の入力を評価します。<!--Close any unmatched parenthesis and then evaluate the current input in Clojure.-->\n",
    "<kbd>C-j</kbd>        | 改行してインデントします。<!--Open a new line and indent.-->\n",
    "<kbd>C-c C-o</kbd>    | REPLバッファから前の評価の出力を削除します。前置引数を指定すると、REPLバッファ全体をクリアし、プロンプトだけを残します。<!--Remove the output of the previous evaluation from the REPL buffer. With a prefix argument it will clear the entire REPL buffer, leaving only a prompt.-->\n",
    "<kbd>C-c M-o</kbd>    | 現在のプロジェクトのClojure REPLとClojureScript REPLを切り替えます。<!--Switch between the Clojure and ClojureScript REPLs for the current project.-->\n",
    "<kbd>C-c C-u</kbd>    | プロンプトから現在の位置までのすべてのテキストを削除します。<!--Kill all text from the prompt to the current point.-->\n",
    "<kbd>C-c C-b</kbd> <br/> <kbd>C-c C-c</kbd>| 保留中の評価を中断します。<!--Interrupt any pending evaluations.-->\n",
    "<kbd>C-up</kbd> <br/> <kbd>C-down</kbd> | 履歴の前/次の入力に移動します。<!--Go to to previous/next input in history.-->\n",
    "<kbd>M-p</kbd> <br/> <kbd>M-n</kbd> | 現在の入力を検索パターンとして使用して、履歴内の前後の項目を検索します。<kbd>M-p/M-n</kbd>が2回続けて入力された場合、2回目の呼び出しでは（現在の入力が変更されていても）同じ検索パターンが使用されます。<!--Search the previous/next item in history using the current input as search pattern. If <kbd>M-p/M-n</kbd> is typed two times in a row, the second invocation uses the same search pattern (even if the current input has changed).-->\n",
    "<kbd>M-s</kbd> <br/> <kbd>M-r</kbd> | 正規表現を使用してコマンド履歴を順方向または逆方向に検索します。<!--Search forward/reverse through command history with regex.-->\n",
    "<kbd>C-c C-n</kbd> <br/> <kbd>C-c C-p</kbd> | REPLバッファ内の現在のプロンプトと前のプロンプトの間を移動します。古い入力がある行で<kbd>RET</kbd>を押すと、その行が最新のプロンプトにコピーされます。<!--Move between the current and previous prompts in the REPL buffer. Pressing <kbd>RET</kbd> on a line with old input copies that line to the newest prompt.-->\n",
    "<kbd>TAB</kbd> | ポイントにあるシンボルを補完します。<!--Complete symbol at point.-->\n",
    "<kbd>C-c C-d d</kbd> <br/> <kbd>C-c C-d C-d</kbd> | ポイントにあるシンボルのdoc文字列を表示します。前置引数を指定して呼び出した場合、またはその時点でシンボルが見つからなかった場合は、シンボルの入力を求めます。<!--Display doc string for the symbol at point.  If invoked with a prefix argument, or no symbol is found at point, prompt for a symbol-->\n",
    "<kbd>C-c C-d j</kbd> <br/> <kbd>C-c C-d C-j</kbd> | ポイントにあるシンボルのJavaDocを(デフォルトのブラウザで)表示します。前置引数を指定して呼び出した場合、またはその時点でシンボルが見つからなかった場合は、シンボルの入力を求めます。<!--Display JavaDoc (in your default browser) for the symbol at point.  If invoked with a prefix argument, or no symbol is found at point, prompt for a symbol.-->\n",
    "<kbd>C-c C-d r</kbd> <br/> <kbd>C-c C-d C-r</kbd> | グリモアにてシンボルを検索します。<!--Lookup symbol in Grimoire.-->\n",
    "<kbd>C-c C-d a</kbd> <br/> <kbd>C-c C-d C-a</kbd> | 関数/varをアプロポス検索します。<!--Apropos search for functions/vars.-->\n",
    "<kbd>C-c C-d f</kbd> <br/> <kbd>C-c C-d C-f</kbd> | ドキュメントをアプロポス検索します。<!--Apropos search for documentation.-->\n",
    "<kbd>C-c C-z</kbd> | 前のClojureバッファに切り替えます。これは、`cider-mode`で使用される<kbd>C-C C-z</kbd>を補完するものです。<!--Switch to the previous Clojure buffer. This complements <kbd>C-c C-z</kbd> used in cider-mode.-->\n",
    "<kbd>C-c M-i</kbd> | 式を調べます。存在すればポイントにある式に作用します。<!--Inspect expression. Will act on expression at point if present.-->\n",
    "<kbd>C-c M-n</kbd> | 名前空間を選択してそれに切り替えます。<!--Select a namespace and switch to it.-->\n",
    "<kbd>C-c C-.</kbd> | クラスパスの名前空間に移動します。<!--Jump to some namespace on the classpath.-->\n",
    "<kbd>C-c M-t v</kbd> | varトレーシングを切り替えます。<!--Toggle var tracing.-->\n",
    "<kbd>C-c M-t n</kbd> | 名前空間トレーシングを切り替えます。<!--Toggle namespace tracing.-->\n",
    "<kbd>C-c C-t t</kbd> <br/> <kbd>C-c C-t C-t</kbd> | ポイントにあるテストを実行します。<!--Run test at point.-->\n",
    "<kbd>C-c C-t g</kbd> <br/> <kbd>C-c C-t C-g</kbd> | 一番最近実行したテストを再度実行します。<!--Re-run the last test you ran.-->\n",
    "<kbd>C-c C-t n</kbd> <br/> <kbd>C-c C-t C-n</kbd> | 現在の名前空間のテストを実行します。<!--Run tests for current namespace.-->\n",
    "<kbd>C-c C-t l</kbd> <br/> <kbd>C-c C-t C-l</kbd> | すべてのロードされた名前空間のテストを実行します。<!--Run tests for all loaded namespaces.-->\n",
    "<kbd>C-c C-t p</kbd> <br/> <kbd>C-c C-t C-p</kbd> | すべてのプロジェクトの名前空間のテストを実行します。<!--Run tests for all project namespaces. This loads the additional namespaces.-->\n",
    "<kbd>C-c C-t r</kbd> <br/> <kbd>C-c C-t C-r</kbd> | 失敗/エラーになったテストを再度実行します。<!--Re-run test failures/errors.-->\n",
    "<kbd>C-c C-t b</kbd> <br/> <kbd>C-c C-t C-b</kbd> | テスト報告バッファを表示します。<!--Show the test report buffer.-->\n",
    "<kbd>C-c C-q</kbd>                   | 現在のnREPL接続を終了します。接頭引数を付けると、すべての接続を終了します。<!--Quit the current nREPL connection. With a prefix argument it will quit all connections.-->"
   ]
  },
  {
   "cell_type": "markdown",
   "metadata": {},
   "source": [
    "### メモ\n",
    "\n",
    "このリストを記憶する必要はありません。\n",
    "どんなREPLバッファでもあなたは利用可能なREPLメニューを持つでしょう。\n",
    "そこには全ての最も重要なコマンドとそれらのキーバインディングがリストされています。\n",
    "<kbd>c-h f RET cider-repl-mode</kbd>を呼び出して<kbd>cider-repl-mode</kbd>のキーバインドのリストを取得することもできます。\n",
    "\n",
    "<!--\n",
    "Tip\n",
    "\n",
    "There's no need to memorize this list. In any REPL buffer you'll have a REPL menu available, which lists all the most important commands and their keybindings. You can also invoke C-h f RET cider-repl-mode to get a list of the keybindings for cider-repl-mode.\n",
    "-->\n",
    "\n",
    "# REPLショートカット\n",
    "\n",
    "REPLでは、REPL行の先頭で「ショートカットコマンド」を押して使用することもできます。\n",
    "すぐに実行できるコマンドのリストが表示されます（終了、情報の表示、REPLの消去など）。\n",
    "ショートカットを起動するために使用される文字は`cider-repl-shortcut-dispatch-char`で設定可能です。\n",
    "これを`;`に変更する方法は次のとおりです。\n",
    "<!--\n",
    "In the REPL you can also use \"shortcut commands\" by pressing , at the beginning of a REPL line. You'll be presented with a list of commands you can quickly run (like quitting, displaying some info, clearing the REPL, etc). The character used to trigger the shortcuts is configurable via cider-repl-shortcut-dispatch-char. Here's how you can change it to ;:\n",
    "-->\n",
    "\n",
    "```lisp\n",
    "(setq cider-repl-shortcut-dispatch-char ?\\;)\n",
    "```"
   ]
  }
 ],
 "metadata": {
  "kernelspec": {
   "display_name": "Clojure",
   "language": "clojure",
   "name": "clojure"
  },
  "language_info": {
   "file_extension": ".clj",
   "mimetype": "text/x-clojure",
   "name": "clojure",
   "version": "1.8.0"
  }
 },
 "nbformat": 4,
 "nbformat_minor": 2
}
