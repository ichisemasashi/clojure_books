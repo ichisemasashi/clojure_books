{
 "cells": [
  {
   "cell_type": "markdown",
   "metadata": {},
   "source": [
    "CIDERは、ソースバッファ（cider-modeで動作）とREPLバッファの両方にインテリジェントなコード補完機能を提供します。\n",
    "<!--\n",
    "CIDER provides intelligent code completion for both source buffers (powered by cider-mode) and REPL buffers.\n",
    "-->\n",
    "\n",
    "### 注意\n",
    "\n",
    "内部的にCIDERはClojureに対する[compliment](https://github.com/alexander-yakushev/compliment)とClojureScriptに対する[cljs-tooling](https://github.com/clojure-emacs/cljs-tooling)を利用します。\n",
    "2つのライブラリーの改善は自動的にCIDERの改善につながります。\n",
    "<!--\n",
    "Note\n",
    "\n",
    "Internally CIDER leverages compliment for Clojure and cljs-tooling for ClojureScript. Improvements to the two libraries automatically translate to improvements in CIDER.\n",
    "-->"
   ]
  },
  {
   "cell_type": "markdown",
   "metadata": {},
   "source": [
    "# 標準的な補完\n",
    "\n",
    "すぐに使えるCIDERは、コード補完に標準のEmacsツールを使用します。\n",
    "<kbd>TAB</kbd>か<kbd>M-TAB</kbd>を押すと、専用のバッファに補完候補が表示されます。\n",
    "<!--\n",
    "Out-of-the box CIDER uses the standard Emacs tooling for code completion. When you press TAB or M-TAB you'll get completion candidates in a dedicated buffer.\n",
    "-->"
   ]
  },
  {
   "cell_type": "markdown",
   "metadata": {},
   "source": [
    "# 自動補完\n",
    "\n",
    "標準のEmacsツールはうまく機能しますが、CIDERユーザーは代わりに`company-mode`の使用を検討することをお勧めします。\n",
    "`company-mode`は、ソースコードとREPLバッファの両方の自動補完に使用できます。`company-mode`をインストールするには：\n",
    "<!--\n",
    "While the standard Emacs tooling works just fine, we suggest that CIDER users consider using company-mode instead. Company mode can be used for auto-completion for both source code and REPL buffers. To install company-mode:\n",
    "-->\n",
    "\n",
    "<kbd>M-x</kbd> `package-install` <kbd>RET</kbd> `company` <kbd>RET</kbd>\n",
    "\n",
    "インストール後、`company-mode`をグローバルに有効にすることができます。\n",
    "<!--\n",
    "After installation, you can turn on company-mode globally:\n",
    "-->\n",
    "\n",
    "```lisp\n",
    "(global-company-mode)\n",
    "```\n",
    "\n",
    "または、モード固有のフックを通して、\n",
    "<!--\n",
    "or through mode-specific hooks:\n",
    "-->\n",
    "\n",
    "```lisp\n",
    "(add-hook 'cider-repl-mode-hook #'company-mode)\n",
    "(add-hook 'cider-mode-hook #'company-mode)\n",
    "```\n",
    "\n",
    "`company-mode`が有効になっていると、それは`cider-complete-at-point`から補完情報を受け取り、追加のセットアップやプラグインは不要です。\n",
    "<!--\n",
    "When company-mode is enabled, it will receive completion information from cider-complete-at-point and requires no additional setup or plugins.\n",
    "-->\n",
    "\n",
    "手動で補完を起動したい場合は、これを設定に追加できます。\n",
    "<!--\n",
    "If you'd prefer to trigger completions manually you can add this to your config:\n",
    "-->\n",
    "\n",
    "```lisp\n",
    "(setq company-idle-delay nil) ; never start completions automatically\n",
    "(global-set-key (kbd \"M-TAB\") #'company-complete) ; use M-TAB, a.k.a. C-M-i, as manual trigger\n",
    "```\n",
    "\n",
    "手動でインデントする機能を失うことなく<kbd>TAB</kbd>補完をさせるには、これをあなたの設定に追加することができます。\n",
    "<!--\n",
    "To make TAB complete, without losing the ability to manually indent, you can add this to your config:\n",
    "-->\n",
    "\n",
    "```lisp\n",
    "(global-set-key (kbd \"TAB\") #'company-indent-or-complete-common)\n",
    "```"
   ]
  },
  {
   "cell_type": "markdown",
   "metadata": {},
   "source": [
    "# ファジィ候補マッチング\n",
    "\n",
    "デフォルトでは、`company-mode`は、これまでに入力したものが実際に入力しようとしているものの接頭辞であるという前提で、補完候補を提示します。\n",
    "たとえば、`map-`と入力すると、`map-`を名前の先頭に持つ補完候補のみが表示されます。\n",
    "時々、あなたはあなたがタイプしたい項目の正確な接頭辞を知らない。\n",
    "この場合、以下を追加することでCIDER特有の \"ファジィ補完\"を得ることができます。\n",
    "<!--\n",
    "By default company-mode will provide completion candidates with the assumption that whatever you've typed so far is a prefix of what you're really trying to type. For example, if you type map- then you'll only get completion candidates that have map- as the beginning of their names. Sometimes, you don't know the exact prefix for the item you want to type. In this case, you can get CIDER-specific \"fuzzy completion\" by adding:\n",
    "-->\n",
    "\n",
    "```lisp\n",
    "(add-hook 'cider-repl-mode-hook #'cider-company-enable-fuzzy-completion)\n",
    "(add-hook 'cider-mode-hook #'cider-company-enable-fuzzy-completion)\n",
    "```\n",
    "これで`company-mode`は接頭辞に対してマッチング候補を照合するときに特定のあいまいさを受け入れます。\n",
    "たとえば、`mp`と入力すると、`map-indexed`が候補候補の1つとして表示され、`cji`は`clojure.java.io`を補完します。さまざまな補完例が[ここ](https://github.com/alexander-yakushev/compliment/wiki/Examples)に示されています。\n",
    "<!--\n",
    "Now, company-mode will accept certain fuzziness when matching candidates against the prefix. For example, typing mp will show you map-indexed as one of the possible completion candidates and cji will complete to clojure.java.io. Different completion examples are shown here.\n",
    "-->"
   ]
  },
  {
   "cell_type": "markdown",
   "metadata": {},
   "source": [
    "# 補完アノテーション\n",
    "\n",
    "補完候補には、デフォルトでその種類と(文脈上の)名前空間に対応する省略形が付きます。\n",
    "アノテーション(注釈)をフォーマットするために使用される関数は`cider-annotate-completion-function`によって設定できます。\n",
    "使用される略語は`cider-completion-annotations-alist`によって設定され、それの名前空間が含まれるコンテキストは`cider-completion-annotations-include-ns`によって設定されます。\n",
    "<!--\n",
    "Completion candidates will be annotated by default with an abbreviation corresponding to their type, and (contextually) their namespace. The function used to format the annotation can be configured by cider-annotate-completion-function. The abbreviations used are configured by cider-completion-annotations-alist and the context in which their namespace is included is configured by cider-completion-annotations-include-ns.\n",
    "-->\n",
    "\n",
    "### メモ\n",
    "\n",
    "補完アノテーションは、`cider-annotate-completion-candidates`を`nil`に設定することで無効にできます。\n",
    "<!--\n",
    "Tip\n",
    "\n",
    "Completion annotations can be disabled by setting cider-annotate-completion-candidates to nil.\n",
    "-->\n",
    "\n"
   ]
  },
  {
   "cell_type": "markdown",
   "metadata": {},
   "source": [
    "# 状態クラスの更新とメソッドのキャッシュ\n",
    "\n",
    "時には、REPLが起動した後に動的にロードされた依存関係を伴う新しいクラスを補完が認識できないことがあります(たとえばBoot経由)。\n",
    "<kbd>M-x cider-completion-flush-caches</kbd>を実行する（またはメニュー「CIDER Interaction」-> 「Misc」-> 「Flush completion cache」の順に選択する）と、補完バックエンドはクラスパスで見つけられるすべてのクラスを再読み込みします。\n",
    "<!--\n",
    "Sometimes, the completion fails to recognize new classes that came with dependencies that were loaded dynamically after the REPL has started (e.g. via Boot). Executing M-x cider-completion-flush-caches (or going through the menu CIDER Interaction->Misc->Flush completion cache) forces the completion backend to re-read all classes it can find on the classpath.\n",
    "-->"
   ]
  }
 ],
 "metadata": {
  "kernelspec": {
   "display_name": "Clojure",
   "language": "clojure",
   "name": "clojure"
  },
  "language_info": {
   "file_extension": ".clj",
   "mimetype": "text/x-clojure",
   "name": "clojure",
   "version": "1.8.0"
  }
 },
 "nbformat": 4,
 "nbformat_minor": 2
}
