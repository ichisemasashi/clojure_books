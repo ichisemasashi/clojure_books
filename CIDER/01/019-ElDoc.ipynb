{
 "cells": [
  {
   "cell_type": "markdown",
   "metadata": {},
   "source": [
    "Eldocは、Lispのドキュメントを調べるのに役立つバッファローカルのマイナーモードです。\n",
    "有効になっていると、ポイントの上にLisp関数や変数があるときはいつでも、エコー領域に有用な情報を表示します。\n",
    "関数の場合は引数リストを表示し、変数の場合は変数のドキュメント文字列の最初の行を表示します。\n",
    "<!--\n",
    "Eldoc is a buffer-local minor mode that helps with looking up Lisp documentation. When it is enabled, the echo area displays some useful information whenever there is a Lisp function or variable at point; for a function, it shows the argument list, and for a variable it shows the first line of the variable's documentation string.\n",
    "-->\n",
    "\n",
    "CIDERは、`eldoc-mode`が有効になっている限り、そのまま使用できるElDocのClojureバックエンドを提供します。\n",
    "<!--\n",
    "CIDER provides a Clojure backend for ElDoc that works out-of-the box, as long as eldoc-mode is enabled.\n",
    "-->"
   ]
  },
  {
   "cell_type": "markdown",
   "metadata": {},
   "source": [
    "# Eldocの有効化\n",
    "\n",
    "Emacs 25.1では、`global-eldoc-mode`がデフォルトで有効になっているので、有効にするために何もする必要はありません。\n",
    "<!--\n",
    "global-eldoc-mode is enabled by default in Emacs 25.1, so you don't really have to do anything to enable it.\n",
    "-->\n",
    "\n",
    "それはソースバッファとREPLバッファの両方にあります。\n",
    "<!--\n",
    "It will in both source and REPL buffers.\n",
    "-->"
   ]
  },
  {
   "cell_type": "markdown",
   "metadata": {},
   "source": [
    "# ElDocの設定\n",
    "\n",
    "- CIDERはまた、ポイントのシンボルのeldocを表示します。そのため、`(map inc ...)`では、カーソルがincの上にあると、そのeldocが表示されます。この動作を無効にすることができます。\n",
    "<!--\n",
    "CIDER also would show the eldoc for the symbol at point. So in (map inc ...) when the cursor is over inc its eldoc would be displayed. You can turn off this behaviour by:\n",
    "-->\n",
    "\n",
    "```lisp\n",
    "(setq cider-eldoc-display-for-symbol-at-point nil)\n",
    "```\n",
    "\n",
    "- ミニバッファでドキュメントを表示するとき、CIDERは`eldoc-echo-area-use-multiline-p`の値を尊重します。この変数をカスタマイズして動作を変えることができます。\n",
    "<!--\n",
    "CIDER respects the value of eldoc-echo-area-use-multiline-p when displaying documentation in the minibuffer. You can customize this variable to change its behaviour.\n",
    "-->\n",
    "\n",
    "| eldoc-echo-area-use-multiline-p | Behaviour |\n",
    "| ------------- | ------------- |\n",
    "| `t`  | メッセージを切り捨てないようにする。エコー領域を適切なサイズに変更する必要があったとしても、完全なシンボル名と関数の引数リストまたは変数のドキュメントが表示されます。<!--Never attempt to truncate messages. Complete symbol name and function arglist or variable documentation will be displayed even if echo area must be resized to fit.-->|\n",
    "| `nil`  | メッセージは、エコー領域の1行の表示に収まるように常に切り捨てられます。<!--Messages are always truncated to fit in a single line of display in the echo area.  -->|\n",
    "| `truncate-sym-name-if-fit` or anything non-nil | 関数の引数リストまたはドキュメンテーション文字列が1行に収まるようにする場合は、シンボル名が切り捨てられることがあります。そうでなければ、振る舞いは `t`の場合とまったく同じです。<!--Symbol name may be truncated if it will enable the function arglist or documentation string to fit on a single line. Otherwise, behavior is just like `t` case.--> |\n",
    "\n",
    "\n",
    "変数`cider-eldoc-display-context-dependent-info`が`nil`以外の場合、CIDERは現在のコンテキストに基づいて期待される関数引数を追加しようとします(たとえば、ポイントの上のクエリの期待される入力が表示される`datomic.api/q`関数など)。\n",
    "<!--\n",
    "CIDER will try to add expected function arguments based on the current context (for example for the datomic.api/q function where it will show the expected inputs of the query at point), if the variable cider-eldoc-display-context-dependent-info is non-nil:\n",
    "-->\n",
    "\n",
    "```lisp\n",
    "(setq cider-eldoc-display-context-dependent-info t)\n",
    "```"
   ]
  }
 ],
 "metadata": {
  "kernelspec": {
   "display_name": "Clojure",
   "language": "clojure",
   "name": "clojure"
  },
  "language_info": {
   "file_extension": ".clj",
   "mimetype": "text/x-clojure",
   "name": "clojure",
   "version": "1.8.0"
  }
 },
 "nbformat": 4,
 "nbformat_minor": 2
}
