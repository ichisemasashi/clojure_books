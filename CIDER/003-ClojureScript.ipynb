{
 "cells": [
  {
   "cell_type": "markdown",
   "metadata": {},
   "source": [
    "`CIDER`はClojureScriptとうまく動作しますが、ClojureScriptで`CIDER`のすべての機能が利用できるわけではありません（まだ）。\n",
    "たとえば、テスト・ランナーとデバッガーは現在Clojureのみの機能です。\n",
    "LeiningenとBootによって支配されているClojureエコシステムとは異なり、ClojureScriptエコシステムにはREPL用のさまざまな選択肢があります。\n",
    "どれを実行したいのか、そして`CIDER`にどのように対話させたいのかを決定する必要があります。\n",
    "この章では、より一般的な選択と、それらを機能させるために必要な設定について説明します。\n",
    "<!--\n",
    "CIDER works well with ClojureScript, but not all CIDER features are available in ClojureScript (yet). For instance, the test runner and debugger are currently Clojure-only features. Unlike the Clojure ecosystem that is dominated by Leiningen and Boot, the ClojureScript ecosystem has a number of different choices for REPLs. You'll have to decide which one you want to run and how you want CIDER to interact with it. This chapter describes some of the more common choices and the configurations required to get them working.\n",
    "-->"
   ]
  },
  {
   "cell_type": "markdown",
   "metadata": {},
   "source": [
    "# Piggieback\n",
    "\n",
    "ClojureScriptのサポートは、REPLセッションに存在する[piggieback](https://github.com/nrepl/piggieback)nREPLミドルウェアに依存しています。\n",
    "ただし、これには1つ例外があります。[shadow-cljs](https://github.com/thheller/shadow-cljs)です。それはそれ自身のnREPLミドルウェアを持っていて、まったくPiggiebackに依存していません。\n",
    "\n",
    "<!--\n",
    "ClojureScript support relies on the piggieback nREPL middleware being present in your REPL session. There's one exception to this, though: shadow-cljs. It has its own nREPL middleware and doesn't rely on piggieback at all.\n",
    "-->"
   ]
  },
  {
   "cell_type": "markdown",
   "metadata": {},
   "source": [
    "`cider-inject-dependencies-at-jack-in`が有効（デフォルト）になっていると、`cider-jack-in-cljs`を実行するときにpiggiebackがプロジェクトに自動的に追加されて構成されます。\n",
    "<!--\n",
    "If cider-inject-dependencies-at-jack-in is enabled, which it is by default, then piggieback will be automatically added and configured for your project when doing cider-jack-in-cljs.\n",
    "-->\n",
    "\n",
    "`cider-inject-dependencies-at-jack-in`が無効になっている場合、または`cider-connect-cljs`を使用してすでに実行中のnREPLサーバに接続する予定の場合は、次のセクションの設定を使用します。\n",
    "\n",
    "<!--\n",
    "If cider-inject-dependencies-at-jack-in is disabled or you're going to connect to an already running nREPL server using cider-connect-cljs, use the configuration in the following section.\n",
    "-->"
   ]
  },
  {
   "cell_type": "markdown",
   "metadata": {},
   "source": [
    "# 手動でPiggiebackを設定する\n",
    "\n",
    "piggiebackを設定するには、プロジェクトに次の依存関係を追加します（Leiningenベースのプロジェクトでは`project.clj`、Bootプロジェクトでは`build.boot`）。\n",
    "\n",
    "```\n",
    ";; バージョンは最新のものを設定してください。\n",
    "[cider/piggieback \"0.4.0\"]\n",
    "[org.clojure/clojure \"1.9.0\"]\n",
    "```\n",
    "\n",
    "<!--\n",
    "To setup piggieback, add the following dependencies to your project (project.clj in a Leiningen based project or build.boot in a Boot project):\n",
    "-->\n",
    "\n",
    "piggiebackと同様に、nREPLミドルウェアも\n",
    "<!--\n",
    "as well as piggieback nREPL middleware:\n",
    "-->\n",
    "\n",
    "`project.clj`では\n",
    "```\n",
    ":repl-options {:nrepl-middleware [cider.piggieback/wrap-cljs-repl]}\n",
    "```\n",
    "\n",
    "`build.boot`では\n",
    "```\n",
    "(task-options!\n",
    "  repl {:middleware '[cider.piggieback/wrap-cljs-repl]})\n",
    "```\n",
    "\n"
   ]
  },
  {
   "cell_type": "markdown",
   "metadata": {},
   "source": [
    "# ClojureScriptのREPLを開始する\n",
    "\n"
   ]
  }
 ],
 "metadata": {
  "kernelspec": {
   "display_name": "Clojure",
   "language": "clojure",
   "name": "clojure"
  },
  "language_info": {
   "file_extension": ".clj",
   "mimetype": "text/x-clojure",
   "name": "clojure",
   "version": "1.8.0"
  }
 },
 "nbformat": 4,
 "nbformat_minor": 2
}
