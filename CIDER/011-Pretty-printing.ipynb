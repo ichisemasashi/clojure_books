{
 "cells": [
  {
   "cell_type": "markdown",
   "metadata": {},
   "source": [
    "# 表示関数の設定\n",
    "\n",
    "### 注意\n",
    "\n",
    "プリティ・プリンティングはnREPL 0.6で導入された新機能を利用するためにCIDER 0.21で見直されました。詳細については[nREPLのドキュメント](https://nrepl.org/nrepl/usage/misc.html#_pretty_printing)を参照してください。\n",
    "<!--\n",
    "Note\n",
    "\n",
    "Pretty-printing was overhauled in CIDER 0.21 to leverage new features introduced in nREPL 0.6. Refer to nREPL's documentation for details.\n",
    "-->\n",
    "\n",
    "以下の値を取りうるオプション`cider-print-fn`を使用して、評価結果やその他のデータをプリティ・プリントするためにCIDERが使用する関数を設定できます。\n",
    "<!--\n",
    "You can configure the function used by CIDER for pretty-printing evaluation results and other data using the option cider-print-fn, which can take the following possible values:\n",
    "-->\n",
    "\n",
    "- 表示機能を選択するためにnREPLを延期するには`nil`。これは`nrepl.middleware.print/*print-fn*`に束縛された値を使用します。これはデフォルトで`clojure.core/pr`と同等です。\n",
    "- prは、\\ = clojure.core / pr \\\\ =と同等のものを使用します。\n",
    "- 組み込みのclojure.pprint / pprintを使用するためのpprint（これがデフォルトです）。\n",
    "- Fast Idiomatic Pretty-Printerを使うためのfipp。これはclojure.core / pprintより約5〜10倍高速です。\n",
    "- pugetは、fipp上でデータの正規化されたシリアル化を提供しますが、わずかなパフォーマンスコストで使用できます。\n",
    "- zprintを使用するzprint、上記のライブラリーの高速で柔軟な代替手段。\n",
    "<!--\n",
    "nil to defer to nREPL to choose the printing function. This will use the bound value of nrepl.middleware.print/*print-fn*, which defaults to the equivalent of clojure.core/pr.\n",
    "pr to use the equivalent of \\=clojure.core/pr\\\\=.\n",
    "pprint to use the built-in clojure.pprint/pprint (this is the default).\n",
    "fipp to use the Fast Idiomatic Pretty-Printer. This is approximately 5-10x faster than clojure.core/pprint.\n",
    "puget to use Puget, which provides canonical serialization of data on top of fipp, but at a slight performance cost.\n",
    "zprint to use zprint, a fast and flexible alternative to the libraries mentioned above.\n",
    "-->\n"
   ]
  }
 ],
 "metadata": {
  "kernelspec": {
   "display_name": "Clojure",
   "language": "clojure",
   "name": "clojure"
  },
  "language_info": {
   "file_extension": ".clj",
   "mimetype": "text/x-clojure",
   "name": "clojure",
   "version": "1.8.0"
  }
 },
 "nbformat": 4,
 "nbformat_minor": 2
}
