{
 "cells": [
  {
   "cell_type": "markdown",
   "id": "superb-detector",
   "metadata": {},
   "source": [
    "作業中のファイルを読み込むことから始めなければなりません。**Load Current File and Dependencies**, `ctrl+alt+c enter`で行います。\n",
    "\n",
    "エディタでコードを評価し、REPLからのレスポンスをすぐに得るためには、これを試してみてください。\n",
    "\n",
    "新しい行で、`comment`フォームを入力して、その中にいくつかのコードを入れてください。\n"
   ]
  },
  {
   "cell_type": "code",
   "execution_count": null,
   "id": "endless-circus",
   "metadata": {},
   "outputs": [],
   "source": [
    "(comment\n",
    "  (+ (* 2 2)\n",
    "      2)\n",
    "  (Math/abs -1)\n",
    "  (hello \"Calva REPL\")\n",
    "  (defn hello [s]\n",
    "    (str \"Hello \" s))\n",
    "  (range 10)\n",
    "  \"I ♥️ Clojure\")"
   ]
  },
  {
   "cell_type": "markdown",
   "id": "stupid-actress",
   "metadata": {},
   "source": [
    "そして、次のようにします。\n",
    "\n",
    "1. カーソルを`(* 2 2)`フォームの後ろに置き、**Calva: Evaluate Current Form**, `ctrl+enter` とコマンドを実行します。\n",
    "\n",
    "-- 結果がインラインで表示されます。`esc`を押して終了します。\n",
    "\n",
    "2. 次に、**Evaluate Current Top Level Form (defun)**, `alt+enter`とコマンドを実行します。\n",
    "\n",
    "-- フォーム全体 `(+ (* 2 2 2) 2)` がハイライトされ、その結果がインラインで表示されているのがわかるはずです。\n",
    "\n",
    "3. **Top Level**コマンドを使ってコメントフォーム内の各フォームを評価します。\n",
    "\n",
    "-- それぞれのフォームが評価されているのがわかるはずです。\n",
    "\n",
    "-- `(defn hello...`フォームの前に`(hello \"Calva REPL\")`フォームを評価すると、エラー/例外が発生するはずです。スタックトレースが出力ウィンドウに表示されます。\n",
    "\n",
    "-- `defn`フォームを評価した後、もう一度試してみてください。\n",
    "\n",
    "デモ:\n",
    "\n",
    "![top-level-comment-eval.gif](top-level-comment-eval.gif)"
   ]
  },
  {
   "cell_type": "markdown",
   "id": "lasting-fellowship",
   "metadata": {},
   "source": [
    "## How does this work?\n",
    "\n",
    "Calvaには、**current form**についてこのような考え方があります。カーソルをさまざまな場所に配置した状態で **Evaluate Current Form** コマンドを発行すると、現在のフォームがどのように決定されているかを知ることができます。\n",
    "\n",
    "また、**current top level form**に関する概念もあります。様々な`defs` (`defn`、`defthis`、`defthat`)を評価するのに適しています。そのようなフォームの内部の任意の場所にカーソルを置いた状態で\n",
    "\n",
    "トップレベルコマンドは `(comment ...)`フォームの内部でも動作し、`comment`を新しいトップレベルコンテキストを作成するように扱います。これは、ファイル内のコードの実験に適しています。\n",
    "\n"
   ]
  },
  {
   "cell_type": "markdown",
   "id": "responsible-paintball",
   "metadata": {},
   "source": [
    "## See also\n",
    "\n",
    "- [Calva Top 10 Commands](https://calva.io/commands-top10/)\n",
    "- [Code Evaluation Tips](https://calva.io/eval-tips/)\n"
   ]
  }
 ],
 "metadata": {
  "kernelspec": {
   "display_name": "Clojure",
   "language": "clojure",
   "name": "clojure"
  },
  "language_info": {
   "file_extension": ".clj",
   "mimetype": "text/x-clojure",
   "name": "clojure",
   "version": "1.8.0"
  }
 },
 "nbformat": 4,
 "nbformat_minor": 5
}
