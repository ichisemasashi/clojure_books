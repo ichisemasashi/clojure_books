{
 "cells": [
  {
   "cell_type": "markdown",
   "id": "enclosed-inside",
   "metadata": {},
   "source": [
    "Calva はコードの評価を容易にし、インタラクティブな開発をサポートするようにしています。\n",
    "\n",
    "注: 以下の記述は、[Finding Calva Commands and Shortcuts.](https://calva.io/finding-commands/)を読んだことを前提としています。\n",
    "\n"
   ]
  },
  {
   "cell_type": "markdown",
   "id": "capital-equipment",
   "metadata": {},
   "source": [
    "## Evaluation in a File Editor\n",
    "\n",
    "Calvaには、**current form**と**current top-level form**を評価するためのコマンドがあります。\n",
    "\n",
    "また、結果をどうするかを選択することもできます。\n",
    "\n",
    "1. **Inline** これは、結果（長い場合はその一部）をエディタにインラインで表示します。完全な結果は[output window](https://calva.io/output/)に表示され、そこからクリップボードに簡単にコピーできます。\n",
    "2. **To comments** これは、結果を現在の行の下にコメント行として追加します。\n",
    "3. **Replace the evaluated code** これは、評価されたコードがその結果に置き換えられます。"
   ]
  },
  {
   "cell_type": "markdown",
   "id": "designed-professor",
   "metadata": {},
   "source": [
    "## Wait, Current Form? Top-level Form?\n",
    "\n",
    "これらは、最も効果的なワークフローを作成するための重要な概念です。"
   ]
  },
  {
   "cell_type": "markdown",
   "id": "legitimate-holiday",
   "metadata": {},
   "source": [
    "### Current Form\n",
    "\n",
    "現在のフォームは現在の選択を意味するか、カーソルの位置に基づいています。**Calva: Select current form**, `ctrl+alt+c s` コマンドで遊んでみてください。シンボルの内側、シンボルに隣接している場合（両側）、開閉ブラケットに隣接している場合（両側）で試してみてください。"
   ]
  },
  {
   "cell_type": "markdown",
   "id": "tracked-elite",
   "metadata": {},
   "source": [
    "### Current Top-level Form\n",
    "\n",
    "現在の最上位のフォームは、構造的な意味での最上位を意味します。これはファイルの最上位のフォームではありません。通常、Clojureファイルの中では`def`と`defn`(と`defwhatever`)フォームが最上位にありますが、他のフォームに囲まれていない任意のフォームであっても構いません。\n",
    "\n",
    "例外は`commment`フォームです。これは新しいトップレベルのコンテキストを作成するので、`(commment ...)`フォームのすぐ内側にあるフォームは、Calvaによってトップレベルとみなされます。これは、以下のようなワークフローをサポートするためです。\n",
    "\n",
    "1. 関数を反復処理します。\n",
    "2. 関数を評価する（トップレベル）。\n",
    "3. `comment`フォーム内の式でテストに出す。\n",
    "4. 1.から繰り返す。関数があなたの望むように動作するようになるまで。\n",
    "\n",
    "このようなワークフローの最後の繰り返しのデモは、`abs`関数の簡単な実装です。\n",
    "\n",
    "![top-level-eval.gif](top-level-eval.gif)\n",
    "\n",
    "\n"
   ]
  },
  {
   "cell_type": "markdown",
   "id": "seven-onion",
   "metadata": {},
   "source": [
    "### Copying the inline results\n",
    "\n",
    "**Copy last evaluation results**、`ctrl+alt+c ctrl+c`というコマンドがあります。\n",
    "\n",
    "これはファイルエディタやREPLウィンドウで評価した場合にも動作します。\n",
    "\n"
   ]
  },
  {
   "cell_type": "markdown",
   "id": "fixed-workstation",
   "metadata": {},
   "source": [
    "## Evaluating in a REPL window\n",
    "\n",
    "REPL ウィンドウはほとんどが通常のファイルなので、REPL プロンプトではほとんど同じように動作します。評価するために `alt+enter` を使用します。現在のフォームを選択します（評価後のデフォルトのキーバインド `ctrl+w` は結果を選択します）。\n",
    "\n"
   ]
  }
 ],
 "metadata": {
  "kernelspec": {
   "display_name": "Clojure",
   "language": "clojure",
   "name": "clojure"
  },
  "language_info": {
   "file_extension": ".clj",
   "mimetype": "text/x-clojure",
   "name": "clojure",
   "version": "1.8.0"
  }
 },
 "nbformat": 4,
 "nbformat_minor": 5
}
