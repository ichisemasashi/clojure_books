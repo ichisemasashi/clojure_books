{
 "cells": [
  {
   "cell_type": "markdown",
   "id": "passing-zambia",
   "metadata": {},
   "source": [
    "おすすめの方法は"
   ]
  },
  {
   "cell_type": "markdown",
   "id": "homeless-defendant",
   "metadata": {},
   "source": [
    "## Jack-in: Let Calva start the REPL for you\n",
    "\n",
    "このようにして、Calvaは動作するClojureやClojureScriptセッションに必要な依存関係で起動されていることを確認することができます。これはしばしばジャックインと呼ばれています(CIDERではそう呼ばれているからです)。\n",
    "\n",
    "Jack-inはCLJとCLJSの両方をサポートし、Leiningen、Clojure CLI、shadow-cljsプロジェクト、CLJS replタイプのための組み込みの設定を持っています。Figwheel Main、lein-figwheel（レガシーFigwheel）、shadow-cljs、そしてNashornです。jack-inを使用することで、Calvaが動作するために必要なすべての依存関係を開発環境に提供します。\n",
    "\n",
    "以下のように動作します。\n",
    "\n",
    "1. VS Codeでプロジェクトのルートディレクトリを開きます。\n",
    "2. Start a Project REPL and Connect コマンドを実行します： `ctrl+alt+c ctrl+alt+j`。\n",
    "3. プロジェクトの種類と開始するプロファイルについてのクイックピックプロンプトに答えます。(必要であれば、[Jack-in プロジェクトタイプとプロファイル](https://github.com/BetterThanTomorrow/calva/wiki/Jack-In-Project-Types-and-Profiles)のwikiページを参照してください)。\n",
    "\n",
    "こちらも参照してください: [ワークスペースレイアウト](https://calva.io/workspace-layouts/)\n",
    "\n",
    "```\n",
    "ジャックインが動作するためには、VS Code で開いたディレクトリに、Leiningen の project.clj や Clojure CLI の deps.edn のようなプロジェクトファイルがある必要があります。プロジェクト・ファイルを追加した後、ジャックイン中に何かが見つからないというエラーが発生した場合は、プロジェクト・ファイルに正しい依存関係があることを確認してください。例えば、Figwheel Main プロジェクトタイプを使用している場合、プロジェクトの依存関係に com.bhauman/figwheel-main があるはずです。\n",
    "```\n"
   ]
  },
  {
   "cell_type": "markdown",
   "id": "correct-slovak",
   "metadata": {},
   "source": [
    "### Aliases, profiles, builds\n",
    "\n",
    "ジャックインが始まると、プロジェクトの種類や、ClojureScriptが関与しているかどうか、関与している場合はどのようなClojureScriptプロジェクトなのか、次に何が起こるのかに依存します。Calva はプロジェクトファイルを分析し、そこにあるものに基づいて選択するプロンプトを表示します。\n",
    "\n",
    "プロンプトに答えるためには、プロジェクトとプロジェクトタイプの用語についての基本的な知識が必要です。\n",
    "\n",
    "これらのプロンプトへの回答を事前にCalvaに伝えておく方法があり、Jack-inがゼロプロンプトコマンドになるようにします。読んでみてください。\n",
    "\n"
   ]
  },
  {
   "cell_type": "markdown",
   "id": "provincial-extension",
   "metadata": {},
   "source": [
    "### Customizing Jack-in\n",
    "\n",
    "メニュー選択の自動化やCLJS REPLのカスタムタイプなど、ジャックインをカスタマイズするための主なメカニズムは、[Custom Connect Sequences](https://calva.io/connect-sequences/)です。\n",
    "\n",
    "また、以下のような設定もあります。\n",
    "\n",
    "- `calva.jackInEnv`: ジャックインプロセスの環境に追加される環境変数を持つオブジェクト。\n",
    "- `calva.myCljAliases`: プロジェクトファイルにない deps.edn のエイリアスの配列。これを使用して、ユーザー定義のエイリアスを使用して REPL を起動するように Calva Jack-in に指示します。\n",
    "- `calva.myLeinProfiles`: project.cljにはないLeiningenプロファイルの配列です。これを使って、ユーザー定義のプロファイルを使って REPL を起動するように Calva Jack-in に指示します。\n",
    "- `calva.openBrowserWhenFigwheelStarted`: レガシーFigwheel専用。Figwheelによってコンパイルされた後、Calvaが自動的にClojureScriptアプリを起動するかどうかを制御するブール値です。デフォルトは true です。\n",
    "\n",
    "```\n",
    "calva.jackInEnvの設定を処理する際に、${env:VARIABLE}で既存のENV変数を参照することができます。\n",
    "```\n"
   ]
  },
  {
   "cell_type": "markdown",
   "id": "framed-episode",
   "metadata": {},
   "source": [
    "### Troubleshooting\n",
    "\n",
    "**環境変数が REPL から読み込めない**\n",
    "\n",
    "環境変数を `~/.bashrc` ファイル (Linux) のように OS に追加している場合、Calva の jackin コマンドで作成した REPL で読み込ませるためには、環境変数が定義されているシェルから VS Code を起動しなければなりません。例えば、bashターミナルを開いて`echo $SOME_VAR`を実行してそこに値が表示されたら、そのターミナルから`code <project path>`でVS Codeを開きます。"
   ]
  },
  {
   "cell_type": "markdown",
   "id": "sought-sword",
   "metadata": {},
   "source": [
    "### Connecting w/o Jack-in\n",
    "\n",
    "何らかの理由でプロジェクトでジャックインを使用できない場合（REPLが他のジョブの一部として開始されているため）、すべてが失われるわけではありません。昔ながらの実行中のREPLへの接続はまだ使えます。実行中のREPLに接続している間にCalvaですべての機能を動作させるためには、環境にREPL関連の依存関係が設定されている必要があります。\n",
    "\n",
    "しかし、これまでと同様に依存関係を正しく設定するのは難しいことがあります。Calvaが満足するようにREPLを起動する方法を知るために、Jack inを使用することを検討してみてください。Jack in を使用すると、Calva は VS Code タスクを起動し、使用されたコマンドラインがタスクを処理するために使用されるターミナルペインに表示されます。そのコマンドラインを読むと、あなたのプロジェクトに必要な依存関係がわかります。\n",
    "\n",
    "さらに良いことに そのコマンドラインをコピーすると、正しい依存関係で REPL を起動するコマンドが表示されます。\n",
    "\n",
    "以上のことから、Jack-in を使用できないという結論に挑戦することをお勧めします。"
   ]
  }
 ],
 "metadata": {
  "kernelspec": {
   "display_name": "Clojure",
   "language": "clojure",
   "name": "clojure"
  },
  "language_info": {
   "file_extension": ".clj",
   "mimetype": "text/x-clojure",
   "name": "clojure",
   "version": "1.8.0"
  }
 },
 "nbformat": 4,
 "nbformat_minor": 5
}
