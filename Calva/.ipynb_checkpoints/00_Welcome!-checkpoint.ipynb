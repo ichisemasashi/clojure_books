{
 "cells": [
  {
   "cell_type": "markdown",
   "id": "senior-stopping",
   "metadata": {},
   "source": [
    "![calva-64h.png](calva-64h.png)\n",
    "\n",
    "Calvaは、Visual Studio Codeで楽しく生産的なClojureとClojureScriptの開発を行うための統合REPL環境です。インラインコード評価、Paredit、コードフォーマット、テストランナー、シンタックスハイライト、リントなどが含まれています。Calvaはオープンソースで無料で利用できます。"
   ]
  },
  {
   "cell_type": "markdown",
   "id": "crucial-criminal",
   "metadata": {},
   "source": [
    "## Getting Started\n",
    "\n",
    "まず最初にやるべきことは、[CalvaをプロジェクトのREPLに接続すること](https://calva.io/connect/)です。そして、まずは[Something to Try](https://calva.io/try-first/)をチェックすることをお勧めします。\n",
    "\n",
    "もし、ClojureやClojureScriptが初めての方は、それぞれの公式サイトのガイドをチェックしてください。\n",
    "\n",
    "- [Clojureの入門編](https://clojure.org/guides/getting_started)\n",
    "- [ClojureScriptクイックスタート](https://clojurescript.org/guides/quick-start)\n",
    "\n",
    "Clojureに関する素晴らしい本もたくさんあります。[Clojure for the Brave and True](https://www.braveclojure.com/clojure-for-the-brave-and-true/)はオンラインで無料で読むことができ、初心者のための素晴らしいリソースとなっています。\n",
    "\n"
   ]
  },
  {
   "cell_type": "markdown",
   "id": "bigger-boring",
   "metadata": {},
   "source": [
    "## How to Contribute to Calva?\n",
    "\n",
    "ご質問ありがとうございます! [Calva開発Wiki](https://github.com/BetterThanTomorrow/calva/wiki)をご覧ください。(そこでは、The Tao of Calvaと書かれたセクションで、あなたが貢献したいと思う理由を明確にするようにもしています)。\n"
   ]
  },
  {
   "cell_type": "markdown",
   "id": "returning-elimination",
   "metadata": {},
   "source": [
    "### Calva Gold Sponsors ♥️\n",
    "\n",
    "オープンソース開発者をサポートすることの重要性についての[Cognitectの声明](https://cognitect.com/blog/2020/12/15/sponsoring-open-source-developers)をご覧ください。\n",
    "\n",
    "Calvaのスポンサーに関する情報は[スポンサー](https://calva.io/sponsors/)を参照してください。\n",
    "\n",
    "もしあなたの会社がCalvaの存在から利益を得ていて、ClojureとClojureScriptのエコシステムにおいて重要だと考えているのであれば、ぜひスポンサーになることを検討してください!\n"
   ]
  },
  {
   "cell_type": "markdown",
   "id": "convertible-northern",
   "metadata": {},
   "source": [
    "## Have Questions and Feedback? Need Help?\n",
    "\n",
    "一番簡単な方法は、私たちや他のCalvaユーザーとチャットすることです。[Clojurians Slackの#calvaチャンネル](https://clojurians.slack.com/messages/calva)に参加してください。そのSlackワークスペースに参加していない場合は、[ここで招待を受ける](http://clojurians.net/)ことができます。\n",
    "\n",
    "Clojure(Script)の初心者の方は、[Clojurians Slackの#beginnersチャンネル](https://clojurians.slack.com/messages/beginners)がとても活発で参考になります。\n",
    "\n",
    "コーディングを楽しんでください"
   ]
  }
 ],
 "metadata": {
  "kernelspec": {
   "display_name": "Clojure",
   "language": "clojure",
   "name": "clojure"
  },
  "language_info": {
   "file_extension": ".clj",
   "mimetype": "text/x-clojure",
   "name": "clojure",
   "version": "1.8.0"
  }
 },
 "nbformat": 4,
 "nbformat_minor": 5
}
