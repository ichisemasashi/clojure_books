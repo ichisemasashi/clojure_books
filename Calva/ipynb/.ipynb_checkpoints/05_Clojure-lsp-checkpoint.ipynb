{
 "cells": [
  {
   "cell_type": "markdown",
   "id": "thermal-austria",
   "metadata": {},
   "source": [
    "Calva は、静的分析と動的分析をミックスして、エクスペリエンスを強化しています。静的な機能の多くは [clojure-lsp](https://github.com/snoe/clojure-lsp) から来ています。 これにより、REPL を起動しなくても、多くのナビゲーションとコンテキストのサポートで、プロジェクト内の何かをチェックすることができます（一度 REPL を起動すると、動的解析によってさらに多くの機能が得られます）。(一旦REPLを起動すると、動的解析によってさらに多くの機能を得ることができます)\n",
    "\n"
   ]
  },
  {
   "cell_type": "markdown",
   "id": "gentle-bearing",
   "metadata": {},
   "source": [
    "## Starting the LSP server\n",
    "\n",
    "clojure-lspを起動するために何もする必要はありません。 インストールもコマンドも何もありません。clojure-lspが(`clj-kondo`経由で)プロジェクト・ファイルをインデックス化するとき、特に新しいプロジェクトの最初の時間は、 clojure-lspが起動するのに時間がかかります。\n",
    "\n",
    "Calvaはサーバが起動している間、ステータスバーのメッセージを表示しますが、サーバの準備が整うと消えます。しかし、Calvaの機能の多くはLSPサーバーに関係なく利用できますので、このサーバーが起動している間にCalvaの使用を開始してください。\n",
    "\n",
    "![lsp-status-bar-message.gif](lsp-status-bar-message.gif)\n"
   ]
  },
  {
   "cell_type": "markdown",
   "id": "cooperative-electricity",
   "metadata": {},
   "source": [
    "## Ignoring LSP cache files\n",
    "\n",
    "clojure-lsp はプロジェクトの分析情報をプロジェクトに保存します。Git ユーザーは、これらの行をプロジェクトのルートディレクトリの`.gitignore` に追加することができます。\n",
    "\n",
    "```\n",
    ".clj-kondo/cache/\n",
    ".clj-kondo/.cache/\n",
    ".lsp/sqlite.*.db\n",
    "```\n"
   ]
  },
  {
   "cell_type": "markdown",
   "id": "connected-participant",
   "metadata": {},
   "source": [
    "## Related\n",
    "\n",
    "- [Connecting the REPL](https://calva.io/connect/)\n",
    "- [Refactoring](https://calva.io/refactoring/)"
   ]
  }
 ],
 "metadata": {
  "kernelspec": {
   "display_name": "Clojure",
   "language": "clojure",
   "name": "clojure"
  },
  "language_info": {
   "file_extension": ".clj",
   "mimetype": "text/x-clojure",
   "name": "clojure",
   "version": "1.8.0"
  }
 },
 "nbformat": 4,
 "nbformat_minor": 5
}
