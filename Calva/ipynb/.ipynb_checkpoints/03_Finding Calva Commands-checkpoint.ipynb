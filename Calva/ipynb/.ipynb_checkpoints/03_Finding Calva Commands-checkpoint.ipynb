{
 "cells": [
  {
   "cell_type": "markdown",
   "id": "existing-missile",
   "metadata": {},
   "source": [
    "Calvaは、VS Codeがコマンドパレットを開くことで、コマンドを簡単に見つけることができるという点に大きく依存しています: `ctrl+shift+p` (Windows/Linux), `cmd+shift+p` (Mac), そして、コマンドの中にありそうな単語（または単語の一部）を入力します。\n",
    "\n",
    "これを利用するために、すべての Calva コマンドの前には `Calva` が付けられています。例えば、フォームを評価して、それをきれいに印刷したいとします。その場合は、次のようにします。\n",
    "\n",
    "1. コマンドパレットを開きます。\n",
    "2. タイプ `calevpr`\n",
    "\n",
    "\n",
    "VSコードでは、`cal`を「Calva」、`ev`を「Evaluate」、prを「pretty print」の「pretty」と一致させます。こんな感じになります。\n",
    "\n",
    "![59421711-5a0c1a00-8dcf-11e9-953d-64fe6c77598c.png](59421711-5a0c1a00-8dcf-11e9-953d-64fe6c77598c.png)\n",
    "\n",
    "スクリーンショットにあるように、VS Codeではコマンドのキーボードショートカットも表示されます。私からのアドバイスは、これらのショートカットを覚えて、より効果的なワークフローのために使ってみることを習慣にすることです。\n",
    "\n",
    "今なら[Calva Top 10 Commands](https://calva.io/commands-top10/)を見るのもいいかもしれません。\n",
    "\n"
   ]
  },
  {
   "cell_type": "markdown",
   "id": "vulnerable-indie",
   "metadata": {},
   "source": [
    "## All the Settings and Commands\n",
    "\n",
    "ご存知でしたか？VS Code の拡張ペインの Calva エントリの Contributions タブには、Calva の設定とコマンドの完全なリストがあります。\n",
    "\n",
    "![66733740-c754b800-ee60-11e9-877b-962f6b920cd7.png](66733740-c754b800-ee60-11e9-877b-962f6b920cd7.png)"
   ]
  },
  {
   "cell_type": "markdown",
   "id": "isolated-opinion",
   "metadata": {},
   "source": [
    "## Toggling Keyboard Shortcuts On/Off\n",
    "\n",
    "`calva.toggleKeybindingsEnabled` コマンドを使うと、（ほとんどの）すべてのキーボードショートカットを素早く有効にしたり無効にしたりすることができます。これにより、Calva のキーバインドと、Calva を有効にしているときには利用できない他のキーバインドを素早く切り替えることができます。これは特に Paredit のキーボードショートカットで便利です。\n",
    "\n",
    "デフォルトでは、ユーザーが知らず知らずのうちに押して混乱を招かないようにショートカットにバインドされていませんが、頻繁に使いたいものであれば、ショートカットにバインドしておくとよいでしょう。"
   ]
  }
 ],
 "metadata": {
  "kernelspec": {
   "display_name": "Clojure",
   "language": "clojure",
   "name": "clojure"
  },
  "language_info": {
   "file_extension": ".clj",
   "mimetype": "text/x-clojure",
   "name": "clojure",
   "version": "1.8.0"
  }
 },
 "nbformat": 4,
 "nbformat_minor": 5
}
