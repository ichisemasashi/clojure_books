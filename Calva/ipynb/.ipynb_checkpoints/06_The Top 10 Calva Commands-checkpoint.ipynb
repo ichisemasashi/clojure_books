{
 "cells": [
  {
   "cell_type": "markdown",
   "id": "public-tactics",
   "metadata": {},
   "source": [
    "Calva のコマンドはそれほど多くはありません。好きなだけ覚えても構いませんが、効果的な Clojure/ClojureScript コーディングのために知っておくべき最も重要なコマンドを紹介します。\n",
    "\n",
    "- **Grow/expand selection**: `ctrl+w`\n",
    "- **Load current file**: `alt+ctrl+c Enter`、アクティブなエディタタブのネームスペースコードを評価します。これは必要なネームスペースもロードし、一般的にはCalvaが動作するために必要なものを提供します。\n",
    "- **Evaluate current form**: `ctrl+enter` はカーソル位置からフォームを見つけ、評価し、結果をインラインで表示します。`esc`キーを押すと結果が表示されなくなります。\n",
    "- **Evaluate current top-level form**: `alt+enter`: インラインで現在のトップレベルフォームを評価します。これは`(comment)`フォーム内でも動作します。これを使用して(再)変数を定義し、コメントフォームの内部では、それがあなたの望むように動作するかどうかを確認することができます。\n",
    "- **Dismiss the display of results**: `escape`。(VIM拡張機能をお使いの方は、[Using Calva with the VIM Extension](https://calva.io/vim/)をお読みください)。\n",
    "\n",
    "\n",
    "また、現在のフォームと現在のトップレベルのフォームを REPL ウィンドウに持ってくるためのコマンドもあります。\n",
    "\n",
    "- `ctrl+alt+c ctrl+alt+e` (Windowsでは`ctrl+alt+c ctrl+alt+v`): REPLウィンドウに現在のフォームを貼り付けます。\n",
    "- `ctrl+alt+c ctrl+alt+space`: 現在のトップレベルのフォームをREPLウィンドウに貼り付けます。\n",
    "\n",
    "また、output/replウィンドウの名前空間を現在のファイルの名前空間に切り替えることもできます: `alt+ctrl+c alt+n`\n",
    "\n",
    "**Toggle pretty printing**はオンオフを切り替える: `ctrl+alt+c p`. デフォルトではオンになっています。ステータスバーのボタンを押すとステータスが表示されます。\n",
    "\n"
   ]
  },
  {
   "cell_type": "markdown",
   "id": "included-grain",
   "metadata": {},
   "source": [
    "## Some More Commands to Try\n",
    "\n",
    "- コード評価\n",
    " - コードを評価し、コメントとして追加する: `ctrl+alt+c c` (現在のフォーム)、`ctrl+alt+c ctrl+space` (現在のトップレベルのフォーム)\n",
    " - エディタでコードを評価し、インラインで置き換える: `ctrl+alt+c r`\n",
    "- 統合されたREPL\n",
    " - REPLウィンドウに現在のエディタフォームを送信： `ctrl+alt+c ctrl+alt+e` (Windowsでは`ctrl+alt+c ctrl+alt+v`)\n",
    " - 現在のエディタのトップレベルのフォームを REPL ウィンドウに送信: `ctrl+alt+c ctrl+alt+space`\n",
    "- テストを実行し、［問題］ペインで失敗やエラーをマークします。\n",
    " - 名前空間テストの実行: `ctrl+alt+c t`\n",
    " - すべてのテストを実行: `ctrl+alt+c shift+t`\n",
    " - 現在のテストを実行: `ctrl+alt+c ctrl+alt+t`\n",
    " - 以前に失敗したテストを再実行する: `ctrl+alt+c ctrl+t`\n",
    " - 警告: 現在、テストはすべてのテストが実行されたときにのみ報告され、大きなプロジェクトですべてのテストを実行するのが苦痛になります。私はそれを修正します。約束します!\n",
    "- 現在のフォームを選択: `ctrl+alt+c s`\n",
    "- カスタムコマンド、つまりコードスニペットを自由に実行することができます: `ctrl+alt+c`\n",
    "\n",
    "\n",
    "参照\n",
    "\n",
    "- [Code Evaluation Tips](https://calva.io/eval-tips/)\n",
    "- [Finding Calva Commands and Shortcuts](https://calva.io/finding-commands/)"
   ]
  }
 ],
 "metadata": {
  "kernelspec": {
   "display_name": "Clojure",
   "language": "clojure",
   "name": "clojure"
  },
  "language_info": {
   "file_extension": ".clj",
   "mimetype": "text/x-clojure",
   "name": "clojure",
   "version": "1.8.0"
  }
 },
 "nbformat": 4,
 "nbformat_minor": 5
}
