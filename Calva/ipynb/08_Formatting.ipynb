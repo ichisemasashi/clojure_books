{
 "cells": [
  {
   "cell_type": "markdown",
   "id": "rubber-coordinator",
   "metadata": {},
   "source": [
    "Calvaのフォーマッタがちょうど動くようにしてみました。Clojureファイルに対してはデフォルトで有効になっており、未設定ではほとんどBozhidar Batsov氏の[Clojure Style Guide](https://github.com/bbatsov/clojure-style-guide)に従っています。Calvaは書式設定に[cljfmt](https://github.com/weavejester/cljfmt)を使います。\n",
    "\n",
    "\n",
    "Calva のコードフォーマッタは、**Format Current Form**コマンドのデフォルトのキーバインドを `tab` に設定します。つまり、ちょっと片付いていないように見えるときに`tab`を押すと、きれいに見えるようになります。これはいいことですよね? パフォーマンス上の理由から、現在のフォームをフォーマットするだけなので、カーソルをフォームの上/下に移動させたい場合があります (`ctrl+up`)。カーソルを構造的に移動させる方法については [The Paredit Guide](https://calva.io/paredit/)を参照してください。\n",
    "\n",
    "\n",
    "\n",
    "デフォルトの設定では、Calvaの書式設定は次のようになります。\n",
    "\n",
    "- 入力時の書式設定 (改行時)\n",
    "- `tab`を押したときに現在の囲みフォームをフォーマットします。\n",
    "- 貼り付けコードのフォーマット\n",
    "- コミュニティースタンダードに準拠したフォーマット（上記リンク先参照)\n",
    "- `ctrl+alt+l`キーを押したときに、マップキーと値を揃えて現在のフォームをフォーマットします。\n",
    "\n",
    "また。VS Code で**Format on Save**を有効にしている場合、Calva が Clojure ファイルのフォーマットを行います。\n",
    "\n",
    "Calva のフォーマットは主にインデントについてですが、（これもデフォルトですが）次のようなこともできます。\n",
    "\n",
    "- 行末の空白をトリムします。\n",
    "- 括弧内の空白をトリミングします。\n",
    " - これは、後続の括弧（パレントレイル）を同じ行に折りたたむこともできます。\n",
    "- フォーム間に空白を挿入します\n",
    "\n",
    "いくつかのデフォルト設定が好きではありませんか？フォーマッタはかなり設定可能です。\n",
    "\n"
   ]
  },
  {
   "cell_type": "markdown",
   "id": "angry-television",
   "metadata": {},
   "source": [
    "## Configuration\n",
    "\n",
    "[cljfmt's configuration EDN](https://github.com/weavejester/cljfmt#configuration)を使ってCalvaのフォーマッティングを行います。つまり、インデントを含めて上記のデフォルトを調整することができます。\n",
    "\n",
    "\n",
    "\n",
    "\n",
    "`cljfmt`のドキュメントには、Leiningen プロジェクトの`:cljfmt`コンフィグキーの記述があります。Calvaはまだそこからコンフィグを読み込んでいませんので、もしあなたのLeiningenプロジェクトがそのようなコンフィグを持っている場合は、それをファイルにコピーする必要があります。\n",
    "\n",
    "\n",
    "デフォルトの変更を開始するには、以下のマップをファイルに貼り付けて保存します。このマップは、プロジェクトのワークスペースのどこかに置いてもよいですし、必要に応じて他の場所に置いてもよいでしょう。\n"
   ]
  },
  {
   "cell_type": "code",
   "execution_count": null,
   "id": "regulated-shelter",
   "metadata": {},
   "outputs": [],
   "source": [
    "{:remove-surrounding-whitespace? true\n",
    " :remove-trailing-whitespace? true\n",
    " :remove-consecutive-blank-lines? false\n",
    " :insert-missing-whitespace? true\n",
    " :align-associative? false}"
   ]
  },
  {
   "cell_type": "markdown",
   "id": "compatible-consistency",
   "metadata": {},
   "source": [
    "そして、`calva.fmt.configPath`をファイルのパスに設定します。パスは絶対パスか、プロジェクトのルートディレクトリからの相対パスのいずれかを指定します。つまり、`.cljfmt.edn`という名前をつけてプロジェクトのルートに保存した場合、この設定は`.cljfmt.edn`になります。\n",
    "\n",
    "Calvaでファイルを編集しているので(そうですよね？)、異なる設定がどのようにフォーマットに影響するかをすぐにテストすることができます。試してみてください。\n",
    "\n",
    "1. 設定 `:align-associative` を `true` にする\n",
    "2. そして保存\n",
    "3. クリックして`tab`を押し、何が起こるか見てみましょう。\n",
    "\n",
    "(この設定は実験的なもので、名前空間のキーワードと一緒に問題を起こすことが知られています。この設定を有効にする代わりに、フォーマッティング・コマンドとして `tab` の代わりに `ctrl+alt+l` を使うことを検討してください)。\n",
    "\n",
    "\n",
    "\n",
    "\n",
    "設定ファイルのホットリロードは、プロジェクトのディレクトリ構造内の設定ファイルに対してのみ機能します。"
   ]
  },
  {
   "cell_type": "markdown",
   "id": "coupled-andrew",
   "metadata": {},
   "source": [
    "### Indentation rules\n",
    "\n",
    "`cljfmt`のインデントは高度な設定が可能です。これらと設定オプションの残りは主に[ここ](https://github.com/weavejester/cljfmt#configuration)にあります。\n",
    "\n",
    "Calva は、これらの設定を試すのに最適なツールです。 `cljfmt` は、マップ内のキーについては気にしないので、テストコードをこっそり入れて、特定のルールでどのようにフォーマットされるかをすぐに確認することができます。例えば、これを試してみてください。\n"
   ]
  },
  {
   "cell_type": "code",
   "execution_count": null,
   "id": "sophisticated-prefix",
   "metadata": {},
   "outputs": [],
   "source": [
    "{:remove-surrounding-whitespace? true\n",
    " :remove-trailing-whitespace? true\n",
    " :remove-consecutive-blank-lines? false\n",
    " :insert-missing-whitespace? false\n",
    " :align-associative? false\n",
    " :indents ^:replace {#\"^\\w\" [[:inner 0]]}\n",
    " :test-code\n",
    " (concat [2]\n",
    "         (map #(inc (* % 2))\n",
    "              (filter #(aget sieved %)\n",
    "                      (range 1 hn))))}"
   ]
  },
  {
   "cell_type": "markdown",
   "id": "preceding-movement",
   "metadata": {},
   "source": [
    "保存してから`tab`を押すと、コードはこのようにフォーマットされるはずです。"
   ]
  },
  {
   "cell_type": "code",
   "execution_count": null,
   "id": "joint-newark",
   "metadata": {},
   "outputs": [],
   "source": [
    " :test-code\n",
    " (concat [2]\n",
    "    (map #(inc (* % 2))\n",
    "      (filter #(aget sieved %)\n",
    "        (range 1 hn))))"
   ]
  },
  {
   "cell_type": "markdown",
   "id": "valued-royalty",
   "metadata": {},
   "source": [
    "これは、Nikita Prokopov氏の[Better Clojure Formatting](https://tonsky.me/blog/clojurefmt/)の提案に多少似ています。(この設定だけでは完全な**Tonsky Formatting**が得られないかもしれないことに注意してください。完全に準拠するために使っている設定があれば教えてください)"
   ]
  },
  {
   "cell_type": "markdown",
   "id": "quiet-democracy",
   "metadata": {},
   "source": [
    "## Under Construction\n",
    "\n",
    "\n",
    "この書式設定の多くは最近のものです。ドラゴンがいるかもしれません。また、CalvaにLeiningenのプロジェクトファイルから `:cljfmt`の設定をピックアップさせるべきでしょう。もしあなたが同意し、すでに問題がないのであれば、ファイルを作成してください。"
   ]
  }
 ],
 "metadata": {
  "kernelspec": {
   "display_name": "Clojure",
   "language": "clojure",
   "name": "clojure"
  },
  "language_info": {
   "file_extension": ".clj",
   "mimetype": "text/x-clojure",
   "name": "clojure",
   "version": "1.8.0"
  }
 },
 "nbformat": 4,
 "nbformat_minor": 5
}
