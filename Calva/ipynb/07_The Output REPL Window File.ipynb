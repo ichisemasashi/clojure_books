{
 "cells": [
  {
   "cell_type": "markdown",
   "id": "seven-credit",
   "metadata": {},
   "source": [
    "CalvaがClojure/ClojureScriptコードを評価すると、結果はインラインで表示されるだけでなく、結果出力ウィンドウ/ファイルに印刷されます。このファイルは、CalvaがREPLに接続されているときに作成され、開かれます。\n",
    "\n",
    "ClojureScriptプロジェクトでは、一度接続されると、ウィンドウは`cljs`REPLに関連付けられます。このファイルは以下のようになります。\n",
    "\n",
    "![output-window-connected.png](output-window-connected.png)\n",
    "\n",
    "最初のプロンプトは`clj`REPLが接続されているときのもので、2番目はCalvaが`cljs`REPL接続を持っているときのものです。プロンプトの最初の部分は、ウィンドウが現在どのタイプのREPLに接続されているかを教えてくれます。これは、ファイル/ウィンドウが対話型REPLとして使用されるときに重要になります。\n",
    "\n"
   ]
  },
  {
   "cell_type": "markdown",
   "id": "concrete-moral",
   "metadata": {},
   "source": [
    "## Find the Output/REPL Window\n",
    "\n",
    "すぐに出力ウィンドウを開いて切り替えたい場合は、**Calva: Show Output Window**, `ctrl+alt+c o`コマンドがあります。\n",
    "\n",
    "切り替える前にOutput/REPLウィンドウのネームスペースを現在のファイルと同期させるには、**Switch Namespace of the Output/REPL Window to Current Namespace**コマンドを使用してください、`ctrl+alt+c alt+n`。\n",
    "\n"
   ]
  },
  {
   "cell_type": "markdown",
   "id": "pharmaceutical-alberta",
   "metadata": {},
   "source": [
    "## Find the File for the Current REPL Window Namespace\n",
    "\n",
    "Output/REPL ウィンドウから作業をしていて、現在のネームスペースを定義しているファイルを開きたい場合は、**Show File for the Current Output/REPL Window Namespace**コマンド、`ctrl+alt+c o`を使用してください。\n",
    "\n",
    "```\n",
    "これはClojureコアとライブラリの名前空間でも動作します。\n",
    "```\n"
   ]
  },
  {
   "cell_type": "markdown",
   "id": "prostate-artist",
   "metadata": {},
   "source": [
    "## Evaluating Code\n",
    "\n",
    "ウィンドウは、コードを評価するプロジェクトのClojure/ClojureScriptファイルのREPLと名前空間に自動的に関連付けられます。ですから、例えば、このコードを名前空間`fresh-reagent.handler`を持つ`clj`ファイルで評価した場合、ウィンドウは自動的にREPLと名前空間に関連付けられます。\n"
   ]
  },
  {
   "cell_type": "code",
   "execution_count": 1,
   "id": "bearing-realtor",
   "metadata": {},
   "outputs": [
    {
     "data": {
      "text/plain": [
       "#'user/mount-target"
      ]
     },
     "execution_count": 1,
     "metadata": {},
     "output_type": "execute_result"
    }
   ],
   "source": [
    "(def mount-target\n",
    "  [:div#app\n",
    "   [:h2 \"Welcome to fresh-reagent\"]\n",
    "   [:p \"please wait while Figwheel is waking up ...\"]\n",
    "   [:p \"(Check the js console for hints if nothing exciting happens.)\"]])"
   ]
  },
  {
   "cell_type": "markdown",
   "id": "differential-integer",
   "metadata": {},
   "source": [
    "出力ウィンドウは、定義された var を表示し、現在の REPL 接続とネームスペースを反映した新しいプロンプトを表示します。\n",
    "\n",
    "![eval-results-1.png](eval-results-1.png)\n",
    "\n",
    "その後、出力ウィンドウに切り替えて(`ctrl+alt+c o`)、プロンプトで以下を入力します。\n",
    "\n",
    "\n",
    "```\n",
    "mount-target\n",
    "```\n",
    "\n",
    "を使用して評価すると、あなたは以下を得ることができます。\n",
    "\n",
    "![eval-results-2.png](eval-results-2.png)\n",
    "\n",
    "これは、名前空間が最初の評価を出力ウィンドウに \"追いかけて \"いるからです。\n",
    "\n"
   ]
  },
  {
   "cell_type": "markdown",
   "id": "earlier-wisconsin",
   "metadata": {},
   "source": [
    "## REPL History\n",
    "\n",
    "REPLファイル内の最近評価されたフォームは永続化され、修正や再評価のために簡単に再表示することができます。\n"
   ]
  },
  {
   "cell_type": "markdown",
   "id": "frequent-lease",
   "metadata": {},
   "source": [
    "### Navigate REPL History\n",
    "\n",
    "カーソルがプロンプトの後の最後のフォームの最後にある場合、`alt+up`および`alt+down`を使用してREPLファイルで評価された最後のフォームを上下に移動することができます。カーソルが最後のフォームの最後にない場合、`alt+up`と`alt+down`はそれぞれデフォルトでは \"Move Line Up\" と \"Move Line Down\" であるようにマッピングされたものを実行します。\n",
    "\n",
    "履歴をさかのぼり始める前にプロンプトの後にテキストを入力した場合、このテキストは保存され、履歴をさかのぼったときに表示されます。トラバース中に履歴内のテキストを変更した場合、変更内容は履歴内のその場所に保存されます。\n",
    "\n"
   ]
  },
  {
   "cell_type": "markdown",
   "id": "sustainable-diagnosis",
   "metadata": {},
   "source": [
    "### Clear REPL History\n",
    "\n",
    "コマンドパレットから「Clear REPL History」コマンドを実行することで、REPL履歴をクリアすることができます。"
   ]
  },
  {
   "cell_type": "markdown",
   "id": "curious-berlin",
   "metadata": {},
   "source": [
    "## Peek at Results\n",
    "\n",
    "小さな画面では（あるいは好みにもよりますが）、出力ウィンドウをコードと並べて表示するのではなく、同じエディタグループ内のタブに表示することができます。\n",
    "\n",
    "そうすると、すぐに表示されるフィードバックは、結果の最初の行に限定されたインライン表示になります。すべてが失われたわけではありませんが、VS Code の **Peek Definition** コマンドを使用して、完全な結果を覗き見ることができます。Calvaは、出力ウィンドウで評価されたコードに定義ポインタ「in」を追加します。\n",
    "\n",
    "![peek-last-result.gif](peek-last-result.gif)\n",
    "\n",
    "(Mac では、peek コマンドのデフォルトのキーボードショートカットは `alt+f12` です)\n",
    "\n",
    "デモGIFでは、この覗き見ウィジェットについて2つのことを利用しています。\n",
    "\n",
    "1. それは、閉じるまで開いたままであることです。これにより、異なるバージョンのフォームを評価し続け、結果が印刷されるのを見ることができます。\n",
    "2. ウィジェットには「完全な」Calvaエディタが表示されるので、Pareditを使って便利にフォームを選択することができます。\n"
   ]
  },
  {
   "cell_type": "markdown",
   "id": "actual-personal",
   "metadata": {},
   "source": [
    "## Stack Traces\n",
    "\n",
    "評価でエラーが発生した場合、出力ウィンドウには自動的にエラーメッセージが表示されます。エラーに関連したスタックトレースがある場合は、**Calva: Print Last Stacktrace to the Output Window**コマンドを使用して、オンデマンドで印刷できるようになりました。出力ウィンドウには、エラーメッセージの下にスタックトレースを印刷する Codelense ボタンもあります。\n",
    "\n",
    "![print-stacktrace-codelense.png](print-stacktrace-codelense.png)\n",
    "\n",
    "スタックトレースを印刷した場合、ソースの場所（Clojureファイル）が利用可能な場合、ファイル名の上で`ctrl+クリック`（Macでは`cmd+クリック`）することで、その場所に移動することができます。また、スタックトレース内のシンボルの上にカーソルを置くとシンボルのドキュメントを見ることができ、シンボルを`ctrl+クリック`(Mac上で`cmd+クリック`)するとPeek Definitionに移動できます。\n",
    "\n",
    "![stack-traces.gif](stack-traces.gif)\n"
   ]
  },
  {
   "cell_type": "markdown",
   "id": "gothic-ozone",
   "metadata": {},
   "source": [
    "## Load Current Namespace\n",
    "\n",
    "\n",
    "名前空間をナビゲートするときに、[forget to first require them](https://clojure.org/guides/repl/navigating_namespaces#_how_things_can_go_wrong)しがちで、これを修正するのは少し厄介です。この問題を解決するために、Calvaの**Load Current File**コマンドは出力ウィンドウでも動作しますが、**Load Current Namespace**と同じように動作します。\n",
    "\n",
    "`pez/xxx.clj` と `pez/yyy.clj` という 2 つのファイルがあり、`pez.yyy`は`pez.xxx`をrequireするとします。\n",
    "\n"
   ]
  },
  {
   "cell_type": "code",
   "execution_count": 2,
   "id": "reserved-request",
   "metadata": {},
   "outputs": [
    {
     "data": {
      "text/plain": [
       "#'pez.xxx/b"
      ]
     },
     "execution_count": 2,
     "metadata": {},
     "output_type": "execute_result"
    }
   ],
   "source": [
    "(ns pez.xxx)\n",
    "\n",
    "(def a :xxx-a)\n",
    "\n",
    "(def b :xxx-b)"
   ]
  },
  {
   "cell_type": "code",
   "execution_count": 3,
   "id": "established-sociology",
   "metadata": {},
   "outputs": [
    {
     "name": "stdout",
     "output_type": "stream",
     "text": [
      "Hello :xxx-a\n"
     ]
    }
   ],
   "source": [
    "(ns pez.yyy\n",
    "  (:require [pez.xxx]))\n",
    "\n",
    "(def a :yyy-a)\n",
    "\n",
    "(println \"Hello\" pez.xxx/a)"
   ]
  },
  {
   "cell_type": "markdown",
   "id": "shaped-qatar",
   "metadata": {},
   "source": [
    "そして、新しくジャックしたばかりの REPL で `(ns pez.yyy)` を実行し、そこで定義された vars を使って作業をしたいとします。Clojureは文句を言うでしょう。しかし、**Load Current File**を実行すると、動作を開始します。こんな感じです。\n",
    "\n",
    "![load-current-namespace.png](load-current-namespace.png)\n",
    "\n",
    "```\n",
    "\n",
    "これは現在のところ、依存関係をリロードしないというCalvaの制限に悩まされています。なので、あなたは時々、これを「手動」で(ファイルを開いてそれらをロードすることで)実施しなければならないでしょう。\n",
    "参照：[Calva issue #907](https://github.com/BetterThanTomorrow/calva/issues/907)\n",
    "```\n"
   ]
  },
  {
   "cell_type": "markdown",
   "id": "naughty-memorabilia",
   "metadata": {},
   "source": [
    "### Peek Current Namespace\n",
    "\n",
    "ちょっと隠れた機能です。名前空間のドキュメントを見たり、覗いたり、名前空間に移動したりするには、 repl ウィンドウのプロンプトの一つにある名前空間シンボルの上にカーソルを置く必要があります (プロンプトに名前空間がなかった場合と同じように 😄)。\n"
   ]
  },
  {
   "cell_type": "markdown",
   "id": "decimal-fancy",
   "metadata": {},
   "source": [
    "## Paredit Enabled\n",
    "\n",
    "\n",
    "出力ウィンドウはほとんどが通常の Calva Clojure/ClojureScript ファイルで、[Paredit](https://calva.io/paredit/) を含め、通常のファイルで動作するものはすべてこのファイルで動作するようになっています。これにより、入力と出力を簡単にナビゲートすることができます。例えば、最後の評価結果を選択するには、`ctrl+w`を押します。\n",
    "\n",
    "![select-last-result.png](select-last-result.png)\n"
   ]
  },
  {
   "cell_type": "markdown",
   "id": "filled-cooking",
   "metadata": {},
   "source": [
    "## Debugger Enabled\n",
    "\n",
    "出力ウィンドウはほとんどが通常の... (あなたはそれを得ます)、つまり、REPLプロンプト(今のところ`clj`セッションのためだけです)で、あなたのコマンドで[Calva debugger](https://calva.io/debugger/)を持っていることを意味します。だから、`alt+enter`を使って関数定義を評価する代わりに、それを評価して、 `ctrl+alt+c i`を使って、デバッグのためにそれを測定することができます。\n",
    "\n",
    "![repl-file-debugger.png](repl-file-debugger.png)\n"
   ]
  },
  {
   "cell_type": "markdown",
   "id": "least-interface",
   "metadata": {},
   "source": [
    "## It is Ephemeral\n",
    "\n",
    "output/REPLウィンドウの内容は、プロジェクトの`.calva/output-window`ディレクトリにある`output.repl`という名前のファイルに書き込まれます。このファイルは新しいセッションのたびに再作成されます。そして、このファイルから保存したいものはどこにでもコピーしてください。\n",
    "\n",
    "おそらく、`.calva/output-window/`を`.<something>ignore`ファイルに追加したいと思うでしょう。(そのディレクトリには、ソース管理下に置いてはいけないファイルがいくつかあります)。\n",
    "\n"
   ]
  },
  {
   "cell_type": "markdown",
   "id": "electoral-velvet",
   "metadata": {},
   "source": [
    "## Choose CLJ or CLJS REPL Connection\n",
    "\n",
    "フルスタックプロジェクトでは、おそらく `clj` と `cljs` の両方の REPL としてウィンドウを使用するでしょう。ウィンドウがどちらのREPLに接続されているかは、**Calva: Toggle REPL Connection for CLJC files**を使って切り替えることができます。ステータスバーにこのボタンがあります。\n",
    "\n",
    "![cljc-toggle-button.png](cljc-toggle-button.png)\n",
    "\n"
   ]
  },
  {
   "cell_type": "markdown",
   "id": "present-communication",
   "metadata": {},
   "source": [
    "## Known Quirks\n",
    "\n",
    "VS Code APIの制限のため、出力ファイルが開かれているかどうか、また複数回開かれているかどうかをCalvaが知ることは困難です。このウィンドウを開いたままにしておくことを習慣にしてください。また、複数のタブで開かれている場合は、評価用のプリントアウトが少し予測できないことを期待してください。\n",
    "\n",
    "出力/REPLファイルを保存すると（これはほとんどの場合、あまり意味がありませんが、とにかく）、ファイルの内容が同期されていないことについてVS Codeが混乱しているというメッセージが表示されることがあります。現在保存されているバージョンを上書きすることを選択すれば問題ありません。\n"
   ]
  }
 ],
 "metadata": {
  "kernelspec": {
   "display_name": "Clojure",
   "language": "clojure",
   "name": "clojure"
  },
  "language_info": {
   "file_extension": ".clj",
   "mimetype": "text/x-clojure",
   "name": "clojure",
   "version": "1.8.0"
  }
 },
 "nbformat": 4,
 "nbformat_minor": 5
}
