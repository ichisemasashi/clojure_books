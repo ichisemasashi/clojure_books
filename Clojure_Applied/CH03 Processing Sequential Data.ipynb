{
 "cells": [
  {
   "cell_type": "markdown",
   "metadata": {},
   "source": [
    "\n",
    "# Mapping Values\n",
    "\n",
    "## Sequence Processing\n",
    "\n",
    "## Transducers\n",
    "\n",
    "## Laziness\n",
    "\n",
    "# Reducing to a Value\n",
    "\n",
    "# Filtering and Removing Values\n",
    "\n",
    "# Take and Drop\n",
    "\n",
    "# Sorting and Duplicate Removal\n",
    "\n",
    "# Grouping Values\n",
    "\n",
    "# Putting It All Together\n",
    "\n",
    "## Selection\n",
    "## Transformation\n",
    "## Reduction\n",
    "\n",
    "# Wrapping Up\n"
   ]
  }
 ],
 "metadata": {
  "kernelspec": {
   "display_name": "Clojure",
   "language": "clojure",
   "name": "clojure"
  },
  "language_info": {
   "file_extension": ".clj",
   "mimetype": "text/x-clojure",
   "name": "clojure",
   "version": "1.8.0"
  }
 },
 "nbformat": 4,
 "nbformat_minor": 2
}
