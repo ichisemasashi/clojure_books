{
 "cells": [
  {
   "cell_type": "markdown",
   "metadata": {},
   "source": [
    "サーバーもラップトップもまた電話ですら、今日ではプログラムが使うことができる制御の独立した複数のスレッドによるマルチコアのチップで作られている。\n",
    "プログラムがそれらのチップのすべての長所を引き出すように設計する必要がある。\n",
    "Clojureはこのマルチコアの世界のなかでそのために生まれた。\n",
    "\n",
    "Javaのような言語における並列性の大部分の問題は共有する可変的な状態を管理する問題にある。\n",
    "これまで見てきたように、Clojureは基本的に(複数のスレッド間で安全に使うことができる)不変的なデータに頼っている。\n",
    "また、これも見てきたように、状態をもつコンテナ(`atom`、`ref`、`agent`、`var`)を使い、明白な状態を作ることができる。\n",
    "すべてのコンテナは一般的な更新モデルを使い、それにより状態は純粋な関数によってひとつの不変的な値から別の値へいつでも変換される。\n",
    "この多くの一般的なエラーのクラスを取り除くアプローチの組み合わせにより、それらすべてコアが何かしら働かせる方法の本当の問題に焦点を合せることが可能になる。\n",
    "\n",
    "わたしたちが出会う最初の問題のひとつは、主なスレッドから作業を移すことと主なスレッドがその仕事をする間に非同期に実行する方法です。\n",
    "一度あれをすれば、その非同期なタスクが仕事を終えたときにその結果を受け取る方法も必要とする。\n",
    "Clojureの`future`と`promise`へと飛び込みます。\n",
    "\n",
    "長寿命なタスク指向な並列性のために、一連のタスクをワーカー・スレッドのプールに振り分けて処理します。\n",
    "JavaはClojureから直接呼び出せるキューとワーカーのための頑強な道具を持っている。\n",
    "その道具によって全てのコアを使って仕事の流れを効果的に処理することが可能になる。\n",
    "\n",
    "いくつかの場合において、並列に、複数のコレクションに渡り、同じ変換をすべての要素に行う、きめ細かい仕事を実装する必要がある。\n",
    "それらの問題をコレクションとシーケンス関数によってアプローチする方法をすでに見てきたが、Clojureは`reducer`と呼ばれる他のオプションを持っている。\n",
    "`reducer`によってまるでシーケンスであるかのように変換を構成するがその実行は並列であることが可能になる。\n",
    "\n",
    "最後に、プログラムの全体的な構造を組織するためにどのようにスレッド(と軽量プロセス)を使うことができるか考えたい。\n",
    "`core.async`ライブラリはその構成を助けるために`channel`と`go block`の概念を定義する。\n",
    "アプリケーションの構造を定義する方法を見る。\n",
    "\n",
    "# Push Waiting to the Background\n",
    "\n",
    "大部分のプログラムは外の世界とファイルやソケットや標準終端ストリームを通してつながる。\n",
    "それらの入力と出力をI/Oと呼ぶ。\n",
    "現代のプロセッサは一秒に何十億もの命令を実行できるが、大部分のI/Oは比較的低速です。\n",
    "たくさんのプログラムがファイルからデータを読みだしや外部サーバからの応答の受信やユーザがやりたいことを見付けるののを待つためのかなりの時間を過す。\n",
    "\n",
    "この街を効果的に行うことが必要であり、プログラムは他の仕事を続けられる。\n",
    "待っているあいだ、他の処理を実行することもできるし、同じことを並列で待つこともできる。\n",
    "例えば、ウェブ・ブラウザは外部のウェブ・サーバがコンテンツを返すのを待つために時間を過すひとつのプログラムです。一方で同時に、現在のページを表示し、リンクのクリックへの応答をし、ページのスクロールをしたりする。\n",
    "\n",
    "## Fire and Forget\n",
    "\n",
    "はじめに、応答の必要がないバックグラウンドでなされる必要がある簡単な仕事の場合を考えよう。\n",
    "アプリケーションを組み立てて、イベントが発生するたびに外部のメーター法のコレクタを呼びたいと想像してください。\n",
    "外部のサービスを`inc-stat`という便利な関数に包むことができる。\n",
    "状態を更新するためにそれを呼び出す。\n",
    "\n",
    "```\n",
    "(inc-stat :pageview)\n",
    "```\n",
    "\n",
    "この関数はネットワークごしに外部のウェブ・サーバを呼ぶことになる。\n",
    "ページ・ビューを生成しているあいだにそれを呼んだとき、呼び出しをする時間は各ページを構築するのが遅くなる。下の図から分るように。\n",
    "\n",
    "![fig 05-01](fig_05_01.jpg)"
   ]
  },
  {
   "cell_type": "markdown",
   "metadata": {},
   "source": [
    "この仕事をバックグラウンドのスレッドに移動するには、Clojureに含まれる`future`関数を使う。\n",
    "\n",
    "```\n",
    "(future (inc-stat :pageview))\n",
    "```\n",
    "\n",
    "`future`関数はボディを1つ取り、Clojureが管理するバックグラウンド・スレッド・プールにそのボディを呼び出す。\n",
    "その違いを図で見ることができる。\n",
    "\n",
    "![fig 05-02](fig_05_02.jpg)"
   ]
  },
  {
   "cell_type": "markdown",
   "metadata": {},
   "source": [
    "また、ボディを渡す代りに非同期に引数なしの関数を呼び出す`future-call`を使うこともできる。\n",
    "どちらの関数も非同期な活動を制御し検査する`java.lang.Future`オブジェクトを返す。\n",
    "`future-cancel`関数はその実行をキャンセルする、一方`future-done?`と`future-cancelled?`はその状態の情報を与える。\n",
    "\n",
    "しかしながら、遠隔地のサービスへ独立した統計的増加メッセージの洪水を送ることは非効率的に見える。\n",
    "送信する前にいくつかの増分メッセージをまとめておくほうが理にかなっています。(??)\n",
    "そうするためには、非同期でかつ状態をもつことが必要です。\n",
    "\n",
    "## Asynchronous and Stateful\n",
    "\n",
    "「State, Identity and Change」において、Clojureにおけるいくつかの状態コンテナ(`var`、`atom`、`ref`)を調べた。\n",
    "われわれはもうひとつの状態コンテナである`agent`の導入をここまで引き伸ばした。\n",
    "\n",
    "他の状態コンテナのように、`agent`は不変的な値を保持し、同じ更新モデルを使って修正される。\n",
    "他のコンテナと違うのは、`agent`は非同期に更新されるということです。\n",
    "\n",
    "メーター法コレクタを考えてください。\n",
    "特定の統計のためのカウンタを`agent`に保持しましょう。"
   ]
  },
  {
   "cell_type": "code",
   "execution_count": 1,
   "metadata": {},
   "outputs": [
    {
     "data": {
      "text/plain": [
       "#'user/pageview-stat"
      ]
     },
     "execution_count": 1,
     "metadata": {},
     "output_type": "execute_result"
    }
   ],
   "source": [
    "(def pageview-stat (agent 0))"
   ]
  },
  {
   "cell_type": "markdown",
   "metadata": {},
   "source": [
    "すべての`agent`の更新ごとに遠隔サーバを呼ぶのでなく、10回ごとにだけ呼ぶとします(`agent`の状態が10で割り切れる数に逹したとき)。\n",
    "これは監視をしやすい(すべての状態コンテナで働く)。"
   ]
  },
  {
   "cell_type": "code",
   "execution_count": 3,
   "metadata": {},
   "outputs": [
    {
     "data": {
      "text/plain": [
       "#agent[{:status :ready, :val 0} 0x515d3428]"
      ]
     },
     "execution_count": 3,
     "metadata": {},
     "output_type": "execute_result"
    }
   ],
   "source": [
    "(defn remote-send [key new-val]\n",
    "  ,,, )\n",
    "(add-watch\n",
    "    pageview-stat\n",
    "    :pageview\n",
    "    (fn [key agent old new]\n",
    "        (when (zero? (mod new 10))\n",
    "            (remote-send key new))))"
   ]
  },
  {
   "cell_type": "markdown",
   "metadata": {},
   "source": [
    "ここで、状態へのなにかしらの変更により発火する`pageview-stat``agent`へ監視を加えた。\n",
    "今、新しい`agent`の状態が10の倍数のときだけ外部サービスの要求の発火、それはわれわれにいくつかのバッチ処理を与える。(???)\n",
    "\n",
    "そして、ちょうどその`agent`上で非同期に実行される関数が送るのようにアプリケーションが使う増加関数を定義できる。(??)\n"
   ]
  },
  {
   "cell_type": "code",
   "execution_count": 1,
   "metadata": {},
   "outputs": [
    {
     "data": {
      "text/plain": [
       "#'user/inc-stat"
      ]
     },
     "execution_count": 1,
     "metadata": {},
     "output_type": "execute_result"
    }
   ],
   "source": [
    "(defn inc-stat [stat]\n",
    "    (send-off stat inc))"
   ]
  },
  {
   "cell_type": "markdown",
   "metadata": {},
   "source": [
    "Clojureは`agent`上にて非同期に更新処理を呼び出す2つの関数を提供する。`send`と`send-off`です。\n",
    "計算量が多く、入出力をブロックしない`agent`の更新には`send`を使用してください。(??)\n",
    "基礎になるスレッド・プールはスレッドの固定された組を使い、ちょうど間に合った方法の中でこれらの更新が完了することに依存する。\n",
    "任意の時間、ブロックする更新のためには`send-off`を使用してください。\n",
    "基礎になるスレッド・プール(将来のためにも使う)は必要に応じて増えるので、ブロッキングは問題になりません。\n",
    "`inc-stat`において、外部のサービスを(`agent`のスレッドにて実行する監視を経由し)潜在的に呼び出しているので、`send-off`を使います。\n",
    "\n",
    "`agent`のひとつの追加的な特徴は、STMトランザクションの内部`agent`上または`agent`の活動自体の内部で呼び出される`send`や`send-off`はトランザクションが完了するまで遅らされる。\n",
    "こうして、副作用を生産するために、(成功するために再試行が必要かもしれない)STMトランザクションの内側またはその他の`agent`の更新活動の内側で`agent`を安全に呼び出すことができる。\n",
    "\n",
    "    #### Shutting Down\n",
    "    \n",
    "    Javaにおいて、スレッドはダエモン・スレッドとしてマークされる。\n",
    "    JVMはすべてのダエモンでない・スレッドが仕事を終えたとき(典型的にこれは主要な開始するスレッドが終了したときに発生する)優雅にシャット・ダウンする\n",
    "    スレッドをダエモンスレッドとしてマークすることはそれはバックグラウンドに仕事し、シャットダウンを妨げるべきでないことを意味する。\n",
    "\n",
    "    `future`と`agent`の活動を処理するスレッドはダエモン・スレッドではない。\n",
    "    もしアプリケーションが想定するとおりに終了する代りにハングするようならば、アプリケーションが終了するまでの間、`shutdown-agent`の呼び出しを追加することが必要だろう。\n",
    "\n",
    "これまで、なにも応答せずに、バックグラウンドにブロックする活動をしてきた。\n",
    "バックグラウンド・スレッドで行われた仕事から、どのように応答を受け取ることができるのか見ましょう。\n",
    "\n",
    "## Waiting for a Response\n",
    "\n",
    "ときどき、仕事をバックグラウンドに移して後でその結果を取りに戻りたいと思う。\n",
    "例えば、オンライン・ストアにて、いくつかの製品を取り、それらの価格を比べたいというアプリケーションを考えてください。\n",
    "それぞれの店に順番にシングルスレッドで問い合せると、次のようになる。\n"
   ]
  },
  {
   "cell_type": "code",
   "execution_count": 6,
   "metadata": {},
   "outputs": [
    {
     "data": {
      "text/plain": [
       "#'user/query-stores"
      ]
     },
     "execution_count": 6,
     "metadata": {},
     "output_type": "execute_result"
    }
   ],
   "source": [
    "(defn query [store product] ,,,)\n",
    "\n",
    "(defn query-stores [product stores]\n",
    "    (for [store stores]\n",
    "        (query store product)))"
   ]
  },
  {
   "cell_type": "markdown",
   "metadata": {},
   "source": [
    "これを実行する時間は各店に問い合わせる時間の合計であり、図示すると次のようになる。\n",
    "\n",
    "![fig-05-03](fig_05_03.jpg)\n",
    "\n",
    "もっと上手くできます!\n",
    "仕事をバックグラウンド・スレッドに移す魔法のような可能性により、すべての店へ同時に問い合わせることができる。\n",
    "非同期な問い合わせのために`future`を使う。\n"
   ]
  },
  {
   "cell_type": "code",
   "execution_count": 5,
   "metadata": {},
   "outputs": [
    {
     "data": {
      "text/plain": [
       "#'user/query-stores"
      ]
     },
     "execution_count": 5,
     "metadata": {},
     "output_type": "execute_result"
    }
   ],
   "source": [
    "(defn query-stores [product stores]\n",
    "    (for [store stores]\n",
    "        (future (query store product))))"
   ]
  },
  {
   "cell_type": "markdown",
   "metadata": {},
   "source": [
    "しかしながら、すでに述べたとおり、`futre`は`java.lang.Future`を返すので、`query-store`は今、それらのシーケンスを返す。実際の結果ではない。\n",
    "非同期な呼び出しの結果をブロックして待つために、`future`を`deref`または短縮形の`@`により間接参照する必要がある。\n",
    "\n",
    "ここで`query-store`関数を2段階で実装した。\n",
    "(すでに)第一段階で、すべての問い合わせに着手し、`future`オブジェクトのシーケンスを生産した。\n",
    "必要とする唯一の変更は、`doall`を呼ぶことでその実行を(lazyでなく)強制することです。\n",
    "もし`doall`を呼ばないならば、その問い合わせは後でシーケンスが実体化されるまで着手されない。\n",
    "第二段階で各`future`を間接参照し、それぞれが完了するまでブロックする。"
   ]
  },
  {
   "cell_type": "code",
   "execution_count": 7,
   "metadata": {},
   "outputs": [
    {
     "data": {
      "text/plain": [
       "#'user/query-stores"
      ]
     },
     "execution_count": 7,
     "metadata": {},
     "output_type": "execute_result"
    }
   ],
   "source": [
    "(defn query-stores [product stores]\n",
    "    (let [futures (doall\n",
    "                      (for [store stores]\n",
    "                          (future (query store product))))]\n",
    "        (map deref futures)))"
   ]
  },
  {
   "cell_type": "markdown",
   "metadata": {},
   "source": [
    "この`query-stores`関数は各店からの結果のlazyシーケンスを返す。\n",
    "また、それらを間接参照しない`futures`のlazyシーケンスを返すだろう。(??)\n",
    "そして、呼び元は各結果を解決するためにいつブロックするかを完全に制御できるだろう。(??)\n",
    "\n",
    "今、問い合わせを並列に実行している。同時に、いくつかのサービスを待つことができる。もっとスレッドの影響力を行使することで全体の時間を削減する。次の図のように。\n",
    "この図は`future`に呼び出され、各問い合わせの結果を間接参照することを待っている3つの`query-stores`を示している。\n",
    "\n",
    "![fig-05-04](fig_05_04.jpg)"
   ]
  },
  {
   "cell_type": "markdown",
   "metadata": {},
   "source": [
    "この方法で`future`を使うことはひとつのマイナス面をもつ。非同期な計算は元のコードへひとつの結果を返すだけです。\n",
    "もし計算上の異なる点での複数の値を返して欲しいならば、`promise`を使うことができる。\n",
    "\n",
    "## Making Promises\n",
    "\n",
    "`promise`はひとつの値(だけ)をあるスレッドから別のスレッドへ移すために使われます。\n",
    "従って、複数の`promise`は非同期な計算における異なる時点における値を返すために使われます。\n",
    "例えば、ある非同期な計算に時間をかけて、その後その実行の開始と終了の時間を取得したいと思ってください。"
   ]
  },
  {
   "cell_type": "code",
   "execution_count": 1,
   "metadata": {},
   "outputs": [
    {
     "data": {
      "text/plain": [
       "#'user/launch-timed"
      ]
     },
     "execution_count": 1,
     "metadata": {},
     "output_type": "execute_result"
    }
   ],
   "source": [
    "(defn long-running-task []\n",
    "    ,,,)\n",
    "\n",
    "(defn launch-timed []\n",
    "    (let [begin-promise (promise)\n",
    "          end-promise (promise)]\n",
    "        (future (deliver begin-promise (System/currentTimeMillis))\n",
    "            (long-running-task)\n",
    "            (deliver end-promise (System/currentTimeMillis)))\n",
    "        (println \"task begin at\" @begin-promise)\n",
    "        (println \"task end at\" @end-promise)))"
   ]
  },
  {
   "cell_type": "markdown",
   "metadata": {},
   "source": [
    "この例において、`begin-promise`と`end-promise`の2つの`promise`を作る。\n",
    "値は`promise`を経由して`deliver`関数により届けられる。\n",
    "値はいちどだけ`promise`を経由して届けられ、最初の配達の後、その次の配達はなんの影響もない。\n",
    "\n",
    "それらの`promise`は後でその値を取り戻すために間接参照できる。\n",
    "この間接参照は値が利用可能である間ブロックする。そしてそれを返す。\n",
    "`promise`の値が利用可能であるかブロッキングなしで見るためには、`realize?`関数を使う。\n",
    "また、`deref`の変種が特定のタイムアウト期間を待つことに気を付けてください。\n",
    "\n",
    "`future`と`agent`を仕事を非同期におこなうために使えて、待つことを押しやるかバックグラウンド・スレッド上にて仕事をすることが可能になる。\n",
    "`future`と`promise`は同様に、非同期タスクから結果を返す方法を制御することを可能にしてくれる。\n",
    "(それがあなたのためになるかもしれないものは何でも)実際の仕事をおこなうプログラムを構築する方法を見ることが必要である。\n",
    "\n",
    "# Queues and Workers\n",
    "\n",
    "多くのプログラムはタスク・プロセッサの全体または一部に見える。タスクとは普通外部の要求に対応する仕事の単位である。\n",
    "ウェブ・アプリはウェブ・ページを構築する要求を受ける。\n",
    "ウェブ・サーバはAPI呼び出しの処理をする要求を受ける。\n",
    "バッチ・プログラムはディスクまたはデータベースからファイルを読み出して、それらを適切に処理する。\n",
    "これら一般的なパターンのすべては、ワーカーのプールに養殖された仕事のキューとしてモデル化される。\n",
    "\n",
    "キューはタスクを順序付けして保持し、仕事が到着した場所と処理された場所を分離します。\n",
    "ワーカー・プールによって異る属性のワーカーのプールを作り、その仕事を管理し監視することに使用される並列性の量とポリシーを制御することが可能になります。(??)\n",
    "あの制御により廃棄におけるハードウェアの使用をフルにすることが可能になる。(???その管理により、私たちは自分の処分でワードウェアを最大限に活用することができます。)\n",
    "\n",
    "Clojureはキューとワーカーに対していくつかの道具を提供するが、また、Javaですでに利用可能な高品質な道具の再発明を避ける。\n",
    "Clojureでこれまでに見てきた部品からキューとワーカー・プールを作る方法を考えよう。\n",
    "\n",
    "## Some Assembly Required\n",
    "\n",
    "「Model Your Domain」にて、FIFOデータのためにリストやベクタよりさらに効果的なアクセスを提供するためにClojureの永続的なキューを使った。\n",
    "しかしながら、シングル・スレッドの文脈のなかでそうした。\n",
    "永続的なキューにおいて、キューの各変形は更新された版を返す。\n",
    "もし複数のスレッドがキューを共有すれば、それらはみな同じインスタンスを共有することを必要とする。\n",
    "(`atom`や`ref`のような)状態管理の構造と状態をもったキューの実装の両方が必要である。\n",
    "\n",
    "われわれの選択肢はClojureの`atom`か参照に永続的なキューを包むことであろう。それはキューの両端が安定したアイデンティティを維持する。\n",
    "もしこれを`atom`で試みるならば、`atom`の`swap!`関数は`atom`(わたしたちにとってのキュー)の新しい値を返せるだけで、弾かれた値ではないと気づくだろう。(??)\n",
    "これによりこの主のキューから状態を持った方法で項目を引き出すことが困難になる。(??)\n",
    "\n",
    "`ref`の選択はより有望にみえる。\n",
    "このように実装できた。"
   ]
  },
  {
   "cell_type": "code",
   "execution_count": 2,
   "metadata": {},
   "outputs": [
    {
     "data": {
      "text/plain": [
       "#'user/deq"
      ]
     },
     "execution_count": 2,
     "metadata": {},
     "output_type": "execute_result"
    }
   ],
   "source": [
    "(defn queue\n",
    "    \"Create a new stateful queue\"\n",
    "    []\n",
    "    (ref clojure.lang.PersistentQueue/EMPTY))\n",
    "\n",
    "(defn enq\n",
    "    \"Enqueue item in q\"\n",
    "    [q item]\n",
    "    (dosync\n",
    "        (alter q conj item)))\n",
    "\n",
    "(defn deq\n",
    "    \"Dequeue item from q (nil if none)\"\n",
    "    [q]\n",
    "    (dosync\n",
    "        (let [item (peek @q)]\n",
    "            (alter q pop)\n",
    "            item)))"
   ]
  },
  {
   "cell_type": "markdown",
   "metadata": {},
   "source": [
    "しかしながら、このキューはブロックしない。\n",
    "一般的にコンシューマーがキューが空のときにデータが届くのを待つために`deq`にてブロックすることを望むが、この実装はただ`nil`を返すだけで代りにコンシューマーが繰り返し確認することを要求する。\n",
    "この理由により、Clojureの永続的なキューはスレッドを跨ぐ仕事のキューの管理としてはふつう良い道具でない。\n",
    "\n",
    "代りに、キューとワーカーに対するJavaの支援に注目することを必要とする。\n",
    "これはJavaライブラリが多種多様な振舞いに対して力強く支援してくれる領域です。\n",
    "\n",
    "## Java Queues\n",
    "\n",
    "キューとワーカーを支援するJavaクラスの大半は`java.util.concurrent`パッケージの中にある。\n",
    "Javaは多くのブロッキング・キューの実装を提供する。(すべて`java.util.concurrent.BlockingQueue`の実装)そして、それらはClojureから簡単に使うことができる。\n",
    "\n",
    "Javaキューの実装の中の主要な違いのひとつはデータをバッファする方法です。\n",
    "例えば、`LinkedBlockingQueue`はオブションの縛られたバッファを提供し、`ArrayBlockingQueue`は縛られたバッファを提供し、`SynchronousQueue`はまったくバッファを提供しない。生産者と消費者は両方が一方から他方への値を手にする準備ができるまで待たねばならない。\n",
    "`LinkedTransferQueue`は任意に縛られたバッファで`SynchronousQueue`の渡す能力を組み立てる。(??)\n",
    "\n",
    "これまで言及してきたすべてのキューはFIFOの順番で値を提供するが、Javaも項目を並べ直した2つのキューを提供する。\n",
    "`PriorityBlockingQueue`はアッという間にキューの前面の高い優先度の項目内にて泡立つ。(??)\n",
    "`DelayQueue`は遅延のあるメッセージを取り、遅延が切れたときにだけ可能になる。(??)\n",
    "\n",
    "縛られたバッファーのキューもしばしば、生産者が満杯のバッファに出会うときカスタム化のための機会を提供する。(??)\n",
    "Javaのブロッキング・キューAPIによって、ブロッキング、時限ブロッキング、特別な値を返すこと、例外を投げることが可能になる。\n",
    "\n",
    "普通のJava相互運用メソッドコールを通じて`put`、`take`または他の`BlockingQueue`メソッドを呼ぶことができる。\n",
    "キューを経由していくつかのメッセージを押し出しましょう。\n"
   ]
  },
  {
   "cell_type": "code",
   "execution_count": 3,
   "metadata": {},
   "outputs": [
    {
     "data": {
      "text/plain": [
       "#'ch5.jqueue/flow"
      ]
     },
     "execution_count": 3,
     "metadata": {},
     "output_type": "execute_result"
    }
   ],
   "source": [
    "(ns ch5.jqueue\n",
    "    (:import [java.util.concurrent LinkedBlockingQueue]))\n",
    "\n",
    "(defn pusher [q n]\n",
    "    (loop [i 0]\n",
    "        (when (< i n)\n",
    "            (.put q i)\n",
    "            (recur (inc i))))\n",
    "    (.put q :END))\n",
    "\n",
    "(defn popper [q]\n",
    "    (loop [items []]\n",
    "        (let [item (.take q)]\n",
    "            (if (= item :END)\n",
    "                item\n",
    "                (recur (conj items item))))))\n",
    "\n",
    "(defn flow [n]\n",
    "    (let [q (LinkedBlockingQueue.)\n",
    "          consumer (future popper q)\n",
    "          begin (System/currentTimeMillis)\n",
    "          recieved @consumer\n",
    "          end (System/currentTimeMillis)]\n",
    "        (println \"Recieved:\" (count recieved) \"in\" (- end begin) \"ms\")))\n"
   ]
  },
  {
   "cell_type": "markdown",
   "metadata": {},
   "source": [
    "`pusher`関数は`n`の数だけキューに置き、最後に`:END`を付けてメッセージの完了を通知する。\n",
    "`popper`関数は同じキューから`:END`メッセージを受けとるまでメッセージを取り出す。\n",
    "それらの関数をバックグラウンド・スレッド・プール上で実行されるであろう`future`の中で実行する。\n",
    "\n",
    "しかし、われわれはどのスレッドがその`future`を実行するか制御しない。\n",
    "Clojureの`future`と`agent`は非同期実行のための比較的簡潔なAPIを提供するが、監視と制御のいくらかの喪失がある。\n",
    "代りに、多くのスレッドで仕事をするためのJavaのビルト・イン支援を使うことができる。\n",
    "\n",
    "## Making Threads\n",
    "\n",
    "Javaはスレッドの工場(`ThreadFactory`)とキューとワーカー・プールの組み合わせ(`ExecutorService`)を表すインターフェイスを提供する。\n",
    "\n",
    "このように、プロセッサの数に合せた計算スレッドの固定されたプールを作ることができる。"
   ]
  },
  {
   "cell_type": "code",
   "execution_count": 4,
   "metadata": {},
   "outputs": [
    {
     "data": {
      "text/plain": [
       "#'ch5.jqueue/submit-task"
      ]
     },
     "execution_count": 4,
     "metadata": {},
     "output_type": "execute_result"
    }
   ],
   "source": [
    "(import '[java.util.concurrent Executors])\n",
    "(def processors (.availableProcessors (Runtime/getRuntime)))\n",
    "(defonce executor (Executors/newFixedThreadPool processors))\n",
    "\n",
    "(defn submit-task [^Runnable task]\n",
    "    (.submit executor task))"
   ]
  },
  {
   "cell_type": "markdown",
   "metadata": {},
   "source": [
    "Javaは実行可能なタスクを`Runnable`または`Callable`インターフェイスを使って表す。\n",
    "役立つことに、全てのClojureの引数がない関数はそのインターフェイスを実装している。\n",
    "タスク(任意のClojureの関数)は呼び出しのために`ExecutorService`に渡される。\n",
    "そして、要求のストリームをタップすることと、それらを実行のためのタスクとして提出することは容易である。(??)\n",
    "\n",
    "Java5にて追加された、Javaの`Executor`は当時一般的だった4から8コアのマシンのための粗粒のタスクの並列性を支援するために設計されている。\n",
    "マシンにコアが追加されるにつれて、ひとつのキューを待つために発生した競合がキューから項目を取得するワーカーに対するボトルネックを作った。\n",
    "\n",
    "これに対処し、他の計算パターンを利用するために、Java7で`fork/join`と呼ばれる新しいフレームワークが導入された。\n",
    "`fork/join`はより小さなきめ細かい計算タスクと再帰計算とより多くのコアを支援するために設計され、調整されている。\n",
    "`fork/join`は多くのワーカー・キューを使い、ほかから仕事を盗むことが可能です。\n",
    "つまり、キューがやるべき仕事がなくなったら、他のキューの後ろからタスクを取ってくる。キューの間で仕事が自動的に均衡します。\n",
    "\n",
    "`java.util.concurrent.ForkJoinPool`クラスはJavaの`fork/join`の実装に対する主なエントリー・ポイントです。\n",
    "一度`ForkJoinPool`を構築したら、それはまた`ExecutorService`でもあり、同じ方法でそれに対してタスクを提出できる。\n",
    "しかしながら、Clojureはその開発者にとってもっと自然な方法で`fork/join`を活用するフレームワークを提供する。\n",
    "次に、どのように、そしていつそのフレームワークを使うか見よう。\n",
    "\n",
    "# Parallelism with Reducers\n",
    "\n",
    "Clojureにおけるほとんどのデータ操作はシーケンスに関数を適用するというふうに特定される。(??)\n",
    "シーケンス(かれらの定義によれば)はある順番に並んだ論理的な値のリストです。大部分のコア・ライブラリのシーケンス関数は`lazy`に適用される。順番に、かつシングル・スレッド上で。(??)\n",
    "あなたが「Use Your Core」の章で推測するかもしれないように、最後の詳細が問題です。\n",
    "\n",
    "`reducer`はシーケンシャルなデータ上の変換を表現する別の方法です。シーケンス関数の構成に似ている。(???)\n",
    "しかしながら、`reducer`は`fork/join`を使ってその変換を並列に実行できる。\n",
    "\n",
    "## From Sequences to Reducers\n",
    "\n",
    "具体的な例を考えましょう。\n",
    "運送会社は今すぐに配送するために必要な製品の全てについてのデータを持っている。\n",
    "各製品は領域エンティティであり配送クラスや重さ(など他の属性も)へのキーを持つ。(??)\n"
   ]
  },
  {
   "cell_type": "code",
   "execution_count": 5,
   "metadata": {},
   "outputs": [
    {
     "data": {
      "text/plain": [
       "{:id \"230984234\", :class :ground, :weight 10, :volume 300}"
      ]
     },
     "execution_count": 5,
     "metadata": {},
     "output_type": "execute_result"
    }
   ],
   "source": [
    "{:id \"230984234\"\n",
    " :class :ground\n",
    " :weight 10\n",
    " :volume 300}"
   ]
  },
  {
   "cell_type": "markdown",
   "metadata": {},
   "source": [
    "現在の陸送すべての合計の重さを計算するために、陸送だけを選択するためにシーケンス関数を使い、その重さを取り出して、合計することができる。"
   ]
  },
  {
   "cell_type": "code",
   "execution_count": 8,
   "metadata": {},
   "outputs": [
    {
     "data": {
      "text/plain": [
       "#'shipping.domain/ground?"
      ]
     },
     "execution_count": 8,
     "metadata": {},
     "output_type": "execute_result"
    }
   ],
   "source": [
    "(ns shipping.domain)\n",
    "\n",
    "(defn ground? [product]\n",
    "    (= :ground (:class product)))"
   ]
  },
  {
   "cell_type": "code",
   "execution_count": 9,
   "metadata": {},
   "outputs": [
    {
     "data": {
      "text/plain": [
       "#'shipping.domain/qround-weight"
      ]
     },
     "execution_count": 9,
     "metadata": {},
     "output_type": "execute_result"
    }
   ],
   "source": [
    "(defn qround-weight [products]\n",
    "    (->> products\n",
    "         (filter ground?)\n",
    "         (map :weight)\n",
    "         (reduce +)))"
   ]
  },
  {
   "cell_type": "markdown",
   "metadata": {},
   "source": [
    "Clojureはプログラムを一連の構成可能なシーケンスの操作として表すのを容易にする。\n",
    "lazyさ、それはひとかたまりで一時的な最適化により支援される、は大きな製品のリストに対してその操作を効果的に行うことを可能にする。\n",
    "しかしながら、このコードは仕事をするのにシングル・スレッドを使うだけです。\n",
    "\n",
    "Clojureは`pmap`という`map`の特別な並列版を提供する。それはシーケンスの要素を取り、`future`でバックグラウンド・スレッドに異なる要素を送ることで仕事を並列に行う。\n",
    "\n",
    "しかしながら、ほとんどの場合において要素ごとのなすべきタスクは小さい(ここでは、ただマップからひとつの属性を抜き出している)。\n",
    "`future`を呼ぶことはスレッドの境界を越えて仕事を渡し、その結果を引き出すための同期のオーバーヘッドを加えることになる。\n",
    "このオーバーヘッドに比べてタスクが小さいとき、`pmap`は対向のシングル・スレッドよりより遅くなるだろう。\n",
    "加えて、このユース・ケースにおいて、まだコードの`filter`と`reduce`の部分を並列化していない。\n",
    "\n",
    "Clojureはこの問題への解決策を持っている。`reducer`です。\n",
    "`reducer`は(ちょうどシーケンスを扱うように)一連の構成可能なきめ細かい操作としてデータの変換を組み立てる方法を提供するが、すべての変換を実行する間に並列性を達成する。(??)\n",
    "ボーナスとして、`reducer`は(ガベージ・コレクションにより後でかならず取り戻される)シーケンスについて見るほとんどの中間結果を作ることを避ける。\n",
    "\n",
    "`reducer`は削減関数により組み立てられた縮小可能なコレクションから成る。\n",
    "縮小可能なコレクションとは削減操作をそれ自身に対してできるだけ効果的に行う方法を知るコレクション以外のなにものでもない。\n",
    "削減関数とは(ちょうど普通に`reduce`に渡すような関数)削減の間、結果を積み重ねる方法を述べる関数です。\n",
    "\n",
    "多くの削減操作が、すでにシーケンス・ライブラリで使った版を反映して提供される。(`map`、`filter`、`mapcat`など)(??)\n",
    "その操作のおのおのは`reducer`を取り、また、返すが、変換を行わない。\n",
    "代りに、その操作は新しい操作を考慮するために単に削減関数を修正するだけです。(??)\n",
    "\n",
    "変換を行なうために、`fold`という新しい`reduce`のような関数を呼び出す。\n",
    "図fig-05-05で示すように、`fold`は元のコレクションをグループに分割し、削減関数を使って各グループにおいて`reduce`を行う。\n",
    "現在、永続的なベクタとマップだけが並列に`fold`されうる。他のコレクションはすべてひとつの連続した`reduce`に後退する。(?)\n",
    "この連続した`reduce`でさえ、等しいシーケンスの版よりもっと効率的である。なぜならば、中間結果を避けるからである。\n",
    "\n",
    "前の例に返って、`clojure.core.reducers`ライブラリを引き込み、関数の`reducer`版を使って陸送の重さの計算を書き直すことができる。"
   ]
  },
  {
   "cell_type": "code",
   "execution_count": 11,
   "metadata": {},
   "outputs": [
    {
     "data": {
      "text/plain": [
       "#'shipping.reducer/ground-weight"
      ]
     },
     "execution_count": 11,
     "metadata": {},
     "output_type": "execute_result"
    }
   ],
   "source": [
    "(ns shipping.reducer\n",
    "    (:require [shipping.domain :refer (ground?)]\n",
    "              [clojure.core.reducers :as r]))\n",
    "\n",
    "(defn ground-weight [products]\n",
    "    (->> products\n",
    "         (r/filter ground?)\n",
    "         (r/map :weight)\n",
    "         (r/fold +)))"
   ]
  },
  {
   "cell_type": "markdown",
   "metadata": {},
   "source": [
    "この実装は`clojure.core`ネームスペースの代りに`clojure.core.reducers`ネームスペースの関数を使うことを除いて、元の版に似ている。\n",
    "他のアプローチに対しての`reducer`の主な利点のひとつは、操作の構成可能な形を保持することを可能にするところです。(??)\n",
    "\n",
    "![fig-05-05](fig_05_05.jpg)"
   ]
  },
  {
   "cell_type": "markdown",
   "metadata": {},
   "source": [
    "`map`と`filter`の`reducer`版は製品の元のベクタ上で変換を行わないことを思い出してください。\n",
    "`fold`の最後の呼び出しまでなにもおきない。\n",
    "この例では、`fold`のいちばん簡潔な版を使っている。それは`reduce`と`combine`段階の両方で同じ関数を使う。\n",
    "\n",
    "再帰的に問題を分割するどんな並列計算でもはただ仕事をするだけもより高価である分割することと再結合するときを決めることを必要とする。\n",
    "これに対する最良の答えはない。個別の計算のサイズに依存している。\n",
    "`fold`関数によりパーティションのサイズを指定することが可能になる。デフォルトはグループごとに512要素(`+`のような簡潔な数学操作が上手く働くサイズ)です。\n",
    "さらに複雑な変換ではより小さなパーティションのサイズが恩恵を受けるだろう。\n",
    "\n",
    "マルチ・コア・マシンにおけるパフォーマンスの向上のために`reducer`を使っている。それでは、シーケンスと`reducer`の間のパフォーマンスを比較しよう。\n",
    "\n",
    "## Reducer Performance\n",
    "\n",
    "シーケンス版と`reducer`版をますます大きな製品のベクタの上で実行しよう。\n",
    "詳細を理解するために、データを2つの尺度で見よう。\n",
    "次の図は製品の数(N)が32、128、512、2048のときの結果を示している。\n",
    "デフォルトのパーティションのサイズが512なので、Nが512より小さいとき、`fold`実際には並列ではない。ひとつのパーティションだから。\n",
    "これらのテストは4つのハイパースレッド・コア(8コアと表示される)のMacBook Proにて実行された。\n",
    "\n",
    "期待通り、シーケンス版と`reducer`版のパフォーマンスはNが512になるまでは同じです。\n",
    "しかしながら、一度そのパーティションのサイズを越えて、シーケンス版がシングル・スレッドで、`reducer`版がデータを異なるスレッド上で並列に実行される複数のパーティションに分割する。\n",
    "さあ、引き戻って、次の図にさらに3つのデータ地点(N=8192、32768、131072)を加えることで、さらにNの値が大きくなるときの衝撃を見よう。\n",
    "\n",
    "Nが大きくなるにつれて、`reducer`の利点が明らかになる。`reducer`は仕事を4つのコアに分割している、一方で、シーケンス版はひとつのコアを使っている。\n",
    "加えて、`reducer`版は出すゴミが少なく、ガベージ・コレクタのロードを削減している。\n",
    "\n",
    "`reducer`の主な利点のひとつは、もっとコアが多いマシンに移ったとき、同じコードがより速く実行することです。\n",
    "マシンのコアを切ることでこの違いを示すシミュレートができる。\n",
    "Nを131072に固定して、代りにコアの数を変えて、シーケンス版と`reducer`版のテストに返ろう。\n",
    "このテストにおいて、あらゆる高価を排除するためハイパースレッディングを切る。\n",
    "\n",
    "シーケンス版のパフォーマンスがコアの数に関係なく効果的に同じであることが、前の図から見ることができる。なぜならばコードはとにかく一つのスレッドに縛られているからです。\n",
    "シングル・コアの場合は特に悪い。なぜならば、ガベージ・コレクションとマシンにおける他の仕事がたったひとつのコアを使っているからです。\n",
    "しかしながら、`reducer`版は追加のコアに対して明確に勝っており、同じコードは自動的により速くなる。\n",
    "8か16コアのサーバに移動すればこのコードはまだもっと速くできることを予想できる。\n",
    "\n",
    "`reducer`を使うとき、データのサイズと、パーティションに対する仕事のサイズと、利用できるコアの数について考えることは重要です。\n",
    "要素の数がパーティションのサイズよりも少ないとき、シングル・スレッドです。(ただし、それでもある程度の利点は見える)。\n",
    "一度パーティションのサイズを越えると、`reducer`はマルチ・スレッドになる。しかし、オーバーヘッドのためこの利点はコアの数に等しくはならない。\n",
    "\n",
    "他のキーは並列な`fold`可能なコレクションは(今のところは。さらに追加されるだろう。)永続的なベクタと永続的なマップだけです。\n",
    "ほかのコレクション(とシーケンス)すべてはひとつのパーティションを越えて`reduce`に戻ります。\n",
    "`reduce`のほうが速い可能性が高いですがマルチ・スレッドではありません。(??)\n",
    "\n",
    "`reducer`はシーケンス・ライブラリの使いやすさの利点とマルチ・スレッドの`fork/join`のパフォーマンスを組合せる。両方の世界の良い所を。\n",
    "`reducer`のほとんどを作るためには、大量の処理が必要で、データが`fold`可能なベクタかマップに存在する場合に使用を制限する。\n",
    "\n",
    "# Thinking in Processes\n",
    "\n",
    "今まで一回の非同期(`future`と`promise`)のために複数のコアを使う方法を見てきた。粗挽きのタスクの並列性ときめ細かいデータの並列性。(??)\n",
    "しかし、どきどき、並列性でなく並行性に興味を持つ。つまり、プログラムを並行なスレッドの実行の組として設計する可能性。\n",
    "必然的に、それらの実行のスレッド間で値を伝えもしたいと思います。一度だけでなく継続的に一連の値として。\n",
    "\n",
    "`core.async`ライブラリはこの必要性への答として作られました。\n",
    "もともとは、Clojure自体の一部として着想されましたが、コア・ライブラリよりもっと速い進化を可能にするために、最終的に独立したライブラリとしてリリースされました。\n",
    "`core.async`ライブラリは2つの中心となる概念を提供します。(独立したスレッドの実行である)`go`ブロックと(ある場所から他の場所へ値を渡す手段である)`channel`です。\n",
    "次は、それらを使う方法を探ります。\n",
    "\n",
    "## Channels\n",
    "\n",
    "`channel`は、プログラムの2つ以上の部分の間で一連の値を時間の経過とともに伝達するキューのような手段です。\n",
    "`channel`はスレッドの間に生成され、渡される。それらは状態を持っている。\n",
    "\n",
    "`channel`はその内部に値を保持するためにバッファを使う。\n",
    "デフォルトでは`channel`はバッファされない(長さ0)でJavaの`SynchronousQueue`のようなものです。\n",
    "バッファされていない`channel`は生産者と消費者の両方が`channel`間で値を扱うことが可能になるまでブロックする。\n",
    "`core.async`ライブラリも固定長のバッファとバッファを削除する(もしいっぱいならば新しいデータを捨てる)こととバッファをスライドさせる(もしいっぱいならば古いデータを捨てる)ことを提供する。\n",
    "\n",
    "`core.async`で`channel`を生成するには、`chan`関数を使う。\n",
    "ここに異なるバッファの型とサイズで`channel`を生成するいくつかの例がある。"
   ]
  },
  {
   "cell_type": "code",
   "execution_count": 2,
   "metadata": {},
   "outputs": [
    {
     "data": {
      "text/plain": [
       "#object[clojure.core.async.impl.channels.ManyToManyChannel 0x131f5cab \"clojure.core.async.impl.channels.ManyToManyChannel@131f5cab\"]"
      ]
     },
     "execution_count": 2,
     "metadata": {},
     "output_type": "execute_result"
    }
   ],
   "source": [
    "(require '[clojure.core.async :refer (chan dropping-buffer sliding-buffer)])\n",
    "\n",
    "(chan)    ;; unbufferd(length = 0)\n",
    "(chan 10) ;; bufferd (length = 10)\n",
    "(chan (dropping-buffer 10)) ;; drop new values when full\n",
    "(chan (sliding-buffer 10))  ;; drop old values when full"
   ]
  },
  {
   "cell_type": "markdown",
   "metadata": {},
   "source": [
    "どんな一般的なClojureの値でも`channel`の中に置くことができ、他方に伝達できる。\n",
    "ひとつの例外は`nil`で、これは`channel`が閉まっておりなにもデータが残っていないことを示すために使われる特別な値です。\n",
    "`channel`は`close!`関数により閉められる。\n",
    "\n",
    "`channel`における2つのもっとも重要な操作は`put`と`take`で、それらは文脈と使用法に依存するいくつかの形式を持つ。\n",
    "普通のスレッドから`channel`を使うとき、`put`の操作は`>!!`で`take`の操作は`<!!`です。\n",
    "ここに`channel`を生成し、そこに値を`put`してから`take`して値を取り戻す例がある。"
   ]
  },
  {
   "cell_type": "code",
   "execution_count": 3,
   "metadata": {},
   "outputs": [
    {
     "name": "stdout",
     "output_type": "stream",
     "text": [
      "hello\n"
     ]
    }
   ],
   "source": [
    "(require '[clojure.core.async :refer (chan <!! >!!)])\n",
    "\n",
    "(def c (chan 1))\n",
    "(>!! c \"hello\")\n",
    "(println (<!! c))"
   ]
  },
  {
   "cell_type": "markdown",
   "metadata": {},
   "source": [
    "前のコード例において、現在のスレッドから`put`と`take`の両方の操作を行なっているが、実際のプログラムでは、`channel`の2つの端は一般的に異なるスレッドかコンポーネントからそれらの間で値を送るために使われる。\n",
    "バッファのサイズに1を指定して`channel`を生成したことに気づくかもしれません。\n",
    "もしバッファなしの`channel`を使っていたら、この例にて待つために`put`はブロックしただろう。そしてこの例が完了することを妨げていただろう。\n",
    "\n",
    "`core.async`における`channel`は必ず縛りがある。\n",
    "これは、後で問題になるような設計上の問題を回避するための意図的な設計の制約です。(??)\n",
    "システム内にて縛りがないキューは予期せぬロードが重なりあう所に置かれ、やがてリソースが尽きてシステムをクラッシュさせるだろう。\n",
    "\n",
    "代わりに、`core.async`は固定のサイズを選ぶかいっぱいになったときに何を捨てるかについてのポリシーをインスタンス化することによってバッファの長さを縛ることを要求する。\n",
    "固定サイズのバッファはいっぱいになったキューに追加を試みるとき生産者をブロックをする背圧を作る。\n",
    "これは設計を前もって考えることを促進します、生産中ではなく。システムはロードを待つことによるブロックを明示的に扱うことをハッキリと設計されねばならない。受ける仕事を減らすかなにをやらないかを選択する。\n",
    "\n",
    "完全に異なるサブシステム内の専用スレッドから`channel`を使うことは可能ではあるけれども、`goブロック`からそれを使うことがより一般的です。\n",
    "`goブロック`によりスレッドのプールにより支援される軽量プロセス・ループを生成することが可能になる。\n",
    "\n",
    "## Go Blocks\n",
    "\n",
    "伝統的に、Java(またはClojure)プログラムはそのプログラムの各部分の実際の処理を含む(実際のOSのスレッドに対応する)スレッドを作る。\n",
    "`core.async`ライブラリは異なる伝統に従っている。それはC.A.R.Hoareの古い作品「Communicating Sequential Processes」の遺産に基く。\n",
    "\n",
    "ここではその作品の詳細には触れない。\n",
    "重要なことはプログラムを構築する方法についての異なる方法の考え方を学ぶことです。\n",
    "スレッドは少なくて高価なリソースです。\n",
    "それらはスタック空間と他のリソースを消費し、それらは比較的開始するのが遅い。\n",
    "そのスレッドがI/Oをブロックするとき、わたしたちはそのシステムのリソースを浪費する。\n",
    "\n",
    "代りに、`core.async`はスレッド・プール対応づけられていて、仕事の準備が整ったときにのみ実行する軽量プロセスの観点から考えることを奨励する。\n",
    "`channel`からのまたは`channel`へのメッセージを待つ間ブロックする代りに、プロセスが再度実行の準備ができるまでそれらのプロセスは駐車(parked)できる。(??)\n",
    "これによって複数のI/O操作に渡って選択するための、また、最初のものが完了したときに進むいくつかの興味深い新しい振舞いを実装できる。\n",
    "\n",
    "`core.async`において、そのプロセスを(Go言語の同様な概念にもとづき)`goブロック`を呼ぶ。\n",
    "`goブロック`内では`channel`を使うが、`put`や`take`操作は`<!`と`>!`である。\n",
    "\n",
    "ここにメッセージを受け取って表示処理する`goブロック`をつくる関数の例がある。"
   ]
  },
  {
   "cell_type": "code",
   "execution_count": 3,
   "metadata": {},
   "outputs": [
    {
     "data": {
      "text/plain": [
       "#'user/go-print"
      ]
     },
     "execution_count": 3,
     "metadata": {},
     "output_type": "execute_result"
    }
   ],
   "source": [
    "(require '[clojure.core.async :refer (go <!)])\n",
    "\n",
    "(defn go-print\n",
    "    \"Pull messages from channel c and print them.\"\n",
    "    [c]\n",
    "    (go\n",
    "        (loop []\n",
    "            (when-some [val (<! c)]\n",
    "                       (println \"Recieved a message:\" val)\n",
    "                       (recur)))))"
   ]
  },
  {
   "cell_type": "markdown",
   "metadata": {},
   "source": [
    "この例において、`goブロック`は軽量プロセスとして実行する。\n",
    "`channel`操作(`<!`や`>!`など)に到着するときに、もし`channel`操作が実行されれば、実行は継続する。\n",
    "もし`channel`操作が続けられなければ、`goブロック`は駐車(park)する。\n",
    "駐車(parked)した`goブロック`はスレッドを消費せず、効果的に停止(suspended)した計算はデータを待つ。\n",
    "`channel`操作が進めるようになったとき、`goブロック`は起き上がって続きの実行をする。\n",
    "\n",
    "`goブロック`はプログラムを潜在的な並列プロセスに分割する偉大な道具です。\n",
    "`core.async`が`goブロック`と`channel`を特によく支援する、あるユース・ケースはデータ変換の段階のパイプラインを構築することです。\n",
    "\n",
    "## Pipelines\n",
    "\n",
    "`core.async`ライブラリは並列な変換の段階にて2つの`channel`を接続する一連の関数を提供する。`pipeline`、`pipeline-blocking`、`pipeline-async`だ。\n",
    "このpipeline関数は(より簡単な`pipe`と同様に)入力`channel`から出力`channel`へと値を移すが、重要なある特徴を提供する。並列な`transducer`の実行です。\n",
    "\n",
    "この特徴によって`channel`で分割されたデータの変換の段階を作ることに対して`pipeline`が偉大になる。(??)\n",
    "各`transducer`の段階は多くの変換を潜在的に組合せることができるので、並列性の程度、および`channel`の分離に価値がある場所についての多くの選択を提供する。\n",
    "\n",
    "例えば、SNSのストリームを処理するシステムを考えでください。\n",
    "`transducer`として定義した一連の変換を提供できる。\n"
   ]
  },
  {
   "cell_type": "code",
   "execution_count": 1,
   "metadata": {},
   "outputs": [
    {
     "data": {
      "text/plain": [
       "#'user/score"
      ]
     },
     "execution_count": 1,
     "metadata": {},
     "output_type": "execute_result"
    }
   ],
   "source": [
    ";; parse message into set of words\n",
    "(def parse-words (map #(set (clojure.string/split % #\"\\s\"))))\n",
    "\n",
    ";; filter messages that contain a word of interest\n",
    "(def interesting (filter #(contains? % \"Clojure\")))\n",
    "\n",
    ";; detect sentiment based on different word lists\n",
    "(defn match [search-words message-words]\n",
    "    (count (clojure.set/intersection search-words message-words)))\n",
    "(def happy (partial match #{\"happy\" \"awsome\" \"rocks\" \"amazing\"}))\n",
    "(def sad (partial match #{\"sad\" \"bug\" \"crash\"}))\n",
    "(def score (map #(hash-map :words %1\n",
    "                           :happy (happy %1)\n",
    "                           :sad (sad %1))))"
   ]
  },
  {
   "cell_type": "markdown",
   "metadata": {},
   "source": [
    "これらの`transducer`は入力ストリームから出力ストリームへのひとつの段階のpipelineで一緒に構成することができます。\n"
   ]
  },
  {
   "cell_type": "code",
   "execution_count": 9,
   "metadata": {},
   "outputs": [
    {
     "data": {
      "text/plain": [
       "#'user/sentiment-state"
      ]
     },
     "execution_count": 9,
     "metadata": {},
     "output_type": "execute_result"
    }
   ],
   "source": [
    "(defn sentiment-state\n",
    "    [in out]\n",
    "    (let [xf (comp parse-words interesting score)]\n",
    "        (clojure.core.async/pipeline 4 out xf in)))"
   ]
  },
  {
   "cell_type": "markdown",
   "metadata": {},
   "source": [
    "これは、`in`から`out`へ4つの並列なスレッドで接続し、それぞれが組み合された`transducer`の変換を処理します。\n",
    "しかし、アーカイブへログを取っているような感情の分析が進行中である間に異る`pipeline`の段階にて発生している他の分析があるかもしれない。(??)\n",
    "その場合、この段階を2つに分割することができる。感情の分析の前に新しい中間`channel`を作ります。"
   ]
  },
  {
   "cell_type": "code",
   "execution_count": 4,
   "metadata": {},
   "outputs": [
    {
     "data": {
      "text/plain": [
       "#'user/assemble-stages"
      ]
     },
     "execution_count": 4,
     "metadata": {},
     "output_type": "execute_result"
    }
   ],
   "source": [
    "(require '[clojure.core.async :as async])\n",
    "\n",
    "(defn interesting-stage\n",
    "    [in intermediate]\n",
    "    (let [xf (comp parse-words interesting)]\n",
    "        (async/pipeline 4 intermediate xf in)))\n",
    "\n",
    "(defn score-stage\n",
    "    [intermediate out]\n",
    "    (async/pipeline 1 out score intermediate))\n",
    "\n",
    "(defn assemble-stages\n",
    "    [in out]\n",
    "    (let [intermediate (async/chan 100)]\n",
    "        (interesting-stage in intermediate)\n",
    "        (score-stage intermediate out)))"
   ]
  },
  {
   "cell_type": "markdown",
   "metadata": {},
   "source": [
    "今、入力メッセージのすべてを取って興味のあるものだけを出力する(4つのスレッドまでを使う)最初の段階と興味のあるメッセージを取りそれらにスコアを付ける第2の段階を持つ。\n",
    "第2の段階に対して、量が比較的少ないため、並列処理をひとつのスレッドに減らすことができる。\n",
    "いちどそれらの段階を組み合せれば、`intermediate`メッセージ`channel`を他の目的に使う機会がまたある。\n",
    "\n"
   ]
  },
  {
   "cell_type": "markdown",
   "metadata": {},
   "source": [
    "# Wrapping Up\n"
   ]
  }
 ],
 "metadata": {
  "kernelspec": {
   "display_name": "Clojure",
   "language": "clojure",
   "name": "clojure"
  },
  "language_info": {
   "file_extension": ".clj",
   "mimetype": "text/x-clojure",
   "name": "clojure",
   "version": "1.8.0"
  }
 },
 "nbformat": 4,
 "nbformat_minor": 2
}
