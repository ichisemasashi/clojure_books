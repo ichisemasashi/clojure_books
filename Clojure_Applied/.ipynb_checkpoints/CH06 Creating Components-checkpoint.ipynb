{
 "cells": [
  {
   "cell_type": "markdown",
   "metadata": {},
   "source": []
  },
  {
   "cell_type": "markdown",
   "metadata": {},
   "source": [
    "# Organizing with Namespaces\n",
    "## Namespace Categories\n",
    "## Public vs. Private Functions\n",
    "# Designing Components APIs\n",
    "## Manipulating Component Data with FUnctions\n",
    "## Asynchronous APIs\n",
    "# Connecting Components with Channels\n",
    "## Fan Out(One-to-Many)\n",
    "## Fan In (Many-to-One)\n",
    "# Implementing Components\n",
    "## Granularity of State\n",
    "## Configuration\n",
    "## Life Cycle\n",
    "# Wrapping Up"
   ]
  }
 ],
 "metadata": {
  "kernelspec": {
   "display_name": "Clojure",
   "language": "clojure",
   "name": "clojure"
  },
  "language_info": {
   "file_extension": ".clj",
   "mimetype": "text/x-clojure",
   "name": "clojure",
   "version": "1.8.0"
  }
 },
 "nbformat": 4,
 "nbformat_minor": 2
}
