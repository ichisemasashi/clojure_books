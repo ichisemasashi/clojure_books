{
 "cells": [
  {
   "cell_type": "markdown",
   "metadata": {},
   "source": [
    "\n",
    "ClojureのコレクションはClojreにおける基本的なデータの集計の意味であり、Clojureアプリのあらゆるレベルで使われます。\n",
    "この章では、われわれの領域モデルの内部や周辺でアプリ・データの生成、更新、アクセスするコレクションを使う方法に集中します。(??)\n",
    "\n",
    "異なるニーズに対する正しいコレクションの種類を選んだり作ったりすることの基本から始める。\n",
    "この選択は基本的に、生成した後にそのコレクションをどのように使うことを期待するかということに駆動される。\n",
    "\n",
    "いくつかの場合、コレクションの大部分を一度に更新するために特定のコレクションや関数を使うことができる。\n",
    "また、マップのデータにアクセスすることやシーケンシャルなデータの項目を探すことについて、ある関心を見る。\n",
    "\n",
    "すでに見た関数と働くカスタム・コレクションを作る方法を見ることで終わりにする。\n",
    "これは応用テクニックだが、特定のアプリを仕立てるデータ構造を作る有用な方法である。\n",
    "\n",
    "# Choosing the Right Collection\n",
    "\n",
    "Clojureは事実上、すべてのアプリが必要とする組み合わせに使われる少ない数のコレクションを提供している。(??)\n",
    "ここでは、あなたがすでにClojureの4つの基本コレクション(リスト、ベクタ、セット、マップ)に慣れていることを期待している。\n",
    "\n",
    "使用するために正しいコレクションを選択するとき、手元のデータの個性とそのコレクションを呼ぶであろう操作によって案内される。\n",
    "Clojureのコレクション関数は、しばしば、実装者によってきっと遭遇するであろうパフォーマンスの制約を指定する。(??)\n",
    "\n",
    "もし、あるキーからある値への関連が必要とするならば、マップが明らかな選択だ。\n",
    "われわれの領域モデルにおいて、要素の容器(要素のフィールドと値の間の関連)としてマップを使うことを考えた。\n",
    "また、関係性をモデル化するときにアイデンティファイアのインデックスとして使うマップを見た。\n",
    "`get`関数を使うことであるキーにもとづいた値を検索したいときはいつでも、マップが必要です。\n",
    "\n",
    "Clojureのセットは数学的な集合として働き、順不同であることと重複を許さないという重要な性質を持つ。\n",
    "セットは基本的に、`contains?`や`get`を使うことでセットがある値を含むかどうか素早くチェックすることが必要な状況で使われる。\n",
    "\n",
    "自然な、大部分の他のデータはシーケンシャルである。\n",
    "Clojureはシーケンシャルなデータ構造としてリストとベクタを提供する。\n",
    "つづいて、それらからどうやって選択するか見てみよう。\n",
    "\n",
    "## Sequential Collections\n",
    "\n",
    "シーケンシャル・データとはある順番で並んだ一連の値のことです。\n",
    "シーケンシャル・データにとって、2つの基本的な案がある。まずどこにデータを追加や削除されるか、また索引付きアクセスを必要とするかどうかー懸念点はシーケンシャル・コレクションにおいてある要素がその位置によって検索できるかどうかである。\n",
    "\n",
    "Clojureのリストは、各セルが値と次のセルへの参照をつなげた連結リストデータ構造として実装されている。\n",
    "リストにとって、既存のセルを指す新しいセルを作ることで、新しいリンクを鎖の頭に加えることは簡単です。\n",
    "反対に、要素をリストの最後に加える場合、新しいセルが加えられる前にすべてのリストを経由する必要があります。\n",
    "\n",
    "リストがベストな選択であるひとつの場合は、スタック(ビュッフェのプレートのスタックのような)が必要なときです。\n",
    "スタックはデータ構造を経由するときにどこにいるのか覚えておく必要があるときに有用です。(木やグラフなど)\n",
    "`cons`によって、要素はスタックの先頭に積まれます。\n",
    "また、先頭の値を見る(`peek`)ことやスタックの先頭の要素を取り除く(`pop`)こともできます。\n",
    "\n",
    "Clojureのベクタは配列と比較できます。それは要素への索引付きアクセスを提供します。\n",
    "ベクタはコレクションの先頭ではなく、最後尾に成長するようにデザインされています。\n",
    "\n",
    "`conj`のようなClojureのオペレーションは自然な挿入位置に要素を加えます。リストであれば先頭に、ベクタであれば最後尾に。\n",
    "Clojureに不慣れな開発者はひとつのオペレーションがデータ構造の違いによって異なる振舞いをすることにどまどいがちです。\n",
    "しかしながら、`conj`は各データ構造に最適な場所へ効果的に要素を加えるようにデザインされています。\n",
    "\n",
    "「Model Your Domain」にある`Recipe`の`steps`のためのコレクションを選ぶことを考えましょう。\n",
    "もし、ユーザが`steps`を挿入した順番を保持することを求めていたならば、シーケンシャルで、最後尾に追加するよう振る舞うベクタを使うことが最も理にかなっている。\n",
    "また、`recipe`の実装をやる必要があるときに`steps`をインデックスで見つけることが便利であると気付くことがありそうである。\n",
    "\n",
    "今、われわれは使うべきシーケンシャル・コレクションを選ぶ方法についていくつかのアイディアを持っている。\n",
    "シーケンシャル・コレクションは便利である。なぜならば、それらは挿入の順番を保持するからです(それらの挿入位置による)。\n",
    "Clojureのセットとマップは順番を持たないが、このことが重要なときにはClojureは順番付けされたセットやマップを提供する。\n",
    "\n",
    "## Sorted Collections\n",
    "\n",
    "順序付けされたセットやマップによって、データが追加されたときにセットやマップを通してわたしたちが維持したいと思う順番を指定することがゆるされる。(??)\n",
    "\n",
    "`recipe`アプリにおいて、わたしたちは`author`のインデックスで受け渡しできることを望む。\n",
    "`author`は一意であり、セットを使うことを指している。\n",
    "セットは重複があれば自動的に除かれる。\n",
    "われわれはアルファベットの順番で`author`のインデックスを保持したい。\n",
    "\n",
    "順序付きのセットは要素のペアの順番のソートを決定する比較用関数を使う。\n",
    "比較用関数は要素のペアに適用され、最初の要素が次の要素と比べて、より小さいか、同じか、より大きいかを意味する、負の整数、ゼロ、正の整数を返す。\n",
    "\n",
    "Clojureはデータの一般的な型のために「自然な」ソート順を与えるデフォルトの比較用関数(`compare`関数によって実装されている)を提供します。ー文字列ならばアルファベット順、数値ならば上り順、などなど。\n",
    "デフォルトの比較用関数は、いつも、`nil`を他の値よりも小さく並べる。\n",
    "順序付きのマップは、比較用関数はマップの値にではなく、マップのキーに対して適用する。\n",
    "\n",
    "順序付きのセットやマップ用にカスタム比較用関数を実装するときのある一般的な落とし穴として、2つの要素が比較して同じであったとき、片方だけが残り、もう片方が削除されるということがある。これはコレクションの重複を削除する特性です。\n",
    "\n",
    "例えば、`author`要素のためのカスタム比較用関数の初めの実装は名字だけを使ったものであるとしよう。\n"
   ]
  },
  {
   "cell_type": "code",
   "execution_count": 1,
   "metadata": {},
   "outputs": [
    {
     "data": {
      "text/plain": [
       "#{{:fname \"Jeff\", :lname \"Smith\"}}"
      ]
     },
     "execution_count": 1,
     "metadata": {},
     "output_type": "execute_result"
    }
   ],
   "source": [
    "(defn compare-authors-badly [s1 s2]\n",
    "    (compare (:lname s1) (:lname s2)))\n",
    "\n",
    "(sorted-set-by compare-authors-badly\n",
    "               {:fname \"Jeff\", :lname \"Smith\"}\n",
    "               {:fname \"Bill\", :lname \"Smith\"})"
   ]
  },
  {
   "cell_type": "markdown",
   "metadata": {},
   "source": [
    "なぜならば、`compare-authors-badly`は`lname`フィールドのみにもとづいて同じように定義しており、2人の`author`のマップはひとつのセットのように見えるから重複が削除されているからです。\n",
    "\n",
    "2つの要素を確認するのに、それらが同じ値をもつにだけ等しくなるようにすることは不可欠です。\n",
    "これを行うためのひとつの方法は、まず`lname`でソートをして、同等だった場合には他のフィールド(ここでは`fname`)の比較を行うことです。\n",
    "\n"
   ]
  },
  {
   "cell_type": "code",
   "execution_count": 2,
   "metadata": {},
   "outputs": [
    {
     "data": {
      "text/plain": [
       "#{{:fname \"Bill\", :lname \"Smith\"} {:fname \"Jeff\", :lname \"Smith\"}}"
      ]
     },
     "execution_count": 2,
     "metadata": {},
     "output_type": "execute_result"
    }
   ],
   "source": [
    "(defn compare-authors [s1 s2]\n",
    "    (let [c (compare (:lname s1) (:lname s2))]\n",
    "        (if (zero? c)\n",
    "            (compare (:fname s1) (:fname s2))\n",
    "            c)))\n",
    "(sorted-set-by compare-authors\n",
    "               {:fname \"Jeff\", :lname \"Smith\"}\n",
    "               {:fname \"Bill\", :lname \"Smith\"})"
   ]
  },
  {
   "cell_type": "markdown",
   "metadata": {},
   "source": [
    "この関数は2つのフィールドだけ要素を比較するが、これらはまた、カスタム順序の要素内のフィールドを考える比較関数をより簡潔に実装する一般的なパターンでもある。\n",
    "このパターンはmind-bendingの`juxt`関数に依存している。その関数はある入力とベクタを返す全ての関数に適用する。\n",
    "\n",
    "`juxt`を使うと、われわれは一連のキーワードをあたかもgetter関数として適用でき、比較することに適した順番付きのフィールド値のシーケンスを生成できる。(??)\n",
    "\n",
    "これはつまり、`(juxt :lname :fname)`が`[\"Smith\" \"Jeff\"]`のようなベクタを生成するために要素に適用できる関数を生成する。(??)\n",
    "そして、われわれはそれらのフィールドのベクタを自然な順序(左から右へ)で比較するデフォルトの`compare`関数を使うことができる。\n",
    "\n",
    "ここから組み立てよう。\n",
    "われわれは`author`の各フィールドに`juxt`を適用して比較のためのベクタを返す、ローカルの`project-author`関数を`compare-author`の内部に作る。\n",
    "\n"
   ]
  },
  {
   "cell_type": "code",
   "execution_count": 4,
   "metadata": {},
   "outputs": [
    {
     "data": {
      "text/plain": [
       "#function[clojure.core/juxt/fn--4742]"
      ]
     },
     "execution_count": 4,
     "metadata": {},
     "output_type": "execute_result"
    }
   ],
   "source": [
    "(juxt :lname :fname)"
   ]
  },
  {
   "cell_type": "code",
   "execution_count": 3,
   "metadata": {},
   "outputs": [
    {
     "data": {
      "text/plain": [
       "#{{:fname \"Bill\", :lname \"Smith\"} {:fname \"Jeff\", :lname \"Smith\"}}"
      ]
     },
     "execution_count": 3,
     "metadata": {},
     "output_type": "execute_result"
    }
   ],
   "source": [
    "(defn compare-author [s1 s2]\n",
    "    (letfn [(project-author [author]\n",
    "                            ((juxt :lname :fname) author))]\n",
    "        (compare (project-author s1) (project-author s2))))\n",
    "(sorted-set-by compare-authors\n",
    "               {:fname \"Jeff\", :lname \"Smith\"}\n",
    "               {:fname \"Bill\", :lname \"Smith\"})"
   ]
  },
  {
   "cell_type": "markdown",
   "metadata": {},
   "source": [
    "これは、仕様不足の問題を避ける、カスタム要素の比較関数を作る有用なテクニックを証明する。(??)\n",
    "これら比較関数を作るためのさらなる詳細は、[Andy Fingerhutのガイド](https://github.com/jafingerhut/thalia/blob/master/doc/other-topics/comparators.md)を見よ。\n",
    "\n",
    "今わたしたちは仕事のために最も良いコレクションを選択する方法や作る方法を調べてきた。要素が加えられたり変更されたり取り除かれたりする、それらを更新する最も良い方法を考えよう。"
   ]
  },
  {
   "cell_type": "markdown",
   "metadata": {},
   "source": [
    "# Updating Collections\n",
    "\n",
    "わたしたちのアプリは、新しい情報を受け取り、既存の情報を更新し、関連が無くなった情報を取り除くことで、外部世界とコミュニケーションをする。\n",
    "しかしながら、これはClojureの不変なコア・コレクションを通すと奇妙に見える。\n",
    "\n"
   ]
  },
  {
   "cell_type": "markdown",
   "metadata": {},
   "source": [
    "\n",
    "## First-In/First-Out Processing\n",
    "## Bulk Import\n",
    "## Updating Maps\n",
    "# Accessing Collection\n",
    "## Indexed Access\n",
    "## Sequential Search\n",
    "# Building Custom Collections\n",
    "## Collection Traits\n",
    "## Custom Printing for Types\n",
    "# Wrapping Up\n"
   ]
  }
 ],
 "metadata": {
  "kernelspec": {
   "display_name": "Clojure",
   "language": "clojure",
   "name": "clojure"
  },
  "language_info": {
   "file_extension": ".clj",
   "mimetype": "text/x-clojure",
   "name": "clojure",
   "version": "1.8.0"
  }
 },
 "nbformat": 4,
 "nbformat_minor": 2
}
