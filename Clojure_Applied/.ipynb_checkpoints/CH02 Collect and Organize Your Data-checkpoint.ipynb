{
 "cells": [
  {
   "cell_type": "markdown",
   "metadata": {},
   "source": [
    "\n",
    "ClojureのコレクションはClojreにおける基本的なデータの集計の意味であり、Clojureアプリのあらゆるレベルで使われます。\n",
    "この章では、われわれの領域モデルの内部や周辺でアプリ・データの生成、更新、アクセスするコレクションを使う方法に集中します。(??)\n",
    "\n",
    "異なるニーズに対する正しいコレクションの種類を選んだり作ったりすることの基本から始める。\n",
    "この選択は基本的に、生成した後にそのコレクションをどのように使うことを期待するかということに駆動される。\n",
    "\n",
    "いくつかの場合、コレクションの大部分を一度に更新するために特定のコレクションや関数を使うことができる。\n",
    "また、マップのデータにアクセスすることやシーケンシャルなデータの項目を探すことについて、ある関心を見る。\n",
    "\n",
    "すでに見た関数と働くカスタム・コレクションを作る方法を見ることで終わりにする。\n",
    "これは応用テクニックだが、特定のアプリを仕立てるデータ構造を作る有用な方法である。\n",
    "\n",
    "# Choosing the Right Collection\n",
    "\n",
    "Clojureは事実上、すべてのアプリが必要とする組み合わせに使われる少ない数のコレクションを提供している。(??)\n",
    "ここでは、あなたがすでにClojureの4つの基本コレクション(リスト、ベクタ、セット、マップ)に慣れていることを期待している。\n",
    "\n",
    "使用するために正しいコレクションを選択するとき、手元のデータの個性とそのコレクションを呼ぶであろう操作によって案内される。\n",
    "Clojureのコレクション関数は、しばしば、実装者によってきっと遭遇するであろうパフォーマンスの制約を指定する。(??)\n",
    "\n",
    "もし、あるキーからある値への関連が必要とするならば、マップが明らかな選択だ。\n",
    "われわれの領域モデルにおいて、要素の容器(要素のフィールドと値の間の関連)としてマップを使うことを考えた。\n",
    "また、関係性をモデル化するときにアイデンティファイアのインデックスとして使うマップを見た。\n",
    "`get`関数を使うことであるキーにもとづいた値を検索したいときはいつでも、マップが必要です。\n",
    "\n",
    "Clojureのセットは数学的な集合として働き、順不同であることと重複を許さないという重要な性質を持つ。\n",
    "セットは基本的に、`contains?`や`get`を使うことでセットがある値を含むかどうか素早くチェックすることが必要な状況で使われる。\n",
    "\n",
    "自然な、大部分の他のデータはシーケンシャルである。\n",
    "Clojureはシーケンシャルなデータ構造としてリストとベクタを提供する。\n",
    "つづいて、それらからどうやって選択するか見てみよう。\n",
    "\n",
    "## Sequential Collections\n",
    "\n",
    "シーケンシャル・データとはある順番で並んだ一連の値のことです。\n",
    "シーケンシャル・データにとって、2つの基本的な案がある。まずどこにデータを追加や削除されるか、また索引付きアクセスを必要とするかどうかー懸念点はシーケンシャル・コレクションにおいてある要素がその位置によって検索できるかどうかである。\n",
    "\n",
    "Clojureのリストは、各セルが値と次のセルへの参照をつなげた連結リストデータ構造として実装されている。\n",
    "リストにとって、既存のセルを指す新しいセルを作ることで、新しいリンクを鎖の頭に加えることは簡単です。\n",
    "反対に、要素をリストの最後に加える場合、新しいセルが加えられる前にすべてのリストを経由する必要があります。\n",
    "\n",
    "リストがベストな選択であるひとつの場合は、スタック(ビュッフェのプレートのスタックのような)が必要なときです。\n",
    "スタックはデータ構造を経由するときにどこにいるのか覚えておく必要があるときに有用です。(木やグラフなど)\n",
    "`cons`によって、要素はスタックの先頭に積まれます。\n",
    "また、先頭の値を見る(`peek`)ことやスタックの先頭の要素を取り除く(`pop`)こともできます。\n",
    "\n",
    "Clojureのベクタは配列と比較できます。それは要素への索引付きアクセスを提供します。\n",
    "ベクタはコレクションの先頭ではなく、最後尾に成長するようにデザインされています。\n",
    "\n",
    "`conj`のようなClojureのオペレーションは自然な挿入位置に要素を加えます。リストであれば先頭に、ベクタであれば最後尾に。\n",
    "Clojureに不慣れな開発者はひとつのオペレーションがデータ構造の違いによって異なる振舞いをすることにどまどいがちです。\n",
    "しかしながら、`conj`は各データ構造に最適な場所へ効果的に要素を加えるようにデザインされています。\n",
    "\n",
    "「Model Your Domain」にある`Recipe`の`steps`のためのコレクションを選ぶことを考えましょう。\n",
    "もし、ユーザが`steps`を挿入した順番を保持することを求めていたならば、シーケンシャルで、最後尾に追加するよう振る舞うベクタを使うことが最も理にかなっている。\n",
    "また、`recipe`の実装をやる必要があるときに`steps`をインデックスで見つけることが便利であると気付くことがありそうである。\n",
    "\n",
    "今、われわれは使うべきシーケンシャル・コレクションを選ぶ方法についていくつかのアイディアを持っている。\n",
    "シーケンシャル・コレクションは便利である。なぜならば、それらは挿入の順番を保持するからです(それらの挿入位置による)。\n",
    "Clojureのセットとマップは順番を持たないが、このことが重要なときにはClojureは順番付けされたセットやマップを提供する。\n",
    "\n",
    "## Sorted Collections\n",
    "\n",
    "順序付けされたセットやマップによって、データが追加されたときにセットやマップを通してわたしたちが維持したいと思う順番を指定することがゆるされる。(??)\n",
    "\n",
    "`recipe`アプリにおいて、わたしたちは`author`のインデックスで受け渡しできることを望む。\n",
    "`author`は一意であり、セットを使うことを指している。\n",
    "セットは重複があれば自動的に除かれる。\n",
    "われわれはアルファベットの順番で`author`のインデックスを保持したい。\n",
    "\n",
    "順序付きのセットは要素のペアの順番のソートを決定する比較用関数を使う。\n",
    "比較用関数は要素のペアに適用され、最初の要素が次の要素と比べて、より小さいか、同じか、より大きいかを意味する、負の整数、ゼロ、正の整数を返す。\n",
    "\n",
    "Clojureはデータの一般的な型のために「自然な」ソート順を与えるデフォルトの比較用関数(`compare`関数によって実装されている)を提供します。ー文字列ならばアルファベット順、数値ならば上り順、などなど。\n",
    "デフォルトの比較用関数は、いつも、`nil`を他の値よりも小さく並べる。\n",
    "順序付きのマップは、比較用関数はマップの値にではなく、マップのキーに対して適用する。\n",
    "\n",
    "順序付きのセットやマップ用にカスタム比較用関数を実装するときのある一般的な落とし穴として、2つの要素が比較して同じであったとき、片方だけが残り、もう片方が削除されるということがある。これはコレクションの重複を削除する特性です。\n",
    "\n",
    "例えば、`author`要素のためのカスタム比較用関数の初めの実装は名字だけを使ったものであるとしよう。\n"
   ]
  },
  {
   "cell_type": "code",
   "execution_count": 1,
   "metadata": {},
   "outputs": [
    {
     "data": {
      "text/plain": [
       "#{{:fname \"Jeff\", :lname \"Smith\"}}"
      ]
     },
     "execution_count": 1,
     "metadata": {},
     "output_type": "execute_result"
    }
   ],
   "source": [
    "(defn compare-authors-badly [s1 s2]\n",
    "    (compare (:lname s1) (:lname s2)))\n",
    "\n",
    "(sorted-set-by compare-authors-badly\n",
    "               {:fname \"Jeff\", :lname \"Smith\"}\n",
    "               {:fname \"Bill\", :lname \"Smith\"})"
   ]
  },
  {
   "cell_type": "markdown",
   "metadata": {},
   "source": [
    "なぜならば、`compare-authors-badly`は`lname`フィールドのみにもとづいて同じように定義しており、2人の`author`のマップはひとつのセットのように見えるから重複が削除されているからです。\n",
    "\n",
    "2つの要素を確認するのに、それらが同じ値をもつにだけ等しくなるようにすることは不可欠です。\n",
    "これを行うためのひとつの方法は、まず`lname`でソートをして、同等だった場合には他のフィールド(ここでは`fname`)の比較を行うことです。\n",
    "\n"
   ]
  },
  {
   "cell_type": "code",
   "execution_count": 2,
   "metadata": {},
   "outputs": [
    {
     "data": {
      "text/plain": [
       "#{{:fname \"Bill\", :lname \"Smith\"} {:fname \"Jeff\", :lname \"Smith\"}}"
      ]
     },
     "execution_count": 2,
     "metadata": {},
     "output_type": "execute_result"
    }
   ],
   "source": [
    "(defn compare-authors [s1 s2]\n",
    "    (let [c (compare (:lname s1) (:lname s2))]\n",
    "        (if (zero? c)\n",
    "            (compare (:fname s1) (:fname s2))\n",
    "            c)))\n",
    "(sorted-set-by compare-authors\n",
    "               {:fname \"Jeff\", :lname \"Smith\"}\n",
    "               {:fname \"Bill\", :lname \"Smith\"})"
   ]
  },
  {
   "cell_type": "markdown",
   "metadata": {},
   "source": [
    "この関数は2つのフィールドだけ要素を比較するが、これらはまた、カスタム順序の要素内のフィールドを考える比較関数をより簡潔に実装する一般的なパターンでもある。\n",
    "このパターンはmind-bendingの`juxt`関数に依存している。その関数はある入力とベクタを返す全ての関数に適用する。\n",
    "\n",
    "`juxt`を使うと、われわれは一連のキーワードをあたかもgetter関数として適用でき、比較することに適した順番付きのフィールド値のシーケンスを生成できる。(??)\n",
    "\n",
    "これはつまり、`(juxt :lname :fname)`が`[\"Smith\" \"Jeff\"]`のようなベクタを生成するために要素に適用できる関数を生成する。(??)\n",
    "そして、われわれはそれらのフィールドのベクタを自然な順序(左から右へ)で比較するデフォルトの`compare`関数を使うことができる。\n",
    "\n",
    "ここから組み立てよう。\n",
    "われわれは`author`の各フィールドに`juxt`を適用して比較のためのベクタを返す、ローカルの`project-author`関数を`compare-author`の内部に作る。\n",
    "\n"
   ]
  },
  {
   "cell_type": "code",
   "execution_count": 4,
   "metadata": {},
   "outputs": [
    {
     "data": {
      "text/plain": [
       "#function[clojure.core/juxt/fn--4742]"
      ]
     },
     "execution_count": 4,
     "metadata": {},
     "output_type": "execute_result"
    }
   ],
   "source": [
    "(juxt :lname :fname)"
   ]
  },
  {
   "cell_type": "code",
   "execution_count": 3,
   "metadata": {},
   "outputs": [
    {
     "data": {
      "text/plain": [
       "#{{:fname \"Bill\", :lname \"Smith\"} {:fname \"Jeff\", :lname \"Smith\"}}"
      ]
     },
     "execution_count": 3,
     "metadata": {},
     "output_type": "execute_result"
    }
   ],
   "source": [
    "(defn compare-author [s1 s2]\n",
    "    (letfn [(project-author [author]\n",
    "                            ((juxt :lname :fname) author))]\n",
    "        (compare (project-author s1) (project-author s2))))\n",
    "(sorted-set-by compare-authors\n",
    "               {:fname \"Jeff\", :lname \"Smith\"}\n",
    "               {:fname \"Bill\", :lname \"Smith\"})"
   ]
  },
  {
   "cell_type": "markdown",
   "metadata": {},
   "source": [
    "これは、仕様不足の問題を避ける、カスタム要素の比較関数を作る有用なテクニックを証明する。(??)\n",
    "これら比較関数を作るためのさらなる詳細は、[Andy Fingerhutのガイド](https://github.com/jafingerhut/thalia/blob/master/doc/other-topics/comparators.md)を見よ。\n",
    "\n",
    "今わたしたちは仕事のために最も良いコレクションを選択する方法や作る方法を調べてきた。要素が加えられたり変更されたり取り除かれたりする、それらを更新する最も良い方法を考えよう。"
   ]
  },
  {
   "cell_type": "markdown",
   "metadata": {},
   "source": [
    "# Updating Collections\n",
    "\n",
    "わたしたちのアプリは、新しい情報を受け取り、既存の情報を更新し、関連が無くなった情報を取り除くことで、外部世界とコミュニケーションをする。\n",
    "しかしながら、これはClojureの不変なコア・コレクションを通すと奇妙に見える。\n",
    "\n",
    "Clojureでは、変更はいつでも純粋関数のアプリとして不変の値としてモデル化されます。\n",
    "わたしたちは言葉の体操を避けることになるように変更を意味してシンプルな単語を述べるために`update`を使うでしょう。(??)\n",
    "\n",
    "永続性とともにコレクションを定義することは大きな利点があります。\n",
    "まず、並列スレッドは、値を参照するのではなくて、値をまわることができます。\n",
    "これは他のスレッドにより予想外にデータが変更されないということを確保します。\n",
    "次に、わたしたちは領域のロジックを状態管理の技術から分けて、並列性を領域データと機能から明確に分れる(??)\n",
    "\n",
    "シーケンシャル・データとともに発生するひとつの特別な場合は、`First-In/First-Out`処理としても知られるキューのように更新する必要性がある。\n",
    "\n",
    "## First-In/First-Out Processing\n",
    "\n",
    "ウェイターから順番が来るランチ・カウンタを想像してみてください。\n",
    "公平性のために、わたしたちは順番は受けとった順番にしたがうと期待します。ー `First-In/First-Out` `(FIFO)`処理。\n",
    "\n",
    "Clojureでこのランチ・カウンタをモデル化するとき、未処理のランチの順番を保つコレクションが必要になります。\n",
    "ランチの順番は時間に対して自然な順番を持つから、わたしたちはそれらを保持するためにリストかベクタのようなシーケンシャルなコレクションを求めます。\n",
    "ベクタを試しましょう。\n"
   ]
  },
  {
   "cell_type": "markdown",
   "metadata": {},
   "source": [
    "```\n",
    "(defn new-orders [] [])\n",
    "\n",
    "(defn add-order [orders order]\n",
    "    (conj orders order))\n",
    "\n",
    "(defn cook-order [orders]\n",
    "    (cook (forst orders) (rest orders)))\n",
    "```"
   ]
  },
  {
   "cell_type": "markdown",
   "metadata": {},
   "source": [
    "`add-order`関数は「新しい注文」を「これまでの注文」の最後に追加します。これはベクタの効果です。\n",
    "しかしながら、`orders`ベクタの`rest`を呼ぶことは非効率的です。これでは、(ベクタではなく)シーケンスを生成して返してしまいます(`first`要素以外)。\n",
    "コレクションの型としてベクタを保ちたいのであれば、新しいベクタを構築し、シーケンスの要素をそこに加えることが必要です。これらは高くつきます。\n",
    "\n",
    "それでは、リストで実装してみましょう。\n",
    "`cook-order`のコードは、ちょうど同じままでしょうが、リンクド・リストにおいては`rest`を呼ぶことは効率的であるため、ベクタのときにあったパフォーマンスの問題を扱っています。\n",
    "しかしながら、`add-order`にて新しい問題を招いてしまっている。\n",
    "\n",
    "```\n",
    "(defn new-orders [] '())\n",
    "\n",
    "(defn add-order [orders order]\n",
    "  (concat orders (list order)))\n",
    "```\n",
    "\n",
    "リストの最後尾にオブジェクトを追加することは、最後の要素を見つけて新しいポインタを追加するためにリスト全体を横切ることが必要になる。\n",
    "リストで効果的に追加や削除をできるのは先頭で、ベクタで効果的に追加や削除ができるのは最後尾ですーしかし、ここで欲しいコレクションとは、最後尾に追加し、先頭から削除するものです。\n",
    "ここで必要とされるのは下の図のようなキューです。\n",
    "\n",
    "![Queue.jpg](./Queue.jpg)"
   ]
  },
  {
   "cell_type": "markdown",
   "metadata": {},
   "source": [
    "他のコア・コレクションすべてと同様、キューは不変で永続的なコレクションであり、リストやベクタで機能すると期待できるのとまったく同じ関数をすべてをサポートする。\n",
    "これが、キューでランチ・コーナーをどのように実装する方法です。\n",
    "\n",
    "```\n",
    "(def new-orders clojure.lang.PersistentQueue/EMPTY)\n",
    "\n",
    "(defn add-order [orders order]\n",
    "  (conj orders order))\n",
    "\n",
    "(defn cook-order [orders]\n",
    "  (cook (peek orders))\n",
    "  (pop orders))\n",
    "```\n",
    "\n",
    "Clojureはリテラルなキュー用の構文もコンストラクタも提供していません。\n",
    "新しいキューを作るために、わたしたちは静的な空(empty)のインスタンスである`clojure.lang.PersistentQueue/EMPTY`から始める。\n",
    "`add-order`関数のなかで、ベクタのときのように、最後尾に新しい要素を追加するために単純に`conj`を使っている。\n",
    "`cook-order`関数では、一番最初のオーダーを見るために`peek`を使い、先頭を除いたオーダーを返すために`pop`を使っている。\n",
    "\n",
    "このキューの実装はオーダーの追加にもキューに積まれたオーダーの削除にも両方に効果的です。\n",
    "これこそが今回のジョブに相応しいツールです。\n",
    "\n",
    "次は、コレクションにデータを追加する処理を最適化する方法を考えましょう。"
   ]
  },
  {
   "cell_type": "markdown",
   "metadata": {},
   "source": [
    "## Bulk Import\n",
    "\n",
    "Clojureの永続的なコレクションは不変的です。\n",
    "効率のために、`conj`や`assoc`のように要素を追加することは新しい不変的な構造を生成しますが、前後の版は,一般的に大部分のデータを共有する。\n",
    "コレクションが不変的であるため、これは安全であり、データをコピーすることに比べて十分に速いです。\n",
    "Clojureは管理された文脈にて可変性を行使することによってもっと効率的にコレクションを埋める方法があります。\n",
    "\n",
    "典型的な場合は、一覧の項目をインポートすることです。\n",
    "アプリが直接システムの記録にアクセスできないとき、そのシステムからのエクスポートは開始時にアプリに入力されます。\n",
    "この一覧を変更すると、周期的な更新の必要を想像することは容易です。\n",
    "大きな一覧であれば、このプロセスは時間がかかります。\n",
    "\n",
    "アプリが開始するときに呼ばれる典型的な`import`を考えてください。\n",
    "\n",
    "```\n",
    "(defn import-catalog [data]\n",
    "  (reduce #(conj %1 %2) [] data))\n",
    "```\n",
    "\n",
    "仮に変更を使えることができ、だれにも知られずに多くの変更をすることができたならば、(??)\n",
    "Clojureの`transient`はこのようなことをすることを許しています。\n",
    "限定した範囲において、Clojureのコレクションを変更することができます。\n",
    "\n",
    "変更可能な版のベクタやハッシュ・マップやハッシュ・セット(元は依然として不変的です)を取得するために`transient`を呼んでください。\n",
    "トランジエント(一時的な)コレクションは`conj`や`assoc`のような永続的な変更をする関数によって変更されることはありません。\n",
    "トランジエント(一時的な)コレクションはインスタンスを変更する等しい関数の組を持ちます。それらはすべて接尾辞として`!`を伴ないます。(`conj!`、`assoc!`などなど)\n",
    "`get`や`contains?`などのその読み出しインターフェイスはなにも変更なく仕事をしてくれます。\n",
    "変更が完了したときに、永続的なコレクションに戻すために`persistent!`を呼んでください。\n",
    "\n",
    "これがトランジエント(一時的な)コレクションを使う`import-catalog`の更新版です。\n",
    "\n",
    "```\n",
    "(defn import-catalog-fast [data]\n",
    "  (persistent!\n",
    "    (reduce #(conj! %1 %2) (transient []) data)))\n",
    "```\n",
    "\n",
    "われわれは`time`を使い一万の一覧の項目をインポートし、ベクタのベクタとして`item-data`にロードするときのスピードをチェックすることで2つのバージョンの間のパフォーマンスの違いをチェックもできる。\n",
    "\n",
    "```\n",
    "catalog-import.core=> (time (import-catalog item-data))\n",
    "\"Elasped time: 129.602 msecs\"\n",
    "catalog-import.core=> (time (import-catalog-fast item-data))\n",
    "\"Elasped time: 110.104 msecs\"\n",
    "```\n",
    "\n",
    "バルク・インポートを実行しているときトランジエントは大した加速を提供できる。\n",
    "これがClojureの`into`関数が変換コレクションを取り、それがトランジエントであるかどうかを決める理由です。(??)\n",
    "もしそうならば、出力のコレクションは自動的にトランジエントとなり、トランジエント関数を使って埋まり、そのあとに永続的なコレクションに戻ります。\n",
    "\n",
    "リストとベクタの内部の要素は一般的に変更されません。\n",
    "一方で、シーケンシャル・コレクションは大部分をコレクションの挿入ポイントの要素に追加と削除する。\n",
    "しかしながら、マップの内部のコンテンツは頻繁に更新され、マップはある一般的な方法で変換されることが必要です。\n"
   ]
  },
  {
   "cell_type": "markdown",
   "metadata": {},
   "source": [
    "## Updating Maps\n",
    "\n",
    "マップを更新するための基本的な道具は`assoc`と`dissoc`です。\n",
    "`assoc`関数は、新しい値が与えられたとき、キーに対する値を更新する\n",
    "Clojure 1.7で、ある関数を適応することであるキーにおける値を変換できる`update`関数が加わった。\n",
    "\n",
    "例えば、われわれの宇宙シュミレーションにおけるある惑星を描いているエンティティ(適切なマップ・インターフェイスの実装も)を考えよう。\n"
   ]
  },
  {
   "cell_type": "code",
   "execution_count": 1,
   "metadata": {},
   "outputs": [
    {
     "data": {
      "text/plain": [
       "#'user/earth"
      ]
     },
     "execution_count": 1,
     "metadata": {},
     "output_type": "execute_result"
    }
   ],
   "source": [
    "(def earth {\n",
    "               :name \"Earth\"\n",
    "               :moons 1\n",
    "               :volume 1.08321e12 ;; km^3\n",
    "               :mass 5.97219e24 ;; kg\n",
    "               :aphelion 152098232 ;; km, farthest from sun\n",
    "               :perihelion 147098290 ;; km, closest to sum\n",
    "               })"
   ]
  },
  {
   "cell_type": "markdown",
   "metadata": {},
   "source": [
    "このシミュレーションに一つ月を追加する効果を調べる能力を追加することを考えよう。(??)\n",
    "`inc`関数を適応するのに`update`関数を使い、月の数を増やせる。\n"
   ]
  },
  {
   "cell_type": "code",
   "execution_count": 2,
   "metadata": {},
   "outputs": [
    {
     "data": {
      "text/plain": [
       "{:name \"Earth\", :moons 2, :volume 1.08321E12, :mass 5.97219E24, :aphelion 152098232, :perihelion 147098290}"
      ]
     },
     "execution_count": 2,
     "metadata": {},
     "output_type": "execute_result"
    }
   ],
   "source": [
    "(update earth :moons inc)"
   ]
  },
  {
   "cell_type": "markdown",
   "metadata": {},
   "source": [
    "この`update`関数はコレクションの内部の値へ関数を適応して更新されたコレクションを結果として受け取るプロセスカプセル化する。\n",
    "\n",
    "ときには、同時に一つのマップ内の複数の値を更新することが必要になるでしょう。\n",
    "しばしばエンティティを表すマップがCSVファイルやJSONデータやデータベースなどの外部データ元から引き込まれます。\n",
    "そのキーはあなたが必要とするものと異なる形式かもしれない。たとえばキーワードでなく文字列であるとかネームスペースや大文字小文字が違うキーワードなど。\n",
    "\n",
    "Clojureのコア・ライブラリはマップの中のおのおののキーを更新するひとつの関数をまだ含んでいないが、いくつかの外部ユーティリティ・ライブラリがこの解を提供している。\n",
    "ここではMedleyライブラリを使おう。これには、多くの開発者が有用であると気付くいくつかの関数が含まれる。\n",
    "(https://github.com/weavejester/medley)\n",
    "\n",
    "例えば、JSONを元にした文字列キーワードの惑星データを受け取ることを考えよう。\n",
    "\n",
    "```\n",
    "{\"name\" \"Earth\"\n",
    " \"moons\" 1\n",
    " \"volume\" 1.08321e12\n",
    " \"mass\" 5.97219e24\n",
    " \"aphelion\" 152098232\n",
    " \"perihelion\" 147098290}\n",
    "```\n",
    "\n",
    "Medleyの`map-keys`関数を使って、このエンティティのキーのすべてを変更できる。\n"
   ]
  },
  {
   "cell_type": "code",
   "execution_count": 14,
   "metadata": {},
   "outputs": [],
   "source": [
    "(require '[clojupyter.misc.helper :as helper])\n",
    "\n",
    "(helper/add-dependencies '[medley \"1.1.0\"])\n",
    "\n",
    "(require '[medley.core :refer [map-keys]])"
   ]
  },
  {
   "cell_type": "code",
   "execution_count": 16,
   "metadata": {},
   "outputs": [
    {
     "data": {
      "text/plain": [
       "{:name \"Earth\", :moons 1, :volume 1.08321E12, :mass 5.97219E24, :aphelion 152098232, :perihelion 147098290}"
      ]
     },
     "execution_count": 16,
     "metadata": {},
     "output_type": "execute_result"
    }
   ],
   "source": [
    "(defn keywordize-entity\n",
    "    [entity]\n",
    "    (map-keys keyword entity))\n",
    "\n",
    "(keywordize-entity {\"name\" \"Earth\"\n",
    " \"moons\" 1\n",
    " \"volume\" 1.08321e12\n",
    " \"mass\" 5.97219e24\n",
    " \"aphelion\" 152098232\n",
    " \"perihelion\" 147098290})"
   ]
  },
  {
   "cell_type": "markdown",
   "metadata": {},
   "source": [
    "おそらく、もっと一般的に、マップをインデックとして使うときでも、一度の呼び出しでマップの値すべてを更新することを必要とするだろう。\n",
    "Medleyライブラリはこの目的のために`map-vals`関数も含んでいる。\n",
    "\n",
    "`recipe`アイデンティファイアから`recipe`へのマップだった、p.13の「Modeling Relationships」にて考えた`recipe`のインデックスを呼び戻そう。\n",
    "インデックスの中の各`recipe`へカロリ情報を追加することが必要なとき、次のように`map-vals`を使うことで`recipe`のインデックスを更新できるだろう。\n",
    "ある`recipe`のカロリーの合計を作り出せる`compute-calories`関数があると仮定する。\n",
    "\n",
    "```\n",
    "(require '[medley.core :refer [map-vals]])\n",
    "\n",
    "(defn- update-calories\n",
    "    [recipe]\n",
    "    (assoc recipe :calories (compute-calories recipe)))\n",
    "\n",
    "(defn include-calolies\n",
    "    [recipe-index]\n",
    "    (map-vals update-calories recipe-index))\n",
    "```\n",
    "\n",
    "まず、計算して新しい`:calories`フィールドを`recipe`に関連付ける`update-calories`補助関数を定義する。\n",
    "そして、`include-calories`にて、この関数をマップの中の各値に適応するために`map-vals`を使う。\n",
    "\n",
    "あるマップの中のキーまたは値の全てを更新するこれらシンプルな関数はおどろくほど有用であり、多くのプロジェクトは最終的にこれらのユーティリティを書くか含める。\n",
    "Medleyの中のこれらの関数の実装は、p.31の「Bulk Import」で見たトランジットの恩恵である、パフォーマンスの向上のためにトランジエントを使う。\n",
    "\n",
    "Medleyはまた、`filter-keys`や`remove-keys`や`remove-vals`など、いくつか他の便利なmapの変換関数を含む。\n",
    "まとめると、これらは、(Booleanを返す)述語関数を適応した結果に基づくマップのサブセットを保持や削除をできるようにする。\n",
    "\n",
    "いま、自分のコレクションを選び、それらにデータを埋めた。\n",
    "そこからデータを取り出す方法を考えよう。"
   ]
  },
  {
   "cell_type": "markdown",
   "metadata": {},
   "source": [
    "\n",
    "# Accessing Collection\n",
    "\n",
    "コレクションの目的は要素データを格納するためであるが、コレクションの外にデータを取り出せるときにのみ有用です。\n",
    "まず、あるキーによっるインデックスアクセスをサポートするコレクションを考えよう。\n",
    "\n",
    "\n",
    "## Indexed Access\n",
    "\n",
    "マップとベクタはClojureが提供する2つのインデックス付きコレクションです。\n",
    "ベクタ0を基準としたインデックス使い、インデックスから要素への連想コレクションとして扱われる。\n",
    "われわれの領域をモデル化している間に見たレコードは、また、マップのインターフェイスを実装し、インデックス付きコレクションとして扱うことができる。\n",
    "\n",
    "インデックス付きコレクションは3つのメソッドでの検索をサポートする。\n",
    "1つ目は、そのコレクションとあるキーを伴って、`get`関数により呼び出されます。\n",
    "2つ目は、あるキーを伴なって、そのコレクション自身で呼び出されます。\n",
    "3つ目は、コレクションを伴なって、キーワードかシンボルで呼び出されます。\n",
    "3つのメソッドすべての例です。\n"
   ]
  },
  {
   "cell_type": "code",
   "execution_count": 24,
   "metadata": {},
   "outputs": [
    {
     "data": {
      "text/plain": [
       "#'user/earth"
      ]
     },
     "execution_count": 24,
     "metadata": {},
     "output_type": "execute_result"
    }
   ],
   "source": [
    "(def earth {:name \"Earth\" :moons 1})\n"
   ]
  },
  {
   "cell_type": "code",
   "execution_count": 25,
   "metadata": {},
   "outputs": [
    {
     "data": {
      "text/plain": [
       "\"Earth\""
      ]
     },
     "execution_count": 25,
     "metadata": {},
     "output_type": "execute_result"
    }
   ],
   "source": [
    "(get earth :name) ;; (1) using get"
   ]
  },
  {
   "cell_type": "code",
   "execution_count": 26,
   "metadata": {},
   "outputs": [
    {
     "data": {
      "text/plain": [
       "\"Earth\""
      ]
     },
     "execution_count": 26,
     "metadata": {},
     "output_type": "execute_result"
    }
   ],
   "source": [
    "(earth :name) ;; (2) invoking the map"
   ]
  },
  {
   "cell_type": "code",
   "execution_count": 27,
   "metadata": {},
   "outputs": [
    {
     "data": {
      "text/plain": [
       "\"Earth\""
      ]
     },
     "execution_count": 27,
     "metadata": {},
     "output_type": "execute_result"
    }
   ],
   "source": [
    "(:name earth) ;; (3) invoking the keyword key"
   ]
  },
  {
   "cell_type": "markdown",
   "metadata": {},
   "source": [
    "これら3つのすべてのメソッドは一般的にClojureプログラムの中で使われますが、これらは異なるトレード・オフを持ち、異なる環境で好まれます。\n",
    "\n",
    "エンティティ(mapであれレコードであれ)に対して、キーワードを関数として呼び出すことは好ましいメソッドであり、この検索の形は広範囲に使われます。\n",
    "関数としてのキーワード・キーの使用は、入力として他の関数を取るClojureライブラリの多くの関数にうまくピッタリはまる。\n",
    "\n",
    "データの一定のルックアップ・テーブルとして、または、キーから値への関数としてマップが使われているとき、関数としてそのマップを呼び出すことは一般的です。\n",
    "この呼び出し方のひとつのマイナス面は、nullなマップが呼ばれるとき、`NullPointerException`が結果であることです。\n",
    "決してnullでない変更のないグローバルなマップを作るために`def`が使われるときに、この呼び出し方がもっとも一般的に見られることが理由です。\n",
    "レコードは呼び出せないし、この方法では呼ばれないことに注意してください。\n",
    "\n",
    "たいていのなにが起きるか不明確かもしれない場合、`get`を直接呼び出すことが有用です。\n",
    "例えば、ときどきマップを作る関数が使われるとき、関数のリターン値を呼び出すことに混乱するだろう。それがたまたまルックアップ・テーブルであると。(??)\n",
    "\n",
    "例えば、`opposite-color`関数がここでは特別なパレットの中の複数の色を比較するために色のマッピングを返す。\n",
    "\n",
    "```\n",
    "(defn opposite-colors\n",
    "  \"Compute an opposite-color mapping for a given pallet.\")\n",
    "  [palette]\n",
    "  ;; この関数はパレットに対するマッピングを計算し、\n",
    "  ;; 複数のエントリを伴うこのようなマップを返す。 {:magenta :green}\n",
    "  )\n",
    "```\n",
    "\n",
    "ここに、いくつか呼び出そう。\n",
    "\n",
    "```\n",
    "((opposite-colors palette) :magenta) ;; ok, but confusing\n",
    "(get (opposite-colors palette) :magenta) ;; less confusing\n",
    "```\n",
    "\n",
    "最初の呼び出しの例は、`opposite-colors`が返すマップを直接呼び出していが、それが動き出す前に何が起きているのか不思議に思い、多くのClojure読者はこの使い方につまづくだろう。\n",
    "一般的に、式の右側の閉じ括弧の杭を見ることは一般的だが、左側に同じものを見ることは非常に少ない。\n",
    "関数をめったに呼び出さないし、その関数のリターン値をすぐさま呼び出す。(??)\n",
    "\n",
    "2つ目の呼び出しの例は代わりに明示的に`get`関数を使い、`opposite-colors`から返るこの値はマップであると読む人に強く印象付けている。\n",
    "このコードはまた、`opposite-colors`が`nil`を返す場合に対応している。そのとき、`get`も`nil`を返す。\n",
    "\n",
    "マップからひとつの値を取り出すこれらすべての方法に加えて、ときどき、エントリの一部の組を選んだ副マップを取り出すことは有用である。\n",
    "この目的のために、Clojureは`select-keys`関数を提供している。\n",
    "この関数は、元の方のマップ(レコードや順序付けされたマップなどなど)ではなく、ハッシュ・マップを常に返す。\n",
    "\n",
    "宇宙シュミレーションからエクスポートしたデータを準備していたときには、いくつかの最も重要なキーだけを選択することでいくつかの情報を省略する単純化されたエクスポートが提供できるだろう。\n",
    "\n",
    "```\n",
    "(defn export-planet\n",
    "  [planet]\n",
    "  (select-keys planet [:name :moons]))\n",
    "```\n",
    "\n",
    "エクスポートされた惑星はシンプルなマップです。`{:name \"Earth\" :moons 1}`\n",
    "\n",
    "シーケンシャル・データ構造の中のものを探すことに注意を向けよう。\n",
    "\n",
    "## Sequential Search\n",
    "\n",
    "前のセクションで見てきたマップは、値を効果的にある時間内に検索したいとき、いつも理想的な選択でした。\n",
    "同様に、`set`は特定の値を含んでいるか急いでチェックをするとき`contain?`関数を使います。\n",
    "しかしながら、`contains?`関数はリストやベクタの中の値で項目を探すためには動作しない。\n",
    "\n",
    "順序付きのシーケンシャル・コレクションが必要なだけでなく、そのコレクションの中の値を探す必要があるとき、マッチする値を探すためにコレクションを順次探すひとつの方法を必要です。\n",
    "このサーチをする時間がコレクションの大きさに比例していることに気付くための鍵です。ー効果的に一定時間の検索を見込める`contain?`とは逆です。\n",
    "\n",
    "順次サーチのためのClojureでの最も一般的なテクニックは`some`関数を使うことです。\n",
    "この関数はコレクションの各要素に対して述語を評価し、最初に論理的な真の値(元の要素でない)を返します。\n",
    "これはシンプルな値のコレクションにとても有用です。\n"
   ]
  },
  {
   "cell_type": "code",
   "execution_count": 28,
   "metadata": {},
   "outputs": [
    {
     "data": {
      "text/plain": [
       ":oz"
      ]
     },
     "execution_count": 28,
     "metadata": {},
     "output_type": "execute_result"
    }
   ],
   "source": [
    "(def units [:lb :oz :kg])\n",
    "\n",
    "(some #{:oz} units)"
   ]
  },
  {
   "cell_type": "markdown",
   "metadata": {},
   "source": [
    "ここで`some`で使われている述語はひとつの値をもつセットです。\n",
    "さて、前のセクションの同じコレクションの呼び出し方に影響を受けて、今回は、`units`ベクタの各要素を伴なった関数としてセットを呼び出している。\n",
    "マッチしたら、値が返されます。\n",
    "この結果は本当の値として使われることがある。\n",
    "もしマッチが無ければ`nil`がリターンされる。\n",
    "\n",
    "この目的のための`some`の使用は一般的であるが、`nil`または`false`をサーチするという特別な場合に壊れる。これは論理的な偽である。\n",
    "\n",
    "論理的な偽の値のサーチをサポートし、早くおわるリニア・サーチの比較的効果のある実装は次のように定義できる。"
   ]
  },
  {
   "cell_type": "code",
   "execution_count": 30,
   "metadata": {},
   "outputs": [
    {
     "data": {
      "text/plain": [
       "true"
      ]
     },
     "execution_count": 30,
     "metadata": {},
     "output_type": "execute_result"
    }
   ],
   "source": [
    "(defn contains-vals?\n",
    "    [coll val]\n",
    "    (reduce\n",
    "        (fn [ret elem] (if (= val elem)\n",
    "                           (reduced true)\n",
    "                           ret))\n",
    "        false coll))\n",
    "(contains-vals? units :oz)"
   ]
  },
  {
   "cell_type": "markdown",
   "metadata": {},
   "source": [
    "この`reduce`と`reduced`の詳細はp.49の「Reducing to a Value」にて扱う。\n",
    "\n",
    "さあこれで、Clojureが提供するコレクションの最良の使い方をする方法を決め、また、自分のコレクションを構築する方法を考えることでわれわれ自身のアプリ独特の問題を解決する方法を考えたいと思う。\n",
    "\n",
    "# Building Custom Collections\n",
    "\n",
    "もしあなたの問題に相応しいClojureのコレクションなにもなければ、自分で作る必要があるだろう。\n",
    "標準的なコレクションのようにカスタム・コレクションをClojureコア・ライブラリとともにシームレスに使うことができる。\n",
    "カスタム・コレクションを構築することはClojureが内部で使うトレイト・インターフェイスを実装するために`deftype`の使用を要求する。(??)\n",
    "\n",
    "\n",
    "## Collection Traits\n",
    "\n",
    "Clojureが使えるあるコレクションを構築したいと思うとき、どのようにClojureがコレクションと対話するのかもっと深く理解する必要があります。\n",
    "コレクションとシーケンスのライブラリはClojure内に含まれる特定の実装ではなく、キー抽象を定義する一般的なトレイト(特色)の組に基づいています。\n",
    "Clojureコレクションの特色は内的にJavaインターフェイスを使って実装されている。\n",
    "\n",
    "述語関数はコレクションの実装においてClojureコレクションの特色の存在を検出するためにClojureにて提供される。\n",
    "述語関数は質問をしてブーリアンな答えを返す。伝統的に、Clojureの中で名前の末尾に`?`記号がついている。\n",
    "\n",
    "Clojureにおけるいくつかの述語コレクション関数の例。\n",
    "\n",
    "- `counted?`ーそのコレクションは一定時間内で数え上げ可能か?\n",
    "- `sequential?`ーその値は特定の走査可能な順番に並んでいるか?\n",
    "- `associative?`ーそのコレクションはキーと値の間の関係性を格納しているか?\n",
    "- `reversible?`ーそのコレクションは逆順にできるか?\n",
    "- `sorted?`ーそのコレクションは並んだ順番が維持されているか?\n",
    "\n",
    "これらの特色(トレイト)は次のJavaインターフェイスに対応する。\n",
    "`Counted`、`Sequential`、`Associative`、`Reversible`、`Sorted`。\n",
    "他の内部のインターフェイスはコア・コレクションのインターフェイスとの公開コレクション関数の下に使われるキー・メソッドの構造を定義する。\n",
    "\n",
    "カスタム・コレクションを構築するとき、後ろ向きに働くことが必要です。その実装におけるJavaインターフェイスは要求される実装したいClojure関数から(???)\n",
    "\n",
    "p.39のダイアグラムはClojure関数(右側)からJavaメソッド(左側)へのマッピングを提供します。\n",
    "各インターフェイスに対する述語関数はJavaインターフェイス名の下に並んでいます。\n",
    "\n",
    "われわれのゴールを満足するカスタム・コレクションを構築するためにマッピング・ダイアグラムに沿ってClojureにおけるわれわれが意図した使い方を取る方法を見ましょう。\n",
    "\n",
    "## Create a Collection with deftype\n",
    "\n",
    "われわれのコレクションが必要することからはじめましょう。\n",
    "`a`と`b`のように参照する2つの値を持つカスタム`Pair`クラスを実装をしていく。\n",
    "この`Pair`型は`seq`、`count`、`nth`、`get`とともに動くことが好ましい。\n",
    "ダイアグラムを見ると、`Seqable`、`Counted`、`Indexed`、`ILookup`を実装することが必要であるとわかる。\n",
    "\n",
    "![fig.1](./ClojureFunctionsAndTheCorrespondingJavaMethods.jpg)"
   ]
  },
  {
   "cell_type": "markdown",
   "metadata": {},
   "source": [
    "\n",
    "`deftype`マクロを使ってカスタム・データ構造実装する。それは、`defrecord`に似ているが、より多くの機能とより少ないマップのビルトインな類似点を提供する。\n",
    "例えば、`deftype`はレコード同様、型とコンストラクタ関数を得るが、マップのように自動的には動かない。\n",
    "`deftype`とともに、もし必要ならば、マップのように作用するただしいインターフェイスを実装することがわれわれの責任になる\n",
    "型はまた、変更可能性や非同期なフィールドのような特定の機能をサポートしている。それらは、他のどのClojureコンストラクトでも利用不可能である。\n",
    "\n",
    "どのように`deftype`として`Pair`が見るか見よう。\n",
    "\n"
   ]
  },
  {
   "cell_type": "code",
   "execution_count": 3,
   "metadata": {},
   "outputs": [
    {
     "data": {
      "text/plain": [
       "ch2.pair.Pair"
      ]
     },
     "execution_count": 3,
     "metadata": {},
     "output_type": "execute_result"
    }
   ],
   "source": [
    "(ns ch2.pair\n",
    "    (import [clojure.lang Counted Indexed ILookup Seqable]))\n",
    "\n",
    "(deftype Pair [a b]\n",
    "    Seqable\n",
    "    (seq [_] (seq [a b]))\n",
    "    \n",
    "    Counted\n",
    "    (count [_] 2)\n",
    "    \n",
    "    Indexed\n",
    "    (nth [_ i]\n",
    "         (case i\n",
    "             0 a\n",
    "             1 b\n",
    "             (throw (IllegalArgumentException.))))\n",
    "    (nth [this i _] (nth this i))\n",
    "    \n",
    "    ILookup\n",
    "    (valAt [_ k _]\n",
    "           (case k\n",
    "               0 a\n",
    "               1 b\n",
    "               (throw (IllegalArgumentException.))))\n",
    "    (valAt [this k] (.valAt this k nil)))\n"
   ]
  },
  {
   "cell_type": "code",
   "execution_count": 5,
   "metadata": {},
   "outputs": [
    {
     "data": {
      "text/plain": [
       "#'ch2.pair/p"
      ]
     },
     "execution_count": 5,
     "metadata": {},
     "output_type": "execute_result"
    }
   ],
   "source": [
    "(use 'ch2.pair)\n",
    "\n",
    "(def p (->Pair :a :b))\n"
   ]
  },
  {
   "cell_type": "code",
   "execution_count": 6,
   "metadata": {},
   "outputs": [
    {
     "data": {
      "text/plain": [
       "(:a :b)"
      ]
     },
     "execution_count": 6,
     "metadata": {},
     "output_type": "execute_result"
    }
   ],
   "source": [
    "(seq p)"
   ]
  },
  {
   "cell_type": "code",
   "execution_count": 7,
   "metadata": {},
   "outputs": [
    {
     "data": {
      "text/plain": [
       "2"
      ]
     },
     "execution_count": 7,
     "metadata": {},
     "output_type": "execute_result"
    }
   ],
   "source": [
    "(count p)"
   ]
  },
  {
   "cell_type": "code",
   "execution_count": 8,
   "metadata": {},
   "outputs": [
    {
     "data": {
      "text/plain": [
       ":b"
      ]
     },
     "execution_count": 8,
     "metadata": {},
     "output_type": "execute_result"
    }
   ],
   "source": [
    "(nth p 1)"
   ]
  },
  {
   "cell_type": "code",
   "execution_count": 9,
   "metadata": {},
   "outputs": [
    {
     "data": {
      "text/plain": [
       ":a"
      ]
     },
     "execution_count": 9,
     "metadata": {},
     "output_type": "execute_result"
    }
   ],
   "source": [
    "(get p 0)"
   ]
  },
  {
   "cell_type": "code",
   "execution_count": 10,
   "metadata": {},
   "outputs": [
    {
     "data": {
      "text/plain": [
       "#object[ch2.pair.Pair 0x2afa16ee \"ch2.pair.Pair@2afa16ee\"]"
      ]
     },
     "execution_count": 10,
     "metadata": {},
     "output_type": "execute_result"
    }
   ],
   "source": [
    "p"
   ]
  },
  {
   "cell_type": "markdown",
   "metadata": {},
   "source": [
    "`p`を直接見ようとためしている間に、ことはひじょうにうまく行った。\n",
    "それでは、治そう。\n",
    "\n",
    "## Custom Printing for Types\n",
    "\n",
    "たった今見たように、型は前もって定義されたクラスの名前とアイデンティファイアを含む表示フォーマットをもっている。\n",
    "インスタンス・データを含める型の表示フォーマットを好む。\n",
    "読み出し器は文字列を読み出してClojureデータを返すClojure内部の成分である。\n",
    "理想的には、自分の型が読み出し器によって読むことができる形式で表示することを好む。このことによりリテラル値としてフルに周遊する可能性があたえられる。(??)\n",
    "\n",
    "表示装置はカスタム表示を供給するためにフックを定義するマルチメソッドを伴なうオープンなシステムです。\n",
    "考えるための2つのフックは、(ユーザのために表示が完了したときに呼ばれる)`print-method`と(読み出し器のために表示が完了したときに呼ばれる)`print-dup`です。\n",
    "例えば、Clojure文字列は囲みのクォートを除いて`print-method`によって表示されますが、`print-dup`ならば囲みのクォートごと表示されます。\n",
    "\n",
    "われわれの目的のために、`Pair`型がどちらの場合も同様に表示することを望む。だから、`print-dup`をただ`print-method`と呼ぶように実装しよう。\n"
   ]
  },
  {
   "cell_type": "code",
   "execution_count": 12,
   "metadata": {},
   "outputs": [
    {
     "data": {
      "text/plain": [
       "#multifn[print-dup 0x3f9d8feb]"
      ]
     },
     "execution_count": 12,
     "metadata": {},
     "output_type": "execute_result"
    }
   ],
   "source": [
    "(defmethod print-method Pair\n",
    "    [pair w]\n",
    "    (.write w \"#ch2.pair.Pair\")\n",
    "    (print-method (vec (seq pair)) w))\n",
    "\n",
    "(defmethod print-dup Pair\n",
    "    [pair w]\n",
    "    (print-method pair w))"
   ]
  },
  {
   "cell_type": "markdown",
   "metadata": {},
   "source": [
    "近道として、われわれのprinterに、単に`Pair`データをベクタに変換するようにして、既存のベクタの`print-method`のサポートを利用することにする。では試そう。"
   ]
  },
  {
   "cell_type": "code",
   "execution_count": 14,
   "metadata": {},
   "outputs": [
    {
     "data": {
      "text/plain": [
       "#ch2.pair.Pair[1 2]"
      ]
     },
     "execution_count": 14,
     "metadata": {},
     "output_type": "execute_result"
    }
   ],
   "source": [
    "(->Pair 1 2)"
   ]
  },
  {
   "cell_type": "code",
   "execution_count": 15,
   "metadata": {},
   "outputs": [
    {
     "data": {
      "text/plain": [
       "#ch2.pair.Pair[3 4]"
      ]
     },
     "execution_count": 15,
     "metadata": {},
     "output_type": "execute_result"
    }
   ],
   "source": [
    "#ch2.pair.Pair[3 4]"
   ]
  },
  {
   "cell_type": "markdown",
   "metadata": {},
   "source": [
    "ここで表示してきた構文は具体的に選択された。なぜならばClojureの読み出し器はJavaのオブジェクトを構築するためにこの形式を使うからです。\n",
    "フォーマットは`#class[args]`です。\n",
    "前のコードにおいて、もし、コンストラクタ・クラスの構文をREPLに置いていれば、読み出し器は`Pair`オブジェクトの中にそれを読んだだろうし、そとのき、printerは`print-method`printerを使って結果のオブジェクトを表示しただろう。(??)\n",
    "\n",
    "# Wrapping Up\n",
    "\n",
    "いま、あなたはエンティティと値の両方を集めるために領域モデルの内部または周囲の両方でコレクションを使う方法を十分に理解した。\n",
    "ここで議論したコレクション以外のClojureアプリにおける大部分のデータはなにもないところから構築される。\n",
    "ちょくちょく、特別な考えから、またはパフォーマンスの最大化のために、あなた自身のコレクションを構築することが有用であることを見るだろう。\n",
    "\n",
    "わたしたちが期待する、第4章の「State, Identity and Change」にて状態管理する方法のためのわれわれはステージ組んだ。(??)\n",
    "この章で議論したコンセプトのように、状態管理は不変な値と純粋な変換関数の基礎に非常に依存している。\n",
    "\n",
    "しかし、初めにわれわれはコレクションと関数についての知識を取り、データを処理する能力を拡張する方法に注視しよう\n",
    "しばらくのあいだ、コレクションのレベルで、ひとつの値やエンティティを変更しながら基本的に活動する。(??)\n",
    "次に、シーケンスについて話すことの範囲を拡張しよう。\n",
    "\n",
    "シーケンスはリストやベクタや他のコレクションをまるでそれらがシーケンシャルなデータ構造であるかのように働くことがゆるされた一般化です。(??)\n",
    "Clojureのデータ変換能力の大部分は頂点に、特定のコレクションに縛られているというよりも、より一般的な抽象構築されている。(??)\n",
    "Clojureのデータ変換関数はパワフルで再利用可能なClojureアプリを書くための鍵となる部分です。"
   ]
  }
 ],
 "metadata": {
  "kernelspec": {
   "display_name": "Clojure",
   "language": "clojure",
   "name": "clojure"
  },
  "language_info": {
   "file_extension": ".clj",
   "mimetype": "text/x-clojure",
   "name": "clojure",
   "version": "1.8.0"
  }
 },
 "nbformat": 4,
 "nbformat_minor": 2
}
