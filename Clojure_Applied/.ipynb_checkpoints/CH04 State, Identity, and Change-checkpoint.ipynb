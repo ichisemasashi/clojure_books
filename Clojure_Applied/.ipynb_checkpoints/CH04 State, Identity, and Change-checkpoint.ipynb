{
 "cells": [
  {
   "cell_type": "markdown",
   "metadata": {},
   "source": [
    "あなたの手元にはエンティティ、データのコレクション、領域関数とシーケンシャルなデータを処理するためのいくつかの便利なパターンがある。\n",
    "アプリケーションが動作しているあいだの領域データの連続について考え始めるときだ。\n",
    "\n",
    "これは領域エンティティのアイデンティティと状態について考えさせられるべきだということを意味する。そしてどのように領域の中のアイデンティティが関係しているか(??)\n",
    "領域内での辻褄のあう状態管理を作ることは第5章「Use Your Cores」におけるアプリケーションの並列操作の備えになる。\n",
    "\n",
    "この章では、領域のエンティティに対する状態の変更管理のためにClojureの道具を適用することを学ぶだろう。\n",
    "もっと基本的に、分けたものとしてのアイデンティティと状態を見るだろう。\n",
    "Clojureは計算器の世界のマルチコアの状態を活用するように設計されている。\n",
    "マルチスレッド・プログラムの光の中で、状態管理の戦略を選択するためのいくつかの実践的なアドバイスを見つけ、可変性が導くであろういくつかの落とし穴を認識することを学ぶだろう。\n",
    "\n",
    "Clojureアプリケーションのコンテクストの中で、状態とアイデンティティが意味することを概観することから始めましょう。\n",
    "\n",
    "# Modeling a Change\n",
    "\n",
    "Clojureの焦点は不変的な値にあることを思い出そう。\n",
    "不変的な値によって、**更新** は、エンティティを置き換えて更新するというよりもむしろ、エンティティの新しいインスタンス(またはエンティティのコレクション)を生み出す。\n",
    "ほとんどの場合、これはあなたの目的を見事に務めるだろう。\n",
    "ときおり、データの変更を追跡するために、アプリケーションの世界の変更をモデル化する必要があるだろう。\n",
    "具体的には、変更するデータの組への参照を保持したいと思うだろう。\n",
    "\n",
    "マルチスレッドの台本において、置き換えによるデータの更新は多くの混乱した質問を導入する。\n",
    "誰がこのデータを変更できるのか?\n",
    "他のスレッドはどのように変更の通知を受けるのか?\n",
    "複数の同時更新が発生したときにどのプロセスが勝つのか?\n",
    "Clojureは状態管理の道具によってそれら全ての質問への上品な回答を提供する。\n",
    "それらの道具を効果的に使うためには、最初にアイデンティティと状態へのClojureのアプローチを理解する必要がある。\n",
    "\n",
    "## Seeing in Snapshots\n",
    "\n",
    "理解をするための助けとして、時間についてすこし話そう。\n",
    "人間の経験は連続的に見えるけれども、あなたの感覚は離散的な量子の中の情報を集める。\n",
    "独立して脳に入ってくる音、光景、においはそのときのその瞬間に相関している。\n",
    "連続したそれらの瞬間を通してあなたが活動するように、連続した知覚の幻想を経験する。\n",
    "\n",
    "もしあなたが視覚の瞬間を見ることになったら、下の図に示したEdweard Muybridgeによる「Sallie Gardner at a Gallop」と同じような一連のスナップショットを見るだろう。\n",
    "\n",
    "Muybridgeはすべての4つの蹄が地面を同時に離れるかどうかを調べるために1878年にそれらの写真を取った。\n",
    "キャプチャしたはっきりした動作は幻想的です。しかし、わたしたちの心は連続的に適用します。\n",
    "わたしたちはシーケンスの中でこの写真を通して活動し、Salle Gardnerの歴史的実行を見る。(??)\n",
    "\n",
    "この連続を地面についている蹄の数を記録するエンティティとして表すことを想像してください。\n",
    "初期の更新はひとつの蹄が落ちていて、つぎのものがゼロで、最後の写真まで続く。\n",
    "\n",
    "もし値のひと組だけしか見ることができなかったならば、この一連ものを興味深くする真実を見失なうだろう。\n",
    "馬の動きはもはやはっきりと写すことができるだけでなく、元の質問も第二第三に保存したすべてのフレームの中で未解決のままです。(??)\n",
    "あなたは時間の次元を失なう。\n",
    "\n",
    "同様に、もしオブジェクト指向プログラマのようにデータの変更にアプローチするならば、オブジェクトのように世界のデータをモデル化する傾向があるだろう。\n",
    "世界が変るとき、その世界を表わすオブジェクトが置き換わって更新され、今を反映する世界のモデルを生み出す。(??)\n",
    "このアプローチの問題は見る者に最後のフレームだけを残すことです。\n",
    "\n",
    "ときどき、この振舞いはまさにあなたが求めるものです。一連のステップの結果とそれ自身に関する単一スレッド。今見ているものが唯一のビューであるしすてむ。(??)\n",
    "習慣的にあなたが今だけに関心をもつとき、しかしながら、アイデンティティと状態を混同することは容易です。この2つをほぐすことにすこし時間をかけましょう。\n",
    "\n",
    "## Understanding Identity and State\n",
    "\n",
    "あなたのお気に入りのコーヒー・ショップを思ってください。\n",
    "時間帯によって、開いていたり閉まっていたりするでしょう。\n",
    "ドアを通って新しいローストが来るとき、利用可能性は変化を炒れます。(??)\n",
    "異なるシフトはそのバルに、エスプレッソ・マシンに配置する異なるバリスタと異なる客層を持つ。\n",
    "そのコーヒー・ショップはある点でその場所や名前を変ることすらあるだろう。\n",
    "この変化すべてをもってしても、そのコーヒー・ショップのアイデンティティは同じままです。\n",
    "その店のアイデンティティはあなたが朝のジョーを必要とするときに、周りを包み込み、異なるコヒーや顧客やスタッフやドアがロックされているかどうかということまでを包む。(??)\n",
    "\n",
    "その一方で、状態はその瞬間のアイデンティティの値を表す。\n",
    "コーヒー・ショップの例え話を続けると、火曜日の朝7時にその店は開き、Lindsayはレジの管理で、Jimmyはグラインダを回し、客はラップトップをオフィスへ向う前にチェックし、そのローストはヨーロッピアンのようである。\n",
    "\n",
    "朝のシフトを考えることによって、状態とアイデンティティは2つの別々のものであると分る。\n",
    "状態とは、アイデンティティに属する値または値の組です。\n",
    "アイデンティティは時間によって分離された一連の状態です。\n",
    "どんな瞬間でも、ダーク・ロースト・コーヒーはどこに保存されているの?またはどこか席は空いていますか?というように問うことだろう。\n",
    "質問をしたときに正確な答えを得るためには、普通の方法で更新する必要があります、さもないと、他人の膝の上に思いがけず座ってしまいます。\n",
    "\n",
    "これを機能させるために、わたしたちは可変性を必要とするだけではなく、観察者の観点からは、その更新は離散的かつ瞬時に行われる必要があります。\n",
    "つまり、特定のアイデンティティーに対して、そのアイデンティティーのデータを変更して、すべての観察者に同時に見えるようにする機能が必要です。\n",
    "\n",
    "## Updates in Succession\n",
    "\n",
    "Clojureにおいて、更新をしたい値とアイデンティティへの参照を作ることができる。\n",
    "一般的に、参照は不変的な値の連続の可変的なコンテナです。\n",
    "Clojureは時間を越えて変化する値を管理するそのアプローチを「統一アップデート・モデル」と呼ぶ。\n",
    "統一アップデート・モデルは一般に、この形式に従う。\n",
    "\n",
    "`(update-fn container data-fn & args)`\n",
    "\n",
    "この場合の`data-fn`は、新しい値を作るために、参照に現在保存されている値へ適用される。\n",
    "この新しい値は参照によって保持されている現在の値を受け継ぎ、置き換わる。\n",
    "すべての参照の型(`var`、`atom`、`agent`、`ref`)は連続したデータを実装するために、このモデルを使う。\n",
    "しかしながら、それぞれの型は独自のセマンティック(意味)を持つ。\n",
    "\n",
    "各アイデンティティを保持するために使う参照の型は更新したい属性に依存する。\n",
    "その瞬間に、アトミックな、またはトランザクショナルな連続に焦点を置こう。両方とも統一アップデート・モデルを実装する。\n",
    "それら両方の場合において、アイデンティティの値は常に読むことができる。\n",
    "\n",
    "### Atomic Succession\n",
    "\n",
    "アトミックな連続はひとつのアイデンティティを更新する。\n",
    "更新関数`update-fn`とアイデンティティが与えられたら、その関数はアイデンティティの現在の値に適用される。\n",
    "もしうまくいけば、結果は現在の値を置き換える。\n",
    "おこりうる複雑さは、更新関数が実行している間に別のスレッドがそのアイデンティティの値を更新するときに起きる。\n",
    "Clojureはそれが成功するか、リトライ制限に逹っするまで、新しい値にこの関数をリトライすることでこれを扱う。\n",
    "\n",
    "システムとは独立して変更できるスタンド・アロンな値(または複合した値)を持つときにアトミックな連続を使うことでしょう。\n",
    "アトミックな更新は、(監視関数により)完了するとき他のシステムの値と関数へ通知できるのだが、それらが保持する値はほかのステートフルな参照との調整を要求しない。\n",
    "\n",
    "コレクションはアトミックな連続の良い候補になる。在庫、従業員登録、入力または出力チャンネルのリストなどなど。\n",
    "在庫を使う例を次の節で見るでしょう。\n",
    "\n",
    "Clojureでは、アトミックな連続は同期、非同期の表現の両方を`atom`と`agent`にてはっきりともつ。\n",
    "すぐに`atom`と真鍮のタックにつくでしょう。`agent`はp.87でカバーしている。\n",
    "\n",
    "### Transactional Succession\n",
    "\n",
    "もし2つのアイデンティティを一緒に更新することを要求するならば、トランザクショナルな連続を使いたいだろう。\n",
    "名前が暗示するように、これは調整された更新の発生の全てか無しかのどちらかを確保するトランザクションを巻き込む。(??)\n",
    "\n",
    "一般的に、トランザクションはアイデンティティの組に対する調整された変更の組から成り立つ。\n",
    "ひとつのアイデンティティはいちどに複数のトランザクションに巻き込まれるかもしれない。\n",
    "アトミックな連続とともに、Clojureは数回のリトライによってコンフリクトを解決する。\n",
    "アトミックな連続とは異なり、多くのアイデンティティがリトライされるトランザクション全体に巻き込まれるから。(??)\n",
    "むしろひとつの独立したアイデンティティのひとつの更新というよりも、ひとつのトランザクションは複数の調整されたアイデンティティへの多くの更新を含むことができる。\n",
    "\n",
    "#### Inside the Trtansaction\n",
    "\n",
    "トランザクションはアプリケーションの現実の小さな泡です。\n",
    "その泡の中で、アイデンティティはトランザクションがずっと成功しているかのように振舞う。アイデンティティから読む値は現在、トランザクションのタイムラインのなかで、更新はそれらの値を調整するために適用される。(?)\n",
    "トランザクションが完了し、アプリケーションに変更をコミットする前に、Clojureは泡の外部で、いずれかのアイデンティティが更新されたそのトランザクションに巻き込まれたかどうか見るためにチェックする。\n",
    "もしそれがあれば、そのアイデンティティの最後の値の組のなかに読み、トランザクションをリトライする。(??)\n",
    "そうでなければ、そのトランザクションはコミットし、泡は弾ける。\n",
    "\n",
    "「Programming Clojure」をまだ読んでいない好奇心が強いひとのために、Clojureはこれをマルチバージョン・コンカレンシー・コントロルモデルを実装するソフトウェア・トランザクショナル・メモリを使って成し遂げた。\n",
    "\n",
    "これまでに一般的な方法でのアトミックなものとトランザクショナルな連続について話した。\n",
    "これから、特別な場合へと行こう。実際に使うことができる道具とコードへ。\n",
    "\n",
    "# Tools for Managing Change\n",
    "\n",
    "Clojureはアプリケーションの状態を格納するために使うことができる4つの参照型(`var`、`atom`、`agent`、`ref`)を持つ。\n",
    "すべての場合において、その仕組みは不変的な値を格納する可変的なコンテナを提供する。\n",
    "初期値と共にそのコンテナを作ることと、その値を置き換えることができる。\n",
    "また、統一更新モデルを使うことで、状態を進めることもできる。\n",
    "この流儀において、アプリケーションの状態管理された方法で変更できる。\n",
    "\n",
    "Clojureの参照型は`IRef`を実装する。\n",
    "次のテーブルは生成、更新、置き換えの関数についてその型を一覧する。\n",
    "\n"
   ]
  },
  {
   "cell_type": "markdown",
   "metadata": {},
   "source": [
    "| IRef | create-fn | update-fn(s)   | set-fn |\n",
    "| ---- | --------- | -------------  | ------ |\n",
    "| Atom | atom      | swap!          | reset! |\n",
    "| Ref  | ref       | alter, commute | ref-set |\n",
    "| Var  | def       | alter-var-root | var-set |\n",
    "| Agent| agent     | send, send-off | restart-agent|"
   ]
  },
  {
   "cell_type": "markdown",
   "metadata": {},
   "source": [
    "すべての参照型へのパターンは同様です。\n",
    "\n",
    "```\n",
    "生成\n",
    "(create-fn container)\n",
    "\n",
    "更新\n",
    "(update-fn container data-fn & args)\n",
    "\n",
    "値の設定\n",
    "(set-fn container new-val)\n",
    "```\n",
    "\n",
    "`agent`に対して、生成するときにエラー・ハンドリングオプションを含めることができる。\n",
    "\n",
    "`var`はローカル・メモリに可変的なデータを格納し、管理されない。\n",
    "`atom`は格納された値へ同期的な変換(`swap!`を使う)により変更を制限するが、それらの変更を調整しない。\n",
    "`ref`はSTMを通して格納された値の制御された変換を提供する。\n",
    "`agent`は個別のアプリケーションの状態を格納するが、非同期的に更新する。(「Use Your Core」で`agent`をカバーします。)\n",
    "この節にて、使用する例をともなって`atom`、`ref`、`var`の概要を提供するだろう。\n",
    "\n",
    "さあ、はじめに`atom`と`ref`を使う変更の管理に注意を向けよう。\n",
    "\n",
    "## Managed Updates with Atom\n",
    "\n",
    "データが複数のスレッドにより観察されはじめるとき、まとまりのないカオスと特定の更新からそれらのスレッドを守ることが必要になる。\n",
    "そうすることを失敗すると、システムは無効な状態におちいる。\n",
    "\n",
    "### Let's go Shopping\n",
    "\n",
    "活動を調整するためのベストの方法について思考の訓練をウォーク・スルーしよう。\n",
    "並列を実装する決断をするときはいつも、管理すべき情報が何で、また、管理しないままでよい情報が何かという決断を助けるための同様な訓練に遭遇する。\n",
    "\n",
    "ある訓練を得るために、食料品の買い物に行こう。\n",
    "まず、シングル・スレッドの方法で食料品の買い物を考え、次にもっと複雑に、マルチ・スレッドな例として、それら必要なものを作り上げる。\n",
    "進むにつれて、なにかしら便利なものを持つまで、多くのトランザクショナル・メモリの仕組みを加えるでしょう。\n",
    "\n",
    "### The Solo Operator\n",
    "\n",
    "われわれはどのように食料品の買い物が機能するか知っている。\n",
    "一覧を作り、その店に行き、一覧にあるものを買う。\n",
    "ひとりだけであれば、これはとても簡単だ。\n",
    "一覧を作った人がその店へ向かうひとだ。\n"
   ]
  },
  {
   "cell_type": "code",
   "execution_count": 1,
   "metadata": {},
   "outputs": [
    {
     "data": {
      "text/plain": [
       "#'user/go-shopping-naive"
      ]
     },
     "execution_count": 1,
     "metadata": {},
     "output_type": "execute_result"
    }
   ],
   "source": [
    "(defn go-shopping-naive\n",
    "    \"Return a list of items purchased\"\n",
    "    [shopping-list]\n",
    "    (loop [[item & items] shopping-list,\n",
    "            cart []]\n",
    "        (if item\n",
    "            (recur items (conj cart item))\n",
    "            cart)))"
   ]
  },
  {
   "cell_type": "markdown",
   "metadata": {},
   "source": [
    "この台本はなにも状態管理を要求しない。\n",
    "1スレッド(ひとり)が一覧に従い、カートいっぱいの美味しいジャンク・フードを返す。\n",
    "少なくとも、大学にいるときにそれがどのように機能するかということです。(??)\n",
    "\n",
    "この例では、すべてが無限の棚にかかっている。(??)\n",
    "単にある一覧から別のものへ動かしている。\n",
    "さらに完璧な表現では、その店の在庫を表しており、学生は寮仲間がさいしょにピザをすべて食べたことを発見するだろう。(??)\n",
    "APIを書きましょう、そうすれば、その在庫を管理された方法でやりとりできる。\n",
    "\n",
    "### Building Our Store API\n",
    "\n",
    "量の項目のマップで店の在庫を表す。\n",
    "複数のスレッドがこの在庫を操作することを期待し、どんな観察者でも一致したデータを見ることを確保することが必要です。\n",
    "これは`atom`で実装することができる。\n",
    "\n",
    "`atom`は同期的構成です。\n",
    "つまり、`atom`を使うことによって、わたしたちがその`atom`に加えるすべての変更が次のものが適用される前に完全に発生することを確保する。\n",
    "`atom`はまた独立または未調整です。\n",
    "次の節で調整についてもうすこし話そう。\n",
    "最後に、`atom`は即時に更新する。\n",
    "店自身に加えて、われらの出芽するAPIの形を与える関数`grab`と`stock`を定義しよう。"
   ]
  },
  {
   "cell_type": "code",
   "execution_count": 1,
   "metadata": {},
   "outputs": [
    {
     "data": {
      "text/plain": [
       "#'shopping.store/stock"
      ]
     },
     "execution_count": 1,
     "metadata": {},
     "output_type": "execute_result"
    }
   ],
   "source": [
    "(ns shopping.store)\n",
    "\n",
    "(def inventory (atom {}))\n",
    "\n",
    "(defn no-negative-values?\n",
    "    \"check values of a map for a negative value\"\n",
    "    [m]\n",
    "    (not-any? neg? (vals m)))\n",
    "\n",
    "(defn in-stock?\n",
    "    \"check if an item is in stock\"\n",
    "    [item]\n",
    "    (let [cnt (item @inventory)]\n",
    "        (and (pos? cnt))))\n",
    "\n",
    "(defn init\n",
    "    \"set up store with inventory\"\n",
    "    [items]\n",
    "    (set-validator! inventory no-negative-values?)\n",
    "    (swap! inventory items))\n",
    "\n",
    "(defn grab\n",
    "    \"grab an item from the shelves\"\n",
    "    [item]\n",
    "    (if (in-stock? item)\n",
    "        (swap! inventory update-in [item] dec)))\n",
    "\n",
    "(defn stock\n",
    "    \"stock an item on the shelves\"\n",
    "    [item]\n",
    "    (swap! inventory update-in [item] inc))"
   ]
  },
  {
   "cell_type": "markdown",
   "metadata": {},
   "source": [
    "`atom`関数を使うことで、`inventory`が`atom`であると宣言し、また、管理されるよう変更を許可されている関数によりその値を変更することが制限されていると宣言する。\n",
    "その関数とは、`swap!`と`reset!`とすこし低レベルな、`compare-and-set!`です。\n",
    "\n",
    "在庫の値は`atom`に格納されているので、その値を見るためには、`(deref inventory)`または`@inventory`によってデリファレンスしなければならない。\n",
    "`atom`の値を変えるときには、次のようなClojureがするカバーの元。(??)\n",
    "\n",
    "1. 現在の値をデリファレンスする(そして保存する)\n",
    "1. `swap!`と通して関数を呼び出す\n",
    "1. 新しい値を検証するか、例外を投げる\n",
    "1. 比較して設定する。\n",
    "    - もし参照の現在の値が変更されていなかったら(例えば、他のスレッドによって)、関数の呼び出しの結果を置き換えて、新しい値を返す。\n",
    "    - もしメソッドの呼び出しのあいだに現在の値が変更されていれば、値を置き換えず、やりなおす。\n",
    "\n",
    "### Guarding Against Invalid State\n",
    "\n",
    "`swap!`メソッドは任務を完遂するまでくりかえす。データの完全なスナップショットに対して関数を呼び出すことを保証されている。(??)\n",
    "しかしながら、`swap!`が呼ばれた時点での`atom`が保持していた値に対して関数を呼び出すことを保証されない。\n",
    "16行目で定義したバリデータ(`init`のこと?)以外で、負の`:bacon`に終わることは完全に可能である。そして誰もそれをのぞまない。\n",
    "この種不幸なタイミングの例を見よう。\n",
    "\n",
    "```\n",
    "(:bacon @inventory)  ; => 1\n",
    "(if (in-stock? item) ; thread 1\n",
    "(if (in-stoke? item) ; thread 2\n",
    "    (swap! inventory update-in [item] dec))); thread 2\n",
    "    (swap! inventory update-in [item] dec))); thread 1\n",
    "(:bacon @inventory)  ; => -1\n",
    "```\n",
    "\n",
    "あなたが見えたように、ガードのタイミングが重要です。負の在庫を避けるために、19行目に(set-validator!のこと)検証関数を経由することでいくつか保険を加える必要がある。\n",
    "検証を使うことで、在庫項目が持つ最小の値が0であることを確保できる。\n",
    "\n",
    "`atom`の値が変更される前に、提案された新しい値は検証関数を経由する。\n",
    "もし検証関数が`false`を変えしたら、`atom`を変更する試みは`IllegalStateException`を投げるだろう。\n",
    "検証関数はまた自分自身の例外を投げることもでき、それは`IllegalStateException`を置き換える。\n",
    "これが可能な場所で(例えば22行目の`grab`関数を呼ぶとき)、その可能性はかならずハンドルされる。\n",
    "一般に、検証は副作用無しの関数(または`nil`)で、1引数をとる。\n",
    "それは何回も呼び出されることを思い出そう。\n",
    "\n",
    "(`inventory`を定義するときに、同じくらい簡単に検証関数を宣言できた。\n",
    "\n",
    "```\n",
    "(def inventory (atom {} :validator no-negative-values?))\n",
    "```\n",
    "\n",
    "これは特に初期状態を設定しているときに有用です。\n",
    "検証は`atom`が作られるときに初期状態を検証する。)\n",
    "\n",
    "これで、新興の格納APIを使うことと、`reduce`と`loop`を置き換えることができ、もっとキレイなアプローチを残されている。\n",
    "このコードは`go-shopping-naive`関数を置き換える。\n"
   ]
  },
  {
   "cell_type": "code",
   "execution_count": 2,
   "metadata": {},
   "outputs": [
    {
     "data": {
      "text/plain": [
       "#'shopping.store/go-shopping"
      ]
     },
     "execution_count": 2,
     "metadata": {},
     "output_type": "execute_result"
    }
   ],
   "source": [
    "(defn shop-for-item [cart item]\n",
    "    \"Shop for an item, return updated cart\"\n",
    "    (if (grab item)\n",
    "        (conj cart item)\n",
    "        cart))\n",
    "\n",
    "(defn go-shopping\n",
    "    \"Return a list of items purchased\"\n",
    "    [shopping-list]\n",
    "    (reduce shop-for-item [] shopping-list))"
   ]
  },
  {
   "cell_type": "markdown",
   "metadata": {},
   "source": [
    "このシンプルな例のなかでさえ、APIはいくつかのよく考えられた段階の後に形をとり始めることに注意しよう。\n",
    "これは、いつでもどこでも起きるべきだ。\n",
    "考えてから行い、不思議がすこししか出てこない。\n",
    "\n",
    "## Watching Inventory\n",
    "\n",
    "われらの大学生をいく週もラーメンだけにしておくと、店は定期的に補充しなければならない。\n",
    "補充する項目はマスター一覧か設定ファイルに記録されており、定期的にリフレッシュされる。しかし、スケジューリングを気にしながら呼ぶことができる。\n",
    "代りに、なぜ監視関数を追加することを考えないのだろう?\n",
    "\n",
    "監視は存在するー期待するものとしてー物ごとを見守るために。\n",
    "オブジェクト指向言語における観察者のデザイン・パターンの実装とそれらは同程度であり、ほとんど同じ目的を提供する。\n",
    "しかしながら、監視はオーバーヘッドが少ない。Clojureは監視の登録と通知を扱うので、監視関数はシンプルな関数のままである。特に4引数の関数。キー、監視する参照、古い値、新しい値の。\n",
    "\n",
    "監視はすべての参照型へ適用できる。\n",
    "ひとつの参照は複数の監視を持つことができ、それぞれ異なるキーを扱い、参照された値が変るときに全ての更新されるもの。(??)\n",
    "\n",
    "例を上げられるだろうか?\n",
    "在庫が減ったときに店に通知する監視関数を使おう。\n"
   ]
  },
  {
   "cell_type": "code",
   "execution_count": 3,
   "metadata": {},
   "outputs": [
    {
     "data": {
      "text/plain": [
       "#'shopping.store/init-with-restock"
      ]
     },
     "execution_count": 3,
     "metadata": {},
     "output_type": "execute_result"
    }
   ],
   "source": [
    "(declare sold-items)\n",
    "\n",
    "(defn restock-order\n",
    "    \"a watch to restock an item\"\n",
    "    [k r ov nv]\n",
    "    (doseq [item (for [kw (keys ov)\n",
    "                       :when (not= (kw ov) (kw nv))] kw)]\n",
    "        (swap! sold-items update-in [item] (fnil inc 0))\n",
    "        (println \"need to restock\" item)))\n",
    "\n",
    "(defn init-with-restock\n",
    "    \"set up store with inventory\"\n",
    "    [m]\n",
    "    (def inventory (atom m))\n",
    "    (def sold-items (atom {}))\n",
    "    (set-validator! inventory no-negative-values?)\n",
    "    (add-watch inventory :restock restock-order))"
   ]
  },
  {
   "cell_type": "markdown",
   "metadata": {},
   "source": [
    "わたしたちは初期化関数を変更して、監視関数を追加した(`add-watch`で)。\n",
    "監視関数はつぎの形式を取る。\n",
    "\n",
    "```\n",
    "(defn watch-fn [watch-key reference old-value new-value] ...)\n",
    "```\n",
    "\n",
    "このメソッドは`atom`の値をうまく更新したときいつも呼ばれる。\n",
    "古い在庫の値と新しい在庫の値を比較して、新しい`atom`である`sold-items`に変更した項目を取り出す。\n",
    "`grab`が一度にひとつの項目だけを引き出すことを知っているので、単純なインクリメントで満足できる。\n",
    "\n",
    "監視関数は4つの引数を取る。関数に対するキー、監視する参照、古い値、新しい値。\n",
    "後半の3つは素直であるが、キー(例えば、`:restock`)は闇である。\n",
    "カバーの下でキーはその参照にひもづいた複数の監視関数のハッシュマップの中でその監視関数を特定する。(`.getWatches`関数で取得可能)。\n",
    "監視関数を取り除くためには`remove-watch`を、既にある監視関数を置き換えるためには`add-watch`を使われることができる。\n",
    "一般的にキーをラベルとして扱うことができ、また、あまりそれを気にしなくてよい。\n",
    "\n",
    "今、われわれはいつ項目が棚から除かれたかを検出できるので、それを補充しよう。\n",
    "\n",
    "## Restocking the Shelves\n",
    "\n",
    "一度、販売した項目の追跡をしつづけ始めたら、定期的に棚を補充したいだろう。\n",
    "ここでかなり朴訥とした補充案を実装をしよう。"
   ]
  },
  {
   "cell_type": "code",
   "execution_count": 4,
   "metadata": {},
   "outputs": [
    {
     "data": {
      "text/plain": [
       "#'shopping.store/restock-all"
      ]
     },
     "execution_count": 4,
     "metadata": {},
     "output_type": "execute_result"
    }
   ],
   "source": [
    "(defn restock-all\n",
    "    \"restock all items sold\"\n",
    "    []\n",
    "    (swap! inventory #(merge-with + % @sold-items))\n",
    "    (reset! sold-items {}))\n",
    "    ; be careful, here be dragons."
   ]
  },
  {
   "cell_type": "markdown",
   "metadata": {},
   "source": [
    "でも、待って!\n",
    "これを過度にシンプルにすることで、いくつか重要なことを忘れてしまった。\n",
    "われわれの格納APIを使うとき、それらは、容易く明瞭になります。\n",
    "\n",
    "```\n",
    "user=> (use ['shopping.sotre :as 'store])\n",
    "nil\n",
    "user=> (store/init-with-restock {:apples 1 :bacon 3 :milk 2})\n",
    "#<Atom@eb74118: {:bacon 3, :apples 1, milk 2}>\n",
    "user=> (store/grab :bacon)\n",
    "need to restock :bacon\n",
    "user=> (store/grab :bacon)\n",
    "need to restock :bacon\n",
    "{:bacon 1, apples 1, :milk 2}\n",
    "user=> (store/grab :milk)\n",
    "need to restock :mklk\n",
    "{:bacon 1, :apples 1, :milk 1}\n",
    "user=> @store/sold-items\n",
    "{:milk 1, :bacon 2}\n",
    "user=> @store/inventory\n",
    "{:bacon:1, :apples 1, milk 1}\n",
    "user=> (store/restock-all)\n",
    "need to restock :bacon\n",
    "need to restock :milk\n",
    "```\n",
    "\n",
    "上のセッションの最後の出力の2行は見落としのひとつを見せる。\n",
    "在庫を更新するために`restock-all`で`swap!`を使ったとき、その監視関数は呼ばれた。販売した項目の一覧に2つの新しいエントリを生成しながら。\n",
    "なぜ3つでなく2つなのか?\n",
    "なぜならば、監視関数が量の変更を調べるように設計されておらず、ただ掴まれた項目の名前を記録するだけだったからだ。\n",
    "`stock`を呼ぶときにも同じことが起きるだろう。\n",
    "\n",
    "ほかの見落としはもうすこしあいまいなままだ。\n",
    "世界をコンカレント(並列)な方法で理解しようとしたことを思い出そう。\n",
    "`restock-all`関数において、5行目のちょうど前に、カオスが入るためのギャップを残した。\n",
    "もし他のスレッドがその時に在庫の項目を掴んでいたら、`sold-item``atom`のその項目のエントリは一掃されて、次回補充したら、項目を短くしていただろう。(??)\n",
    "\n",
    "この場合、在庫コンテナにたいする`atom`の選択は壊れた。\n",
    "この実装において、在庫は別々にかつ同期的に追跡されることを意図されていた。\n",
    "第二の追跡メカニズムを状態に加えるとき、突然調整することが必要である。\n",
    "すこしのことがらを調整することはトリッキーになることができます。\n",
    "`ref`によって、このトリッキーさへ向うことができる。\n",
    "\n",
    "## Transactional Change with Ref\n",
    "\n",
    "調整される必要のある幾つかの値へ並列な更新をする、より複雑な領域において、`atom`はもはや役に立たない。\n",
    "トランザクションの力が必要です。一連の`ref`が必要です。\n",
    "複雑な買い物旅行でこれを示しましょう。\n",
    "\n",
    "### Shopping with a Pack\n",
    "\n",
    "もし子どもを持っていれば、あなたはカートを埋める手伝いに子どもをいっしょに連れていくでしょう。\n",
    "これはいくつかの調整が要求するだろう。そして、われわれはどのアプローチがいちばんよく機能するか決めることを必要とする。\n",
    "\n",
    "シンプルなシナリオでは、買い物一覧を子どもたちに分けて、彼らの一覧の項目にそれらを送る。\n",
    "彼らは自分の分の買い物が完了したら帰ってくる。そしてわれわれは最後にその項目をまとめる。\n",
    "\n",
    "問題は解決した..か?\n",
    "われわれは労働者の分割により調整問題に前もって気を配った。その後、連携を必要とされなかった。(??)\n",
    "状態管理は、避けた。\n",
    "\n",
    "もちろん、これは子どもたちすべてが同じ期間だけ気をつけて、彼らは一覧の項目を探すのに最善を尽すことを仮定する。\n",
    "このすべてが真であれば、ものごとがすいすいといくことを期待できる。\n",
    "もっと現実的な子どもの買い物に対するアプローチの実装はこのようになるだろう。\n",
    "\n",
    "```\n",
    "(defn dawdle\n",
    "    \"screw around, get lost, maybe buy candy\"\n",
    "    []\n",
    "    (let [t (rand-int 5000)]\n",
    "        (Thread/sleep t)\n",
    "        (maybe? buy-candy)))\n",
    "```\n",
    "\n",
    "われわれはほんの少しのカオスを加え、軽減することが必要だろう。\n",
    "ひとつの項目を探すためにそれぞれの子どもに送り、かれらはしばらく`dawdle`する。\n",
    "かれらが帰ってきたとき、割り当てられた項目を(さらにいくらかのキャンディを)カートに入れて、彼らの次の割り当てを受けとる。\n",
    "もっと焦点をあてると、より機能する。しかし、その項目は最終的に一覧から削除されます。\n",
    "\n",
    "### Building Transactions from Rules\n",
    "\n",
    "ここで成功するためのキーは買い物中の項目についての明確なルールを持つことです。\n",
    "そのルールが与えられたら、ルールに従った方法でモデル化し、状態を更新したいとおもう。\n",
    "\n",
    "そのルールとは、\n",
    "\n",
    "- 買い物一覧の項目は子どもに割り当てられたとき削除される。\n",
    "- カートに入るまで、項目は子どもに割り当てらてている。\n",
    "- キャンディは買い物一覧にもカートにも認められない。\n",
    "\n",
    "このルールを保存するために、子どもへの項目の割り当てと、買い物一覧からの削除はわれわれローカルな世界の観点から同時に起きなければならない。\n",
    "同様に、その項目を取り戻すことと、カートに入れることは効果的に同時でなければならない。(??)\n",
    "それらの活動を調整する必要がある。そのために、`ref`が必要だろう。\n",
    "\n",
    "`ref`はその値を`ref`の世界に格納し、その値への変更が調整されて、同期的に、トランザクショナリに行なわれることを確保できるようにする。\n",
    "次の例にて、3つの`ref`を作る。\n",
    "`shopping-list`は買い物しようとする項目を含む組です。\n",
    "子どもの名前をマップのキーとする`assignments`マップとともに飛行中に項目を追跡する。(??)\n",
    "最後に、`shopping-cart`は子どもから取り戻した項目の組です。\n"
   ]
  },
  {
   "cell_type": "code",
   "execution_count": 5,
   "metadata": {},
   "outputs": [
    {
     "data": {
      "text/plain": [
       "#'shopping.store/init"
      ]
     },
     "execution_count": 5,
     "metadata": {},
     "output_type": "execute_result"
    }
   ],
   "source": [
    "(require '[shopping.store :as store])\n",
    "(def shopping-list (ref #{}))\n",
    "(def assignments (ref {}))\n",
    "(def shopping-cart (ref #{}))\n",
    "\n",
    "(defn init []\n",
    "    (store/init {:eggs 2 :bacon 3 :apples 3\n",
    "                 :candy 5 :soda 2 :milk 1\n",
    "                 :bread 3 :carrots 1 :potatoes 1\n",
    "                 :cheese 3})\n",
    "    (dosync\n",
    "        (ref-set shopping-list #{:milk :butter :bacon :eggs\n",
    "                                 :carrots :potatoes :cheese :apples})\n",
    "        (ref-set assignments {})\n",
    "        (ref-set shopping-cart #{})))\n"
   ]
  },
  {
   "cell_type": "markdown",
   "metadata": {},
   "source": [
    "`ref`の値を変更することは、`dosync`を使い、トランザクションの内側でされなければならない。\n",
    "ひとつのトランザクションは多くの更新から構成されます。\n",
    "\n",
    "それらの更新は3つのフレーバーに入る。\n",
    "`ref`の値を直接更新するために、`ref-set`を使う。\n",
    "関数を使って更新するとき、`alter`か`commute`のどちらかを使う。\n",
    "ほどんどの場合、再初期化のコンテキストの中で`ref-set`を見るだろう。\n",
    "\n",
    "`alter`を使うことは、関数が適用されるときの`ref`の値がトランザクションが始まるときか、最後の`alter`関数がその時点でのトランザクションの中で適用されたときと同じ`ref`の値であることを要求する(??)\n",
    "もしそのトランザクションの実行中に、同時に実行しているトランザクションによって`ref`が更新されたら、再試行を引き起します。\n",
    "もしトランザクションが外側の干渉なしに実行する必要があるならば、`alter`こそ使うべき関数です。\n",
    "\n",
    "もし、トランザクションが内部の一貫性のチェックを要求しないならば、`commute`を使える。\n",
    "`commute`関数はトランザクションの実行の過程で`ref`の値が変更されたとき再試行を引き起さない。\n",
    "`commute`に渡された関数はその時点で`ref`がどんな値をもっていようとも実行される。\n",
    "\n",
    "並列性が高いアプリケーションにおいて、可能なところで`alter`呼び出しを`commute`に置き換えることは再試行を避けることによりパフォーマンスの向上になる。\n",
    "これは`commute`に渡される関数が可換であるときにだけで行われるべきだ。つまり、更新関数の適用の結果がその実行の順番にかかわらず同じ結果を生み出すとき。\n",
    "足し算のことを考えてください。`(4 + 6 + 2)`は`(2 + 4 + 6)`と同じです。\n",
    "\n",
    "`ensure`関数を使用すると、`ref`の値が更新されずに現在のトランザクションの外側で変更されていないことを確認できます。(??)\n",
    "もし`ensure`が値が変更することを発見したら、再試行を引き起します。\n",
    "これは`ref`が相互に依存する値を持つような状況で有用です。\n",
    "例えば、支払いを終えるとき、われわれはトランザクションの間に値段を変更していないことを確認するために値段の一覧を`ensure`(確認)するだろう。たとえ値段を更新をしていないとしても。\n",
    "トランザクションの途中での値段の変更は再試行を引き起すだろう。\n",
    "\n",
    "`ref`を更新する構文の簡潔な見直しをしよう。`ref`に対して関数を送ることにより`alter`(または`commute`)できる。また引数は更新する責任がある(??)\n",
    "\n",
    "次のコードの塊はトランザクションな活動を実行する必要があるであろう関数を定義している。\n",
    "もう一度、APIからコードが削除され始めているのがわかります。(??)\n",
    "`assign-item-to-child`関数は買い物一覧から項目を取り除き、それを子どもに割り当てる。\n",
    "`collect-assignment`関数は購入した項目を買い物カートに加え、子どもの割り当てから捨てさる。\n",
    "`dawdle`関数は`buy-candy`に使われる。\n",
    "これがわれわれのトランザクションです。"
   ]
  },
  {
   "cell_type": "code",
   "execution_count": 6,
   "metadata": {},
   "outputs": [
    {
     "data": {
      "text/plain": [
       "#'shopping.store/assign-item-to-child"
      ]
     },
     "execution_count": 6,
     "metadata": {},
     "output_type": "execute_result"
    }
   ],
   "source": [
    "(require '[shopping.store :as store])\n",
    "\n",
    "(defn assignment\n",
    "    [child]\n",
    "    (get @assignments child))\n",
    "\n",
    "(defn buy-candy []\n",
    "    (dosync\n",
    "        (commute shopping-cart conj (store/grab :candy))))\n",
    "\n",
    "(defn collect-assignment\n",
    "    [child]\n",
    "    (let [item (assignment child)]\n",
    "        (dosync\n",
    "            (alter shopping-cart conj item)\n",
    "            (alter assignment dissoc child)\n",
    "            (ensure shopping-list) ;; not needed, included as an example\n",
    "            )\n",
    "        item))\n",
    "(defn assign-item-to-child [child]\n",
    "    (let [item (first @shopping-list)]\n",
    "        (dosync\n",
    "            (alter assignments assoc child item)\n",
    "            (alter shopping-list disj item))\n",
    "        item))"
   ]
  },
  {
   "cell_type": "markdown",
   "metadata": {},
   "source": [
    "前のメソッドはローカルな制御が返るよりも前に完全に更新することが必要である状態の2つの異なる要素を両方とも操作する。(??)\n",
    "このメソッドは変更されるコレクションを更新するために`alter`を使い、操作が順番に実行されることを示している。\n",
    "またこのメソッドは`ref`が更新されないよう守るために`ensure`を使う。(??)\n",
    "\n",
    "トランザクション(`dosync`)が走っている間、dosyncブロックで識別された`ref`への書き込みは阻止されます。\n",
    "それらの変更がすべてそろったら、`ref`の世界であるわれわれの別のタイムラインにコミットします。(??)\n",
    "すべてが成功裏に終ったら、全ての更新は書き込み時点の後のローカルな世界で読み出せるようになる。\n",
    "さもなければ、変更はなにもコミットされず、トランザクションは再試行制限に至るまで(これを書いている時点で10000回)再試行される。\n",
    "これはわれわれのルールが全ての走っているスレッドに対して維持されることを保証する。\n",
    "\n",
    "### Making the Trip\n",
    "\n",
    "今わたしたちは自分のトランザクショナルなメソッドの定義を持っている。実際に買い物に出掛けられる。"
   ]
  },
  {
   "cell_type": "code",
   "execution_count": 12,
   "metadata": {},
   "outputs": [
    {
     "data": {
      "text/plain": [
       "#'shopping.store/go-shopping"
      ]
     },
     "execution_count": 12,
     "metadata": {},
     "output_type": "execute_result"
    }
   ],
   "source": [
    "(require '[clojure.core.async :refer [chan go-loop >!! <! go] :as async])\n",
    "(def my-kids #{:alice :bobbi :cindy :donnie})\n",
    "\n",
    "(defn send-child-for-item\n",
    "    \"eventually shop for an item\"\n",
    "    [child item q]\n",
    "    (println child \"is searching for\" item)\n",
    "    ;(dawdle)\n",
    "    (collect-assignment child)\n",
    "    (>!! q child))\n",
    "\n",
    "(defn report []\n",
    "    (println \"store inventory\" @store/inventory)\n",
    "    (println \"shopping-list\" @shopping-list)\n",
    "    (println \"assignments\" @assignments)\n",
    "    (println \"shopping-cart\" @shopping-cart))\n",
    "\n",
    "(defn go-shopping []\n",
    "    (init)\n",
    "    (report)\n",
    "    (let [kids (chan 10)]\n",
    "        (doseq [k my-kids]\n",
    "            (>!! kids k))\n",
    "        (go-loop [kid (<! kids)]\n",
    "                 (if (seq @shopping-list)\n",
    "                     (do\n",
    "                         (go\n",
    "                             (send-child-for-item kid (assign-item-to-child kid) kids))\n",
    "                         (recur (<! kids)))\n",
    "                     (do\n",
    "                         (println \"done shopping.\")\n",
    "                         (report))))))"
   ]
  },
  {
   "cell_type": "markdown",
   "metadata": {},
   "source": [
    "もし`go-loop`や不思議な記号(`<!`、`>!!`)に慣れていなくても気にしなくてよい。これらは`core.async`の一部で、もっと後で第5章「Use Your Core」で同時実行について話すときに詳しくカバーする。\n",
    "今は、ループを始めるとき、われわれが(`channel`という)キューから子どもを取りだし、一度その子どもに割り当てられた項目を集めたらその子どもをキューへ返すことを知っておいてください。\n",
    "\n",
    "それとは別に、買い物はそれ自体はかなり直観的にすすみます。\n",
    "このトランザクションをできるだけ簡潔で、できるだけ少ない場所ですませるためには、われわれは多くの混沌のリスクを緩和する。(??)\n",
    "\n",
    "ああ、しかし、われわれはキャンディには触れませんでした。ルールではキャンディはダメです。だから、買い物カートに検証を追加しましょう。"
   ]
  },
  {
   "cell_type": "code",
   "execution_count": 2,
   "metadata": {},
   "outputs": [
    {
     "data": {
      "text/plain": [
       "#'user/shopping-cart"
      ]
     },
     "execution_count": 2,
     "metadata": {},
     "output_type": "execute_result"
    }
   ],
   "source": [
    "(def shopping-cart (ref #{}\n",
    "                        :validator #(not (contains? % :candy))))"
   ]
  },
  {
   "cell_type": "markdown",
   "metadata": {},
   "source": [
    "あるいは、もしキャンディが必然的にその中に見つかるときにカートが爆発することを望まないならば、発生時に親に通知する監視関数を単に加えることができる。処罰に関する決定を遅らせる。"
   ]
  },
  {
   "cell_type": "code",
   "execution_count": 3,
   "metadata": {},
   "outputs": [
    {
     "data": {
      "text/plain": [
       "#ref[{:status :ready, :val #{}} 0x5f24a0f8]"
      ]
     },
     "execution_count": 3,
     "metadata": {},
     "output_type": "execute_result"
    }
   ],
   "source": [
    "(defn notify-parent\n",
    "    [k r _ nv]\n",
    "    (if (contains? nv :candy)\n",
    "        (println \"there's candy in the cart!\")))\n",
    "\n",
    "(add-watch shopping-cart :candy notify-parent)"
   ]
  },
  {
   "cell_type": "markdown",
   "metadata": {},
   "source": [
    "最後に少なくとも、`var`コンテナを考えよう。\n",
    "\n",
    "## Tracking Local State with Var\n",
    "\n",
    "\n",
    "\n"
   ]
  },
  {
   "cell_type": "markdown",
   "metadata": {},
   "source": [
    "# Living with Change\n",
    "## How and When to Validate\n",
    "## Runtime State vs. Program State\n",
    "## Keeping a Leash on Change\n",
    "\n",
    "# Wrapping Up\n"
   ]
  }
 ],
 "metadata": {
  "kernelspec": {
   "display_name": "Clojure",
   "language": "clojure",
   "name": "clojure"
  },
  "language_info": {
   "file_extension": ".clj",
   "mimetype": "text/x-clojure",
   "name": "clojure",
   "version": "1.8.0"
  }
 },
 "nbformat": 4,
 "nbformat_minor": 2
}
