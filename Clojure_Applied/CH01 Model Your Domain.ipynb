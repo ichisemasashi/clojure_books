{
 "cells": [
  {
   "cell_type": "code",
   "execution_count": 9,
   "metadata": {},
   "outputs": [
    {
     "data": {
      "text/plain": [
       "#'user/make-money"
      ]
     },
     "execution_count": 9,
     "metadata": {},
     "output_type": "execute_result"
    }
   ],
   "source": [
    "(defrecord Currency [divisor sym desc])\n",
    "\n",
    "(defrecord Money [amount ^Currency currency] \n",
    "  java.lang.Comparable\n",
    "    (compareTo [m1 m2]\n",
    "      (validate-same-currency m1 m2)\n",
    "      (compare (:amount m1) (:amount m2))))\n",
    "\n",
    "(defn validate-same-currency\n",
    "  [m1 m2]\n",
    "  (or (= (:currency m1) (:currency m2))\n",
    "      (throw\n",
    "        (ex-info \"Currencies do not match.\"\n",
    "          {:m1 m1 :m2 m2}))))\n",
    "(defn +$ \n",
    "  ([m1] m1)\n",
    "  ([m1 m2]\n",
    "    (validate-same-currency m1 m2)\n",
    "    (->Money (+ (:amount m1) (:amount m2)) (:currency m1)))\n",
    "  ([m1 m2 & monies]\n",
    "    (reduce +$ m1 (conj monies m2))))\n",
    "(defn make-money\n",
    "  ([] (make-money 0))\n",
    "  ([amount] (make-money amount :usd))\n",
    "  ([amount currency] (->Money amount currency)))\n"
   ]
  },
  {
   "cell_type": "markdown",
   "metadata": {},
   "source": [
    "\n",
    "\n",
    "\n",
    "データはプログラムの岩盤である。我々が築きあげるすべての基礎になっている。だからアプリ開発ときの最初に考えるものである。\n",
    "\n",
    "Clojureは汎用的なアクセスに公開する間、データが不変で安定している。 だからコードはシンプルになり、考えも簡単になり、簡潔になる。\n",
    "\n",
    "Clojureにはドメインをデータとして表現するためのツールがたくさんある。しかしときどき、石の塊から最終的な彫像を得る方法が明確でない。われわれはあなたのデータに対して最良の構造を生成するための技術の範囲--基礎から応用まで--を適用する方法をあなたに示そう。\n",
    "\n",
    "あなたの彫刻刀をとってください--われわれはデータを彫像にしよう。"
   ]
  },
  {
   "cell_type": "markdown",
   "metadata": {},
   "source": [
    "# Modeling Entities\n",
    "\n",
    "どんなプログラミングの努力も問題定義から始まる。われわれが直面する始めのタスクは、解答へと続く問題の ***ドメイン*** をモデル化する方法です。われわれが下すであろう決断はどのようにわれわれが外部のシステムと相互作用するか影響する。同様にアルゴリズムとわれわれのアプリのパフォーマンスにも影響する。われわれはClojureのドメインエンティティをどう表現するか考慮することから開始する。\n",
    "\n",
    "Clojureではドメインエンティティを表現するのに、`map`か`record`を使用する。`map`はキーと値のペアの一般的なコレクションで、`record`はよく知られたフィールドに対する定義された構造で型を構築する。\n",
    "\n",
    "われわれは期待する使用パターンとパフォーマンスのニーズに基いて`map`と`record`の選択に関していくつかの考察を見ていこう。しかし、`map`と`record`をモデルエンティティとしてどのように使うのか観察することから始めよう。\n",
    "\n",
    "## Maps\n",
    "\n",
    "mapは定義済みの構造を持たず、ほとんど制約がなく、大きな柔軟性を提供する。`map`は効率的に一定時間でキーから値を検索できる、キーと値のペアのひとつのコレクションです。`map`をエンティティとして使うには、われわれはキーとして属性名、一般的にはキーワードを指定します。\n",
    "\n",
    "### Effectively Constant Time\n",
    "Clojureにおいて`map`、`vector`、`set`は32-way分岐要素を使用してHash Array Mapped Triesで実装されています。検索はツリー横断に基いています。時間の複雑さは`O(log n)`です。しかしながら、それらClojureのデータ構造は32-way分岐要素を使うので、実際の検索時間は`O(log_32 n)`です。実質的に言えば、ほとんどの`map`は2から3レベル以内です。そして10億エントリの`map`でも6しか必要としません。この機能がとてもユックリであるため、これらのデータ構造の検索を効率的に一定であるといいます。\n",
    "\n",
    "\n",
    "太陽系をシュミレートするプログラムを作成するタスクがあるとしましょう。われわれのプログラムにおいて、太陽、惑星、それらの月、もしくはその他のオブジェクトを表すエンティティが必要となりそうです。地球をエンティティにモデル化する方法を考えることから始めましょう。われわれのシュミレーションにおいて、地球は惑星で、いくつかの興味深い属性を持ちます。\n",
    "\n",
    "Clojureにおいて、ひと組の属性とエンティティをモデル化する一番簡単な方法はClojureの`map`を使うことです。"
   ]
  },
  {
   "cell_type": "markdown",
   "metadata": {},
   "source": [
    "太陽系をシュミレートするプログラムの例"
   ]
  },
  {
   "cell_type": "code",
   "execution_count": 3,
   "metadata": {},
   "outputs": [
    {
     "data": {
      "text/plain": [
       "#'user/earth"
      ]
     },
     "execution_count": 3,
     "metadata": {},
     "output_type": "execute_result"
    }
   ],
   "source": [
    "(def earth {:name \"Earth\"\n",
    "            :moons 1\n",
    "            :volume 1.08321e12 ;; km^3\n",
    "            :mass   5.97219e24 ;; kg\n",
    "            :aphelion 152098232 ;; km, farther from sun\n",
    "            :perihelion 147098290 ;; km, closest to sun\n",
    "            })\n",
    "\n"
   ]
  },
  {
   "cell_type": "markdown",
   "metadata": {},
   "source": [
    "後の章で見るように、動的な振舞いをドライブすることができるエンティティの型を持つことはしばしば便利です。例えば、われわれは太陽系エンティティとして惑星だけを見付けたいと思うでしょう。われわれはエンティティに印をするための「`:type`」属性を追加することで例を少し拡張できる。"
   ]
  },
  {
   "cell_type": "code",
   "execution_count": null,
   "metadata": {},
   "outputs": [],
   "source": [
    ";; :type を足して少しデータを拡張する。\n",
    "(def earth {:name \"Earth\"\n",
    "            :moons 1\n",
    "            :volume 1.08321e12 ;; km^3\n",
    "            :mass   5.97219e24 ;; kg\n",
    "            :aphelion 152098232 ;; km, farther from sun\n",
    "            :perihelion 147098290 ;; km, closest to sun\n",
    "            :type :Planet ;; entity type\n",
    "            })\n",
    ";; これでひとつのplanetインスタンスができ、種別(type)を扱えるようになった。\n",
    ";; しかし、これの構造を掴んでいない。"
   ]
  },
  {
   "cell_type": "markdown",
   "metadata": {},
   "source": [
    "これで、われわれは惑星インスタンスを持ち、さらに便利なエンティティの型もある。しかしわれわれはわれわれのチームの他の開発者にとっての便利は方法でこの構造(特定のフィールド名)を捕えていなかった。\n",
    "\n",
    "Clojureの`record`はこの目的のためにある。"
   ]
  },
  {
   "cell_type": "markdown",
   "metadata": {},
   "source": [
    "## Records\n",
    "\n",
    "レコードはクラスの様な特徴、フィールドとコンストラクタとして良く知られる特徴をドメインエンティティをサポートするために提供する。`record`は型の名前とフィールドから生成される。"
   ]
  },
  {
   "cell_type": "code",
   "execution_count": 4,
   "metadata": {},
   "outputs": [
    {
     "data": {
      "text/plain": [
       "user.Planet"
      ]
     },
     "execution_count": 4,
     "metadata": {},
     "output_type": "execute_result"
    }
   ],
   "source": [
    "(defrecord Planet [\n",
    "                      name\n",
    "                      moons\n",
    "                      volume     ;; km^3\n",
    "                      mass       ;; kg\n",
    "                      aphelion   ;; km, farthest from sun\n",
    "                      perihelion ;; km, closest to sun\n",
    "                      ])\n",
    ";; レコードの構造が定義されていれば、他に多くのインスタンスを生成できる。\n",
    ";; このレコードから生成されたインスタンスには「Planet」という明確な型がある。"
   ]
  },
  {
   "cell_type": "markdown",
   "metadata": {},
   "source": [
    "一度、`record`の構造が定義されると、同じフィールドを持つその`record`の複数のインスタンスを生成するためにそれを使うことができる。(われわれが作った名前空間において)この`record`によるすべてのインスタンスは`Planet`の観測可能な型を持つ。\n",
    "\n",
    "`defrecord`のフィールドはドメインエンティティの全てのインスタンスによって共有される。また新しいインスタンスを生成するための2つのファクトリ関数が自動的に生成される。`Planet record`に対して、`defrecord`により順番が指定された各属性ごとの値を期待するポジショナル・ファクトリ関数(`->Planet`)と、キーと値のマップを期待する`map`ファクトリ関数(`map->Planet`)があります。"
   ]
  },
  {
   "cell_type": "code",
   "execution_count": 5,
   "metadata": {},
   "outputs": [
    {
     "data": {
      "text/plain": [
       "#'user/earth"
      ]
     },
     "execution_count": 5,
     "metadata": {},
     "output_type": "execute_result"
    }
   ],
   "source": [
    "(def earth\n",
    "    (->Planet \"Earth\", 1, 1.08321e12, 5.97219e24, 152098232, 147098290))\n",
    "(def earth\n",
    "    (map->Planet {\n",
    "                     :name \"Earth\"\n",
    "                     :moons 1\n",
    "                     :volume 1.08321e12\n",
    "                     :mass   5.97219e24\n",
    "                     :aphelion 152098232\n",
    "                     :perihelion 147098290}))"
   ]
  },
  {
   "cell_type": "markdown",
   "metadata": {},
   "source": [
    "ポジショナル・ファクトリ関数はより簡潔ですが、指定した順ですべての属性を必要とします。そのため、その`record`が変更された場合、呼び元は壊れてしまいがちです。`map`ファクトリ関数はオプション属性を省略できたり、より詳細を追加したりできたり、新しい属性がその`record`に追加された場合でも仕事を継続できます。"
   ]
  },
  {
   "cell_type": "markdown",
   "metadata": {},
   "source": [
    "## Deciding Between Maps and Records\n",
    "\n",
    "`map`も`record`も要素へのアクセスや変更に、標準的なmap用関数を使う。\n",
    "しかし、多くの場合、ドメインエンティティとしては`record`の方が良い選択である。\n",
    "`record`はホストプラットフォーム(JVM)の特徴に影響する。\n",
    "\n",
    "レコードはその型を、各属性へのフィールドを伴うJava classを生成することにより、定義する。\n",
    "つまり、レコードはフィールド定義における基本型ヒントを持てるし、Java classに元づく基本的フィールドを生成できる。そして、より効果的な表現を提供し数値計算がはやくなる。\n",
    "また、Java classに元づくことで、JavaのインターフェイスとClojureのプロトコルを実装する場所を提供し、`record`において振舞いが直接的になり、その場合に可能なかぎり最速な関数ディスパッチを提供します。\n",
    "\n",
    "`record`には、よく分るフィールド・型・ファクトリ関数・よりよいパフォーマンスがあり、ドメインエンティティとして最初の選択となる。\n",
    "\n",
    "公開APIとしての`map`は、「それがJavaにより使用されるのか、それともClojureによるのか」をよく考えるべき条件になる。\n",
    "APIにおいては、呼び元の制約を最小にすることが重要である。\n",
    "われわれの`record`クラスのインスタンスを生成するためのそれらの要求により、それらのクラスのいくつかの詳細もまた効率的に公開される。\n",
    "この場合は、コミットの少ない、よく知られた`key`の組と`map`がよりシンプルでよい選択になる。\n",
    "\n",
    "`map`と`record`の間で悪い選択をすることについてあせるな。\n",
    "`record`はすべての重要な方法において、効率的な`map`です。\n",
    "`map`と`record`の両方とも同じインターフェイスを提供する。-- あなたは`get`のような関数を使ってキーによる属性の値を単に問い合わせる。\n",
    "だから、`record`を内部で使うことは簡単です。ただし、違いが見られる可能性が高い場所にのみコミットするのは、構造に基づいており、型に基づく動的な動作です。\n",
    "\n",
    "さらに加えて、`defrecord`により提供されるファクトリ関数にとって、エンティティを生成するときにさらなる柔軟性を提供する関数を定義することは便利かもしれない。\n",
    "われわれは次により詳細にそれらに向おう。"
   ]
  },
  {
   "cell_type": "markdown",
   "metadata": {},
   "source": [
    "## Constructing Entities\n",
    "\n",
    "エンティティの構造を定義できたら、その構造物を生成する関数を作る必要がある。\n",
    "たいていの場合、要素は`defrecord`のパラメータの順番か`map`ファクトリ関数を使う。または`map`を生成するコア・ライブラリ関数(`{}`, `hash-map`, `zipmap`)を使う。\n",
    "\n",
    "しかしながら、ある状況ではもうすこし考えることが必要になる。\n",
    "よくあるパターンは、オプション値のエンティティのときである。\n",
    "Clojureはいくつかの方法でこれを扱うことができる。われわれは最も一般的なもののいくつかを見よう。\n",
    "またわれわれは派生した値を生成または副作用を持つコンストラクタを見よう。\n",
    "\n",
    "### On Terms and Naming\n",
    "\n",
    "われわれは`defrecord`により自動的に生成される関数を具体的に述べるためにファクトリ関数という用語を使う。また、新しいエンティティのインスタンスを構築する関数としてコンストラクタを参照する。\n",
    "しかしながら、Clojureコミュニティにおいて、それらの用語はしばしば交換可能に使われることに気を付けなさい。また他の言語コミュニティにて、多くの異なる含意を持つことにも気を付けなさい。\n",
    "\n",
    "あなたのプロジェクトでコンストラクタ関数のための命名規則を持つことは有意義です。\n",
    "Clojureコミュニティではコンストラクタのための標準の命名規則はありません。しかし、`new-`、`make-`、`map->`といった、もっとも一般的なコンストラクタの接頭辞があります。\n",
    "わたしたちは基本的に`make-`を使いますが、ご自由にあなた自身の規則を適用してください。ただしそれを一貫して使ってください。\n",
    "\n",
    "\n",
    "### Constructing with Options\n",
    "\n",
    "オプショナル引数の使用はあなたのコンストラクタに柔軟性を与えることができる。\n",
    "もし様々な方法でエンティティを構築することを考えているならば、オプショナル引数が助けになる。\n",
    "\n",
    "関数定義に`& opts`を引数ベクタに加えることでオプショナル引数を含めることができる。\n",
    "\n",
    "`(defn fn-with-opts [f1 f2 & opts] ....)`\n",
    "\n",
    "もちろん、`opts`は好きな名前でよい。関数のオプショナル引数はひとつのシーケンスに集められ、関数内では`opts`に束縛される。\n",
    "\n",
    "#### Positional Destructuring\n",
    "\n",
    "オプショナル引数のあるコンストラクタを定義するとき、ハッキリと分割することができる(cf.[destructreing](https://clojure.org/reference/special_forms))\n",
    "\n",
    "`(defn make-entity [f1 f2 &[f3 f4]] ...)`\n",
    "\n",
    "これはいくつオプショナル引数があってもよく、`f3`と`f4`はそれらの位置にもとづいて束縛がなされる。\n",
    "Clojureの分割の能力は、デベロッパとしてあなたの生活の質を非常に向上できる。\n",
    "`first`や`second`、`nth`のような位置に関る関数をよく使うどんなコードでも、通常、destructuringによってよりシンプルに記述できます。\n",
    "\n",
    "あなたは、依存(dependency)に優先して、いくつかの(ゼロも含む)フィールドを取るコンストラクタ関数を定義するために、このテクニックを使うことができる。\n",
    "通貨を扱うスニペットを見てみよう。\n",
    "通貨の加算(+$)や数値の合計(*$)を扱うメソッドに加えて、特定の通貨でのお金の価値を含む`Money`エンティティが欲しい。\n",
    "\n",
    "`Patterns of Enterprise Application Architecture`にてマーティン・ファウラーは、通貨のイシューを抽象化する一方で、金銭的なバリューの表現(浮動小数点数を使用した際の多くの落とし穴を避ける)を述べている。\n",
    "では、Clojureで`Money`バリューオブジェクトを作ろう。バリューをモデル化する`record`から始める。"
   ]
  },
  {
   "cell_type": "code",
   "execution_count": 1,
   "metadata": {},
   "outputs": [
    {
     "data": {
      "text/plain": [
       "#'ch1.money/*$"
      ]
     },
     "execution_count": 1,
     "metadata": {},
     "output_type": "execute_result"
    }
   ],
   "source": [
    "(ns ch1.money)\n",
    "\n",
    "(declare validate-same-currency)\n",
    "\n",
    "(defrecord Currency [divisor sym desc])\n",
    "\n",
    "(defrecord Money [amount ^Currency currency]\n",
    "    java.lang.Comparable\n",
    "      (compareTo [m1 m2]\n",
    "                 (validate-same-currency m1 m2)\n",
    "                 (compare (:amount m1) (:amount m2))))\n",
    "\n",
    "(def currencies {:usd (->Currency 100 \"USD\" \"US Dollars\")\n",
    "                 :eur (->Currency 100 \"EUR\" \"Euro\")})"
   ]
  },
  {
   "cell_type": "markdown",
   "metadata": {},
   "source": [
    "われわれはまた、加算、比較、乗算、その他の関数を必要とする。"
   ]
  },
  {
   "cell_type": "code",
   "execution_count": null,
   "metadata": {},
   "outputs": [],
   "source": [
    "(defn- validate-same-currency [m1 m2]\n",
    "    (or (= (:currency m1) (:currency m2))\n",
    "        (throw\n",
    "            (ex-info \"Currencies do not match.\"\n",
    "                     {:m1 m1 :m2 m2}))))\n",
    "\n",
    "(defn =$\n",
    "    ([m1] true)\n",
    "    ([m1 m2] (zero? (.compareTo m1 m2)))\n",
    "    ([m1 m2 & monies]\n",
    "     (every? zero? (map #(.compareTo m1 %) (conj monies m2)))))\n",
    "\n",
    "(defn +$\n",
    "    ([m1] m1)\n",
    "    ([m1 m2]\n",
    "     (validate-same-currency m1 m2)\n",
    "     (->Money (+ (:amount m1) (:amount m2)) (:currency m1)))\n",
    "    ([m1 m2 & monies]\n",
    "     (reduce +$ m1 (conj monies m2))))\n",
    "(defn *$ [m n] (->Money (* n (:amount m)) (:currency m)))\n"
   ]
  },
  {
   "cell_type": "markdown",
   "metadata": {},
   "source": [
    "さて、デフォルト値を含んだ、柔軟な`Money`コンストラクタを組み立てよう。"
   ]
  },
  {
   "cell_type": "code",
   "execution_count": 15,
   "metadata": {},
   "outputs": [
    {
     "data": {
      "text/plain": [
       "#'ch1.money/make-money"
      ]
     },
     "execution_count": 15,
     "metadata": {},
     "output_type": "execute_result"
    }
   ],
   "source": [
    "(defn make-money\n",
    "    ([] (make-money 0))\n",
    "    ([amount] (make-money amount :usd))\n",
    "    ([amount currency] (->Money amount (currencies currency))))\n"
   ]
  },
  {
   "cell_type": "markdown",
   "metadata": {},
   "source": [
    "いま、REPLから、いくつかの方法で`make-money`を呼ぶことができる。"
   ]
  },
  {
   "cell_type": "code",
   "execution_count": 16,
   "metadata": {},
   "outputs": [
    {
     "data": {
      "text/plain": [
       "#ch1.money.Money{:amount 0, :currency #ch1.money.Currency{:divisor 100, :sym \"USD\", :desc \"US Dollars\"}}"
      ]
     },
     "execution_count": 16,
     "metadata": {},
     "output_type": "execute_result"
    }
   ],
   "source": [
    "(make-money)"
   ]
  },
  {
   "cell_type": "code",
   "execution_count": 17,
   "metadata": {},
   "outputs": [
    {
     "data": {
      "text/plain": [
       "#ch1.money.Money{:amount 1, :currency #ch1.money.Currency{:divisor 100, :sym \"USD\", :desc \"US Dollars\"}}"
      ]
     },
     "execution_count": 17,
     "metadata": {},
     "output_type": "execute_result"
    }
   ],
   "source": [
    "(make-money 1)"
   ]
  },
  {
   "cell_type": "code",
   "execution_count": 19,
   "metadata": {},
   "outputs": [
    {
     "data": {
      "text/plain": [
       "#ch1.money.Money{:amount 5, :currency #ch1.money.Currency{:divisor 100, :sym \"EUR\", :desc \"Euro\"}}"
      ]
     },
     "execution_count": 19,
     "metadata": {},
     "output_type": "execute_result"
    }
   ],
   "source": [
    "(make-money 5 :eur)"
   ]
  },
  {
   "cell_type": "markdown",
   "metadata": {},
   "source": [
    "関数本体では、必要になる可能性が高い値が引数リストの前に配置されます。\n",
    "\n",
    "#### Map Destructuring\n",
    "\n",
    "しかしながら、しばしば、任意の順でオプショナル引数を受けることは便利である。\n",
    "この場合、destructuredなオプションの`map`を受けることはシンプルな解である。\n",
    "\n",
    "`(defn make-entity [f1 f2 {:keys [f3 f4] :as opts}] ,,,)`\n",
    "\n",
    "例えば、空のシュミレーションにアポロ計画についてのデータを含めることを考える。\n",
    "その計画は有人か月面モジュールかなど、ミッションはさまざまでした。\n",
    "それらのオプションを一つのオプションの`map`に分割することですべて受けることができる。\n",
    "\n",
    "```\n",
    "(defn make-mission\n",
    "    [name system launched manned? opts]\n",
    "    (let [{:keys [cm-name  ;; command module\n",
    "                  lm-name  ;; lunar module\n",
    "                  orbits\n",
    "                  evas]} opts]\n",
    "        ....))\n",
    "\n",
    "(def appollo-4\n",
    "  (make-mission \"Apollo 4\"\n",
    "                \"Saturn V\"\n",
    "                #inst \"1967-11-09T12:00:01-00:00\"\n",
    "                false\n",
    "                {:orbits 3}))\n",
    "```\n",
    "\n",
    "一連のデフォルト値は、デフォルトのひとつの`map`である入力`opts`の`map`にマージすることでで提供される。\n",
    "\n",
    "```\n",
    "(def mission-defaults {:orbits 0, evas 0})\n",
    "\n",
    "(defn make-mission\n",
    "  [name system launched manned? opts]\n",
    "  (let [{:keys [cm-name ;; command module\n",
    "                lm-name ;; lunar module\n",
    "                orbits\n",
    "                evas]} (merge mission-defaults opts)]\n",
    "  .... ))\n",
    "```\n",
    "\n",
    "`merge`は左から右(→)に、連続したエントリを前のものと置き換えるように働く。だからこの例では、`mission-defaults`は先にきて、(与えられたら)`opts`を上書きする。\n",
    "\n",
    "オプショナル引数を受ける、他の一般的な方法はひとつの`map`として可変長シーケンスの分割を受けとることです。\n",
    "\n",
    "```\n",
    "(defn make-mission\n",
    "  [name system launched manned? & opts]\n",
    "  (let [{:keys [cm-name\n",
    "                lm-name\n",
    "                orbits\n",
    "                evas]} opts]\n",
    "  ... ))\n",
    "\n",
    "(def apollo-4 \n",
    "  (make-mission \"Apollo 4\"\n",
    "                \"Saturn V\"\n",
    "                #inst \"1967-11-09T12:00:01-00:00\"\n",
    "                false\n",
    "                :orbits 3))\n",
    "\n",
    "(def apollo-11\n",
    "  (make-mission \"Apollo 11\"\n",
    "                \"Saturn V\"\n",
    "                #inst \"1967-07-16T13:32:00-00:00\"\n",
    "                :cm-name \"Columbia\"\n",
    "                :lm-name \"Eagle\"\n",
    "                :orbits 30\n",
    "                :evas 1))\n",
    "```\n",
    "\n",
    "これら両方の場合において、いくつかのオブションにデフォルト値を与えることが便利であると分るだろう。\n",
    "このことはデフォルトを与える分割`:or`の使用によってできる。\n",
    "\n",
    "```\n",
    "(defn make-mission\n",
    "  [name system launched manned? & opts]\n",
    "  (let [{:keys [cm-name\n",
    "                lm-name\n",
    "                orbits\n",
    "                evas]\n",
    "         :or {orbits 0, evas 0}} opts]\n",
    "   ... ))\n",
    "\n",
    "(def apollo-4\n",
    "  (make-mission \"Apollo 4\"\n",
    "                \"Saturn V\"\n",
    "                #inst \"1967-11-09T12:00:01-00:00\"\n",
    "                false\n",
    "                :orbits 3))\n",
    "```\n",
    "\n",
    "この例は`evas`と`orbits`キーにデフォルト値`0`を与えている。\n",
    "他のデフォルト値も`:or`マップ同様に可能である。\n"
   ]
  },
  {
   "cell_type": "markdown",
   "metadata": {},
   "source": [
    "### Constructor Calculations\n",
    "\n",
    "これまで、コンストラクタをオプションと一緒にエンティティを生成する方法として見てきた。\n",
    "また、コンストラクタは、派生する値からエンティティの生成をするための計算を含むことができる。\n",
    "これのデモとして、`Planet`エンティティを再度考えましょう。\n",
    "\n",
    "`(defrecord Planet [name moons volume mass aphelion perihelion])`\n",
    "\n",
    "この定義は惑星の一覧を満す。\n",
    "しかしながら、もし、惑星の中心星を巡る軌道メカニクスをモデル化するアプリを書くならば、惑星の軌道についてもう少し知る必要がある。\n",
    "軌道メカニクスの背景の数学を理解することについては大丈夫。ここでは天文学を学ぶわけではない。\n",
    "\n",
    "ベクトルの偏りを含む`Planet`エンティティをコンストラクトすることを受ける情報を想定しよう。\n",
    "これまでのエンティティに、そのベクトルを使って、惑星の軌道の偏り(完全な円から軌道が逸れる量)を追加しよう。\n",
    "\n",
    "```\n",
    "(defn euclidean-norm [ecc-vector] ...)\n",
    "\n",
    "(defrecord Planet\n",
    "  [name moons volume mass aphelion perihelion orbital-eccentricity])\n",
    "\n",
    "(defn make-planet\n",
    "  \"Make a planet from field values and an eccentricity vector\"\n",
    "  [name moons volume mass aphelion perhelion ecc-vector]\n",
    "  (->Planet\n",
    "    name moons volume mass aphelion perhelion\n",
    "    (euclidean-norm ecc-vector)))\n",
    "```\n",
    "\n",
    "ベクトルの偏りから軌道の偏りを取得し、`euclidean-norm`へそのベクトルを適用した。\n",
    "レコードの位置ファクトリ関数(->Planet)を呼んで結果を使った。\n"
   ]
  },
  {
   "cell_type": "markdown",
   "metadata": {},
   "source": [
    "### Constructors with Side Effects\n",
    "\n",
    "ときどき、エンティティの初期化は、I/Oのような避けられない副作用を含む。\n",
    "この目的でコンストラクタを使うことは、他のコードからそれら副作用を分離する。\n",
    "\n",
    "例えば、太陽系シミュレーションを考え、シュミレーションに`PlanetImage`という画像ファイルをロードする必要があるとする。"
   ]
  },
  {
   "cell_type": "code",
   "execution_count": 20,
   "metadata": {},
   "outputs": [
    {
     "data": {
      "text/plain": [
       "#'ch1.image/make-planet-image"
      ]
     },
     "execution_count": 20,
     "metadata": {},
     "output_type": "execute_result"
    }
   ],
   "source": [
    "(ns ch1.image\n",
    "    (:require [clojure.java.io :as io])\n",
    "    (:import [javax.imageio ImageIO]\n",
    "             [java.awt.image BufferedImage]))\n",
    "\n",
    "(defrecord PlanetImage [src ^BufferedImage contents])\n",
    "\n",
    "(defn make-planet-image\n",
    "    \"Make a PlanetImage; may throw IOException\"\n",
    "    [src]\n",
    "    (with-open [img (ImageIO/read (io/input-stream src))]\n",
    "        (->PlanetImage src img)))"
   ]
  },
  {
   "cell_type": "markdown",
   "metadata": {},
   "source": [
    "画像をレンダリングすることは、`contents`に`BufferedImage`がキャプチャされることが必要になる。\n",
    "これをコンストラクタに統一することで、いずれ必要になると分っているI/Oを効果的に自動化する。\n",
    "しかしながら、しばしば、この方法で副作用を使用することは複雑さを加える。\n",
    "この例において、`PlanetImage`をコンストラクトするときは常に`ImageIO/read`または`input-stream`により投げられる`IOException`を扱うことに備える必要がある。\n",
    "\n",
    "\n",
    "### Constructor Functions and Java Interop\n",
    "\n",
    "あなたのドメインエンティティのひとつがJavaから導入されたとき、コンストラクタ関数は便利です。\n",
    "Javaのclassはしばしば様々な型に対して多くのコンストラクタを持つ。それらのいくつかは同じアリティを持つ。--そしていつもあなたが望むものそのものをするとはかぎらない。\n",
    "コンストラクタ関数はそれらの場合に働くクリーンなAPIと、相互運用性とあなたの方法の外にある型ヒントの維持を提供できる。\n",
    "\n",
    "### Default Entities\n",
    "\n",
    "最後に、ときどき、ゼロまたは空の内容を表すエンティティを作りたいと思うことがある。\n",
    "デフォルト状態として1つのエンティティをコンストラクトする関数を作るとしましょう。\n",
    "例えば、`new-money`は`$0.00` usdの`Money`インスタンスを生成する。\n",
    "\n",
    "``\n",
    "(defn new-money\n",
    "  \"$0.00 usd\"\n",
    "  []\n",
    "  (->Money 0 :usd))\n",
    "``\n",
    "\n",
    "しかしながら、Clojureは不変な値を使うことを思い出そう。\n",
    "デフォルトエンティティが常に同じ値を返すならば、関数よりも`zero-dollars`値のほうが、もっと効果的である。\n",
    "\n",
    "`(def zero-dollars (->Money 0 :usd)`\n",
    "\n",
    "この方法で考えることで、Clojureの不変性のフローに従い、コードを綺麗にできる。\n",
    "\n",
    "さて、これで多くのモデル化の方法とエンティティをコンストラクトする方法を知った。関連からこれらを組み立てることを始める方法を考えよう。\n"
   ]
  },
  {
   "cell_type": "markdown",
   "metadata": {},
   "source": [
    "## Modeling Relationships\n",
    "\n",
    "エンティティそれ自体はそれほど使われることはない。\n",
    "多くのモデルは、「SQLデータベースにおける外部キー」のように、データの中で関係性を作り出すために異なる型のエンティティと結合する必要がある。\n",
    "\n",
    "他のエンティティを参照するために、エンティティは3つの主要なテクニックを使うことができる。ネスト、アイデンティファイア、状態参照である。\n",
    "これらすべてのテクニックは、他の言語やデータベースでは類似品を持つ。しかしClojureユーザはそれらのテクニックの使用を他の言語とは異なって使うことを優先する。\n",
    "Javaのような言語はある変更可能なオブジェクトから他のものへの状態参照にとても重点的に依存する。\n",
    "Clojureユーザはまず、ネストとアイデンティファイアを使い、特別な場合にだけ状態参照に後退する。\n",
    "\n",
    "ネストをシンプルに言うと、親エンティティの元に他のエンティティを直接含めることです。\n",
    "ネストしたエンティティが親エンティティの一部であり、そのライフサイクルに従うとき、ネストは簡単な選択です。\n",
    "\n",
    "実際の例を見てみましょう。\n",
    "`recipe-manager`アプリを構築するならば、明らかに必要なのは、レシピのモデル化です。"
   ]
  },
  {
   "cell_type": "code",
   "execution_count": 21,
   "metadata": {},
   "outputs": [
    {
     "data": {
      "text/plain": [
       "#'ch1.image/recipes"
      ]
     },
     "execution_count": 21,
     "metadata": {},
     "output_type": "execute_result"
    }
   ],
   "source": [
    "(defrecord Recipe\n",
    "    [name ;; string\n",
    "     author ;; recipe creator\n",
    "     description ;; string\n",
    "     ingredients ;; list of ingredients\n",
    "     steps ;; sequence of string\n",
    "     serving ;; number of servings\n",
    "     ])"
   ]
  },
  {
   "cell_type": "markdown",
   "metadata": {},
   "source": [
    "この後まで、すべての詳細はカバーしない。今はレシピのauthorフィールドに特化する。authorモデルをシンプルに保つ。"
   ]
  },
  {
   "cell_type": "code",
   "execution_count": null,
   "metadata": {},
   "outputs": [],
   "source": [
    "(defrecord Person\n",
    "    [fname ;; forst name\n",
    "     lname ;; last name\n",
    "     ])"
   ]
  },
  {
   "cell_type": "markdown",
   "metadata": {},
   "source": [
    "RecipeとPersonインスタンスをつなげるためにもつべきオプションを考えよう。\n",
    "Recipeをアプリの中心とすることに興味があり、author を単にこのrecipeについての説明情報であるとするならば、\n",
    "person を recipe の下にネストできる。\n",
    "\n"
   ]
  },
  {
   "cell_type": "code",
   "execution_count": null,
   "metadata": {},
   "outputs": [],
   "source": [
    "(def toast\n",
    "    (->Recipe \"Toast\"\n",
    "              (->Person \"Alex\" \"Miller\" ) ;; nested\n",
    "              \"Crispy bread\"\n",
    "              [\"Slice of bread\"]\n",
    "              [\"Toast bread in toaster\"]\n",
    "              1))"
   ]
  },
  {
   "cell_type": "markdown",
   "metadata": {},
   "source": [
    "しかしながら、 もうひとつの版のアプリは authorをもっと重要に考えている。\n",
    "ユーザがひとつのレシピにて person 情報の更新により全てのレシピにおいて情報を更新すると期待している。\n",
    "この場合、Personを基本的なエンティティとしてモデル化し、personがレシピの一覧にネストする(??)\n",
    "\n",
    "または、`Person`と`Recipe`の両方を、それぞれが一ヶ所で更新できるトップ・レベルエンティティであるとあなたは望むかもしれない。\n",
    "例えば、`Recipe`が複数の`author`を持つとしよう。\n",
    "この場合、ネストでなく、`アイデンティファイア`を参照するべきです。\n",
    "`アイデンティファイア`とは、どこか別で定義されたエンティティを参照するシンプルな値(普通はキーワード、文字列、数値)です。\n",
    "アイデンティファイアで`recipe`と`author`をモデル化しましょう。\n"
   ]
  },
  {
   "cell_type": "code",
   "execution_count": null,
   "metadata": {},
   "outputs": [],
   "source": [
    "(def people\n",
    "    {\"p1\" (->Person \"Alex\" \"Miller\")})\n",
    "(def recipes\n",
    "    {\"r1\" (->Recipe \"Toast\"\n",
    "                    \"p1\" ;; Person Id\n",
    "                    \"Crispy bread\"\n",
    "                    [\"Slice of bread\"]\n",
    "                    [\"Toast bread in toaster\"]\n",
    "                    1)})"
   ]
  },
  {
   "cell_type": "markdown",
   "metadata": {},
   "source": [
    "この例では、`アイデンティファイア`によってエンティティをインデックス化している2つの`map`(`peaple`と`recipe`)を維持している。\n",
    "`recipe`が`Person`を`author`として参照する必要があるときは、直接エンティティをネストする代りに`Person`の`アイデンティファイア`を使う。\n",
    "そして、`Person`も`Recipe`もエンティティに独立して見つけて変更できる。\n",
    "\n",
    "たいていいつも、プログラムで`アイデンティファイア`を生成すること(データベースはしばしばそのために生成する)と、ユーザに`アイデンティファイア`を選択や編集をゆるさないことは良い考えである。\n",
    "これによって、後になってユーザへの影響を与えずにモデル化戦略を変更する最大の自由が得られる。\n",
    "\n",
    "他のエンティティを参照しつつ時間とともに関係性を変更したいとき、状態参照を使用するべきです。\n",
    "Clojureはいくつかの状態の構築を提供する。詳細は第4章で。\n",
    "\n",
    "状態参照テクニックはOOのオブジェクトのグラフを生成する練習にとても似ている。\n",
    "しかしながら、Clojureでは、データモデルの内部状態を使うことはめずらしく、大抵は、ネストやアイデンティファイアを使い、アプリケーション・データの大きな塊りのまわりにだけ状態を生成する。\n",
    "次は、プロジェクトの進化に合わせてエンティティを有効に保つための1つの方法を検討します。\n",
    "\n",
    "## Validating Entities\n",
    "\n",
    "一度ドメイン・モデルを持つと、われわれのデータがそれを満足するか検証する方法が必要になる。\n",
    "Clojureの動的型は強力な力と柔軟性をわれわれにもたらす。しかしまた、少ないが制約が発生する。\n",
    "データ検証は、Clojureがわれわれにいつ、何処で、どのように提供したいかを検証する一つの領域である。\n",
    "われわれのコードによりデータが生成される領域において、われわれは少々またはまったく検証を必要としないだろう。\n",
    "一方で、外部のソースからデータを受けとるとき、重要な検証が必要になるだろう。\n",
    "\n",
    "データの記述と検証のサポートを提供するいくつもの外部ライブラリがある。\n",
    "ここでは、`Prismatic`の`Schema`にフォーカスするが、他にも`core.typed`、`clj-schema`、`Strucjure`、`seqex`がある。\n",
    "\n",
    "`Prismatic Schema`ライブラリはデータとして型メタデータを記述し、記述を自動化し、メタデータに対して実行時にデータ検証をする。\n",
    "プロジェクトに`Schema`ライブラリを加えるには、`Leiningen`の`dependency`を加える。\n",
    "\n",
    "`[prismatic/schema \"1.1.10\"]`\n",
    "\n",
    "`recipe-manager`アプリのコンテキストで、`Schema`とあるデータの記述方法を見てみよう。\n",
    "今回は、`recipe`の中の`ingredient`の詳細に注目しよう。\n",
    "\n",
    "```\n",
    "```\n"
   ]
  },
  {
   "cell_type": "code",
   "execution_count": 3,
   "metadata": {},
   "outputs": [
    {
     "data": {
      "text/plain": [
       "user.Ingredient"
      ]
     },
     "execution_count": 3,
     "metadata": {},
     "output_type": "execute_result"
    }
   ],
   "source": [
    "(defrecord Recipe\n",
    "  [name ;; string\n",
    "   description ;; string\n",
    "   ingredients ;; sequence of Ingredient\n",
    "   steps ;; sequence of string\n",
    "   servings ;; number of servings\n",
    "   ])\n",
    "\n",
    "(defrecord Ingredient\n",
    "  [name ;; string\n",
    "   quantity ;; amount\n",
    "   unit ;; keyword\n",
    "   ])"
   ]
  },
  {
   "cell_type": "markdown",
   "metadata": {},
   "source": [
    "\n",
    "これらのレコードにわれわれの同僚(と数ヶ月後の自分自身)に何を期待しているか理解することをを助けるために、コメントを追加してきた。\n",
    "`recipe`の特定のインスタンスはこのようになる。\n",
    "\n",
    "```\n",
    "(def spaghetti-tacos\n",
    "  (map->Recipe\n",
    "    {:name \"Spaghetti tacos\"\n",
    "     :description \"It's spaghetti... in a tacos.\"\n",
    "     :ingredients [(->Ingredient \"Spaghetti\" 1 :lb)\n",
    "                   (->Ingredient \"Spaghetti sauce\" 16 :oz)\n",
    "                   (->Ingredient \"Taco shell\" 12 :shell)]\n",
    "     :steps [\"Cook spaghetti according to box.\"\n",
    "             \"Heat spaghetti sauce until warm.\"\n",
    "             \"Mix spaghetti and sauce.\"\n",
    "             \"Put spaghetti in taco shells and serve.\"]\n",
    "     :servings 4}))\n",
    "```\n",
    "\n",
    "`recipe`を記述する代りに`Schema`を使おう。\n",
    "`Schema`は、各フィールドの値に対するスキーマを指定する機能を加えた、それ専用の`defrecord`を持っている(加えて、`defrecord`の通常の機能も)。\n",
    "スキーマは、構文マーカーとして`Schema`が使う特別なキーワード`:-`の後に指定される。\n",
    "\n",
    "初めに、`Schema`名前空間を引き込もう。\n",
    "\n",
    "```\n",
    "(ns ch1.validate\n",
    "  (:require [schema.core :as s]))\n",
    "```\n",
    "\n",
    "そして、`Schema`版の`defrecord`を使って`record`を再定義する。\n",
    "\n",
    "```\n",
    "(s/defrecord Ingredient\n",
    "  [name     :- s/Str\n",
    "   quantity :- s/Int\n",
    "   unit     :- s/Keyword])\n",
    "\n",
    "(s/defrecord Recipe\n",
    "  [name        :- s/Str\n",
    "   description :- s/Str\n",
    "   ingredients :- [Ingredient]\n",
    "   steps       :- [s/Str]\n",
    "   servings    :- s/Int])\n",
    "```\n",
    "\n",
    "普通の型ヒントとクラス名(`String`のような)は`schema`の記述が妥当である。しかし、ここでは代りに`s/Str`のように組み込みの`schema`を使っている。\n",
    "これら`schema`は移植性があり、ClojureとClojureScriptの両方において相応しいチェックを生み出す。\n",
    "`Ingredients`に対するスキーマは型`Ingredient`の項目のシーケンスです。\n",
    "`steps`フィールドは文字列のシーケンスです。\n",
    "\n",
    "一度、`record`にスキーマ情報で注釈付けをしたら、`schema`の説明を聞くことができ、データとしてリターンし印字する。\n",
    "\n",
    "```\n",
    "user=> (require 'ch1.validate)\n",
    "user=> (in-ns 'ch1.validate)\n",
    "ch1.validate=> (pprint (schema.core/explain ch1.validate.Recipe))\n",
    "(record\n",
    " ch1.validate.Recipe\n",
    " {:name java.lang.String,\n",
    "  :description java.lang.String,\n",
    "  :ingredients\n",
    "   [(record\n",
    "     ch1.validate.Ingredient\n",
    "     {:name java.lang.String, :quantity Int, :unit Keyword})],\n",
    "  :steps [java.lang.String],\n",
    "  :servings Int})\n",
    "```\n",
    "\n",
    "また、スキーマに対するデータの検証ができる。\n",
    "\n",
    "```\n",
    "ch1.validate=> (s/check Recipe spaghetti-tacos)\n",
    "nil\n",
    "```\n",
    "\n",
    "もしデータが妥当であれば、`s/check`は`nil`を返す。\n",
    "もしデータが妥当でなければ、`s/check`は、スキーマの間違いを詳述する記述的なエラーメッセージを返す。\n",
    "例えば、`description`に反し、間違えた`servings`の値を持った`recipe`を通したら、エラーメッセージを得るだろう。\n",
    "\n",
    "```\n",
    "ch1.validate=> (s/check Recipe\n",
    "         (map->Recipe\n",
    "           {:name \"Spaghetti tacos\"\n",
    "            :ingredients [(->Ingredient \"Spaghetti\" 1 :lb)\n",
    "                          (->Ingredient \"Spaghetti sauce\" 16 :oz)\n",
    "                          (->Ingredient \"Taco\" 12 :taco)]\n",
    "            :steps [\"Cook spaghetti according to box.\"\n",
    "                    \"Heat spaghetti sauce until warm.\"\n",
    "                    \"Mix spaghetti and sauce.\"\n",
    "                    \"Put spaghetti in tacos and serve.\"]\n",
    "            :servings \"lots!\"}))\n",
    "{:serving (not (integer? \"lots!\")),\n",
    " :description (not (instance? java.lang.String nil))}\n",
    "```\n",
    "\n",
    "このエラーメッセージはスキーマを満足していないフィールドとなぜ失敗したかを特定する。\n",
    "このチェックは渡ってきたデータやドメイン・データに対するプログラムの一部にある、妥当でないデータを特定することの非常な助けになる。\n",
    "\n",
    "`schema`はまた、入力パラメータとリターン型としてスキーマの形を指定するスキーマ版`defn`を持つ。\n",
    "この型は有用な`docstring`を生成するために使われる。\n",
    "\n",
    "```clojure\n",
    "ch1.validate=> (s/defn add-ingredients :- Recipe\n",
    "                 [recipe :- Recipe & ingredients :- [Ingredient]]\n",
    "                 (update-in recipe [:ingredients] into ingredients))\n",
    "ch1.validate=> (doc add-ingredients)\n",
    "-------------------------\n",
    "ch1.validate/add-ingredients\n",
    "([recipe & ingredients])\n",
    "  Inputs: [recipe :- Recipe & ingredients :- [Ingredient]]\n",
    "  Returns: Recipe\n",
    "```\n",
    "\n",
    "また、`Schema`は任意に、実行時の入力を検証でき、`s/with-fn-validation`関数を使うことによってスキーマ不一致エラーの報告をできる。\n",
    "\n",
    "これで、われわれはドメイン・エンティティを表現することや、エンティティ同士を接続することや、エンティティを検証するということについて、いろいろなトレードオフを見てきた。\n",
    "これから、ドメイン型のふるまいをどのように実装するか考える。"
   ]
  },
  {
   "cell_type": "markdown",
   "metadata": {},
   "source": [
    "# Domain Operations\n",
    "\n",
    "われわれは多くの異なる型のドメインエンティティを適応できる自分のドメインのための関数を定義することをしばしば必要とする。\n",
    "これは、異なる型のドメインエンティティがひとつの複合データ構造にまとめられているときに特に有用である。\n",
    "\n",
    "OO言語はこの必要性を`Polymorphism`と典型的に呼んでいる。\n",
    "`Polymorphism`は一種の抽象化で、ドメインオペレーションが型とそれが適用されるものと切り離すことができるようにする。\n",
    "これは、既存のコードの変更なしに、あなたのドメインの実装をさらに一般的にし、振舞いを拡張する方法提供する。\n",
    "\n",
    "Clojureは汎用のドメインオペレーションの生成をするために`multimethod`と`protocol`の2つの機能を提供する。\n",
    "汎用オペレーションを起動する特定の関数の選択はディスパッチとして知られている。\n",
    "`protocol`も`multimethod`も両方とも引数の型にもとづいてディスパッチ(分岐)できるが、`multimethod`だけは引数の値にもとづいてディスパッチ(分岐)できる。\n",
    "まず、2つのアプローチで型ベースのディスパッチがどのように比較されるかを見てから、値ベースのディスパッチと`protocol`の階層化方法を見ていきます。\n",
    "\n"
   ]
  },
  {
   "cell_type": "markdown",
   "metadata": {},
   "source": [
    "## Multimethods vs.Protocols\n",
    "\n",
    "`recipe-manager`アプリと、各レシピに対する食料品(`grocery`)費用の見積りの計算の必要性を考えましょう。\n",
    "各レシピに対する費用は全ての材料(`ingredient`)のコストの合計に依存している。\n",
    "われわれは、2つの特定の型のエンティティ(`Recipe`と`ingredient`)に同じ汎用ドメインオペレーション(費用はいくら?)を呼び出したい。\n",
    "\n",
    "この、`multimethod`によるドメインオペレーションを実装することで、2つの形式(`defmulti`と`defmethod`)を使う。\n",
    "ディスパッチ関数と同様に、`defmulti`形式は関数の名前と署名を定義する。\n",
    "それぞれの`defmethod`形式は特定のディスパッチ値に対する機能の実装を提供する。\n",
    "マルチメソッドを呼び出すと、最初にディスパッチ関数を呼び出してディスパッチ値を生成し、次にその値に最もマッチするものを選択する。最後にその機能の実装を呼び出す。\n",
    "\n",
    "われわれは、`recipe-manager`ドメインをほんの少し拡張して`Store`ドメインエンティティと特定の食料品店の`ingredient`の費用を見積る関数を加えることを必要とする。\n",
    "われわれはそれらを完全な実装なしで描くことができる。"
   ]
  },
  {
   "cell_type": "code",
   "execution_count": 1,
   "metadata": {},
   "outputs": [
    {
     "data": {
      "text/plain": [
       "#'user/cost-of"
      ]
     },
     "execution_count": 1,
     "metadata": {},
     "output_type": "execute_result"
    }
   ],
   "source": [
    "(defrecord Store [,,,])\n",
    "\n",
    "(defn cost-of [store ingredient] ,,,)"
   ]
  },
  {
   "cell_type": "markdown",
   "metadata": {},
   "source": [
    "そして、われわれは`Recipe`と`Ingredient`の両方に対する`cost`マルチメソッドを実装できる。"
   ]
  },
  {
   "cell_type": "code",
   "execution_count": 10,
   "metadata": {},
   "outputs": [
    {
     "data": {
      "text/plain": [
       "#multifn[cost 0x1e641002]"
      ]
     },
     "execution_count": 10,
     "metadata": {},
     "output_type": "execute_result"
    }
   ],
   "source": [
    "(defmulti cost (fn [entity store] (class entity)))\n",
    "\n",
    "(defmethod cost Recipe [recipe store]\n",
    "  (reduce +$ zero-dollars\n",
    "    (map #(cost % store) (:ingredients recipe))))\n",
    "\n",
    "(defmethod cost Ingredient [ingredient store]\n",
    "  (cost-of store ingredient))\n",
    "\n"
   ]
  },
  {
   "cell_type": "markdown",
   "metadata": {},
   "source": [
    "まず、`defmulti`はディスパッチ関数を`(class entity)`のように定義する。その関数により型にもとづいたディスパッチ値を生成する。\n",
    "もし、`record`の代りに`map`を使っていたら、代りにディスパッチ関数として`(:type entity)`として型属性を引き抜くだろう。\n",
    "\n",
    "型を生成するエンティティとディスパッチ関数を呼び出し、その型が有効な`defmethod`の実装にマッチしたら、`Recipe`または`Ingredient`関数実装が呼び出される。\n",
    "\n",
    "さて、`protocol`で同じ機能をどのように実装できるか考えよう。\n",
    "`protocol`もまた、2段階に定義される。\n",
    "まず、`defprotocol`形式が名前と一連の関数の署名を宣言する。(ただし、いずれの関数も実装しない)\n",
    "つぎに、`extend-protocol`と`extend-type`と`extend`が型をプロトコルに拡張するために使われる。\n"
   ]
  },
  {
   "cell_type": "code",
   "execution_count": 11,
   "metadata": {},
   "outputs": [
    {
     "name": "stderr",
     "output_type": "stream",
     "text": [
      "Warning: protocol #'user/Cost is overwriting function cost\n"
     ]
    },
    {
     "data": {
      "text/plain": [
       "nil"
      ]
     },
     "execution_count": 11,
     "metadata": {},
     "output_type": "execute_result"
    }
   ],
   "source": [
    "(defprotocol Cost\n",
    "  (cost [entity store]))\n",
    "\n",
    "(extend-protocol Cost\n",
    "  Recipe\n",
    "  (cost [recipe store]\n",
    "    (reduce +$ zero-dollars\n",
    "      (map #(cost % store) (:ingredients recipe))))\n",
    "  Ingredient\n",
    "  (cost [ingredient store]\n",
    "    (cost-of store ingredient)))"
   ]
  },
  {
   "cell_type": "markdown",
   "metadata": {},
   "source": [
    "ここで、われわれは`Cost`プロトコルを定義し、それはひとつの関数を持っている(もっとも、複数持つこともできる)。\n",
    "そして、2つの型を拡張するー`Recipe`と`Ingredient`ー`Cost`プロトコルとして。\n",
    "便宜上、どちらもひとつの`extend-protocol`の中にある。しかし、それらは個別に拡張できる。\n",
    "\n",
    "これら2つのアプローチを型にもとづくディスパッチと比較しよう。\n",
    "`protocol`は型によるディスパッチによる`multimethod`より速い。なぜならば、この種類のディスパッチに対するJVM実行時最適化の影響するからだ(これはJavaでは一般的である)。\n",
    "`protocol`は、また、関連する機能を一つの`protocol`にまとめる機能を持つ。\n",
    "これらの理由から、`protocol`は、型にもとづくディスパッチに通常好まれる。\n",
    "\n",
    "しかしながら、`protocol`は汎用関数の第一引数の型にもとづくディスパッチだけをサポートする一方で、`multimethod`は、任意または全ての関数の引数の値にもとづくディスパッチを提供できる。\n",
    "`multimethod`と`protocol`の両方ともJavaの型ヒエラルキーにもとづくマッチングをサポートできるが、`multimethod`は、カスタム値ヒエラルキーの定義と使用ができ、1つ以上の値のマッチがあるときに実装の間の優先度を宣言できる。\n",
    "\n",
    "従って、`protocol`は狭義の(しかし一般的な)型にもとづくディスパッチの場合の選択に好まれ、`multimethod`はさらなる広義に他の場合の柔軟性を提供する。\n",
    "\n",
    "次に、`multimethod`による値にもとづくディスパッチの例を見よう。ただしそれは`protocol`にはカバーされない、\n"
   ]
  },
  {
   "cell_type": "markdown",
   "metadata": {},
   "source": [
    "### Value-Based Dispatch\n",
    "\n",
    "多くのプログラムにおいて、型にもとづくディスパッチは最も一般的な場合であるが、しかし、値にもとづくディスパッチはいくつかの場合に必要とされる--そしてそれは`multimethod`が輝く時である。\n",
    "\n",
    "`recipe-manager`アプリの新しい機能を考えよう。一つまたは複数の`recipe`の中のすべての`ingredient`を一つにして買い物一覧を構築しよう。\n",
    "`ingredient`は`quantity`と`unit`で特定される。\n",
    "いくつかの`recipe`はポンド単位でスパゲッティを持ち、いくつかの`recipe`はオンス単位でそれを持つ。\n",
    "われわれは単位を変換するシステムを必要とする。\n",
    "`multimethod`はソースとターゲットの型に依存した変換を提供する機能を与えてくれる。"
   ]
  },
  {
   "cell_type": "code",
   "execution_count": 13,
   "metadata": {},
   "outputs": [
    {
     "data": {
      "text/plain": [
       "#'user/ingredient+"
      ]
     },
     "execution_count": 13,
     "metadata": {},
     "output_type": "execute_result"
    }
   ],
   "source": [
    "(defmulti convert\n",
    "  \"convert quantity from unit1 to unit2, matching on [unit1 unit2]\"\n",
    "  (fn [unit1 unit2 quantity] [unit1 unit2]))\n",
    "\n",
    ";; lb to oz\n",
    "(defmethod convert [:lb :oz] [_ _ lb] (* lb 16))\n",
    "\n",
    ";; oz to lb\n",
    "(defmethod convert [:oz :lb] [_ _ oz] (/ oz 16))\n",
    "\n",
    ";;fallthrough\n",
    "(defmethod convert :default [u1 u2 q]\n",
    "  (if (= u1 u2)\n",
    "      q\n",
    "      (assert false (str \"Unknown unit conversion from \" u1 \" to \" u2))))\n",
    "\n",
    "(defn ingredient+\n",
    "  \"Add two ingredients into a single ingredient, combining their quantities with unit conversion  if necessary.\"\n",
    "  [{q1 :quantity u1 :unit :as i1} {q2 :quantity u2 :unit}]\n",
    "  (assoc i1 :quantity (+ q1 (convert u2 u1 q2))))"
   ]
  },
  {
   "cell_type": "markdown",
   "metadata": {},
   "source": [
    "この`convert`マルチメソッドはソースの値とターゲットの型にもとづいて分岐する。(それらの型にもとづいてではなく)\n",
    "新しい変換を加えることは、つまり、このシステム内でゆるされる各ソース/ターゲットの単位の組に対して`defmethod`を提供するということです。\n",
    "\n",
    "われわれは、また、落とし穴である`:default`の場合を提供する。単位が同じ場合単に元の`quantity`を返す。\n",
    "もし単位が異なり、`:default`になったら、定義されていない変換が試みられている。\n",
    "なので、これはプログラミング・エラーのように、われわれはありえないと主張する。\n",
    "変換しそこなったときには、テストの間有効なエラーを与える。\n",
    "\n",
    "実際にはこのように動作する。"
   ]
  },
  {
   "cell_type": "code",
   "execution_count": 14,
   "metadata": {},
   "outputs": [
    {
     "data": {
      "text/plain": [
       "#user.Ingredient{:name \"Spaghetti\", :quantity 3/4, :unit :lb}"
      ]
     },
     "execution_count": 14,
     "metadata": {},
     "output_type": "execute_result"
    }
   ],
   "source": [
    "(ingredient+ (->Ingredient \"Spaghetti\" 1/2 :lb)\n",
    "                    (->Ingredient \"Spaghetti\" 4 :oz))"
   ]
  },
  {
   "cell_type": "markdown",
   "metadata": {},
   "source": [
    "ここで、我々は1/2ポンド(8オンス)と4オンスを加え、3/4ポンド(12オンス)を得た。\n",
    "\n",
    "もしこのシステムに新しい単位を加えたらば、われわれは他の全ての単位に向けた組み合わせの変換を定義する必要があるだろう。\n",
    "`recipe-manager`アプリにおいて、この変換に必要な範囲はたぶん、典型的なレシピの用途に多少限定されている。\n"
   ]
  },
  {
   "cell_type": "markdown",
   "metadata": {},
   "source": [
    "### Extending Protocols toProtocols\n",
    "\n",
    "`multimethod`と`protocol`は両方ともオープンなシステムです。\n",
    "抽象に型や値の追加は(`defmethod`か`extend-protocol`経由で)その抽象の定義とその型の両方の別々に指定される。\n",
    "システムのライフタイムの間、新しい追加は動的に追加が可能である。\n",
    "\n",
    "`protocol`が必要であるとされるケースは、実行時にどのように一部の固定の型が`protocol`に扱われるかである。\n",
    "この必要性は、一般的に他の`protocol`の上に層になる`protocol`を作っているときに起きる。\n",
    "\n",
    "例えば、将来、項目の費用だけでなく、ある特定の店から買う場合に地域限定の税金を含めた項目の費用を計算するために`recipe-manager`を拡張することが必要になるとする。\n",
    "これは、新しい`protocol`に補足されることができる。\n"
   ]
  },
  {
   "cell_type": "code",
   "execution_count": 15,
   "metadata": {},
   "outputs": [
    {
     "data": {
      "text/plain": [
       "TaxedCost"
      ]
     },
     "execution_count": 15,
     "metadata": {},
     "output_type": "execute_result"
    }
   ],
   "source": [
    "(defprotocol TaxedCost\n",
    "  (taxed-cost [entity store]))"
   ]
  },
  {
   "cell_type": "markdown",
   "metadata": {},
   "source": [
    "われわれはすでに、項目と、項目のレシピの両方に、この計算ができる`protocol`を持っている。\n",
    "われわれは`TaxedCost`プロトコルを既存の`Cost` `protocol`の上に層にすることを好むだろうが、これはClojureにおいて許されていない。\n"
   ]
  },
  {
   "cell_type": "code",
   "execution_count": 17,
   "metadata": {},
   "outputs": [
    {
     "name": "stderr",
     "output_type": "stream",
     "text": [
      "Syntax error (IllegalArgumentException) compiling fn* at (REPL:1:1).\n",
      "Unable to resolve classname: Cost\n"
     ]
    },
    {
     "ename": "class clojure.lang.Compiler$CompilerException",
     "evalue": "",
     "output_type": "error",
     "traceback": [
      "   core.clj:  3214 clojure.core$eval/invokeStatic                         ",
      "   core.clj:  3210 clojure.core$eval/invoke                               ",
      "   main.clj:   437 clojure.main$repl$read_eval_print__9086$fn__9089/invoke",
      "   main.clj:   458 clojure.main$repl$fn__9095/invoke                      ",
      "   main.clj:   368 clojure.main$repl/doInvoke                             ",
      "RestFn.java:  1523 clojure.lang.RestFn/invoke                             ",
      "   AFn.java:    22 clojure.lang.AFn/run                                   ",
      "   AFn.java:    22 clojure.lang.AFn/run                                   ",
      "Thread.java:   745 java.lang.Thread/run                                   "
     ]
    }
   ],
   "source": [
    "(extend-protocol TaxedCost\n",
    "  Cost\n",
    "  (taxed-cost [entity store]\n",
    "    (* cost entity store) (+ 1 (tax-rate store))))"
   ]
  },
  {
   "cell_type": "markdown",
   "metadata": {},
   "source": [
    "Clojureは`protocol`が`protocol`を拡張することを許していない。それは、正当な実装機能の選択に対して、あいまいさとまぎらわしいケースを切り開くからだ。\n",
    "しかしながら、われわれは、実行時に出会うそれぞれの具体的な型に対してこのケースを検出し、その型に対して適応する`protocol`を動的に導入することにより同じ効果を提供できる。"
   ]
  },
  {
   "cell_type": "code",
   "execution_count": 18,
   "metadata": {},
   "outputs": [
    {
     "name": "stderr",
     "output_type": "stream",
     "text": [
      "Syntax error compiling at (REPL:8:43).\n",
      "Unable to resolve symbol: tax-rate in this context\n"
     ]
    },
    {
     "ename": "class clojure.lang.Compiler$CompilerException",
     "evalue": "",
     "output_type": "error",
     "traceback": [
      "  Util.java:   221 clojure.lang.Util/runtimeException                     ",
      "   core.clj:  3214 clojure.core$eval/invokeStatic                         ",
      "   core.clj:  3210 clojure.core$eval/invoke                               ",
      "   main.clj:   437 clojure.main$repl$read_eval_print__9086$fn__9089/invoke",
      "   main.clj:   458 clojure.main$repl$fn__9095/invoke                      ",
      "   main.clj:   368 clojure.main$repl/doInvoke                             ",
      "RestFn.java:  1523 clojure.lang.RestFn/invoke                             ",
      "   AFn.java:    22 clojure.lang.AFn/run                                   ",
      "   AFn.java:    22 clojure.lang.AFn/run                                   ",
      "Thread.java:   745 java.lang.Thread/run                                   "
     ]
    }
   ],
   "source": [
    "(extend-protocol TaxedCost\n",
    "  Object ;; default fallthrough\n",
    "  (taxed-cost [entity store]\n",
    "    (if (satisfies? Cost entity)\n",
    "      (do (extend-protocol TaxedCost\n",
    "            (class entity)\n",
    "            (taxed-cost [entity store]\n",
    "              (* (cost entity store) (+ 1 (tax-rate store)))))\n",
    "          (taxed-cost entity store))\n",
    "      (assert false (str \"Unhandled entity: \" entity)))))"
   ]
  },
  {
   "cell_type": "markdown",
   "metadata": {},
   "source": [
    "もし、エンティティの型が`TaxedCost` `protocol`ではなく`Cost` `protocol`に拡張されたならば、われわれは`TaxedCost` `protocol`同様、具体的な型に対する拡張を動的に導入するだろう。\n",
    "一度導入されたら、同じ呼び出しを作り直すことができ、それは今まさに導入された実装に転送される。\n",
    "\n",
    "これは、不明なエンティティ型と一緒の最初の呼び出しのときにだけ発生することに注意しよう。\n",
    "つまり、この`protocol`は拡張をもち、もはや`Object`を経由して送られない。\n",
    "\n",
    "# まとめ\n",
    "\n",
    "領域要素をモデル化するための`map`とレコードの使い方と、それら要素のための柔軟なコンストラクタの構築方法とそれらをひとつにつなげる方法を見てきた。\n",
    "\n",
    "また、それら要素を記述と検証するためにスキーマを使った。\n",
    "見えるデータへのClojureのアプローチは`Schema`のようなライブラリを利用可能にすることだ。\n",
    "\n",
    "さいごに、汎用領域オペレーションを作るプロトコルとマルチメソッドの使い方を見た。\n",
    "汎用領域オペレーションにより、よく考え抜かれた、新らしい型と新しいオペレーションを追加するように領域の成長とともに拡張性のあるシステム(??)\n",
    "\n",
    "次に、一群の要素や他の値を操作するClojureのコンストラクタについて学ぶ。"
   ]
  }
 ],
 "metadata": {
  "kernelspec": {
   "display_name": "Clojure (clojupyter=0.2.3)",
   "language": "clojure",
   "name": "conda-clojupyter"
  },
  "language_info": {
   "file_extension": ".clj",
   "mimetype": "text/x-clojure",
   "name": "clojure",
   "version": "1.10.1"
  }
 },
 "nbformat": 4,
 "nbformat_minor": 2
}
