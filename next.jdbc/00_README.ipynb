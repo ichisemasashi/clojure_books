{
 "cells": [
  {
   "cell_type": "markdown",
   "metadata": {},
   "source": [
    "[github](https://github.com/seancorfield/next-jdbc)\n",
    "\n"
   ]
  },
  {
   "cell_type": "markdown",
   "metadata": {},
   "source": [
    "# next.jdbc\n",
    "\n",
    "`clojure.java.jdbc`の次の世代。データベースにアクセスするJDBCに対する新しい低レベルなClojureラッパー。"
   ]
  },
  {
   "cell_type": "markdown",
   "metadata": {},
   "source": [
    "## TL;DR\n",
    "\n",
    "Clojarsとcljdocの最新版\n",
    "\n",
    "[![Clojars Project](https://clojars.org/seancorfield/next.jdbc/latest-version.svg)](https://clojars.org/seancorfield/next.jdbc) [![cljdoc badge](https://cljdoc.org/badge/seancorfield/next.jdbc)](https://cljdoc.org/d/seancorfield/next.jdbc/CURRENT)\n"
   ]
  },
  {
   "cell_type": "markdown",
   "metadata": {},
   "source": [
    "この文書は1.0.10リリース後のマスターです。\n",
    "[see the CHANGELOG](CHANGELOG.md).\n",
    "\n",
    "* [Getting Started](/doc/getting-started.md)\n",
    "* [Migrating from `clojure.java.jdbc`](/doc/migration-from-clojure-java-jdbc.md)\n",
    "* Feedback via [issues](https://github.com/seancorfield/next-jdbc/issues) or in the [`#sql` channel on the Clojurians Slack](https://clojurians.slack.com/messages/C1Q164V29/details/) or the [`#sql` stream on the Clojurians Zulip](https://clojurians.zulipchat.com/#narrow/stream/152063-sql).\n"
   ]
  },
  {
   "cell_type": "markdown",
   "metadata": {},
   "source": [
    "## Motivation\n",
    "\n",
    "なぜ別のJDBCライブラリを?\n",
    "なぜ`clojure.java.jdbc`と異なるAPIを?\n",
    "\n",
    "* パフォーマンス。`ResultSet`オブジェクトが` clojure.java.jdbc`のハッシュマップのシーケンスに変換される方法には驚くほどのオーバーヘッドがあります。これは、大きな結果セットの場合に顕著になります。そのため、より良い処理方法が必要でした。また、`db-spec`-as-hash-mapに関連するすべての条件付きロジックと解析には、かなりのオーバーヘッドと複雑さがあります。\n",
    "* 修飾されたキーワードやトランスデューサーなどの使用に基づく最新のAPI：最近の `clojure.java.jdbc`バージョンの`：qualifier`と `reducible-query`はそれに向けたステップでしたが、ライブラリには多くの「レガシー」APIがあります。そして、より集中的で合理化されたAPIを提示して、人々が初日から自然に `IReduceInit` /トランスデューサーアプローチを使用し、修飾キーワードの恩恵を受けるようにします。\n",
    "* 簡潔さ。`clojure.java.jdbc`はさまざまな方法でSQLを実行しますが、これは矛盾や驚きにつながる可能性があります。`query`、`execute!`、`db-do-commands`はすべて、異なるタイプのSQLを実行する方法です。ステートメントであるため、どちらがどれであるかを覚えておく必要があり、基盤となるJDBC APIの制限に注意する必要があります。\n",
    "\n",
    "これらが私の3つの主要な動機でした。加えて、 `clojure.java.jdbc`の` db-spec`-as-hash-mapアプローチは、特にサポートされている幅広い矛盾するオプションで、過去に多くのフラストレーションと混乱を引き起こしました。\n",
    "`next.jdbc`はプロトコルベースであるため、使用方法と直接的なJava JDBCコードを簡単に組み合わせることができます（プロトコルベースのアプローチは全体的なパフォーマンスの向上に貢献します）。\n",
    "`db-spec`->` DataSource`-> `Connection`のパスがより明確になりました。これにより、人々はより多くの接続を再利用し、アプリのパフォーマンスを向上させることができます。\n",
    "\n",
    "また、`datafy`/`nav`のサポートをすぐに使用したかったのです（2018年12月に、別の名前空間で文書化されていない実験的なAPIとして`clojure.java.jdbc`に追加されました）。\n",
    "これは、`execute!`と`execute-one!`のデフォルトの動作です。リダクションで作成する行に`datafy`/`nav`サポートを追加する必要がある場合、プロトコルベースの関数`next.jdbc.result-set/datafiable-row`を`plan`とともに使用できます。\n",
    "\n",
    "`next.jdbc`がアルファからベータに移行したため、最後の重大な変更が行われ（`reducible!`の名前を`plan`に変更）、APIは安定していると見なされるはずです。今後は、追加的および固定的な変更のみが行われます。\n",
    "\n",
    "1か月間のアルファビルドのテストが可能になった後、最初のベータビルドが2019年5月24日にリリースされました。6月4日にリリース候補が続き、6月12日に「ゴールド」（1.0.0）リリースがありました。\n",
    "`next.jdbc`の小さなコアAPIに加えて、`next.jdbc.sql`で利用可能な、`clojure.java.jdbc`のメインAPIに似た\"構文糖\"(`insert!`、 `query`、`update!`、および`delete!`）があります。違いの詳細については、[`clojure.java.jdbc`からの移行](/doc/migration-from-clojure-java-jdbc.md)を参照してください。\n",
    "\n"
   ]
  },
  {
   "cell_type": "markdown",
   "metadata": {},
   "source": [
    "## Usage\n",
    "\n",
    "The primary concepts behind `next.jdbc` are that you start by producing a `javax.sql.DataSource`. You can create a pooled datasource object using your preferred library (c3p0, hikari-cp, etc). You can use `next.jdbc`'s `get-datasource` function to create a `DataSource` from a `db-spec` hash map or from a JDBC URL (string). The underlying protocol, `Sourceable`, can be extended to allow more things to be turned into a `DataSource` (and can be extended via metadata on an object as well as via types).\n",
    "\n",
    "From a `DataSource`, either you or `next.jdbc` can create a `java.sql.Connection` via the `get-connection` function. You can specify an options hash map to `get-connection` to modify the connection that is created: `:read-only`, `:auto-commit`.\n",
    "\n",
    "The primary SQL execution API in `next.jdbc` is:\n",
    "* `plan` -- yields an `IReduceInit` that, when reduced, executes the SQL statement and then reduces over the `ResultSet` with as little overhead as possible.\n",
    "* `execute!` -- executes the SQL statement and produces a vector of realized hash maps, that use qualified keywords for the column names, of the form `:<table>/<column>`. If you join across multiple tables, the qualified keywords will reflect the originating tables for each of the columns. If the SQL produces named values that do not come from an associated table, a simple, unqualified keyword will be used. The realized hash maps returned by `execute!` are `Datafiable` and thus `Navigable` (see Clojure 1.10's `datafy` and `nav` functions, and tools like Cognitect's REBL). Alternatively, you can specify `{:builder-fn rs/as-arrays}` and produce a vector with column names followed by vectors of row values. `rs/as-maps` is the default for `:builder-fn` but there are also `rs/as-unqualified-maps` and `rs/as-unqualified-arrays` if you want unqualified `:<column>` column names (and there are also lower-case variants of all of these).\n",
    "* `execute-one!` -- executes the SQL or DDL statement and produces a single realized hash map. The realized hash map returned by `execute-one!` is `Datafiable` and thus `Navigable`.\n",
    "\n",
    "In addition, there are API functions to create `PreparedStatement`s (`prepare`) from `Connection`s, which can be passed to `plan`, `execute!`, or `execute-one!`, and to run code inside a transaction (the `transact` function and the `with-transaction` macro).\n",
    "\n",
    "Since `next.jdbc` uses raw Java JDBC types, you can use `with-open` directly to reuse connections and ensure they are cleaned up correctly:\n",
    "\n",
    "```clojure\n",
    "  (let [my-datasource (jdbc/get-datasource {:dbtype \"...\" :dbname \"...\" ...})]\n",
    "    (with-open [connection (jdbc/get-connection my-datasource)]\n",
    "      (jdbc/execute! connection [...])\n",
    "      (reduce my-fn init-value (jdbc/plan connection [...]))\n",
    "      (jdbc/execute! connection [...])))\n",
    "```\n",
    "\n",
    "### Usage scenarios\n",
    "\n",
    "There are three intended usage scenarios that have driven the design of the API:\n",
    "* Execute a SQL statement and process it in a single eager operation, which may allow for the results to be streamed from the database (how to persuade JDBC to do that is database-specific!), and which cleans up resources before returning the result -- even if the reduction is short-circuited via `reduced`. This usage is supported by `plan`. This is likely to be the fastest approach and should be the first option you consider for SQL queries.\n",
    "* Execute a SQL or DDL statement to obtain a single, fully-realized, `Datafiable` hash map that represents either the first row from a `ResultSet`, the first generated keys result (again, from a `ResultSet`), or the first result where neither of those are available (`next.jdbc` yields `{:next.jdbc/update-count N}` when it can only return an update count). This usage is supported by `execute-one!`. This is probably your best choice for most non-query operations.\n",
    "* Execute a SQL statement to obtain a fully-realized, `Datafiable` result set -- a vector of hash maps. This usage is supported by `execute!`. You can also produce a vector of column names/row values (`next.jdbc.result-set/as-arrays`).\n",
    "\n",
    "In addition, convenience functions -- \"syntactic sugar\" -- are provided to insert rows, run queries, update rows, and delete rows, using the same names as in `clojure.java.jdbc`. These are in `next.jdbc.sql` since they involve SQL creation -- they are not considered part of the core API.\n",
    "\n",
    "## More Detailed Documentation\n",
    "\n",
    "* [Getting Started](/doc/getting-started.md)\n",
    "* [Friendly SQL Functions](/doc/friendly-sql-functions.md)\n",
    "* [Result Set Builders](/doc/result-set-builders.md)\n",
    "* [Prepared Statements](/doc/prepared-statements.md)\n",
    "* [Transactions](/doc/transactions.md)\n",
    "* [All The Options](/doc/all-the-options.md)\n",
    "* [`datafy`, `nav`, and `:schema`](/doc/datafy-nav-and-schema.md)\n",
    "* [Migration from `clojure.java.jdbc`](/doc/migration-from-clojure-java-jdbc.md)\n",
    "\n",
    "## License\n",
    "\n",
    "Distributed under the Eclipse Public License version 1.0.\n",
    "\n"
   ]
  }
 ],
 "metadata": {
  "kernelspec": {
   "display_name": "Clojure",
   "language": "clojure",
   "name": "clojure"
  },
  "language_info": {
   "file_extension": ".clj",
   "mimetype": "text/x-clojure",
   "name": "clojure",
   "version": "1.8.0"
  }
 },
 "nbformat": 4,
 "nbformat_minor": 2
}
